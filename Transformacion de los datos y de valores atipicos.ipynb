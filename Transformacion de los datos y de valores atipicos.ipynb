{
 "cells": [
  {
   "cell_type": "code",
   "execution_count": null,
   "id": "a2b6cabd",
   "metadata": {
    "ExecuteTime": {
     "end_time": "2022-08-15T21:14:20.269007Z",
     "start_time": "2022-08-15T21:14:20.256979Z"
    }
   },
   "outputs": [],
   "source": [
    "from IPython.core.display import display, HTML\n",
    "display(HTML(\"<style>.container { width:85% !important; }</style>\"))"
   ]
  },
  {
   "cell_type": "code",
   "execution_count": null,
   "id": "2fcbae1f",
   "metadata": {
    "ExecuteTime": {
     "end_time": "2022-08-15T21:14:24.017961Z",
     "start_time": "2022-08-15T21:14:21.103106Z"
    }
   },
   "outputs": [],
   "source": [
    "import numpy as np\n",
    "import pandas as pd\n",
    "import random\n",
    "import seaborn as sns \n",
    "import matplotlib.pyplot as plt\n",
    "import plotly.express as px\n",
    "import datetime\n",
    "from datetime import datetime\n",
    "from sklearn.metrics import mean_squared_error\n",
    "from math import sqrt\n",
    "import statsmodels\n",
    "from statsmodels.tsa.stattools import adfuller\n",
    "import statsmodels.api as sm\n",
    "from sklearn.preprocessing import StandardScaler\n",
    "from fbprophet import Prophet\n",
    "from sklearn.metrics import mean_squared_error\n",
    "from math import sqrt\n",
    "import math \n",
    "import random\n",
    "\n",
    "import warnings\n",
    "warnings.filterwarnings(\"ignore\")\n",
    "\n",
    "import logging\n",
    "logging.getLogger('fbprophet').setLevel(logging.WARNING)\n",
    "\n",
    "\n",
    "import gc"
   ]
  },
  {
   "cell_type": "code",
   "execution_count": null,
   "id": "f7e9a850",
   "metadata": {
    "ExecuteTime": {
     "end_time": "2022-08-15T21:14:36.088157Z",
     "start_time": "2022-08-15T21:14:24.726534Z"
    }
   },
   "outputs": [],
   "source": [
    "alcazares = pd.read_table('C:/Users/pulzara/Documents/Universidad internacional de valencia/TFM/base de datos/SIMAC organizados/BD2/alcazares.txt',delimiter = '|') \n",
    "aranjuez = pd.read_table('C:/Users/pulzara/Documents/Universidad internacional de valencia/TFM/base de datos/SIMAC organizados/BD2/aranjuez.txt',delimiter = '|') \n",
    "bosques_del_norte = pd.read_table('C:/Users/pulzara/Documents/Universidad internacional de valencia/TFM/base de datos/SIMAC organizados/BD2/bosques_del_norte.txt',delimiter = '|') \n",
    "chec_uribe = pd.read_table('C:/Users/pulzara/Documents/Universidad internacional de valencia/TFM/base de datos/SIMAC organizados/BD2/chec_uribe.txt',delimiter = '|') \n",
    "el_carmen = pd.read_table('C:/Users/pulzara/Documents/Universidad internacional de valencia/TFM/base de datos/SIMAC organizados/BD2/el_carmen.txt',delimiter = '|') \n",
    "emas = pd.read_table('C:/Users/pulzara/Documents/Universidad internacional de valencia/TFM/base de datos/SIMAC organizados/BD2/emas.txt',delimiter = '|') \n",
    "hospital_caldas = pd.read_table('C:/Users/pulzara/Documents/Universidad internacional de valencia/TFM/base de datos/SIMAC organizados/BD2/hospital_caldas.txt',delimiter = '|')\n",
    "la_nubia = pd.read_table('C:/Users/pulzara/Documents/Universidad internacional de valencia/TFM/base de datos/SIMAC organizados/BD2/la_nubia.txt',delimiter = '|') \n",
    "la_palma = pd.read_table('C:/Users/pulzara/Documents/Universidad internacional de valencia/TFM/base de datos/SIMAC organizados/BD2/la_palma.txt',delimiter = '|') \n",
    "milan = pd.read_table('C:/Users/pulzara/Documents/Universidad internacional de valencia/TFM/base de datos/SIMAC organizados/BD2/milan.txt',delimiter = '|') \n",
    "obs_vulcanologico = pd.read_table('C:/Users/pulzara/Documents/Universidad internacional de valencia/TFM/base de datos/SIMAC organizados/BD2/obs_vulcanologico.txt',delimiter = '|') \n",
    "palogrande = pd.read_table('C:/Users/pulzara/Documents/Universidad internacional de valencia/TFM/base de datos/SIMAC organizados/BD2/palogrande.txt',delimiter = '|')\n",
    "posgrados = pd.read_table('C:/Users/pulzara/Documents/Universidad internacional de valencia/TFM/base de datos/SIMAC organizados/BD2/posgrados.txt',delimiter = '|') \n",
    "yarumos = pd.read_table('C:/Users/pulzara/Documents/Universidad internacional de valencia/TFM/base de datos/SIMAC organizados/BD2/yarumos.txt',delimiter = '|') "
   ]
  },
  {
   "cell_type": "code",
   "execution_count": null,
   "id": "ca12ea9e",
   "metadata": {
    "ExecuteTime": {
     "end_time": "2022-08-15T21:14:36.979079Z",
     "start_time": "2022-08-15T21:14:36.967079Z"
    }
   },
   "outputs": [],
   "source": [
    "def renombrar(df): \n",
    "    df = df.rename(columns={'Temperatura(ºC)':'Temperatura', 'Velocidad(m/s)': 'Velocidad', 'Direccion(º)':'Direccion',\n",
    "       'Presion(mmHg)':'Presion', 'Humedad(%)':'Humedad', 'Precipitacion(mm)':'Precipitacion', 'Radiacion(W/m^2)':'Radiacion',\n",
    "       'Evapotranspiracion(mm)':'Evapotranspiracion', 'Evapo_real(mm)':'Evapo_real'})\n",
    "    return df "
   ]
  },
  {
   "cell_type": "code",
   "execution_count": null,
   "id": "306aa6f0",
   "metadata": {
    "ExecuteTime": {
     "end_time": "2022-08-15T21:14:38.502927Z",
     "start_time": "2022-08-15T21:14:37.933630Z"
    }
   },
   "outputs": [],
   "source": [
    "alcazares = renombrar(alcazares)\n",
    "aranjuez = renombrar(aranjuez)\n",
    "bosques_del_norte = renombrar(bosques_del_norte)\n",
    "chec_uribe = renombrar(chec_uribe)\n",
    "el_carmen = renombrar(el_carmen)\n",
    "emas = renombrar(emas)\n",
    "hospital_caldas = renombrar(hospital_caldas)\n",
    "la_nubia = renombrar(la_nubia)\n",
    "la_palma = renombrar(la_palma)\n",
    "milan = renombrar(milan)\n",
    "obs_vulcanologico = renombrar(obs_vulcanologico)\n",
    "palogrande = renombrar(palogrande)\n",
    "posgrados = renombrar(posgrados)\n",
    "yarumos = renombrar(yarumos)"
   ]
  },
  {
   "cell_type": "code",
   "execution_count": null,
   "id": "1e84bec7",
   "metadata": {
    "ExecuteTime": {
     "end_time": "2022-08-15T21:14:39.887536Z",
     "start_time": "2022-08-15T21:14:39.342524Z"
    }
   },
   "outputs": [],
   "source": [
    "la_nubia.Precipitacion_Real = la_nubia.Precipitacion_Real.replace('aquí', 0)\n",
    "posgrados.Precipitacion_Real = posgrados.Precipitacion_Real.replace(' Precipita', 0)\n",
    "aranjuez = aranjuez.replace(\".\", np.nan)  \n",
    "el_carmen = el_carmen.replace(\".\", np.nan)  \n",
    "posgrados= posgrados.replace(\".\", np.nan)   "
   ]
  },
  {
   "cell_type": "code",
   "execution_count": null,
   "id": "b200cab6",
   "metadata": {
    "ExecuteTime": {
     "end_time": "2022-07-25T16:54:02.454077Z",
     "start_time": "2022-07-25T16:54:02.019891Z"
    }
   },
   "outputs": [],
   "source": [
    "aranjuez.Precipitacion.plot() "
   ]
  },
  {
   "cell_type": "code",
   "execution_count": null,
   "id": "6b927bbe",
   "metadata": {
    "ExecuteTime": {
     "end_time": "2022-07-25T16:54:22.432591Z",
     "start_time": "2022-07-25T16:54:22.324590Z"
    }
   },
   "outputs": [],
   "source": [
    "aranjuez[(aranjuez.Fecha >= \"2020-01-01\")&(aranjuez.Fecha <= \"2020-12-20\")].head(60) "
   ]
  },
  {
   "cell_type": "code",
   "execution_count": null,
   "id": "7842f052",
   "metadata": {
    "ExecuteTime": {
     "end_time": "2022-08-15T21:14:50.661924Z",
     "start_time": "2022-08-15T21:14:50.655926Z"
    }
   },
   "outputs": [],
   "source": [
    "def fecha(df):\n",
    "    \n",
    "    '''\n",
    "    Funcion que pasa la fecha a formato datetime y las variables al formato necesario\n",
    "    '''\n",
    "    df[\"Fecha\"] = pd.to_datetime(df[\"Fecha\"])  \n",
    "    #df[\"Hora\"] =  pd.to_datetime(df[\"Hora\"]).dt.time  \n",
    "    #df[\"Direccion\"] = df[\"Direccion\"].fillna(-91)\n",
    "    #df[\"Direccion\"] = df[\"Direccion\"].astype(int)\n",
    "    #df[\"Humedad\"] = df[\"Humedad\"].fillna(-91)\n",
    "    #df[\"Humedad\"] = df[\"Humedad\"].astype(int)\n",
    "    #df[\"Radiacion\"] = df[\"Radiacion\"].fillna(-91)\n",
    "    #df[\"Radiacion\"] = df[\"Radiacion\"].astype(int) \n",
    "    df[\"Precipitacion\"] = df[\"Precipitacion\"].astype(float)\n",
    "    df[\"Precipitacion_Real\"] = df[\"Precipitacion_Real\"].astype(float)\n",
    "    df[\"Temperatura\"] =  df[\"Temperatura\"].astype(float)\n",
    "    df[\"Velocidad\"] =  df[\"Velocidad\"].astype(float)\n",
    "    df[\"Presion\"] =  df[\"Presion\"].astype(float)\n",
    "    df[\"Humedad\"] =  df[\"Humedad\"].astype(float)\n",
    "    \n",
    "    return df "
   ]
  },
  {
   "cell_type": "code",
   "execution_count": null,
   "id": "0795628a",
   "metadata": {
    "ExecuteTime": {
     "end_time": "2022-08-15T21:14:55.274646Z",
     "start_time": "2022-08-15T21:14:51.518486Z"
    }
   },
   "outputs": [],
   "source": [
    "alcazares = fecha(alcazares) \n",
    "aranjuez = fecha(aranjuez)\n",
    "bosques_del_norte = fecha(bosques_del_norte)\n",
    "chec_uribe = fecha(chec_uribe)\n",
    "el_carmen = fecha(el_carmen)\n",
    "emas = fecha(emas)\n",
    "hospital_caldas = fecha(hospital_caldas)\n",
    "la_nubia = fecha(la_nubia)\n",
    "la_palma = fecha(la_palma)\n",
    "milan = fecha(milan)\n",
    "obs_vulcanologico = fecha(obs_vulcanologico)\n",
    "palogrande = fecha(palogrande)\n",
    "posgrados = fecha(posgrados)\n",
    "yarumos = fecha(yarumos)"
   ]
  },
  {
   "cell_type": "code",
   "execution_count": null,
   "id": "0c64bc50",
   "metadata": {
    "ExecuteTime": {
     "end_time": "2022-07-25T16:02:33.565289Z",
     "start_time": "2022-07-25T16:02:33.550257Z"
    }
   },
   "outputs": [],
   "source": [
    "\"\"\"def  ordenar(df):\n",
    "    '''\n",
    "    Funcion ordena el dataset por Fecha de manera ascendente\n",
    "    '''\n",
    "    df = df.sort_values(by=\"Fecha\", ascending=True)  \n",
    "    df.reset_index(inplace=True, drop=True) \n",
    "    return df\"\"\""
   ]
  },
  {
   "cell_type": "code",
   "execution_count": null,
   "id": "e051c996",
   "metadata": {
    "ExecuteTime": {
     "end_time": "2022-07-25T16:02:35.204108Z",
     "start_time": "2022-07-25T16:02:33.661259Z"
    }
   },
   "outputs": [],
   "source": [
    "\"\"\"alcazares = ordenar(alcazares) \n",
    "aranjuez = ordenar(aranjuez)\n",
    "bosques_del_norte = ordenar(bosques_del_norte)\n",
    "chec_uribe = ordenar(chec_uribe)\n",
    "el_carmen = ordenar(el_carmen)\n",
    "emas = ordenar(emas)\n",
    "hospital_caldas = ordenar(hospital_caldas)\n",
    "la_nubia = ordenar(la_nubia)\n",
    "la_palma = ordenar(la_palma)\n",
    "milan = ordenar(milan)\n",
    "obs_vulcanologico = ordenar(obs_vulcanologico)\n",
    "palogrande = ordenar(palogrande)\n",
    "posgrados = ordenar(posgrados)\n",
    "yarumos = ordenar(yarumos)\"\"\""
   ]
  },
  {
   "cell_type": "code",
   "execution_count": null,
   "id": "66aa4df5",
   "metadata": {
    "ExecuteTime": {
     "end_time": "2022-08-15T21:14:57.853530Z",
     "start_time": "2022-08-15T21:14:57.846530Z"
    }
   },
   "outputs": [],
   "source": [
    "def new_colum_str(df,value):\n",
    "    \"\"\"\n",
    "    Esta funcion crea dos variables nuevas: nombre de la estacion metereologica, el año y el mes asignado a la fecha.\n",
    "    \"\"\"\n",
    "    df[\"Estacion\"] = value\n",
    "    return df \n",
    "    "
   ]
  },
  {
   "cell_type": "code",
   "execution_count": null,
   "id": "0eab9348",
   "metadata": {
    "ExecuteTime": {
     "end_time": "2022-08-15T21:14:58.680349Z",
     "start_time": "2022-08-15T21:14:58.605971Z"
    }
   },
   "outputs": [],
   "source": [
    "alcazares = new_colum_str(alcazares, \"alcazares\")   \n",
    "aranjuez = new_colum_str(aranjuez, \"aranjuez\")   \n",
    "bosques_del_norte = new_colum_str(bosques_del_norte, \"bosques_del_norte\")   \n",
    "chec_uribe = new_colum_str(chec_uribe, \"chec_uribe\")   \n",
    "el_carmen = new_colum_str(el_carmen, \"el_carmen\")   \n",
    "emas = new_colum_str(emas, \"emas\")   \n",
    "hospital_caldas = new_colum_str(hospital_caldas, \"hospital_caldas\")   \n",
    "la_nubia = new_colum_str(la_nubia, \"la_nubia\")   \n",
    "la_palma = new_colum_str(la_palma, \"la_palma\")   \n",
    "milan = new_colum_str(milan, \"milan\")   \n",
    "obs_vulcanologico = new_colum_str(obs_vulcanologico, \"obs_vulcanologico\")   \n",
    "palogrande = new_colum_str(palogrande, \"palogrande\")  \n",
    "posgrados = new_colum_str(posgrados, \"posgrados\")\n",
    "yarumos = new_colum_str(yarumos, \"yarumos\")   "
   ]
  },
  {
   "cell_type": "markdown",
   "id": "a6f29c1b",
   "metadata": {},
   "source": [
    "## Precipitacion"
   ]
  },
  {
   "cell_type": "code",
   "execution_count": null,
   "id": "80d57bae",
   "metadata": {
    "ExecuteTime": {
     "end_time": "2022-08-15T21:15:02.487414Z",
     "start_time": "2022-08-15T21:15:02.479414Z"
    }
   },
   "outputs": [],
   "source": [
    "datasets = [alcazares, aranjuez, bosques_del_norte, chec_uribe, el_carmen,emas,hospital_caldas, la_nubia,la_palma, milan, obs_vulcanologico, palogrande,posgrados,yarumos]"
   ]
  },
  {
   "cell_type": "code",
   "execution_count": null,
   "id": "6b93e590",
   "metadata": {
    "ExecuteTime": {
     "end_time": "2022-07-25T16:55:43.129130Z",
     "start_time": "2022-07-25T16:55:38.716198Z"
    },
    "scrolled": true
   },
   "outputs": [],
   "source": [
    "for i in datasets:   \n",
    "    \n",
    "    plt.figure(figsize=(25,8))\n",
    "    print(i.Estacion[0])\n",
    "    plt.plot(i.Fecha.sort_values(ascending=True), i[\"Precipitacion\"]) \n",
    "    plt.title(\"Precipitacion vs Fecha\") \n",
    "    plt.show()"
   ]
  },
  {
   "cell_type": "code",
   "execution_count": null,
   "id": "f8fec6da",
   "metadata": {
    "ExecuteTime": {
     "end_time": "2022-07-13T14:03:53.840632Z",
     "start_time": "2022-07-13T14:03:51.102441Z"
    }
   },
   "outputs": [],
   "source": [
    "for i in datasets:\n",
    "    print(\"Estacion\", i.Estacion[0])\n",
    "    sns.boxplot(x ='Precipitacion', data = i)\n",
    "    plt.show() \n",
    "    "
   ]
  },
  {
   "cell_type": "code",
   "execution_count": null,
   "id": "bac8b927",
   "metadata": {
    "ExecuteTime": {
     "end_time": "2022-07-19T13:02:35.383471Z",
     "start_time": "2022-07-19T13:02:35.338442Z"
    },
    "scrolled": true
   },
   "outputs": [],
   "source": [
    "for i in datasets:\n",
    "    print(i.Estacion[0])  \n",
    "    print(i.Precipitacion.isnull().sum(), \"\\n\")    "
   ]
  },
  {
   "cell_type": "code",
   "execution_count": null,
   "id": "3b5ad6a1",
   "metadata": {
    "ExecuteTime": {
     "end_time": "2022-08-15T21:15:08.900105Z",
     "start_time": "2022-08-15T21:15:08.895106Z"
    }
   },
   "outputs": [],
   "source": [
    "def separar(df,fecha):\n",
    "    df = df.loc[df.Fecha >= fecha]\n",
    "    df.reset_index(inplace = True, drop = True)\n",
    "    return df \n",
    "    "
   ]
  },
  {
   "cell_type": "code",
   "execution_count": null,
   "id": "775e66c6",
   "metadata": {
    "ExecuteTime": {
     "end_time": "2022-08-15T21:15:11.109315Z",
     "start_time": "2022-08-15T21:15:09.614648Z"
    }
   },
   "outputs": [],
   "source": [
    "alcazares = separar(alcazares,\"2017-01-01\")\n",
    "aranjuez =  separar(aranjuez,\"2017-01-01\")\n",
    "bosques_del_norte = separar(bosques_del_norte,\"2017-01-01\")\n",
    "chec_uribe = separar(chec_uribe,\"2017-01-01\")\n",
    "el_carmen = separar(el_carmen,\"2017-01-01\")   \n",
    "emas = separar(emas,\"2017-01-01\")\n",
    "hospital_caldas = separar(hospital_caldas,\"2017-01-01\")\n",
    "la_nubia = separar(la_nubia,\"2017-01-01\")  \n",
    "la_palma = separar(la_palma,\"2017-01-01\") \n",
    "milan = separar(milan,\"2017-01-01\")\n",
    "obs_vulcanologico =separar(obs_vulcanologico,\"2017-01-01\")\n",
    "palogrande =  separar(palogrande,\"2017-01-01\")\n",
    "posgrados =separar(posgrados,\"2017-01-01\")\n",
    "yarumos =   separar(yarumos,\"2017-01-01\") "
   ]
  },
  {
   "cell_type": "code",
   "execution_count": null,
   "id": "0a4e2239",
   "metadata": {
    "ExecuteTime": {
     "end_time": "2022-08-15T21:15:12.268244Z",
     "start_time": "2022-08-15T21:15:12.046183Z"
    }
   },
   "outputs": [],
   "source": [
    "datasets = [alcazares, aranjuez, bosques_del_norte, chec_uribe, el_carmen,emas,hospital_caldas, la_nubia,la_palma, milan, obs_vulcanologico, palogrande,posgrados,yarumos]"
   ]
  },
  {
   "cell_type": "code",
   "execution_count": null,
   "id": "3ecb02cc",
   "metadata": {
    "ExecuteTime": {
     "end_time": "2022-07-25T17:02:51.663141Z",
     "start_time": "2022-07-25T17:02:48.084296Z"
    },
    "scrolled": false
   },
   "outputs": [],
   "source": [
    "for i in datasets:   \n",
    "    \n",
    "    plt.figure(figsize=(25,8))\n",
    "    print(i.Estacion[0])\n",
    "    plt.plot(i.Fecha.sort_values(ascending=True), i[\"Precipitacion\"])\n",
    "    plt.title(\"Precipitacion vs Fecha\") \n",
    "    plt.show()"
   ]
  },
  {
   "cell_type": "code",
   "execution_count": null,
   "id": "7699d7aa",
   "metadata": {
    "ExecuteTime": {
     "end_time": "2022-07-25T17:03:08.173985Z",
     "start_time": "2022-07-25T17:03:08.116986Z"
    },
    "scrolled": false
   },
   "outputs": [],
   "source": [
    "aranjuez[(aranjuez.Estacion == \"aranjuez\") & (aranjuez.Fecha == \"2019-03-13\")]"
   ]
  },
  {
   "cell_type": "markdown",
   "id": "ef31ece2",
   "metadata": {},
   "source": [
    "**Redondeamos los nuevos valores a solo 1 decimales.**"
   ]
  },
  {
   "cell_type": "code",
   "execution_count": null,
   "id": "3dc69796",
   "metadata": {
    "ExecuteTime": {
     "end_time": "2022-08-15T21:15:25.348447Z",
     "start_time": "2022-08-15T21:15:25.159626Z"
    }
   },
   "outputs": [],
   "source": [
    "for i in datasets: \n",
    "    i[\"Precipitacion\"] = round(i[\"Precipitacion\"], 1)"
   ]
  },
  {
   "cell_type": "code",
   "execution_count": null,
   "id": "2b51c212",
   "metadata": {
    "ExecuteTime": {
     "end_time": "2022-08-15T21:15:26.317716Z",
     "start_time": "2022-08-15T21:15:26.302684Z"
    },
    "scrolled": true
   },
   "outputs": [],
   "source": [
    "for i in datasets:\n",
    "    print(i.Estacion[0])  \n",
    "    print(i.Precipitacion.min(), \"\\n\")     "
   ]
  },
  {
   "cell_type": "code",
   "execution_count": null,
   "id": "879be0b9",
   "metadata": {
    "ExecuteTime": {
     "end_time": "2022-07-19T13:03:51.078186Z",
     "start_time": "2022-07-19T13:03:51.057189Z"
    },
    "scrolled": true
   },
   "outputs": [],
   "source": [
    "for i in datasets:\n",
    "    print(i.Estacion[0])  \n",
    "    print(i.Precipitacion.isnull().sum(), \"\\n\")    "
   ]
  },
  {
   "cell_type": "code",
   "execution_count": null,
   "id": "de19e4e7",
   "metadata": {
    "ExecuteTime": {
     "end_time": "2022-08-15T21:15:33.367969Z",
     "start_time": "2022-08-15T21:15:33.350943Z"
    }
   },
   "outputs": [],
   "source": [
    "emas[\"Precipitacion\"] = np.where((emas.Precipitacion >300 ), 200, emas[\"Precipitacion\"]) "
   ]
  },
  {
   "cell_type": "code",
   "execution_count": null,
   "id": "24e3f7a3",
   "metadata": {
    "ExecuteTime": {
     "end_time": "2022-07-25T17:04:29.533342Z",
     "start_time": "2022-07-25T17:04:29.522344Z"
    }
   },
   "outputs": [],
   "source": [
    "#i[\"Precipitacion\"] = np.where((i.Precipitacion < n), promedio, i[\"Precipitacion\"])"
   ]
  },
  {
   "cell_type": "markdown",
   "id": "d1d36f79",
   "metadata": {
    "ExecuteTime": {
     "end_time": "2022-07-14T01:53:19.986876Z",
     "start_time": "2022-07-14T01:53:19.781923Z"
    }
   },
   "source": [
    "## Velocidad"
   ]
  },
  {
   "cell_type": "code",
   "execution_count": null,
   "id": "f9b3dc26",
   "metadata": {
    "ExecuteTime": {
     "end_time": "2022-07-25T17:05:40.941159Z",
     "start_time": "2022-07-25T17:05:37.324845Z"
    },
    "scrolled": true
   },
   "outputs": [],
   "source": [
    "for i in datasets:   \n",
    "    \n",
    "    plt.figure(figsize=(25,8))\n",
    "    print(i.Estacion[0])\n",
    "    plt.plot(i.Fecha.sort_values(ascending=True), i[\"Velocidad\"])\n",
    "    plt.title(\"Velocidad vs Fecha\") \n",
    "    plt.show()"
   ]
  },
  {
   "cell_type": "code",
   "execution_count": null,
   "id": "e5dee093",
   "metadata": {
    "ExecuteTime": {
     "end_time": "2022-07-19T13:04:01.034012Z",
     "start_time": "2022-07-19T13:04:01.002013Z"
    },
    "scrolled": true
   },
   "outputs": [],
   "source": [
    "for i in datasets:\n",
    "    print( \"\\n\",i.Estacion[0])  \n",
    "    print(i.Velocidad.min())   "
   ]
  },
  {
   "cell_type": "code",
   "execution_count": null,
   "id": "88538a6c",
   "metadata": {
    "ExecuteTime": {
     "end_time": "2022-07-19T13:04:07.656955Z",
     "start_time": "2022-07-19T13:04:07.104350Z"
    }
   },
   "outputs": [],
   "source": [
    "#for i in datasets:\n",
    "#    i.drop(i.loc[i.Velocidad < 0].index, inplace = True) \n",
    "#    i.reset_index(inplace = True, drop=True) "
   ]
  },
  {
   "cell_type": "code",
   "execution_count": null,
   "id": "4aeb2d59",
   "metadata": {
    "ExecuteTime": {
     "end_time": "2022-08-15T21:16:25.943023Z",
     "start_time": "2022-08-15T21:16:25.255067Z"
    }
   },
   "outputs": [],
   "source": [
    "n = 0\n",
    "for i in datasets:\n",
    "    promedio = i[(i.Velocidad >= 0) & (i.Velocidad < 32.6)].Velocidad.mean() \n",
    "    i[\"Velocidad\"] = np.where((i.Velocidad < n), promedio, i[\"Velocidad\"])"
   ]
  },
  {
   "cell_type": "code",
   "execution_count": null,
   "id": "2a1afadd",
   "metadata": {
    "ExecuteTime": {
     "end_time": "2022-08-15T21:18:48.966379Z",
     "start_time": "2022-08-15T21:18:47.839278Z"
    },
    "scrolled": true
   },
   "outputs": [],
   "source": [
    "for i in datasets:\n",
    "    print(\"Estacion\", i.Estacion[0])\n",
    "    sns.boxplot(x ='Velocidad', data = i)\n",
    "    plt.show() \n",
    "    "
   ]
  },
  {
   "cell_type": "code",
   "execution_count": null,
   "id": "35772178",
   "metadata": {
    "ExecuteTime": {
     "end_time": "2022-08-15T21:16:40.248565Z",
     "start_time": "2022-08-15T21:16:40.231549Z"
    }
   },
   "outputs": [],
   "source": [
    "def randrange_float(start, stop, step):\n",
    "    return random.randint(0, int((stop - start) / step)) * step + start\n"
   ]
  },
  {
   "cell_type": "code",
   "execution_count": null,
   "id": "c23c0580",
   "metadata": {
    "ExecuteTime": {
     "end_time": "2022-08-15T21:18:31.114721Z",
     "start_time": "2022-08-15T21:16:46.526988Z"
    }
   },
   "outputs": [],
   "source": [
    "n = 32.6\n",
    "st = 1\n",
    "step = 0.4\n",
    "for i in datasets: \n",
    "    e = len(i)\n",
    "    promedio = i[(i.Fecha > \"2017-01-01\") & (i.Fecha < \"2017-03-31\") & (i.Velocidad <= n)].Velocidad.mean()\n",
    "    if math.isnan(promedio) == False :\n",
    "        if promedio != 0:\n",
    "            random.seed(42)\n",
    "            promedio = [randrange_float(promedio-st, promedio +st, step) for p in range(e)]\n",
    "            promedio = np.round(promedio,1) \n",
    "            promedio = pd.DataFrame(promedio, columns={\"valor\"})   \n",
    "            i[\"Velocidad\"] = np.where((i.Fecha >= \"2017-01-01\") & (i.Fecha <= \"2017-03-31\") & (i.Velocidad > n), promedio[\"valor\"], i[\"Velocidad\"])\n",
    "\n",
    "    promedio2 = i[(i.Fecha > \"2017-04-01\") & (i.Fecha < \"2017-06-30\") & (i.Velocidad <= n)].Velocidad.mean()\n",
    "    if math.isnan(promedio2) == False:\n",
    "        if promedio2 != 0:\n",
    "            random.seed(42)\n",
    "            promedio2 = [randrange_float(promedio2-st, promedio2 +st, step) for p in range(e)]\n",
    "            promedio2 = np.round(promedio2,1) \n",
    "            promedio2 = pd.DataFrame(promedio2, columns={\"valor\"}) \n",
    "            i[\"Velocidad\"] = np.where((i.Fecha >= \"2017-04-01\") & (i.Fecha <= \"2017-06-30\") & (i.Velocidad > n), promedio2[\"valor\"], i[\"Velocidad\"])\n",
    "\n",
    "    promedio3 = i[(i.Fecha > \"2017-07-01\") & (i.Fecha < \"2017-09-30\") & (i.Velocidad <= n)].Velocidad.mean()\n",
    "    if math.isnan(promedio3) == False :\n",
    "        if promedio3 != 0:\n",
    "            random.seed(42)\n",
    "            promedio3 = [randrange_float(promedio3-st, promedio3 +st, step) for p in range(e)]\n",
    "            promedio3 = np.round(promedio3,1) \n",
    "            promedio3 = pd.DataFrame(promedio3, columns={\"valor\"})  \n",
    "            i[\"Velocidad\"] = np.where((i.Fecha >= \"2017-07-01\") & (i.Fecha <= \"2017-09-30\") & (i.Velocidad > n), promedio3[\"valor\"], i[\"Velocidad\"])\n",
    "\n",
    "    promedio4 = i[(i.Fecha > \"2017-10-01\") & (i.Fecha < \"2017-12-31\") & (i.Velocidad <= n)].Velocidad.mean()\n",
    "    if math.isnan(promedio4) == False :\n",
    "        if promedio4 != 0:\n",
    "            random.seed(42)\n",
    "            promedio4 = [randrange_float(promedio4-st, promedio4 +st, step) for p in range(e)]\n",
    "            promedio4 = np.round(promedio4,1) \n",
    "            promedio4 = pd.DataFrame(promedio4, columns={\"valor\"}) \n",
    "            i[\"Velocidad\"] = np.where((i.Fecha >= \"2017-10-01\") & (i.Fecha <= \"2017-12-31\") & (i.Velocidad > n), promedio4[\"valor\"], i[\"Velocidad\"])\n",
    " \n",
    "n = 32.6\n",
    "st = 1\n",
    "step = 0.4\n",
    "for i in datasets: \n",
    "    e = len(i)\n",
    "    promedio = i[(i.Fecha > \"2018-01-01\") & (i.Fecha < \"2018-03-31\") & (i.Velocidad <= n)].Velocidad.mean()\n",
    "    if math.isnan(promedio) == False :\n",
    "        if promedio != 0:\n",
    "            random.seed(42)\n",
    "            promedio = [randrange_float(promedio-st, promedio +st, step) for p in range(e)]\n",
    "            promedio = np.round(promedio,1) \n",
    "            promedio = pd.DataFrame(promedio, columns={\"valor\"})   \n",
    "            i[\"Velocidad\"] = np.where((i.Fecha >= \"2018-01-01\") & (i.Fecha <= \"2018-03-31\") & (i.Velocidad > n), promedio[\"valor\"], i[\"Velocidad\"])\n",
    "\n",
    "    promedio2 = i[(i.Fecha > \"2018-04-01\") & (i.Fecha < \"2018-06-30\") & (i.Velocidad <= n)].Velocidad.mean()\n",
    "    if math.isnan(promedio2) == False:\n",
    "        if promedio2 != 0:\n",
    "            random.seed(42)\n",
    "            promedio2 = [randrange_float(promedio2-st, promedio2 +st, step) for p in range(e)]\n",
    "            promedio2 = np.round(promedio2,1) \n",
    "            promedio2 = pd.DataFrame(promedio2, columns={\"valor\"}) \n",
    "            i[\"Velocidad\"] = np.where((i.Fecha >= \"2018-04-01\") & (i.Fecha <= \"2018-06-30\") & (i.Velocidad > n), promedio2[\"valor\"], i[\"Velocidad\"])\n",
    "\n",
    "    promedio3 = i[(i.Fecha > \"2018-07-01\") & (i.Fecha < \"2018-09-30\") & (i.Velocidad <= n)].Velocidad.mean()\n",
    "    if math.isnan(promedio3) == False :\n",
    "        if promedio3 != 0:\n",
    "            random.seed(42)\n",
    "            promedio3 = [randrange_float(promedio3-st, promedio3 +st, step) for p in range(e)]\n",
    "            promedio3 = np.round(promedio3,1) \n",
    "            promedio3 = pd.DataFrame(promedio3, columns={\"valor\"})  \n",
    "            i[\"Velocidad\"] = np.where((i.Fecha >= \"2018-07-01\") & (i.Fecha <= \"2018-09-30\") & (i.Velocidad > n), promedio3[\"valor\"], i[\"Velocidad\"])\n",
    "\n",
    "    promedio4 = i[(i.Fecha > \"2018-10-01\") & (i.Fecha < \"2018-12-31\") & (i.Velocidad <= n)].Velocidad.mean()\n",
    "    if math.isnan(promedio4) == False :\n",
    "        if promedio4 != 0:\n",
    "            random.seed(42)\n",
    "            promedio4 = [randrange_float(promedio4-st, promedio4 +st, step) for p in range(e)]\n",
    "            promedio4 = np.round(promedio4,1) \n",
    "            promedio4 = pd.DataFrame(promedio4, columns={\"valor\"}) \n",
    "            i[\"Velocidad\"] = np.where((i.Fecha >= \"2018-10-01\") & (i.Fecha <= \"2018-12-31\") & (i.Velocidad > n), promedio4[\"valor\"], i[\"Velocidad\"])\n",
    "            \n",
    "n = 32.6\n",
    "st = 1\n",
    "step = 0.4\n",
    "for i in datasets: \n",
    "    e = len(i)\n",
    "    promedio = i[(i.Fecha > \"2019-01-01\") & (i.Fecha < \"2019-03-31\") & (i.Velocidad <= n)].Velocidad.mean()\n",
    "    if math.isnan(promedio) == False :\n",
    "        if promedio != 0:\n",
    "            random.seed(42)\n",
    "            promedio = [randrange_float(promedio-st, promedio +st, step) for p in range(e)]\n",
    "            promedio = np.round(promedio,1) \n",
    "            promedio = pd.DataFrame(promedio, columns={\"valor\"})   \n",
    "            i[\"Velocidad\"] = np.where((i.Fecha >= \"2019-01-01\") & (i.Fecha <= \"2019-03-31\") & (i.Velocidad > n), promedio[\"valor\"], i[\"Velocidad\"])\n",
    "\n",
    "    promedio2 = i[(i.Fecha > \"2019-04-01\") & (i.Fecha < \"2019-06-30\") & (i.Velocidad <= n)].Velocidad.mean()\n",
    "    if math.isnan(promedio2) == False:\n",
    "        if promedio2 != 0:\n",
    "            random.seed(42)\n",
    "            promedio2 = [randrange_float(promedio2-st, promedio2 +st, step) for p in range(e)]\n",
    "            promedio2 = np.round(promedio2,1) \n",
    "            promedio2 = pd.DataFrame(promedio2, columns={\"valor\"}) \n",
    "            i[\"Velocidad\"] = np.where((i.Fecha >= \"2019-04-01\") & (i.Fecha <= \"2019-06-30\") & (i.Velocidad > n), promedio2[\"valor\"], i[\"Velocidad\"])\n",
    "\n",
    "    promedio3 = i[(i.Fecha > \"2019-07-01\") & (i.Fecha < \"2019-09-30\") & (i.Velocidad <= n)].Velocidad.mean()\n",
    "    if math.isnan(promedio3) == False :\n",
    "        if promedio3 != 0:\n",
    "            random.seed(42)\n",
    "            promedio3 = [randrange_float(promedio3-st, promedio3 +st, step) for p in range(e)]\n",
    "            promedio3 = np.round(promedio3,1) \n",
    "            promedio3 = pd.DataFrame(promedio3, columns={\"valor\"})  \n",
    "            i[\"Velocidad\"] = np.where((i.Fecha >= \"2019-07-01\") & (i.Fecha <= \"2019-09-30\") & (i.Velocidad > n), promedio3[\"valor\"], i[\"Velocidad\"])\n",
    "\n",
    "    promedio4 = i[(i.Fecha > \"2019-10-01\") & (i.Fecha < \"2019-12-31\") & (i.Velocidad <= n)].Velocidad.mean()\n",
    "    if math.isnan(promedio4) == False :\n",
    "        if promedio4 != 0:\n",
    "            random.seed(42)\n",
    "            promedio4 = [randrange_float(promedio4-st, promedio4 +st, step) for p in range(e)]\n",
    "            promedio4 = np.round(promedio4,1) \n",
    "            promedio4 = pd.DataFrame(promedio4, columns={\"valor\"}) \n",
    "            i[\"Velocidad\"] = np.where((i.Fecha >= \"2019-10-01\") & (i.Fecha <= \"2019-12-31\") & (i.Velocidad > n), promedio4[\"valor\"], i[\"Velocidad\"])\n",
    "            \n",
    "n = 32.6\n",
    "st = 1\n",
    "step = 0.4\n",
    "for i in datasets: \n",
    "    e = len(i)\n",
    "    promedio = i[(i.Fecha > \"2020-01-01\") & (i.Fecha < \"2020-03-31\") & (i.Velocidad <= n)].Velocidad.mean()\n",
    "    if math.isnan(promedio) == False :\n",
    "        if promedio != 0:\n",
    "            random.seed(42)\n",
    "            promedio = [randrange_float(promedio-st, promedio +st, step) for p in range(e)]\n",
    "            promedio = np.round(promedio,1) \n",
    "            promedio = pd.DataFrame(promedio, columns={\"valor\"})   \n",
    "            i[\"Velocidad\"] = np.where((i.Fecha >= \"2020-01-01\") & (i.Fecha <= \"2020-03-31\") & (i.Velocidad > n), promedio[\"valor\"], i[\"Velocidad\"])\n",
    "\n",
    "    promedio2 = i[(i.Fecha > \"2020-04-01\") & (i.Fecha < \"2020-06-30\") & (i.Velocidad <= n)].Velocidad.mean()\n",
    "    if math.isnan(promedio2) == False:\n",
    "        if promedio2 != 0:\n",
    "            random.seed(42)\n",
    "            promedio2 = [randrange_float(promedio2-st, promedio2 +st, step) for p in range(e)]\n",
    "            promedio2 = np.round(promedio2,1) \n",
    "            promedio2 = pd.DataFrame(promedio2, columns={\"valor\"}) \n",
    "            i[\"Velocidad\"] = np.where((i.Fecha >= \"2020-04-01\") & (i.Fecha <= \"2020-06-30\") & (i.Velocidad > n), promedio2[\"valor\"], i[\"Velocidad\"])\n",
    "\n",
    "    promedio3 = i[(i.Fecha > \"2020-07-01\") & (i.Fecha < \"2020-09-30\") & (i.Velocidad <= n)].Velocidad.mean()\n",
    "    if math.isnan(promedio3) == False :\n",
    "        if promedio3 != 0:\n",
    "            random.seed(42)\n",
    "            promedio3 = [randrange_float(promedio3-st, promedio3 +st, step) for p in range(e)]\n",
    "            promedio3 = np.round(promedio3,1) \n",
    "            promedio3 = pd.DataFrame(promedio3, columns={\"valor\"})  \n",
    "            i[\"Velocidad\"] = np.where((i.Fecha >= \"2020-07-01\") & (i.Fecha <= \"2020-09-30\") & (i.Velocidad > n), promedio3[\"valor\"], i[\"Velocidad\"])\n",
    "\n",
    "    promedio4 = i[(i.Fecha > \"2020-10-01\") & (i.Fecha < \"2020-12-31\") & (i.Velocidad <= n)].Velocidad.mean()\n",
    "    if math.isnan(promedio4) == False :\n",
    "        if promedio4 != 0:\n",
    "            random.seed(42)\n",
    "            promedio4 = [randrange_float(promedio4-st, promedio4 +st, step) for p in range(e)]\n",
    "            promedio4 = np.round(promedio4,1) \n",
    "            promedio4 = pd.DataFrame(promedio4, columns={\"valor\"}) \n",
    "            i[\"Velocidad\"] = np.where((i.Fecha >= \"2020-10-01\") & (i.Fecha <= \"2020-12-31\") & (i.Velocidad > n), promedio4[\"valor\"], i[\"Velocidad\"])"
   ]
  },
  {
   "cell_type": "code",
   "execution_count": null,
   "id": "0c1f04e7",
   "metadata": {
    "ExecuteTime": {
     "end_time": "2022-08-15T21:19:17.684756Z",
     "start_time": "2022-08-15T21:19:17.631756Z"
    }
   },
   "outputs": [],
   "source": [
    "n= 0 \n",
    "viento = 0\n",
    "for i in datasets:\n",
    "\n",
    "    i[\"Velocidad\"] = np.where((i.Velocidad < n), viento, i[\"Velocidad\"])  "
   ]
  },
  {
   "cell_type": "code",
   "execution_count": null,
   "id": "3c2bdb0c",
   "metadata": {
    "ExecuteTime": {
     "end_time": "2022-08-15T21:19:23.205008Z",
     "start_time": "2022-08-15T21:19:19.095187Z"
    }
   },
   "outputs": [],
   "source": [
    "for i in datasets:   \n",
    "    \n",
    "    plt.figure(figsize=(25,8))\n",
    "    print(i.Estacion[0])\n",
    "    plt.plot(i.Fecha.sort_values(ascending=True), i[\"Velocidad\"]) \n",
    "    plt.title(\"Velocidad vs Fecha\") \n",
    "    plt.show()"
   ]
  },
  {
   "cell_type": "code",
   "execution_count": null,
   "id": "6e428a18",
   "metadata": {
    "ExecuteTime": {
     "end_time": "2022-08-15T21:22:13.379401Z",
     "start_time": "2022-08-15T21:22:12.256403Z"
    }
   },
   "outputs": [],
   "source": [
    "for i in datasets:\n",
    "    print(\"Estacion\", i.Estacion[0])\n",
    "    sns.boxplot(x ='Velocidad', data = i)\n",
    "    plt.show() \n",
    "    "
   ]
  },
  {
   "cell_type": "code",
   "execution_count": null,
   "id": "52972788",
   "metadata": {
    "ExecuteTime": {
     "end_time": "2022-07-19T13:04:57.352938Z",
     "start_time": "2022-07-19T13:04:57.321424Z"
    },
    "scrolled": true
   },
   "outputs": [],
   "source": [
    "for i in datasets:\n",
    "    print(i.Estacion[0])  \n",
    "    print(i.Velocidad.isnull().sum(), \"\\n\")     "
   ]
  },
  {
   "cell_type": "markdown",
   "id": "07b1931e",
   "metadata": {},
   "source": [
    "## Temperatura"
   ]
  },
  {
   "cell_type": "code",
   "execution_count": null,
   "id": "3ccd017e",
   "metadata": {
    "ExecuteTime": {
     "end_time": "2022-07-25T17:08:50.625599Z",
     "start_time": "2022-07-25T17:08:46.964667Z"
    },
    "scrolled": true
   },
   "outputs": [],
   "source": [
    "for i in datasets:   \n",
    "    \n",
    "    plt.figure(figsize=(25,8))\n",
    "    print(i.Estacion[0])\n",
    "    plt.plot(i.Fecha.sort_values(ascending=True), i[\"Temperatura\"]) \n",
    "    plt.title(\"Temperatura vs Fecha\") \n",
    "    plt.show()"
   ]
  },
  {
   "cell_type": "code",
   "execution_count": null,
   "id": "2ef58205",
   "metadata": {
    "ExecuteTime": {
     "end_time": "2022-07-19T13:05:04.002492Z",
     "start_time": "2022-07-19T13:05:03.785759Z"
    },
    "scrolled": true
   },
   "outputs": [],
   "source": [
    "for i in datasets:\n",
    "    print(i.Estacion[0]) \n",
    "    print(i.loc[i.Temperatura == 0].shape, \"\\n\")  "
   ]
  },
  {
   "cell_type": "code",
   "execution_count": null,
   "id": "da2274a3",
   "metadata": {
    "ExecuteTime": {
     "end_time": "2022-07-19T13:05:08.401620Z",
     "start_time": "2022-07-19T13:05:08.369149Z"
    },
    "scrolled": true
   },
   "outputs": [],
   "source": [
    "for i in datasets:\n",
    "    print(i.Estacion[0])\n",
    "    print(i.loc[i.Temperatura == 0], \"\\n\") "
   ]
  },
  {
   "cell_type": "code",
   "execution_count": null,
   "id": "353e73dc",
   "metadata": {
    "ExecuteTime": {
     "end_time": "2022-07-19T13:05:12.967511Z",
     "start_time": "2022-07-19T13:05:12.953499Z"
    },
    "scrolled": true
   },
   "outputs": [],
   "source": [
    "for i in datasets:\n",
    "    print( \"\\n\",i.Estacion[0])  \n",
    "    print(i.Temperatura.min())  "
   ]
  },
  {
   "cell_type": "code",
   "execution_count": null,
   "id": "554f10b0",
   "metadata": {
    "ExecuteTime": {
     "end_time": "2022-07-19T13:05:54.736570Z",
     "start_time": "2022-07-19T13:05:54.713710Z"
    },
    "scrolled": true
   },
   "outputs": [],
   "source": [
    "for i in datasets:\n",
    "    print( \"\\n\",i.Estacion[0])  \n",
    "    print(i.Temperatura.min())"
   ]
  },
  {
   "cell_type": "markdown",
   "id": "67427afb",
   "metadata": {},
   "source": [
    "**Las Temperaturas mas bajas en Manizales llegan hasta 7 °C, por lo tanto cualquier valor por debajo se considera outlier. Se reemplazaran los valores mas bajos por 7°C.**"
   ]
  },
  {
   "cell_type": "code",
   "execution_count": null,
   "id": "32316737",
   "metadata": {
    "ExecuteTime": {
     "end_time": "2022-07-25T17:09:07.389377Z",
     "start_time": "2022-07-25T17:09:01.012403Z"
    }
   },
   "outputs": [],
   "source": [
    "n= 7 \n",
    "s = 2\n",
    "step = 0.4\n",
    "for i in datasets:\n",
    "    e = len(i)\n",
    "    np.random.seed(42)\n",
    "    temp = [randrange_float(n, n + s, step) for p in range(e)]\n",
    "    temp = np.round(temp,2)  \n",
    "    #temp = round(np.random.uniform(7,7+1),2)\n",
    "    i[\"Temperatura\"] = np.where((i.Temperatura < n), temp, i[\"Temperatura\"]) "
   ]
  },
  {
   "cell_type": "code",
   "execution_count": null,
   "id": "e9e56252",
   "metadata": {
    "ExecuteTime": {
     "end_time": "2022-07-18T21:24:04.918706Z",
     "start_time": "2022-07-18T21:24:03.866867Z"
    }
   },
   "outputs": [],
   "source": [
    "for i in datasets:\n",
    "    print(\"Estacion\", i.Estacion[0]) \n",
    "    sns.boxplot(x ='Temperatura', data = i)\n",
    "    plt.show() "
   ]
  },
  {
   "cell_type": "markdown",
   "id": "03a8462e",
   "metadata": {},
   "source": [
    "**La temperatura maxima registrada en manizales durante los ultimos 10 años, es de 32°C.**"
   ]
  },
  {
   "cell_type": "code",
   "execution_count": null,
   "id": "f504b4a8",
   "metadata": {
    "ExecuteTime": {
     "end_time": "2022-07-25T17:11:04.385234Z",
     "start_time": "2022-07-25T17:09:12.741374Z"
    }
   },
   "outputs": [],
   "source": [
    "n = 32\n",
    "st = 1\n",
    "step = 0.4\n",
    "for i in datasets: \n",
    "    e = len(i)\n",
    "    promedio = i[(i.Fecha > \"2017-01-01\") & (i.Fecha < \"2017-03-31\") & (i.Temperatura <= n)].Temperatura.mean()\n",
    "    if math.isnan(promedio) == False :\n",
    "        if promedio != 0:\n",
    "            random.seed(42)\n",
    "            promedio = [randrange_float(promedio-st, promedio +st, step) for p in range(e)]\n",
    "            promedio = np.round(promedio,1) \n",
    "            promedio = pd.DataFrame(promedio, columns={\"valor\"})   \n",
    "            i[\"Temperatura\"] = np.where((i.Fecha >= \"2017-01-01\") & (i.Fecha <= \"2017-03-31\") & (i.Temperatura > n), promedio[\"valor\"], i[\"Temperatura\"])\n",
    "\n",
    "    promedio2 = i[(i.Fecha > \"2017-04-01\") & (i.Fecha < \"2017-06-30\") & (i.Temperatura <= n)].Temperatura.mean()\n",
    "    if math.isnan(promedio2) == False:\n",
    "        if promedio2 != 0:\n",
    "            random.seed(42)\n",
    "            promedio2 = [randrange_float(promedio2-st, promedio2 +st, step) for p in range(e)]\n",
    "            promedio2 = np.round(promedio2,1) \n",
    "            promedio2 = pd.DataFrame(promedio2, columns={\"valor\"}) \n",
    "            i[\"Temperatura\"] = np.where((i.Fecha >= \"2017-04-01\") & (i.Fecha <= \"2017-06-30\") & (i.Temperatura > n), promedio2[\"valor\"], i[\"Temperatura\"])\n",
    "\n",
    "    promedio3 = i[(i.Fecha > \"2017-07-01\") & (i.Fecha < \"2017-09-30\") & (i.Temperatura <= n)].Temperatura.mean()\n",
    "    if math.isnan(promedio3) == False :\n",
    "        if promedio3 != 0:\n",
    "            random.seed(42)\n",
    "            promedio3 = [randrange_float(promedio3-st, promedio3 +st, step) for p in range(e)]\n",
    "            promedio3 = np.round(promedio3,1) \n",
    "            promedio3 = pd.DataFrame(promedio3, columns={\"valor\"})  \n",
    "            i[\"Temperatura\"] = np.where((i.Fecha >= \"2017-07-01\") & (i.Fecha <= \"2017-09-30\") & (i.Temperatura > n), promedio3[\"valor\"], i[\"Temperatura\"])\n",
    "\n",
    "    promedio4 = i[(i.Fecha > \"2017-10-01\") & (i.Fecha < \"2017-12-31\") & (i.Temperatura <= n)].Temperatura.mean()\n",
    "    if math.isnan(promedio4) == False :\n",
    "        if promedio4 != 0:\n",
    "            random.seed(42)\n",
    "            promedio4 = [randrange_float(promedio4-st, promedio4 +st, step) for p in range(e)]\n",
    "            promedio4 = np.round(promedio4,1) \n",
    "            promedio4 = pd.DataFrame(promedio4, columns={\"valor\"}) \n",
    "            i[\"Temperatura\"] = np.where((i.Fecha >= \"2017-10-01\") & (i.Fecha <= \"2017-12-31\") & (i.Temperatura > n), promedio4[\"valor\"], i[\"Temperatura\"])\n",
    "\n",
    "\n",
    "n = 32\n",
    "st = 1\n",
    "step = 0.4\n",
    "for i in datasets: \n",
    "    e = len(i)\n",
    "    promedio = i[(i.Fecha > \"2018-01-01\") & (i.Fecha < \"2018-03-31\") & (i.Temperatura <= n)].Temperatura.mean()\n",
    "    if math.isnan(promedio) == False :\n",
    "        if promedio != 0:\n",
    "            random.seed(42)\n",
    "            promedio = [randrange_float(promedio-st, promedio +st, step) for p in range(e)]\n",
    "            promedio = np.round(promedio,1) \n",
    "            promedio = pd.DataFrame(promedio, columns={\"valor\"})   \n",
    "            i[\"Temperatura\"] = np.where((i.Fecha >= \"2018-01-01\") & (i.Fecha <= \"2018-03-31\") & (i.Temperatura > n), promedio[\"valor\"], i[\"Temperatura\"])\n",
    "\n",
    "    promedio2 = i[(i.Fecha > \"2018-04-01\") & (i.Fecha < \"2018-06-30\") & (i.Temperatura <= n)].Temperatura.mean()\n",
    "    if math.isnan(promedio2) == False:\n",
    "        if promedio2 != 0:\n",
    "            random.seed(42)\n",
    "            promedio2 = [randrange_float(promedio2-st, promedio2 +st, step) for p in range(e)]\n",
    "            promedio2 = np.round(promedio2,1) \n",
    "            promedio2 = pd.DataFrame(promedio2, columns={\"valor\"}) \n",
    "            i[\"Temperatura\"] = np.where((i.Fecha >= \"2018-04-01\") & (i.Fecha <= \"2018-06-30\") & (i.Temperatura > n), promedio2[\"valor\"], i[\"Temperatura\"])\n",
    "\n",
    "    promedio3 = i[(i.Fecha > \"2018-07-01\") & (i.Fecha < \"2018-09-30\") & (i.Temperatura <= n)].Temperatura.mean()\n",
    "    if math.isnan(promedio3) == False :\n",
    "        if promedio3 != 0:\n",
    "            random.seed(42)\n",
    "            promedio3 = [randrange_float(promedio3-st, promedio3 +st, step) for p in range(e)]\n",
    "            promedio3 = np.round(promedio3,1) \n",
    "            promedio3 = pd.DataFrame(promedio3, columns={\"valor\"})  \n",
    "            i[\"Temperatura\"] = np.where((i.Fecha >= \"2018-07-01\") & (i.Fecha <= \"2018-09-30\") & (i.Temperatura > n), promedio3[\"valor\"], i[\"Temperatura\"])\n",
    "\n",
    "    promedio4 = i[(i.Fecha > \"2018-10-01\") & (i.Fecha < \"2018-12-31\") & (i.Temperatura <= n)].Temperatura.mean()\n",
    "    if math.isnan(promedio4) == False :\n",
    "        if promedio4 != 0:\n",
    "            random.seed(42)\n",
    "            promedio4 = [randrange_float(promedio4-st, promedio4 +st, step) for p in range(e)]\n",
    "            promedio4 = np.round(promedio4,1) \n",
    "            promedio4 = pd.DataFrame(promedio4, columns={\"valor\"}) \n",
    "            i[\"Temperatura\"] = np.where((i.Fecha >= \"2018-10-01\") & (i.Fecha <= \"2018-12-31\") & (i.Temperatura > n), promedio4[\"valor\"], i[\"Temperatura\"])\n",
    "            \n",
    "n = 32\n",
    "st = 1\n",
    "step = 0.4\n",
    "for i in datasets: \n",
    "    e = len(i)\n",
    "    promedio = i[(i.Fecha > \"2019-01-01\") & (i.Fecha < \"2019-03-31\") & (i.Temperatura <= n)].Temperatura.mean()\n",
    "    if math.isnan(promedio) == False :\n",
    "        if promedio != 0:\n",
    "            random.seed(42)\n",
    "            promedio = [randrange_float(promedio-st, promedio +st, step) for p in range(e)]\n",
    "            promedio = np.round(promedio,1) \n",
    "            promedio = pd.DataFrame(promedio, columns={\"valor\"})   \n",
    "            i[\"Temperatura\"] = np.where((i.Fecha >= \"2019-01-01\") & (i.Fecha <= \"2019-03-31\") & (i.Temperatura > n), promedio[\"valor\"], i[\"Temperatura\"])\n",
    "\n",
    "    promedio2 = i[(i.Fecha > \"2019-04-01\") & (i.Fecha < \"2019-06-30\") & (i.Temperatura <= n)].Temperatura.mean()\n",
    "    if math.isnan(promedio2) == False:\n",
    "        if promedio2 != 0:\n",
    "            random.seed(42)\n",
    "            promedio2 = [randrange_float(promedio2-st, promedio2 +st, step) for p in range(e)]\n",
    "            promedio2 = np.round(promedio2,1) \n",
    "            promedio2 = pd.DataFrame(promedio2, columns={\"valor\"}) \n",
    "            i[\"Temperatura\"] = np.where((i.Fecha >= \"2019-04-01\") & (i.Fecha <= \"2019-06-30\") & (i.Temperatura > n), promedio2[\"valor\"], i[\"Temperatura\"])\n",
    "\n",
    "    promedio3 = i[(i.Fecha > \"2019-07-01\") & (i.Fecha < \"2019-09-30\") & (i.Temperatura <= n)].Temperatura.mean()\n",
    "    if math.isnan(promedio3) == False :\n",
    "        if promedio3 != 0:\n",
    "            random.seed(42)\n",
    "            promedio3 = [randrange_float(promedio3-st, promedio3 +st, step) for p in range(e)]\n",
    "            promedio3 = np.round(promedio3,1) \n",
    "            promedio3 = pd.DataFrame(promedio3, columns={\"valor\"})  \n",
    "            i[\"Temperatura\"] = np.where((i.Fecha >= \"2019-07-01\") & (i.Fecha <= \"2019-09-30\") & (i.Temperatura > n), promedio3[\"valor\"], i[\"Temperatura\"])\n",
    "\n",
    "    promedio4 = i[(i.Fecha > \"2019-10-01\") & (i.Fecha < \"2019-12-31\") & (i.Temperatura <= n)].Temperatura.mean()\n",
    "    if math.isnan(promedio4) == False :\n",
    "        if promedio4 != 0:\n",
    "            random.seed(42)\n",
    "            promedio4 = [randrange_float(promedio4-st, promedio4 +st, step) for p in range(e)]\n",
    "            promedio4 = np.round(promedio4,1) \n",
    "            promedio4 = pd.DataFrame(promedio4, columns={\"valor\"}) \n",
    "            i[\"Temperatura\"] = np.where((i.Fecha >= \"2019-10-01\") & (i.Fecha <= \"2019-12-31\") & (i.Temperatura > n), promedio4[\"valor\"], i[\"Temperatura\"])\n",
    "            \n",
    "n = 32\n",
    "st = 1\n",
    "step = 0.4\n",
    "for i in datasets: \n",
    "    e = len(i)\n",
    "    promedio = i[(i.Fecha > \"2020-01-01\") & (i.Fecha < \"2020-03-31\") & (i.Temperatura <= n)].Temperatura.mean()\n",
    "    if math.isnan(promedio) == False :\n",
    "        if promedio != 0:\n",
    "            random.seed(42)\n",
    "            promedio = [randrange_float(promedio-st, promedio +st, step) for p in range(e)]\n",
    "            promedio = np.round(promedio,1) \n",
    "            promedio = pd.DataFrame(promedio, columns={\"valor\"})   \n",
    "            i[\"Temperatura\"] = np.where((i.Fecha >= \"2020-01-01\") & (i.Fecha <= \"2020-03-31\") & (i.Temperatura > n), promedio[\"valor\"], i[\"Temperatura\"])\n",
    "\n",
    "    promedio2 = i[(i.Fecha > \"2020-04-01\") & (i.Fecha < \"2020-06-30\") & (i.Temperatura <= n)].Temperatura.mean()\n",
    "    if math.isnan(promedio2) == False:\n",
    "        if promedio2 != 0:\n",
    "            random.seed(42)\n",
    "            promedio2 = [randrange_float(promedio2-st, promedio2 +st, step) for p in range(e)]\n",
    "            promedio2 = np.round(promedio2,1) \n",
    "            promedio2 = pd.DataFrame(promedio2, columns={\"valor\"}) \n",
    "            i[\"Temperatura\"] = np.where((i.Fecha >= \"2020-04-01\") & (i.Fecha <= \"2020-06-30\") & (i.Temperatura > n), promedio2[\"valor\"], i[\"Temperatura\"])\n",
    "\n",
    "    promedio3 = i[(i.Fecha > \"2020-07-01\") & (i.Fecha < \"2020-09-30\") & (i.Temperatura <= n)].Temperatura.mean()\n",
    "    if math.isnan(promedio3) == False :\n",
    "        if promedio3 != 0:\n",
    "            random.seed(42)\n",
    "            promedio3 = [randrange_float(promedio3-st, promedio3 +st, step) for p in range(e)]\n",
    "            promedio3 = np.round(promedio3,1) \n",
    "            promedio3 = pd.DataFrame(promedio3, columns={\"valor\"})  \n",
    "            i[\"Temperatura\"] = np.where((i.Fecha >= \"2020-07-01\") & (i.Fecha <= \"2020-09-30\") & (i.Temperatura > n), promedio3[\"valor\"], i[\"Temperatura\"])\n",
    "\n",
    "    promedio4 = i[(i.Fecha > \"2020-10-01\") & (i.Fecha < \"2020-12-31\") & (i.Temperatura <= n)].Temperatura.mean()\n",
    "    if math.isnan(promedio4) == False :\n",
    "        if promedio4 != 0:\n",
    "            random.seed(42)\n",
    "            promedio4 = [randrange_float(promedio4-st, promedio4 +st, step) for p in range(e)]\n",
    "            promedio4 = np.round(promedio4,1) \n",
    "            promedio4 = pd.DataFrame(promedio4, columns={\"valor\"}) \n",
    "            i[\"Temperatura\"] = np.where((i.Fecha >= \"2020-10-01\") & (i.Fecha <= \"2020-12-31\") & (i.Temperatura > n), promedio4[\"valor\"], i[\"Temperatura\"])\n"
   ]
  },
  {
   "cell_type": "code",
   "execution_count": null,
   "id": "d07f97eb",
   "metadata": {
    "ExecuteTime": {
     "end_time": "2022-07-25T17:11:59.365318Z",
     "start_time": "2022-07-25T17:11:55.156404Z"
    },
    "code_folding": [],
    "run_control": {
     "marked": false
    },
    "scrolled": true
   },
   "outputs": [],
   "source": [
    "for i in datasets:   \n",
    "    \n",
    "    plt.figure(figsize=(25,8))\n",
    "    print(i.Estacion[0])\n",
    "    plt.plot(i.Fecha.sort_values(ascending=True), i[\"Temperatura\"])\n",
    "    plt.title(\"Temperatura vs Fecha\") \n",
    "    plt.show()"
   ]
  },
  {
   "cell_type": "markdown",
   "id": "6bee9d84",
   "metadata": {},
   "source": [
    "## Presion Barometrica "
   ]
  },
  {
   "cell_type": "code",
   "execution_count": null,
   "id": "54267890",
   "metadata": {
    "ExecuteTime": {
     "end_time": "2022-07-25T17:12:28.312477Z",
     "start_time": "2022-07-25T17:12:24.709667Z"
    },
    "scrolled": true
   },
   "outputs": [],
   "source": [
    "for i in datasets:   \n",
    "    \n",
    "    plt.figure(figsize=(25,8))\n",
    "    print(i.Estacion[0])\n",
    "    plt.plot(i.Fecha.sort_values(ascending=True), i[\"Presion\"]) \n",
    "    plt.title(\"Presion vs Fecha\")  \n",
    "    plt.show()"
   ]
  },
  {
   "cell_type": "code",
   "execution_count": null,
   "id": "9d1344ca",
   "metadata": {
    "ExecuteTime": {
     "end_time": "2022-07-18T21:29:03.269786Z",
     "start_time": "2022-07-18T21:29:02.322018Z"
    },
    "scrolled": true
   },
   "outputs": [],
   "source": [
    "for i in datasets:\n",
    "    print(\"Estacion\", i.Estacion[0]) \n",
    "    sns.boxplot(x =\"Presion\", data = i) \n",
    "    plt.show() \n",
    "    "
   ]
  },
  {
   "cell_type": "code",
   "execution_count": null,
   "id": "0f6bc36d",
   "metadata": {
    "ExecuteTime": {
     "end_time": "2022-07-19T13:07:02.919442Z",
     "start_time": "2022-07-19T13:07:02.889473Z"
    },
    "scrolled": true
   },
   "outputs": [],
   "source": [
    "for i in datasets:\n",
    "    print( \"\\n\",i.Estacion[0])  \n",
    "    print(i.Presion.min())\n",
    "    print(i.Presion.max()) "
   ]
  },
  {
   "cell_type": "code",
   "execution_count": null,
   "id": "697b39e2",
   "metadata": {
    "ExecuteTime": {
     "end_time": "2022-07-20T13:13:06.681251Z",
     "start_time": "2022-07-20T13:13:06.661253Z"
    }
   },
   "outputs": [],
   "source": [
    "hospital_caldas[hospital_caldas.Presion == 0].Presion.shape "
   ]
  },
  {
   "cell_type": "code",
   "execution_count": null,
   "id": "9c71ac23",
   "metadata": {
    "ExecuteTime": {
     "end_time": "2022-07-25T17:12:35.362352Z",
     "start_time": "2022-07-25T17:12:34.683067Z"
    }
   },
   "outputs": [],
   "source": [
    "n = 0\n",
    "for i in datasets:\n",
    "    promedio = i[(i.Presion != n)].Presion.mean()\n",
    "    i[\"Presion\"] = np.where((i.Presion == n), promedio, i[\"Presion\"])\n",
    "    "
   ]
  },
  {
   "cell_type": "code",
   "execution_count": null,
   "id": "ee901b12",
   "metadata": {
    "ExecuteTime": {
     "end_time": "2022-07-25T17:12:45.252336Z",
     "start_time": "2022-07-25T17:12:41.613634Z"
    }
   },
   "outputs": [],
   "source": [
    "for i in datasets:   \n",
    "    \n",
    "    plt.figure(figsize=(25,8))\n",
    "    print(i.Estacion[0])\n",
    "    plt.plot(i.Fecha.sort_values(ascending=True), i[\"Presion\"]) \n",
    "    plt.title(\"Presion vs Fecha\")  \n",
    "    plt.show()"
   ]
  },
  {
   "cell_type": "markdown",
   "id": "b0ef8a73",
   "metadata": {},
   "source": [
    "## Humedad"
   ]
  },
  {
   "cell_type": "code",
   "execution_count": null,
   "id": "19b906f7",
   "metadata": {
    "ExecuteTime": {
     "end_time": "2022-07-25T17:12:59.955394Z",
     "start_time": "2022-07-25T17:12:56.421774Z"
    },
    "scrolled": true
   },
   "outputs": [],
   "source": [
    "for i in datasets:   \n",
    "    \n",
    "    plt.figure(figsize=(25,8))\n",
    "    print(i.Estacion[0])\n",
    "    plt.plot(i.Fecha.sort_values(ascending=True), i[\"Humedad\"])  \n",
    "    plt.title(\"Humedad vs Fecha\")   \n",
    "    plt.show()"
   ]
  },
  {
   "cell_type": "code",
   "execution_count": null,
   "id": "69459c83",
   "metadata": {
    "ExecuteTime": {
     "end_time": "2022-07-18T21:39:12.743948Z",
     "start_time": "2022-07-18T21:39:12.714948Z"
    },
    "scrolled": true
   },
   "outputs": [],
   "source": [
    "for i in datasets:\n",
    "    print( \"\\n\",i.Estacion[0])  \n",
    "    print(i[i.Humedad >100].Humedad.shape)  \n",
    "   "
   ]
  },
  {
   "cell_type": "code",
   "execution_count": null,
   "id": "98163cf0",
   "metadata": {
    "ExecuteTime": {
     "end_time": "2022-07-14T15:44:44.742405Z",
     "start_time": "2022-07-14T15:44:43.131086Z"
    },
    "scrolled": true
   },
   "outputs": [],
   "source": [
    "for i in datasets:\n",
    "    print(\"Estacion\", i.Estacion[0]) \n",
    "    sns.boxplot(x ='Humedad', data = i) \n",
    "    plt.show() \n",
    "    "
   ]
  },
  {
   "cell_type": "markdown",
   "id": "5dd55951",
   "metadata": {},
   "source": [
    "**La humedad esta dada en un rango de 0 a 100 %, por lo tanto se reemplazara cualquier valor por encima.**"
   ]
  },
  {
   "cell_type": "code",
   "execution_count": null,
   "id": "846eb0e8",
   "metadata": {
    "ExecuteTime": {
     "end_time": "2022-07-21T13:52:02.758322Z",
     "start_time": "2022-07-21T13:52:02.752308Z"
    }
   },
   "outputs": [],
   "source": [
    "aranjuez.shape "
   ]
  },
  {
   "cell_type": "code",
   "execution_count": null,
   "id": "0ad7a444",
   "metadata": {
    "ExecuteTime": {
     "end_time": "2022-07-14T15:45:50.601294Z",
     "start_time": "2022-07-14T15:45:50.562384Z"
    },
    "scrolled": true
   },
   "outputs": [],
   "source": [
    "for i in datasets:\n",
    "    print( \"\\n\",i.Estacion[0])  \n",
    "    print(i[i.Humedad > 100].shape)    "
   ]
  },
  {
   "cell_type": "code",
   "execution_count": null,
   "id": "3317fb85",
   "metadata": {
    "ExecuteTime": {
     "end_time": "2022-07-19T15:34:48.310031Z",
     "start_time": "2022-07-19T15:34:48.294045Z"
    }
   },
   "outputs": [],
   "source": [
    "example = alcazares.copy() "
   ]
  },
  {
   "cell_type": "code",
   "execution_count": null,
   "id": "51a609b6",
   "metadata": {
    "ExecuteTime": {
     "end_time": "2022-07-19T14:54:56.265591Z",
     "start_time": "2022-07-19T14:54:56.244001Z"
    }
   },
   "outputs": [],
   "source": [
    "e = example[(example.Fecha > \"2020-01-01\") & (example.Fecha < \"2020-03-31\") & (example.Temperatura <= n)].Temperatura.mean() \n",
    "e "
   ]
  },
  {
   "cell_type": "code",
   "execution_count": null,
   "id": "bafe810c",
   "metadata": {
    "ExecuteTime": {
     "end_time": "2022-07-19T14:54:43.724772Z",
     "start_time": "2022-07-19T14:54:43.707649Z"
    }
   },
   "outputs": [],
   "source": [
    "promedio = example[(example.Fecha > \"2020-01-01\") & (example.Fecha < \"2020-03-31\") & (example.Humedad <= 100)].Humedad.mean()\n",
    "math.isnan(promedio) == False  "
   ]
  },
  {
   "cell_type": "code",
   "execution_count": null,
   "id": "0ad55591",
   "metadata": {
    "ExecuteTime": {
     "end_time": "2022-07-19T15:25:05.544202Z",
     "start_time": "2022-07-19T15:25:05.533175Z"
    }
   },
   "outputs": [],
   "source": [
    "def mean_confidence_interval(data, confidence=0.95):\n",
    "    a = 1.0 * np.array(data)\n",
    "    n = len(a)\n",
    "    m, se = np.mean(a), scipy.stats.sem(a)\n",
    "    h = se * scipy.stats.t.ppf((1 + confidence) / 2., n-1)\n",
    "    return m, m-h, m+h"
   ]
  },
  {
   "cell_type": "code",
   "execution_count": null,
   "id": "a8435754",
   "metadata": {
    "ExecuteTime": {
     "end_time": "2022-07-19T15:35:00.539418Z",
     "start_time": "2022-07-19T15:35:00.525417Z"
    }
   },
   "outputs": [],
   "source": [
    "1.0*np.array(example.Humedad)  "
   ]
  },
  {
   "cell_type": "code",
   "execution_count": null,
   "id": "456d4cc5",
   "metadata": {
    "ExecuteTime": {
     "end_time": "2022-07-19T15:35:02.808316Z",
     "start_time": "2022-07-19T15:35:02.789187Z"
    }
   },
   "outputs": [],
   "source": [
    "len(example.Humedad) "
   ]
  },
  {
   "cell_type": "code",
   "execution_count": null,
   "id": "ffd7039f",
   "metadata": {
    "ExecuteTime": {
     "end_time": "2022-07-19T15:35:04.098227Z",
     "start_time": "2022-07-19T15:35:04.084756Z"
    }
   },
   "outputs": [],
   "source": [
    "m= np.mean(example.Humedad)\n",
    "m "
   ]
  },
  {
   "cell_type": "code",
   "execution_count": null,
   "id": "6fe25c5f",
   "metadata": {
    "ExecuteTime": {
     "end_time": "2022-07-19T15:35:07.843920Z",
     "start_time": "2022-07-19T15:35:07.836890Z"
    }
   },
   "outputs": [],
   "source": [
    "se = np.std(example.Humedad, ddof=1) / np.sqrt(np.size(example.Humedad)) "
   ]
  },
  {
   "cell_type": "code",
   "execution_count": null,
   "id": "6fbe7549",
   "metadata": {
    "ExecuteTime": {
     "end_time": "2022-07-19T15:35:08.423675Z",
     "start_time": "2022-07-19T15:35:08.411697Z"
    }
   },
   "outputs": [],
   "source": [
    "h = se * scipy.stats.t.ppf((1 + 0.95) / 2., n-1)\n",
    "h "
   ]
  },
  {
   "cell_type": "code",
   "execution_count": null,
   "id": "63e7de5b",
   "metadata": {
    "ExecuteTime": {
     "end_time": "2022-07-19T15:35:10.033067Z",
     "start_time": "2022-07-19T15:35:10.021040Z"
    }
   },
   "outputs": [],
   "source": [
    "m+h "
   ]
  },
  {
   "cell_type": "code",
   "execution_count": null,
   "id": "afe47263",
   "metadata": {
    "ExecuteTime": {
     "end_time": "2022-07-25T17:14:57.265052Z",
     "start_time": "2022-07-25T17:13:12.310379Z"
    }
   },
   "outputs": [],
   "source": [
    "n = 100\n",
    "st = 1\n",
    "step = 0.4\n",
    "for i in datasets: \n",
    "    e = len(i)\n",
    "    promedio = i[(i.Fecha > \"2017-01-01\") & (i.Fecha < \"2017-03-31\") & (i.Humedad <= n)].Humedad.mean()\n",
    "    if math.isnan(promedio) == False :\n",
    "        if promedio != 0:\n",
    "            random.seed(42)\n",
    "            promedio = [randrange_float(promedio-st, promedio +st, step) for p in range(e)]\n",
    "            promedio = np.round(promedio,1) \n",
    "            promedio = pd.DataFrame(promedio, columns={\"valor\"})   \n",
    "            i[\"Humedad\"] = np.where((i.Fecha >= \"2017-01-01\") & (i.Fecha <= \"2017-03-31\") & (i.Humedad > n), promedio[\"valor\"], i[\"Humedad\"])\n",
    "\n",
    "    promedio2 = i[(i.Fecha > \"2017-04-01\") & (i.Fecha < \"2017-06-30\") & (i.Humedad <= n)].Humedad.mean()\n",
    "    if math.isnan(promedio2) == False:\n",
    "        if promedio2 != 0:\n",
    "            random.seed(42)\n",
    "            promedio2 = [randrange_float(promedio2-st, promedio2 +st, step) for p in range(e)]\n",
    "            promedio2 = np.round(promedio2,1) \n",
    "            promedio2 = pd.DataFrame(promedio2, columns={\"valor\"}) \n",
    "            i[\"Humedad\"] = np.where((i.Fecha >= \"2017-04-01\") & (i.Fecha <= \"2017-06-30\") & (i.Humedad > n), promedio2[\"valor\"], i[\"Humedad\"])\n",
    "\n",
    "    promedio3 = i[(i.Fecha > \"2017-07-01\") & (i.Fecha < \"2017-09-30\") & (i.Humedad <= n)].Humedad.mean()\n",
    "    if math.isnan(promedio3) == False :\n",
    "        if promedio3 != 0:\n",
    "            random.seed(42)\n",
    "            promedio3 = [randrange_float(promedio3-st, promedio3 +st, step) for p in range(e)]\n",
    "            promedio3 = np.round(promedio3,1) \n",
    "            promedio3 = pd.DataFrame(promedio3, columns={\"valor\"})  \n",
    "            i[\"Humedad\"] = np.where((i.Fecha >= \"2017-07-01\") & (i.Fecha <= \"2017-09-30\") & (i.Humedad > n), promedio3[\"valor\"], i[\"Humedad\"])\n",
    "\n",
    "    promedio4 = i[(i.Fecha > \"2017-10-01\") & (i.Fecha < \"2017-12-31\") & (i.Humedad <= n)].Humedad.mean()\n",
    "    if math.isnan(promedio4) == False :\n",
    "        if promedio4 != 0:\n",
    "            random.seed(42)\n",
    "            promedio4 = [randrange_float(promedio4-st, promedio4 +st, step) for p in range(e)]\n",
    "            promedio4 = np.round(promedio4,1) \n",
    "            promedio4 = pd.DataFrame(promedio4, columns={\"valor\"}) \n",
    "            i[\"Humedad\"] = np.where((i.Fecha >= \"2017-10-01\") & (i.Fecha <= \"2017-12-31\") & (i.Humedad > n), promedio4[\"valor\"], i[\"Humedad\"])\n",
    "\n",
    "n = 100\n",
    "st = 1\n",
    "step = 0.4\n",
    "for i in datasets: \n",
    "    e = len(i)\n",
    "    promedio = i[(i.Fecha > \"2018-01-01\") & (i.Fecha < \"2018-03-31\") & (i.Humedad <= n)].Humedad.mean()\n",
    "    if math.isnan(promedio) == False :\n",
    "        if promedio != 0:\n",
    "            random.seed(42)\n",
    "            promedio = [randrange_float(promedio-st, promedio +st, step) for p in range(e)]\n",
    "            promedio = np.round(promedio,1) \n",
    "            promedio = pd.DataFrame(promedio, columns={\"valor\"})   \n",
    "            i[\"Humedad\"] = np.where((i.Fecha >= \"2018-01-01\") & (i.Fecha <= \"2018-03-31\") & (i.Humedad > n), promedio[\"valor\"], i[\"Humedad\"])\n",
    "\n",
    "    promedio2 = i[(i.Fecha > \"2018-04-01\") & (i.Fecha < \"2018-06-30\") & (i.Humedad <= n)].Humedad.mean()\n",
    "    if math.isnan(promedio2) == False:\n",
    "        if promedio2 != 0:\n",
    "            random.seed(42)\n",
    "            promedio2 = [randrange_float(promedio2-st, promedio2 +st, step) for p in range(e)]\n",
    "            promedio2 = np.round(promedio2,1) \n",
    "            promedio2 = pd.DataFrame(promedio2, columns={\"valor\"}) \n",
    "            i[\"Humedad\"] = np.where((i.Fecha >= \"2018-04-01\") & (i.Fecha <= \"2018-06-30\") & (i.Humedad > n), promedio2[\"valor\"], i[\"Humedad\"])\n",
    "\n",
    "    promedio3 = i[(i.Fecha > \"2018-07-01\") & (i.Fecha < \"2018-09-30\") & (i.Humedad <= n)].Humedad.mean()\n",
    "    if math.isnan(promedio3) == False :\n",
    "        if promedio3 != 0:\n",
    "            random.seed(42)\n",
    "            promedio3 = [randrange_float(promedio3-st, promedio3 +st, step) for p in range(e)]\n",
    "            promedio3 = np.round(promedio3,1) \n",
    "            promedio3 = pd.DataFrame(promedio3, columns={\"valor\"})  \n",
    "            i[\"Humedad\"] = np.where((i.Fecha >= \"2018-07-01\") & (i.Fecha <= \"2018-09-30\") & (i.Humedad > n), promedio3[\"valor\"], i[\"Humedad\"])\n",
    "\n",
    "    promedio4 = i[(i.Fecha > \"2018-10-01\") & (i.Fecha < \"2018-12-31\") & (i.Humedad <= n)].Humedad.mean()\n",
    "    if math.isnan(promedio4) == False :\n",
    "        if promedio4 != 0:\n",
    "            random.seed(42)\n",
    "            promedio4 = [randrange_float(promedio4-st, promedio4 +st, step) for p in range(e)]\n",
    "            promedio4 = np.round(promedio4,1) \n",
    "            promedio4 = pd.DataFrame(promedio4, columns={\"valor\"}) \n",
    "            i[\"Humedad\"] = np.where((i.Fecha >= \"2018-10-01\") & (i.Fecha <= \"2018-12-31\") & (i.Humedad > n), promedio4[\"valor\"], i[\"Humedad\"])\n",
    "            \n",
    "n = 100\n",
    "st = 1\n",
    "step = 0.4\n",
    "for i in datasets: \n",
    "    e = len(i)\n",
    "    promedio = i[(i.Fecha > \"2019-01-01\") & (i.Fecha < \"2019-03-31\") & (i.Humedad <= n)].Humedad.mean()\n",
    "    if math.isnan(promedio) == False :\n",
    "        if promedio != 0:\n",
    "            random.seed(42)\n",
    "            promedio = [randrange_float(promedio-st, promedio +st, step) for p in range(e)]\n",
    "            promedio = np.round(promedio,1) \n",
    "            promedio = pd.DataFrame(promedio, columns={\"valor\"})   \n",
    "            i[\"Humedad\"] = np.where((i.Fecha >= \"2019-01-01\") & (i.Fecha <= \"2019-03-31\") & (i.Humedad > n), promedio[\"valor\"], i[\"Humedad\"])\n",
    "\n",
    "    promedio2 = i[(i.Fecha > \"2019-04-01\") & (i.Fecha < \"2019-06-30\") & (i.Humedad <= n)].Humedad.mean()\n",
    "    if math.isnan(promedio2) == False:\n",
    "        if promedio2 != 0:\n",
    "            random.seed(42)\n",
    "            promedio2 = [randrange_float(promedio2-st, promedio2 +st, step) for p in range(e)]\n",
    "            promedio2 = np.round(promedio2,1) \n",
    "            promedio2 = pd.DataFrame(promedio2, columns={\"valor\"}) \n",
    "            i[\"Humedad\"] = np.where((i.Fecha >= \"2019-04-01\") & (i.Fecha <= \"2019-06-30\") & (i.Humedad > n), promedio2[\"valor\"], i[\"Humedad\"])\n",
    "\n",
    "    promedio3 = i[(i.Fecha > \"2019-07-01\") & (i.Fecha < \"2019-09-30\") & (i.Humedad <= n)].Humedad.mean()\n",
    "    if math.isnan(promedio3) == False :\n",
    "        if promedio3 != 0:\n",
    "            random.seed(42)\n",
    "            promedio3 = [randrange_float(promedio3-st, promedio3 +st, step) for p in range(e)]\n",
    "            promedio3 = np.round(promedio3,1) \n",
    "            promedio3 = pd.DataFrame(promedio3, columns={\"valor\"})  \n",
    "            i[\"Humedad\"] = np.where((i.Fecha >= \"2019-07-01\") & (i.Fecha <= \"2019-09-30\") & (i.Humedad > n), promedio3[\"valor\"], i[\"Humedad\"])\n",
    "\n",
    "    promedio4 = i[(i.Fecha > \"2019-10-01\") & (i.Fecha < \"2019-12-31\") & (i.Humedad <= n)].Humedad.mean()\n",
    "    if math.isnan(promedio4) == False :\n",
    "        if promedio4 != 0:\n",
    "            random.seed(42)\n",
    "            promedio4 = [randrange_float(promedio4-st, promedio4 +st, step) for p in range(e)]\n",
    "            promedio4 = np.round(promedio4,1) \n",
    "            promedio4 = pd.DataFrame(promedio4, columns={\"valor\"}) \n",
    "            i[\"Humedad\"] = np.where((i.Fecha >= \"2019-10-01\") & (i.Fecha <= \"2019-12-31\") & (i.Humedad > n), promedio4[\"valor\"], i[\"Humedad\"])\n",
    "            \n",
    "n = 100\n",
    "st = 1\n",
    "step = 0.4\n",
    "for i in datasets: \n",
    "    e = len(i)\n",
    "    promedio = i[(i.Fecha > \"2020-01-01\") & (i.Fecha < \"2020-03-31\") & (i.Humedad <= n)].Humedad.mean()\n",
    "    if math.isnan(promedio) == False :\n",
    "        if promedio != 0:\n",
    "            random.seed(42)\n",
    "            promedio = [randrange_float(promedio-st, promedio +st, step) for p in range(e)]\n",
    "            promedio = np.round(promedio,1) \n",
    "            promedio = pd.DataFrame(promedio, columns={\"valor\"})   \n",
    "            i[\"Humedad\"] = np.where((i.Fecha >= \"2020-01-01\") & (i.Fecha <= \"2020-03-31\") & (i.Humedad > n), promedio[\"valor\"], i[\"Humedad\"])\n",
    "\n",
    "    promedio2 = i[(i.Fecha > \"2020-04-01\") & (i.Fecha < \"2020-06-30\") & (i.Humedad <= n)].Humedad.mean()\n",
    "    if math.isnan(promedio2) == False:\n",
    "        if promedio2 != 0:\n",
    "            random.seed(42)\n",
    "            promedio2 = [randrange_float(promedio2-st, promedio2 +st, step) for p in range(e)]\n",
    "            promedio2 = np.round(promedio2,1) \n",
    "            promedio2 = pd.DataFrame(promedio2, columns={\"valor\"}) \n",
    "            i[\"Humedad\"] = np.where((i.Fecha >= \"2020-04-01\") & (i.Fecha <= \"2020-06-30\") & (i.Humedad > n), promedio2[\"valor\"], i[\"Humedad\"])\n",
    "\n",
    "    promedio3 = i[(i.Fecha > \"2020-07-01\") & (i.Fecha < \"2020-09-30\") & (i.Humedad <= n)].Humedad.mean()\n",
    "    if math.isnan(promedio3) == False :\n",
    "        if promedio3 != 0:\n",
    "            random.seed(42)\n",
    "            promedio3 = [randrange_float(promedio3-st, promedio3 +st, step) for p in range(e)]\n",
    "            promedio3 = np.round(promedio3,1) \n",
    "            promedio3 = pd.DataFrame(promedio3, columns={\"valor\"})  \n",
    "            i[\"Humedad\"] = np.where((i.Fecha >= \"2020-07-01\") & (i.Fecha <= \"2020-09-30\") & (i.Humedad > n), promedio3[\"valor\"], i[\"Humedad\"])\n",
    "\n",
    "    promedio4 = i[(i.Fecha > \"2020-10-01\") & (i.Fecha < \"2020-12-31\") & (i.Humedad <= n)].Humedad.mean()\n",
    "    if math.isnan(promedio4) == False :\n",
    "        if promedio4 != 0:\n",
    "            random.seed(42)\n",
    "            promedio4 = [randrange_float(promedio4-st, promedio4 +st, step) for p in range(e)]\n",
    "            promedio4 = np.round(promedio4,1) \n",
    "            promedio4 = pd.DataFrame(promedio4, columns={\"valor\"}) \n",
    "            i[\"Humedad\"] = np.where((i.Fecha >= \"2020-10-01\") & (i.Fecha <= \"2020-12-31\") & (i.Humedad > n), promedio4[\"valor\"], i[\"Humedad\"])"
   ]
  },
  {
   "cell_type": "code",
   "execution_count": null,
   "id": "062f2d43",
   "metadata": {
    "ExecuteTime": {
     "end_time": "2022-07-25T17:15:04.704854Z",
     "start_time": "2022-07-25T17:15:00.940844Z"
    }
   },
   "outputs": [],
   "source": [
    "for i in datasets:   \n",
    "    \n",
    "    plt.figure(figsize=(25,8))\n",
    "    print(i.Estacion[0])\n",
    "    plt.plot(i.Fecha.sort_values(ascending=True), i[\"Humedad\"])  \n",
    "    plt.title(\"Humedad vs Fecha\")   \n",
    "    plt.show()"
   ]
  },
  {
   "cell_type": "markdown",
   "id": "df8913c5",
   "metadata": {},
   "source": [
    "## Radiacion"
   ]
  },
  {
   "cell_type": "code",
   "execution_count": null,
   "id": "d27a9e82",
   "metadata": {
    "ExecuteTime": {
     "end_time": "2022-07-25T17:15:14.102566Z",
     "start_time": "2022-07-25T17:15:10.205721Z"
    }
   },
   "outputs": [],
   "source": [
    "for i in datasets:   \n",
    "    \n",
    "    plt.figure(figsize=(25,8))\n",
    "    print(i.Estacion[0])\n",
    "    plt.plot(i.Fecha.sort_values(ascending=True), i[\"Radiacion\"])   \n",
    "    plt.title(\"Radiacion vs Fecha\")    \n",
    "    plt.show()"
   ]
  },
  {
   "cell_type": "code",
   "execution_count": null,
   "id": "f38cce4d",
   "metadata": {
    "ExecuteTime": {
     "end_time": "2022-07-25T17:17:06.029065Z",
     "start_time": "2022-07-25T17:15:16.021995Z"
    }
   },
   "outputs": [],
   "source": [
    "n = 1500\n",
    "st = 100\n",
    "step = 0.4\n",
    "for i in datasets: \n",
    "    e = len(i)\n",
    "    promedio = i[(i.Fecha > \"2017-01-01\") & (i.Fecha < \"2017-03-31\") & (i.Radiacion <= n)].Radiacion.mean()\n",
    "    if math.isnan(promedio) == False :\n",
    "        if promedio != 0:\n",
    "            random.seed(42)\n",
    "            promedio = [randrange_float(promedio-st, promedio +st, step) for p in range(e)]\n",
    "            promedio = np.round(promedio,1) \n",
    "            promedio = pd.DataFrame(promedio, columns={\"valor\"})   \n",
    "            i[\"Radiacion\"] = np.where((i.Fecha >= \"2017-01-01\") & (i.Fecha <= \"2017-03-31\") & (i.Radiacion > n), promedio[\"valor\"], i[\"Radiacion\"])\n",
    "\n",
    "    promedio2 = i[(i.Fecha > \"2017-04-01\") & (i.Fecha < \"2017-06-30\") & (i.Radiacion <= n)].Radiacion.mean()\n",
    "    if math.isnan(promedio2) == False:\n",
    "        if promedio2 != 0:\n",
    "            random.seed(42)\n",
    "            promedio2 = [randrange_float(promedio2-st, promedio2 +st, step) for p in range(e)]\n",
    "            promedio2 = np.round(promedio2,1) \n",
    "            promedio2 = pd.DataFrame(promedio2, columns={\"valor\"}) \n",
    "            i[\"Radiacion\"] = np.where((i.Fecha >= \"2017-04-01\") & (i.Fecha <= \"2017-06-30\") & (i.Radiacion > n), promedio2[\"valor\"], i[\"Radiacion\"])\n",
    "\n",
    "    promedio3 = i[(i.Fecha > \"2017-07-01\") & (i.Fecha < \"2017-09-30\") & (i.Radiacion <= n)].Radiacion.mean()\n",
    "    if math.isnan(promedio3) == False :\n",
    "        if promedio3 != 0:\n",
    "            random.seed(42)\n",
    "            promedio3 = [randrange_float(promedio3-st, promedio3 +st, step) for p in range(e)]\n",
    "            promedio3 = np.round(promedio3,1) \n",
    "            promedio3 = pd.DataFrame(promedio3, columns={\"valor\"})  \n",
    "            i[\"Radiacion\"] = np.where((i.Fecha >= \"2017-07-01\") & (i.Fecha <= \"2017-09-30\") & (i.Radiacion > n), promedio3[\"valor\"], i[\"Radiacion\"])\n",
    "\n",
    "    promedio4 = i[(i.Fecha > \"2017-10-01\") & (i.Fecha < \"2017-12-31\") & (i.Radiacion <= n)].Radiacion.mean()\n",
    "    if math.isnan(promedio4) == False :\n",
    "        if promedio4 != 0:\n",
    "            random.seed(42)\n",
    "            promedio4 = [randrange_float(promedio4-st, promedio4 +st, step) for p in range(e)]\n",
    "            promedio4 = np.round(promedio4,1) \n",
    "            promedio4 = pd.DataFrame(promedio4, columns={\"valor\"}) \n",
    "            i[\"Radiacion\"] = np.where((i.Fecha >= \"2017-10-01\") & (i.Fecha <= \"2017-12-31\") & (i.Radiacion > n), promedio4[\"valor\"], i[\"Radiacion\"])\n",
    "\n",
    "\n",
    "for i in datasets: \n",
    "    e = len(i)\n",
    "    promedio = i[(i.Fecha > \"2018-01-01\") & (i.Fecha < \"2018-03-31\") & (i.Radiacion <= n)].Radiacion.mean()\n",
    "    if math.isnan(promedio) == False :\n",
    "        if promedio != 0:\n",
    "            random.seed(42)\n",
    "            promedio = [randrange_float(promedio-st, promedio +st, step) for p in range(e)]\n",
    "            promedio = np.round(promedio,1) \n",
    "            promedio = pd.DataFrame(promedio, columns={\"valor\"})   \n",
    "            i[\"Radiacion\"] = np.where((i.Fecha >= \"2018-01-01\") & (i.Fecha <= \"2018-03-31\") & (i.Radiacion > n), promedio[\"valor\"], i[\"Radiacion\"])\n",
    "\n",
    "    promedio2 = i[(i.Fecha > \"2018-04-01\") & (i.Fecha < \"2018-06-30\") & (i.Radiacion <= n)].Radiacion.mean()\n",
    "    if math.isnan(promedio2) == False:\n",
    "        if promedio2 != 0:\n",
    "            random.seed(42)\n",
    "            promedio2 = [randrange_float(promedio2-st, promedio2 +st, step) for p in range(e)]\n",
    "            promedio2 = np.round(promedio2,1) \n",
    "            promedio2 = pd.DataFrame(promedio2, columns={\"valor\"}) \n",
    "            i[\"Radiacion\"] = np.where((i.Fecha >= \"2018-04-01\") & (i.Fecha <= \"2018-06-30\") & (i.Radiacion > n), promedio2[\"valor\"], i[\"Radiacion\"])\n",
    "\n",
    "    promedio3 = i[(i.Fecha > \"2018-07-01\") & (i.Fecha < \"2018-09-30\") & (i.Radiacion <= n)].Radiacion.mean()\n",
    "    if math.isnan(promedio3) == False :\n",
    "        if promedio3 != 0:\n",
    "            random.seed(42)\n",
    "            promedio3 = [randrange_float(promedio3-st, promedio3 +st, step) for p in range(e)]\n",
    "            promedio3 = np.round(promedio3,1) \n",
    "            promedio3 = pd.DataFrame(promedio3, columns={\"valor\"})  \n",
    "            i[\"Radiacion\"] = np.where((i.Fecha >= \"2018-07-01\") & (i.Fecha <= \"2018-09-30\") & (i.Radiacion > n), promedio3[\"valor\"], i[\"Radiacion\"])\n",
    "\n",
    "    promedio4 = i[(i.Fecha > \"2018-10-01\") & (i.Fecha < \"2018-12-31\") & (i.Radiacion <= n)].Radiacion.mean()\n",
    "    if math.isnan(promedio4) == False :\n",
    "        if promedio4 != 0:\n",
    "            random.seed(42)\n",
    "            promedio4 = [randrange_float(promedio4-st, promedio4 +st, step) for p in range(e)]\n",
    "            promedio4 = np.round(promedio4,1) \n",
    "            promedio4 = pd.DataFrame(promedio4, columns={\"valor\"}) \n",
    "            i[\"Radiacion\"] = np.where((i.Fecha >= \"2018-10-01\") & (i.Fecha <= \"2018-12-31\") & (i.Radiacion > n), promedio4[\"valor\"], i[\"Radiacion\"])\n",
    "            \n",
    "\n",
    "for i in datasets: \n",
    "    e = len(i)\n",
    "    promedio = i[(i.Fecha > \"2019-01-01\") & (i.Fecha < \"2019-03-31\") & (i.Radiacion <= n)].Radiacion.mean()\n",
    "    if math.isnan(promedio) == False :\n",
    "        if promedio != 0:\n",
    "            random.seed(42)\n",
    "            promedio = [randrange_float(promedio-st, promedio +st, step) for p in range(e)]\n",
    "            promedio = np.round(promedio,1) \n",
    "            promedio = pd.DataFrame(promedio, columns={\"valor\"})   \n",
    "            i[\"Radiacion\"] = np.where((i.Fecha >= \"2019-01-01\") & (i.Fecha <= \"2019-03-31\") & (i.Radiacion > n), promedio[\"valor\"], i[\"Radiacion\"])\n",
    "\n",
    "    promedio2 = i[(i.Fecha > \"2019-04-01\") & (i.Fecha < \"2019-06-30\") & (i.Radiacion <= n)].Radiacion.mean()\n",
    "    if math.isnan(promedio2) == False:\n",
    "        if promedio2 != 0:\n",
    "            random.seed(42)\n",
    "            promedio2 = [randrange_float(promedio2-st, promedio2 +st, step) for p in range(e)]\n",
    "            promedio2 = np.round(promedio2,1) \n",
    "            promedio2 = pd.DataFrame(promedio2, columns={\"valor\"}) \n",
    "            i[\"Radiacion\"] = np.where((i.Fecha >= \"2019-04-01\") & (i.Fecha <= \"2019-06-30\") & (i.Radiacion > n), promedio2[\"valor\"], i[\"Radiacion\"])\n",
    "\n",
    "    promedio3 = i[(i.Fecha > \"2019-07-01\") & (i.Fecha < \"2019-09-30\") & (i.Radiacion <= n)].Radiacion.mean()\n",
    "    if math.isnan(promedio3) == False :\n",
    "        if promedio3 != 0:\n",
    "            random.seed(42)\n",
    "            promedio3 = [randrange_float(promedio3-st, promedio3 +st, step) for p in range(e)]\n",
    "            promedio3 = np.round(promedio3,1) \n",
    "            promedio3 = pd.DataFrame(promedio3, columns={\"valor\"})  \n",
    "            i[\"Radiacion\"] = np.where((i.Fecha >= \"2019-07-01\") & (i.Fecha <= \"2019-09-30\") & (i.Radiacion > n), promedio3[\"valor\"], i[\"Radiacion\"])\n",
    "\n",
    "    promedio4 = i[(i.Fecha > \"2019-10-01\") & (i.Fecha < \"2019-12-31\") & (i.Radiacion <= n)].Radiacion.mean()\n",
    "    if math.isnan(promedio4) == False :\n",
    "        if promedio4 != 0:\n",
    "            random.seed(42)\n",
    "            promedio4 = [randrange_float(promedio4-st, promedio4 +st, step) for p in range(e)]\n",
    "            promedio4 = np.round(promedio4,1) \n",
    "            promedio4 = pd.DataFrame(promedio4, columns={\"valor\"}) \n",
    "            i[\"Radiacion\"] = np.where((i.Fecha >= \"2019-10-01\") & (i.Fecha <= \"2019-12-31\") & (i.Radiacion > n), promedio4[\"valor\"], i[\"Radiacion\"])\n",
    "\n",
    "for i in datasets: \n",
    "    e = len(i)\n",
    "    promedio = i[(i.Fecha > \"2020-01-01\") & (i.Fecha < \"2020-03-31\") & (i.Radiacion <= n)].Radiacion.mean()\n",
    "    if math.isnan(promedio) == False :\n",
    "        if promedio != 0:\n",
    "            random.seed(42)\n",
    "            promedio = [randrange_float(promedio-st, promedio +st, step) for p in range(e)]\n",
    "            promedio = np.round(promedio,1) \n",
    "            promedio = pd.DataFrame(promedio, columns={\"valor\"})   \n",
    "            i[\"Radiacion\"] = np.where((i.Fecha >= \"2020-01-01\") & (i.Fecha <= \"2020-03-31\") & (i.Radiacion > n), promedio[\"valor\"], i[\"Radiacion\"])\n",
    "\n",
    "    promedio2 = i[(i.Fecha > \"2020-04-01\") & (i.Fecha < \"2020-06-30\") & (i.Radiacion <= n)].Radiacion.mean()\n",
    "    if math.isnan(promedio2) == False:\n",
    "        if promedio2 != 0:\n",
    "            random.seed(42)\n",
    "            promedio2 = [randrange_float(promedio2-st, promedio2 +st, step) for p in range(e)]\n",
    "            promedio2 = np.round(promedio2,1) \n",
    "            promedio2 = pd.DataFrame(promedio2, columns={\"valor\"}) \n",
    "            i[\"Radiacion\"] = np.where((i.Fecha >= \"2020-04-01\") & (i.Fecha <= \"2020-06-30\") & (i.Radiacion > n), promedio2[\"valor\"], i[\"Radiacion\"])\n",
    "\n",
    "    promedio3 = i[(i.Fecha > \"2020-07-01\") & (i.Fecha < \"2020-09-30\") & (i.Radiacion <= n)].Radiacion.mean()\n",
    "    if math.isnan(promedio3) == False :\n",
    "        if promedio3 != 0:\n",
    "            random.seed(42)\n",
    "            promedio3 = [randrange_float(promedio3-st, promedio3 +st, step) for p in range(e)]\n",
    "            promedio3 = np.round(promedio3,1) \n",
    "            promedio3 = pd.DataFrame(promedio3, columns={\"valor\"})  \n",
    "            i[\"Radiacion\"] = np.where((i.Fecha >= \"2020-07-01\") & (i.Fecha <= \"2020-09-30\") & (i.Radiacion > n), promedio3[\"valor\"], i[\"Radiacion\"])\n",
    "\n",
    "    promedio4 = i[(i.Fecha > \"2020-10-01\") & (i.Fecha < \"2020-12-31\") & (i.Radiacion <= n)].Radiacion.mean()\n",
    "    if math.isnan(promedio4) == False :\n",
    "        if promedio4 != 0:\n",
    "            random.seed(42)\n",
    "            promedio4 = [randrange_float(promedio4-st, promedio4 +st, step) for p in range(e)]\n",
    "            promedio4 = np.round(promedio4,1) \n",
    "            promedio4 = pd.DataFrame(promedio4, columns={\"valor\"}) \n",
    "            i[\"Radiacion\"] = np.where((i.Fecha >= \"2020-10-01\") & (i.Fecha <= \"2020-12-31\") & (i.Radiacion > n), promedio4[\"valor\"], i[\"Radiacion\"])"
   ]
  },
  {
   "cell_type": "code",
   "execution_count": null,
   "id": "634512b4",
   "metadata": {
    "ExecuteTime": {
     "end_time": "2022-07-25T17:17:20.641145Z",
     "start_time": "2022-07-25T17:17:16.420762Z"
    }
   },
   "outputs": [],
   "source": [
    "for i in datasets:   \n",
    "    \n",
    "    plt.figure(figsize=(25,8))\n",
    "    print(i.Estacion[0])\n",
    "    plt.plot(i.Fecha.sort_values(ascending=True), i[\"Radiacion\"])  \n",
    "    plt.title(\"Radiacion vs Fecha\")    \n",
    "    plt.show()"
   ]
  },
  {
   "cell_type": "code",
   "execution_count": null,
   "id": "f280c439",
   "metadata": {
    "ExecuteTime": {
     "end_time": "2022-07-20T13:36:31.893775Z",
     "start_time": "2022-07-20T13:36:30.221946Z"
    }
   },
   "outputs": [],
   "source": [
    "for i in datasets:\n",
    "    print(\"Estacion\", i.Estacion[0]) \n",
    "    sns.boxplot(x ='Radiacion', data = i) \n",
    "    plt.show() \n",
    "    "
   ]
  },
  {
   "cell_type": "markdown",
   "id": "41e02af8",
   "metadata": {},
   "source": [
    "## Valores nulls"
   ]
  },
  {
   "cell_type": "code",
   "execution_count": null,
   "id": "6faf0ff3",
   "metadata": {
    "ExecuteTime": {
     "end_time": "2022-07-25T17:17:32.323173Z",
     "start_time": "2022-07-25T17:17:31.165832Z"
    },
    "scrolled": true
   },
   "outputs": [],
   "source": [
    "for i in datasets:\n",
    "    print(\"Estacion\",i.Estacion[0], \"\\n\")   \n",
    "    print(i.isnull().sum()) \n",
    "    print(\"\\n\")    "
   ]
  },
  {
   "cell_type": "code",
   "execution_count": null,
   "id": "9b88996f",
   "metadata": {
    "ExecuteTime": {
     "end_time": "2022-07-25T17:22:26.736667Z",
     "start_time": "2022-07-25T17:22:26.725693Z"
    }
   },
   "outputs": [],
   "source": [
    "#datasets = [alcazares, aranjuez, bosques_del_norte, chec_uribe, el_carmen, emas,hospital_caldas, la_nubia,la_palma, milan, obs_vulcanologico, palogrande,posgrados,yarumos]"
   ]
  },
  {
   "cell_type": "code",
   "execution_count": null,
   "id": "1e641d6e",
   "metadata": {
    "ExecuteTime": {
     "end_time": "2022-07-21T17:11:40.225730Z",
     "start_time": "2022-07-21T17:11:37.599498Z"
    }
   },
   "outputs": [],
   "source": [
    "\"\"\"alcazares = alcazares.sort_values(by=[\"Fecha\",\"Hora\"], ascending=[True,True]).reset_index(drop=True)  \n",
    "aranjuez = aranjuez.sort_values(by=[\"Fecha\",\"Hora\"], ascending=[True,True]).reset_index(drop=True)  \n",
    "bosques_del_norte = bosques_del_norte.sort_values(by=[\"Fecha\",\"Hora\"], ascending=[True,True]).reset_index(drop=True)  \n",
    "chec_uribe = chec_uribe.sort_values(by=[\"Fecha\",\"Hora\"], ascending=[True,True]).reset_index(drop=True)  \n",
    "el_carmen = el_carmen.sort_values(by=[\"Fecha\",\"Hora\"], ascending=[True,True]).reset_index(drop=True)  \n",
    "emas = emas.sort_values(by=[\"Fecha\",\"Hora\"], ascending=[True,True]).reset_index(drop=True)  \n",
    "hospital_caldas = hospital_caldas.sort_values(by=[\"Fecha\",\"Hora\"], ascending=[True,True]).reset_index(drop=True)\n",
    "la_nubia = la_nubia.sort_values(by=[\"Fecha\",\"Hora\"], ascending=[True,True]).reset_index(drop=True)\n",
    "la_palma = la_palma.sort_values(by=[\"Fecha\",\"Hora\"], ascending=[True,True]).reset_index(drop=True) \n",
    "milan = milan.sort_values(by=[\"Fecha\",\"Hora\"], ascending=[True,True]).reset_index(drop=True)  \n",
    "obs_vulcanologico = obs_vulcanologico.sort_values(by=[\"Fecha\",\"Hora\"], ascending=[True,True]).reset_index(drop=True)  \n",
    "palogrande = palogrande.sort_values(by=[\"Fecha\",\"Hora\"], ascending=[True,True]).reset_index(drop=True)  \n",
    "posgrados = aranjuez.sort_values(by=[\"Fecha\",\"Hora\"], ascending=[True,True]).reset_index(drop=True)  \n",
    "yarumos = yarumos.sort_values(by=[\"Fecha\",\"Hora\"], ascending=[True,True]).reset_index(drop=True)   \"\"\""
   ]
  },
  {
   "cell_type": "code",
   "execution_count": null,
   "id": "e7d2d942",
   "metadata": {
    "ExecuteTime": {
     "end_time": "2022-07-25T17:21:41.040908Z",
     "start_time": "2022-07-25T17:21:41.013821Z"
    },
    "scrolled": false
   },
   "outputs": [],
   "source": [
    "alcazares[alcazares.Fecha == \"2018-12-22\"].head(20) "
   ]
  },
  {
   "cell_type": "code",
   "execution_count": null,
   "id": "051418a5",
   "metadata": {
    "ExecuteTime": {
     "end_time": "2022-07-25T17:22:15.372692Z",
     "start_time": "2022-07-25T17:22:15.364692Z"
    }
   },
   "outputs": [],
   "source": [
    "datasetss = [alcazares, aranjuez, bosques_del_norte, chec_uribe, el_carmen, emas,hospital_caldas, la_nubia,la_palma, milan, obs_vulcanologico,posgrados,yarumos]"
   ]
  },
  {
   "cell_type": "code",
   "execution_count": null,
   "id": "bf629dd2",
   "metadata": {
    "ExecuteTime": {
     "end_time": "2022-07-25T17:22:45.690916Z",
     "start_time": "2022-07-25T17:22:45.300912Z"
    }
   },
   "outputs": [],
   "source": [
    "data = pd.concat(datasetss) "
   ]
  },
  {
   "cell_type": "code",
   "execution_count": null,
   "id": "8178ce0c",
   "metadata": {
    "ExecuteTime": {
     "end_time": "2022-07-21T17:12:18.923530Z",
     "start_time": "2022-07-21T17:12:18.686231Z"
    }
   },
   "outputs": [],
   "source": [
    "data.Estacion.unique() "
   ]
  },
  {
   "cell_type": "code",
   "execution_count": null,
   "id": "08dc5169",
   "metadata": {
    "ExecuteTime": {
     "end_time": "2022-07-25T17:22:48.686541Z",
     "start_time": "2022-07-25T17:22:48.669525Z"
    }
   },
   "outputs": [],
   "source": [
    "data "
   ]
  },
  {
   "cell_type": "code",
   "execution_count": null,
   "id": "6fce86e9",
   "metadata": {
    "ExecuteTime": {
     "end_time": "2022-07-25T17:25:32.684493Z",
     "start_time": "2022-07-25T17:24:29.774121Z"
    }
   },
   "outputs": [],
   "source": [
    "data.to_csv('C:/Users/pulzara/Documents/Universidad internacional de valencia/TFM/base de datos/SIMAC organizados/BD2/data.txt', sep = '|', index=False, header=True)"
   ]
  },
  {
   "cell_type": "code",
   "execution_count": null,
   "id": "c4dbc962",
   "metadata": {
    "ExecuteTime": {
     "end_time": "2022-07-25T17:24:18.821507Z",
     "start_time": "2022-07-25T17:24:18.460537Z"
    }
   },
   "outputs": [],
   "source": [
    "data[(data.Estacion == \"aranjuez\")].Precipitacion.plot()  "
   ]
  },
  {
   "cell_type": "code",
   "execution_count": null,
   "id": "34c44301",
   "metadata": {},
   "outputs": [],
   "source": []
  }
 ],
 "metadata": {
  "hide_input": false,
  "kernelspec": {
   "display_name": "Python 3 (ipykernel)",
   "language": "python",
   "name": "python3"
  },
  "language_info": {
   "codemirror_mode": {
    "name": "ipython",
    "version": 3
   },
   "file_extension": ".py",
   "mimetype": "text/x-python",
   "name": "python",
   "nbconvert_exporter": "python",
   "pygments_lexer": "ipython3",
   "version": "3.8.12"
  },
  "toc": {
   "base_numbering": 1,
   "nav_menu": {},
   "number_sections": true,
   "sideBar": true,
   "skip_h1_title": false,
   "title_cell": "Table of Contents",
   "title_sidebar": "Contents",
   "toc_cell": false,
   "toc_position": {
    "height": "calc(100% - 180px)",
    "left": "10px",
    "top": "150px",
    "width": "384px"
   },
   "toc_section_display": true,
   "toc_window_display": false
  },
  "varInspector": {
   "cols": {
    "lenName": 16,
    "lenType": 16,
    "lenVar": 40
   },
   "kernels_config": {
    "python": {
     "delete_cmd_postfix": "",
     "delete_cmd_prefix": "del ",
     "library": "var_list.py",
     "varRefreshCmd": "print(var_dic_list())"
    },
    "r": {
     "delete_cmd_postfix": ") ",
     "delete_cmd_prefix": "rm(",
     "library": "var_list.r",
     "varRefreshCmd": "cat(var_dic_list()) "
    }
   },
   "types_to_exclude": [
    "module",
    "function",
    "builtin_function_or_method",
    "instance",
    "_Feature"
   ],
   "window_display": false
  }
 },
 "nbformat": 4,
 "nbformat_minor": 5
}
