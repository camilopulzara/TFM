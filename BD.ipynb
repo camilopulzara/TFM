{
 "cells": [
  {
   "cell_type": "code",
   "execution_count": 1,
   "id": "869445d6",
   "metadata": {
    "ExecuteTime": {
     "end_time": "2022-07-16T14:41:23.779190Z",
     "start_time": "2022-07-16T14:41:23.758191Z"
    }
   },
   "outputs": [
    {
     "name": "stderr",
     "output_type": "stream",
     "text": [
      "C:\\Users\\pulzara\\AppData\\Local\\Temp\\ipykernel_5756\\495279268.py:1: DeprecationWarning: Importing display from IPython.core.display is deprecated since IPython 7.14, please import from IPython display\n",
      "  from IPython.core.display import display, HTML\n"
     ]
    },
    {
     "data": {
      "text/html": [
       "<style>.container { width:85% !important; }</style>"
      ],
      "text/plain": [
       "<IPython.core.display.HTML object>"
      ]
     },
     "metadata": {},
     "output_type": "display_data"
    }
   ],
   "source": [
    "from IPython.core.display import display, HTML\n",
    "display(HTML(\"<style>.container { width:85% !important; }</style>\"))"
   ]
  },
  {
   "cell_type": "code",
   "execution_count": 2,
   "id": "eb0cd37a",
   "metadata": {
    "ExecuteTime": {
     "end_time": "2022-07-16T14:41:24.613381Z",
     "start_time": "2022-07-16T14:41:24.316064Z"
    }
   },
   "outputs": [],
   "source": [
    "import numpy as np\n",
    "import pandas as pd\n",
    "\n",
    "\n",
    "import warnings\n",
    "warnings.filterwarnings(\"ignore\")\n",
    "\n",
    "import logging\n",
    "logging.getLogger('fbprophet').setLevel(logging.WARNING)\n",
    "\n",
    "\n",
    "import gc"
   ]
  },
  {
   "cell_type": "markdown",
   "id": "f7412718",
   "metadata": {},
   "source": [
    "## Alcazares"
   ]
  },
  {
   "cell_type": "code",
   "execution_count": 129,
   "id": "945ebb10",
   "metadata": {
    "ExecuteTime": {
     "end_time": "2022-07-16T15:11:55.930512Z",
     "start_time": "2022-07-16T15:11:54.582858Z"
    },
    "scrolled": false
   },
   "outputs": [],
   "source": [
    "alcazares_2010 = pd.read_csv('C:/Users/pulzara/Documents/Universidad internacional de valencia/TFM/base de datos/SIMAC organizados/alcazarez/2010_alcazares.csv',encoding=\"utf-8\", header=2)\n",
    "alcazares_2011 = pd.read_csv('C:/Users/pulzara/Documents/Universidad internacional de valencia/TFM/base de datos/SIMAC organizados/alcazarez/2011_alcazares.csv',encoding=\"utf-8\", header=2)    \n",
    "alcazares_2012 = pd.read_csv('C:/Users/pulzara/Documents/Universidad internacional de valencia/TFM/base de datos/SIMAC organizados/alcazarez/2012_alcazares.csv',encoding=\"utf-8\", header=2)    \n",
    "alcazares_2013 = pd.read_csv('C:/Users/pulzara/Documents/Universidad internacional de valencia/TFM/base de datos/SIMAC organizados/alcazarez/2013_alcazares.csv',encoding=\"utf-8\", header=2)    \n",
    "alcazares_2014 = pd.read_csv('C:/Users/pulzara/Documents/Universidad internacional de valencia/TFM/base de datos/SIMAC organizados/alcazarez/2014_alcazares.csv',encoding=\"utf-8\", header=2)    \n",
    "alcazares_2015 = pd.read_csv('C:/Users/pulzara/Documents/Universidad internacional de valencia/TFM/base de datos/SIMAC organizados/alcazarez/2015_alcazares.csv',encoding=\"utf-8\", header=2)    \n",
    "alcazares_2016 = pd.read_csv('C:/Users/pulzara/Documents/Universidad internacional de valencia/TFM/base de datos/SIMAC organizados/alcazarez/2016_alcazares.csv',encoding=\"utf-8\", header=2)    \n",
    "alcazares_2017 = pd.read_csv('C:/Users/pulzara/Documents/Universidad internacional de valencia/TFM/base de datos/SIMAC organizados/alcazarez/2017_alcazares.csv',encoding=\"utf-8\", header=2)    \n",
    "alcazares_2018 = pd.read_csv('C:/Users/pulzara/Documents/Universidad internacional de valencia/TFM/base de datos/SIMAC organizados/alcazarez/2018_alcazares.csv',encoding=\"utf-8\", header=2)    \n",
    "alcazares_2019 = pd.read_csv('C:/Users/pulzara/Documents/Universidad internacional de valencia/TFM/base de datos/SIMAC organizados/alcazarez/2019_alcazares.csv',encoding=\"utf-8\", header=2)    \n",
    "alcazares_2020 = pd.read_csv('C:/Users/pulzara/Documents/Universidad internacional de valencia/TFM/base de datos/SIMAC organizados/alcazarez/2020_alcazares.csv',encoding=\"utf-8\", header=2)    "
   ]
  },
  {
   "cell_type": "code",
   "execution_count": 130,
   "id": "54503e21",
   "metadata": {
    "ExecuteTime": {
     "end_time": "2022-07-16T15:11:56.908499Z",
     "start_time": "2022-07-16T15:11:56.894051Z"
    }
   },
   "outputs": [],
   "source": [
    "alcazares_2010.columns = alcazares_2010.columns.str.strip()\n",
    "alcazares_2011.columns = alcazares_2011.columns.str.strip()\n",
    "alcazares_2012.columns = alcazares_2012.columns.str.strip()\n",
    "alcazares_2013.columns = alcazares_2013.columns.str.strip()\n",
    "alcazares_2014.columns = alcazares_2014.columns.str.strip()\n",
    "alcazares_2015.columns = alcazares_2015.columns.str.strip()\n",
    "alcazares_2016.columns = alcazares_2016.columns.str.strip()\n",
    "alcazares_2017.columns = alcazares_2017.columns.str.strip()\n",
    "alcazares_2018.columns = alcazares_2018.columns.str.strip()\n",
    "alcazares_2019.columns = alcazares_2019.columns.str.strip()\n",
    "alcazares_2020.columns = alcazares_2020.columns.str.strip()"
   ]
  },
  {
   "cell_type": "code",
   "execution_count": 131,
   "id": "463001b8",
   "metadata": {
    "ExecuteTime": {
     "end_time": "2022-07-16T15:11:57.994260Z",
     "start_time": "2022-07-16T15:11:57.873332Z"
    }
   },
   "outputs": [],
   "source": [
    "alcazares = pd.concat([alcazares_2010, alcazares_2011, alcazares_2012,alcazares_2013,alcazares_2014,alcazares_2015,alcazares_2016,alcazares_2017,\n",
    "                      alcazares_2018,alcazares_2019, alcazares_2020], axis = 0)"
   ]
  },
  {
   "cell_type": "code",
   "execution_count": 132,
   "id": "226a516e",
   "metadata": {
    "ExecuteTime": {
     "end_time": "2022-07-16T15:11:59.219344Z",
     "start_time": "2022-07-16T15:11:58.936068Z"
    }
   },
   "outputs": [],
   "source": [
    "alcazares = alcazares[['Fecha', 'Hora', 'Temperatura(ºC)', 'Velocidad(m/s)', 'Direccion(º)', 'Presion(mmHg)', 'Humedad(%)',\n",
    "                       'Precipitacion(mm)', 'Radiacion(W/m^2)','Evapotranspiracion(mm)','Precipitacion_Real', 'Evapo_real(mm)']]"
   ]
  },
  {
   "cell_type": "code",
   "execution_count": 133,
   "id": "ce13e7e9",
   "metadata": {
    "ExecuteTime": {
     "end_time": "2022-07-16T15:12:00.176683Z",
     "start_time": "2022-07-16T15:12:00.162684Z"
    }
   },
   "outputs": [
    {
     "data": {
      "text/html": [
       "<div>\n",
       "<style scoped>\n",
       "    .dataframe tbody tr th:only-of-type {\n",
       "        vertical-align: middle;\n",
       "    }\n",
       "\n",
       "    .dataframe tbody tr th {\n",
       "        vertical-align: top;\n",
       "    }\n",
       "\n",
       "    .dataframe thead th {\n",
       "        text-align: right;\n",
       "    }\n",
       "</style>\n",
       "<table border=\"1\" class=\"dataframe\">\n",
       "  <thead>\n",
       "    <tr style=\"text-align: right;\">\n",
       "      <th></th>\n",
       "      <th>Fecha</th>\n",
       "      <th>Hora</th>\n",
       "      <th>Temperatura(ºC)</th>\n",
       "      <th>Velocidad(m/s)</th>\n",
       "      <th>Direccion(º)</th>\n",
       "      <th>Presion(mmHg)</th>\n",
       "      <th>Humedad(%)</th>\n",
       "      <th>Precipitacion(mm)</th>\n",
       "      <th>Radiacion(W/m^2)</th>\n",
       "      <th>Evapotranspiracion(mm)</th>\n",
       "      <th>Precipitacion_Real</th>\n",
       "      <th>Evapo_real(mm)</th>\n",
       "    </tr>\n",
       "  </thead>\n",
       "  <tbody>\n",
       "    <tr>\n",
       "      <th>0</th>\n",
       "      <td>11/03/2010</td>\n",
       "      <td>14:51:02</td>\n",
       "      <td>1802.61</td>\n",
       "      <td>113.98</td>\n",
       "      <td>32767</td>\n",
       "      <td>592.25</td>\n",
       "      <td>255</td>\n",
       "      <td>0.0</td>\n",
       "      <td>32767</td>\n",
       "      <td>0.0</td>\n",
       "      <td>0.0</td>\n",
       "      <td>0.0</td>\n",
       "    </tr>\n",
       "    <tr>\n",
       "      <th>1</th>\n",
       "      <td>11/03/2010</td>\n",
       "      <td>14:51:09</td>\n",
       "      <td>1802.61</td>\n",
       "      <td>113.98</td>\n",
       "      <td>32767</td>\n",
       "      <td>592.25</td>\n",
       "      <td>255</td>\n",
       "      <td>0.0</td>\n",
       "      <td>32767</td>\n",
       "      <td>0.0</td>\n",
       "      <td>0.0</td>\n",
       "      <td>0.0</td>\n",
       "    </tr>\n",
       "    <tr>\n",
       "      <th>2</th>\n",
       "      <td>11/03/2010</td>\n",
       "      <td>14:51:19</td>\n",
       "      <td>1802.61</td>\n",
       "      <td>113.98</td>\n",
       "      <td>32767</td>\n",
       "      <td>592.25</td>\n",
       "      <td>255</td>\n",
       "      <td>0.0</td>\n",
       "      <td>32767</td>\n",
       "      <td>0.0</td>\n",
       "      <td>0.0</td>\n",
       "      <td>0.0</td>\n",
       "    </tr>\n",
       "  </tbody>\n",
       "</table>\n",
       "</div>"
      ],
      "text/plain": [
       "        Fecha      Hora Temperatura(ºC) Velocidad(m/s) Direccion(º)  \\\n",
       "0  11/03/2010  14:51:02         1802.61         113.98        32767   \n",
       "1  11/03/2010  14:51:09         1802.61         113.98        32767   \n",
       "2  11/03/2010  14:51:19         1802.61         113.98        32767   \n",
       "\n",
       "  Presion(mmHg) Humedad(%) Precipitacion(mm) Radiacion(W/m^2)  \\\n",
       "0        592.25        255               0.0            32767   \n",
       "1        592.25        255               0.0            32767   \n",
       "2        592.25        255               0.0            32767   \n",
       "\n",
       "  Evapotranspiracion(mm) Precipitacion_Real Evapo_real(mm)  \n",
       "0                    0.0                0.0            0.0  \n",
       "1                    0.0                0.0            0.0  \n",
       "2                    0.0                0.0            0.0  "
      ]
     },
     "execution_count": 133,
     "metadata": {},
     "output_type": "execute_result"
    }
   ],
   "source": [
    "alcazares.head(3)"
   ]
  },
  {
   "cell_type": "code",
   "execution_count": 10,
   "id": "3863ef56",
   "metadata": {
    "ExecuteTime": {
     "end_time": "2022-07-16T14:43:14.898630Z",
     "start_time": "2022-07-16T14:43:14.877629Z"
    },
    "scrolled": true
   },
   "outputs": [
    {
     "data": {
      "text/plain": [
       "Index(['Fecha', 'Hora', 'Temperatura(ºC)', 'Velocidad(m/s)', 'Direccion(º)',\n",
       "       'Presion(mmHg)', 'Humedad(%)', 'Precipitacion(mm)', 'Radiacion(W/m^2)',\n",
       "       'Evapotranspiracion(mm)', 'Precipitacion_Real', 'Evapo_real(mm)'],\n",
       "      dtype='object')"
      ]
     },
     "execution_count": 10,
     "metadata": {},
     "output_type": "execute_result"
    }
   ],
   "source": [
    "alcazares.columns"
   ]
  },
  {
   "cell_type": "code",
   "execution_count": 134,
   "id": "2e0438cf",
   "metadata": {
    "ExecuteTime": {
     "end_time": "2022-07-16T15:12:10.382621Z",
     "start_time": "2022-07-16T15:12:05.638462Z"
    }
   },
   "outputs": [],
   "source": [
    "alcazares = alcazares.replace(\"-\", np.nan)\n",
    "alcazares = alcazares.apply(lambda x: x.str.replace(',',''))"
   ]
  },
  {
   "cell_type": "code",
   "execution_count": 137,
   "id": "6099d5db",
   "metadata": {
    "ExecuteTime": {
     "end_time": "2022-07-16T15:12:46.758981Z",
     "start_time": "2022-07-16T15:12:44.022254Z"
    }
   },
   "outputs": [],
   "source": [
    "alcazares.to_csv('C:/Users/pulzara/Documents/Universidad internacional de valencia/TFM/base de datos/SIMAC organizados/BD2/alcazares.txt', sep = '|', index=False, header=True)"
   ]
  },
  {
   "cell_type": "code",
   "execution_count": 136,
   "id": "2f53af10",
   "metadata": {
    "ExecuteTime": {
     "end_time": "2022-07-16T15:12:32.521315Z",
     "start_time": "2022-07-16T15:12:32.510363Z"
    }
   },
   "outputs": [],
   "source": [
    "#d = pd.read_table('C:/Users/pulzara/Documents/Universidad internacional de valencia/TFM/base de datos/SIMAC organizados/BD/alcazares.txt',delimiter = '|') \n"
   ]
  },
  {
   "cell_type": "markdown",
   "id": "0553b831",
   "metadata": {},
   "source": [
    "## Aranjuez"
   ]
  },
  {
   "cell_type": "code",
   "execution_count": 138,
   "id": "71bbe680",
   "metadata": {
    "ExecuteTime": {
     "end_time": "2022-07-16T15:12:53.689703Z",
     "start_time": "2022-07-16T15:12:52.238778Z"
    }
   },
   "outputs": [],
   "source": [
    "aranjuez_2010 = pd.read_csv('C:/Users/pulzara/Documents/Universidad internacional de valencia/TFM/base de datos/SIMAC organizados/aranjuez/2010_aranjuez.csv',encoding=\"utf-8\", header=2)\n",
    "aranjuez_2010_2 = pd.read_csv('C:/Users/pulzara/Documents/Universidad internacional de valencia/TFM/base de datos/SIMAC organizados/aranjuez/2010_aranjuez_2.csv',encoding=\"utf-8\", header=2)\n",
    "aranjuez_2011 = pd.read_csv('C:/Users/pulzara/Documents/Universidad internacional de valencia/TFM/base de datos/SIMAC organizados/aranjuez/2011_aranjuez.csv',encoding=\"utf-8\", header=2)    \n",
    "aranjuez_2012 = pd.read_csv('C:/Users/pulzara/Documents/Universidad internacional de valencia/TFM/base de datos/SIMAC organizados/aranjuez/2012_aranjuez.csv',encoding=\"utf-8\", header=2)    \n",
    "aranjuez_2013 = pd.read_csv('C:/Users/pulzara/Documents/Universidad internacional de valencia/TFM/base de datos/SIMAC organizados/aranjuez/2013_aranjuez.csv',encoding=\"utf-8\", header=2)    \n",
    "aranjuez_2014 = pd.read_csv('C:/Users/pulzara/Documents/Universidad internacional de valencia/TFM/base de datos/SIMAC organizados/aranjuez/2014_aranjuez.csv',encoding=\"utf-8\", header=2)    \n",
    "aranjuez_2015 = pd.read_csv('C:/Users/pulzara/Documents/Universidad internacional de valencia/TFM/base de datos/SIMAC organizados/aranjuez/2015_aranjuez.csv',encoding=\"utf-8\", header=2)    \n",
    "aranjuez_2016 = pd.read_csv('C:/Users/pulzara/Documents/Universidad internacional de valencia/TFM/base de datos/SIMAC organizados/aranjuez/2016_aranjuez.csv',encoding=\"utf-8\", header=2)    \n",
    "aranjuez_2017 = pd.read_csv('C:/Users/pulzara/Documents/Universidad internacional de valencia/TFM/base de datos/SIMAC organizados/aranjuez/2017_aranjuez.csv',encoding=\"utf-8\", header=2)    \n",
    "aranjuez_2018 = pd.read_csv('C:/Users/pulzara/Documents/Universidad internacional de valencia/TFM/base de datos/SIMAC organizados/aranjuez/2018_aranjuez.csv',encoding=\"utf-8\", header=2)    \n",
    "aranjuez_2019 = pd.read_csv('C:/Users/pulzara/Documents/Universidad internacional de valencia/TFM/base de datos/SIMAC organizados/aranjuez/2019_aranjuez.csv',encoding=\"utf-8\", header=2)    \n",
    "aranjuez_2020 = pd.read_csv('C:/Users/pulzara/Documents/Universidad internacional de valencia/TFM/base de datos/SIMAC organizados/aranjuez/2020_aranjuez.csv',encoding=\"utf-8\", header=2)    "
   ]
  },
  {
   "cell_type": "code",
   "execution_count": 139,
   "id": "be04574b",
   "metadata": {
    "ExecuteTime": {
     "end_time": "2022-07-16T15:12:54.671859Z",
     "start_time": "2022-07-16T15:12:54.655826Z"
    }
   },
   "outputs": [],
   "source": [
    "aranjuez_2010.columns = aranjuez_2010.columns.str.strip()\n",
    "aranjuez_2010_2.columns = aranjuez_2010_2.columns.str.strip()\n",
    "aranjuez_2011.columns = aranjuez_2011.columns.str.strip()\n",
    "aranjuez_2012.columns = aranjuez_2012.columns.str.strip()\n",
    "aranjuez_2013.columns = aranjuez_2013.columns.str.strip()\n",
    "aranjuez_2014.columns = aranjuez_2014.columns.str.strip()\n",
    "aranjuez_2015.columns = aranjuez_2015.columns.str.strip()\n",
    "aranjuez_2016.columns = aranjuez_2016.columns.str.strip()\n",
    "aranjuez_2017.columns = aranjuez_2017.columns.str.strip()\n",
    "aranjuez_2018.columns = aranjuez_2018.columns.str.strip()\n",
    "aranjuez_2019.columns = aranjuez_2019.columns.str.strip()\n",
    "aranjuez_2020.columns = aranjuez_2020.columns.str.strip()"
   ]
  },
  {
   "cell_type": "code",
   "execution_count": 140,
   "id": "d619c677",
   "metadata": {
    "ExecuteTime": {
     "end_time": "2022-07-16T15:12:55.761013Z",
     "start_time": "2022-07-16T15:12:55.647759Z"
    }
   },
   "outputs": [],
   "source": [
    "aranjuez = pd.concat([aranjuez_2010,aranjuez_2010_2,aranjuez_2011,aranjuez_2012,aranjuez_2013,aranjuez_2014,aranjuez_2015,\n",
    "                      aranjuez_2016,aranjuez_2017,aranjuez_2018,aranjuez_2019,aranjuez_2020], axis = 0)"
   ]
  },
  {
   "cell_type": "code",
   "execution_count": 141,
   "id": "26b25a8c",
   "metadata": {
    "ExecuteTime": {
     "end_time": "2022-07-16T15:12:57.017183Z",
     "start_time": "2022-07-16T15:12:56.709045Z"
    }
   },
   "outputs": [],
   "source": [
    "aranjuez = aranjuez[['Fecha', 'Hora', 'Temperatura(ºC)', 'Velocidad(m/s)', 'Direccion(º)', 'Presion(mmHg)', 'Humedad(%)',\n",
    "                       'Precipitacion(mm)', 'Radiacion(W/m^2)','Evapotranspiracion(mm)','Precipitacion_Real', 'Evapo_real(mm)']]"
   ]
  },
  {
   "cell_type": "code",
   "execution_count": 142,
   "id": "eaff900e",
   "metadata": {
    "ExecuteTime": {
     "end_time": "2022-07-16T15:13:28.009132Z",
     "start_time": "2022-07-16T15:13:27.998141Z"
    }
   },
   "outputs": [
    {
     "data": {
      "text/html": [
       "<div>\n",
       "<style scoped>\n",
       "    .dataframe tbody tr th:only-of-type {\n",
       "        vertical-align: middle;\n",
       "    }\n",
       "\n",
       "    .dataframe tbody tr th {\n",
       "        vertical-align: top;\n",
       "    }\n",
       "\n",
       "    .dataframe thead th {\n",
       "        text-align: right;\n",
       "    }\n",
       "</style>\n",
       "<table border=\"1\" class=\"dataframe\">\n",
       "  <thead>\n",
       "    <tr style=\"text-align: right;\">\n",
       "      <th></th>\n",
       "      <th>Fecha</th>\n",
       "      <th>Hora</th>\n",
       "      <th>Temperatura(ºC)</th>\n",
       "      <th>Velocidad(m/s)</th>\n",
       "      <th>Direccion(º)</th>\n",
       "      <th>Presion(mmHg)</th>\n",
       "      <th>Humedad(%)</th>\n",
       "      <th>Precipitacion(mm)</th>\n",
       "      <th>Radiacion(W/m^2)</th>\n",
       "      <th>Evapotranspiracion(mm)</th>\n",
       "      <th>Precipitacion_Real</th>\n",
       "      <th>Evapo_real(mm)</th>\n",
       "    </tr>\n",
       "  </thead>\n",
       "  <tbody>\n",
       "    <tr>\n",
       "      <th>0</th>\n",
       "      <td>1/01/2010</td>\n",
       "      <td>0:01:16</td>\n",
       "      <td>1802.61</td>\n",
       "      <td>113.98</td>\n",
       "      <td>32767</td>\n",
       "      <td>606.25</td>\n",
       "      <td>255</td>\n",
       "      <td>0.0</td>\n",
       "      <td>32767</td>\n",
       "      <td>0.0</td>\n",
       "      <td>0.0</td>\n",
       "      <td>0.0</td>\n",
       "    </tr>\n",
       "    <tr>\n",
       "      <th>1</th>\n",
       "      <td>1/01/2010</td>\n",
       "      <td>0:06:16</td>\n",
       "      <td>1802.61</td>\n",
       "      <td>113.98</td>\n",
       "      <td>32767</td>\n",
       "      <td>606.25</td>\n",
       "      <td>255</td>\n",
       "      <td>0.0</td>\n",
       "      <td>32767</td>\n",
       "      <td>0.0</td>\n",
       "      <td>0.0</td>\n",
       "      <td>0.0</td>\n",
       "    </tr>\n",
       "    <tr>\n",
       "      <th>2</th>\n",
       "      <td>1/01/2010</td>\n",
       "      <td>0:11:17</td>\n",
       "      <td>1802.61</td>\n",
       "      <td>113.98</td>\n",
       "      <td>32767</td>\n",
       "      <td>606.25</td>\n",
       "      <td>255</td>\n",
       "      <td>0.0</td>\n",
       "      <td>32767</td>\n",
       "      <td>0.0</td>\n",
       "      <td>0.0</td>\n",
       "      <td>0.0</td>\n",
       "    </tr>\n",
       "  </tbody>\n",
       "</table>\n",
       "</div>"
      ],
      "text/plain": [
       "       Fecha     Hora Temperatura(ºC) Velocidad(m/s) Direccion(º)  \\\n",
       "0  1/01/2010  0:01:16         1802.61         113.98        32767   \n",
       "1  1/01/2010  0:06:16         1802.61         113.98        32767   \n",
       "2  1/01/2010  0:11:17         1802.61         113.98        32767   \n",
       "\n",
       "  Presion(mmHg) Humedad(%) Precipitacion(mm) Radiacion(W/m^2)  \\\n",
       "0        606.25        255               0.0            32767   \n",
       "1        606.25        255               0.0            32767   \n",
       "2        606.25        255               0.0            32767   \n",
       "\n",
       "  Evapotranspiracion(mm) Precipitacion_Real Evapo_real(mm)  \n",
       "0                    0.0                0.0            0.0  \n",
       "1                    0.0                0.0            0.0  \n",
       "2                    0.0                0.0            0.0  "
      ]
     },
     "execution_count": 142,
     "metadata": {},
     "output_type": "execute_result"
    }
   ],
   "source": [
    "aranjuez.head(3)"
   ]
  },
  {
   "cell_type": "code",
   "execution_count": 143,
   "id": "67ac0293",
   "metadata": {
    "ExecuteTime": {
     "end_time": "2022-07-16T15:13:39.014105Z",
     "start_time": "2022-07-16T15:13:34.285209Z"
    }
   },
   "outputs": [],
   "source": [
    "aranjuez = aranjuez.replace(\"-\", np.nan)\n",
    "aranjuez = aranjuez.apply(lambda x: x.str.replace(',',''))"
   ]
  },
  {
   "cell_type": "code",
   "execution_count": 28,
   "id": "1770ae34",
   "metadata": {
    "ExecuteTime": {
     "end_time": "2022-07-16T14:52:06.225129Z",
     "start_time": "2022-07-16T14:52:06.221137Z"
    }
   },
   "outputs": [],
   "source": [
    "#print(aranjuez[\"Precipitacion(mm)\"].unique().tolist())"
   ]
  },
  {
   "cell_type": "code",
   "execution_count": 144,
   "id": "0f8cd430",
   "metadata": {
    "ExecuteTime": {
     "end_time": "2022-07-16T15:13:48.894304Z",
     "start_time": "2022-07-16T15:13:46.142524Z"
    }
   },
   "outputs": [],
   "source": [
    "aranjuez.to_csv('C:/Users/pulzara/Documents/Universidad internacional de valencia/TFM/base de datos/SIMAC organizados/BD2/aranjuez.txt', sep = '|', index=False, header=True)"
   ]
  },
  {
   "cell_type": "markdown",
   "id": "4c4ff7ac",
   "metadata": {},
   "source": [
    "## Bosques del norte"
   ]
  },
  {
   "cell_type": "code",
   "execution_count": 145,
   "id": "782249d1",
   "metadata": {
    "ExecuteTime": {
     "end_time": "2022-07-16T15:13:55.921991Z",
     "start_time": "2022-07-16T15:13:54.446382Z"
    }
   },
   "outputs": [],
   "source": [
    "bosques_del_norte_2010_1 = pd.read_csv('C:/Users/pulzara/Documents/Universidad internacional de valencia/TFM/base de datos/SIMAC organizados/bosques del norte/2010_bosques_del_norte_1.csv',encoding=\"utf-8\", header=2)\n",
    "bosques_del_norte_2010_2 = pd.read_csv('C:/Users/pulzara/Documents/Universidad internacional de valencia/TFM/base de datos/SIMAC organizados/bosques del norte/2010_bosques_del_norte_2.csv',encoding=\"utf-8\", header=2)\n",
    "bosques_del_norte_2011 = pd.read_csv('C:/Users/pulzara/Documents/Universidad internacional de valencia/TFM/base de datos/SIMAC organizados/bosques del norte/2011_bosques_del_norte.csv',encoding=\"utf-8\", header=2)    \n",
    "bosques_del_norte_2012 = pd.read_csv('C:/Users/pulzara/Documents/Universidad internacional de valencia/TFM/base de datos/SIMAC organizados/bosques del norte/2012_bosques_del_norte.csv',encoding=\"utf-8\", header=2)    \n",
    "bosques_del_norte_2013 = pd.read_csv('C:/Users/pulzara/Documents/Universidad internacional de valencia/TFM/base de datos/SIMAC organizados/bosques del norte/2013_bosques_del_norte.csv',encoding=\"utf-8\", header=2)    \n",
    "bosques_del_norte_2014 = pd.read_csv('C:/Users/pulzara/Documents/Universidad internacional de valencia/TFM/base de datos/SIMAC organizados/bosques del norte/2014_bosques_del_norte.csv',encoding=\"utf-8\", header=2)    \n",
    "bosques_del_norte_2015 = pd.read_csv('C:/Users/pulzara/Documents/Universidad internacional de valencia/TFM/base de datos/SIMAC organizados/bosques del norte/2015_bosques_del_norte.csv',encoding=\"utf-8\", header=2)    \n",
    "bosques_del_norte_2016 = pd.read_csv('C:/Users/pulzara/Documents/Universidad internacional de valencia/TFM/base de datos/SIMAC organizados/bosques del norte/2016_bosques_del_norte.csv',encoding=\"utf-8\", header=2)    \n",
    "bosques_del_norte_2017 = pd.read_csv('C:/Users/pulzara/Documents/Universidad internacional de valencia/TFM/base de datos/SIMAC organizados/bosques del norte/2017_bosques_del_norte.csv',encoding=\"utf-8\", header=2)    \n",
    "bosques_del_norte_2018 = pd.read_csv('C:/Users/pulzara/Documents/Universidad internacional de valencia/TFM/base de datos/SIMAC organizados/bosques del norte/2018_bosques_del_norte.csv',encoding=\"utf-8\", header=2)    \n",
    "bosques_del_norte_2019 = pd.read_csv('C:/Users/pulzara/Documents/Universidad internacional de valencia/TFM/base de datos/SIMAC organizados/bosques del norte/2019_bosques_del_norte.csv',encoding=\"utf-8\", header=2)    \n",
    "bosques_del_norte_2020 = pd.read_csv('C:/Users/pulzara/Documents/Universidad internacional de valencia/TFM/base de datos/SIMAC organizados/bosques del norte/2020_bosques_del_norte.csv',encoding=\"utf-8\", header=2)    "
   ]
  },
  {
   "cell_type": "code",
   "execution_count": 146,
   "id": "4bd35097",
   "metadata": {
    "ExecuteTime": {
     "end_time": "2022-07-16T15:13:56.916864Z",
     "start_time": "2022-07-16T15:13:56.901775Z"
    }
   },
   "outputs": [],
   "source": [
    "bosques_del_norte_2010_1.columns = bosques_del_norte_2010_1.columns.str.strip()\n",
    "bosques_del_norte_2010_2.columns = bosques_del_norte_2010_2.columns.str.strip()\n",
    "bosques_del_norte_2011.columns = bosques_del_norte_2011.columns.str.strip()\n",
    "bosques_del_norte_2012.columns = bosques_del_norte_2012.columns.str.strip()\n",
    "bosques_del_norte_2013.columns = bosques_del_norte_2013.columns.str.strip()\n",
    "bosques_del_norte_2014.columns = bosques_del_norte_2014.columns.str.strip()\n",
    "bosques_del_norte_2015.columns = bosques_del_norte_2015.columns.str.strip()\n",
    "bosques_del_norte_2016.columns = bosques_del_norte_2016.columns.str.strip()\n",
    "bosques_del_norte_2017.columns = bosques_del_norte_2017.columns.str.strip()\n",
    "bosques_del_norte_2018.columns = bosques_del_norte_2018.columns.str.strip()\n",
    "bosques_del_norte_2019.columns = bosques_del_norte_2019.columns.str.strip()\n",
    "bosques_del_norte_2020.columns = bosques_del_norte_2020.columns.str.strip()"
   ]
  },
  {
   "cell_type": "code",
   "execution_count": 147,
   "id": "8899edaf",
   "metadata": {
    "ExecuteTime": {
     "end_time": "2022-07-16T15:13:57.996253Z",
     "start_time": "2022-07-16T15:13:57.881690Z"
    }
   },
   "outputs": [],
   "source": [
    "bosques_del_norte = pd.concat([bosques_del_norte_2010_1, bosques_del_norte_2010_2,\n",
    "        bosques_del_norte_2011,\n",
    "        bosques_del_norte_2012,\n",
    "        bosques_del_norte_2013,\n",
    "        bosques_del_norte_2014,\n",
    "        bosques_del_norte_2015,\n",
    "        bosques_del_norte_2016,\n",
    "        bosques_del_norte_2017,\n",
    "        bosques_del_norte_2018,\n",
    "        bosques_del_norte_2019,\n",
    "        bosques_del_norte_2020], axis = 0)"
   ]
  },
  {
   "cell_type": "code",
   "execution_count": 148,
   "id": "e71dbe2d",
   "metadata": {
    "ExecuteTime": {
     "end_time": "2022-07-16T15:13:59.267141Z",
     "start_time": "2022-07-16T15:13:58.952643Z"
    }
   },
   "outputs": [],
   "source": [
    "bosques_del_norte = bosques_del_norte[['Fecha', 'Hora', 'Temperatura(ºC)', 'Velocidad(m/s)', 'Direccion(º)', 'Presion(mmHg)', 'Humedad(%)',\n",
    "                       'Precipitacion(mm)', 'Radiacion(W/m^2)','Evapotranspiracion(mm)','Precipitacion_Real', 'Evapo_real(mm)']]"
   ]
  },
  {
   "cell_type": "code",
   "execution_count": 149,
   "id": "76c0062a",
   "metadata": {
    "ExecuteTime": {
     "end_time": "2022-07-16T15:14:00.733998Z",
     "start_time": "2022-07-16T15:14:00.709972Z"
    }
   },
   "outputs": [
    {
     "data": {
      "text/html": [
       "<div>\n",
       "<style scoped>\n",
       "    .dataframe tbody tr th:only-of-type {\n",
       "        vertical-align: middle;\n",
       "    }\n",
       "\n",
       "    .dataframe tbody tr th {\n",
       "        vertical-align: top;\n",
       "    }\n",
       "\n",
       "    .dataframe thead th {\n",
       "        text-align: right;\n",
       "    }\n",
       "</style>\n",
       "<table border=\"1\" class=\"dataframe\">\n",
       "  <thead>\n",
       "    <tr style=\"text-align: right;\">\n",
       "      <th></th>\n",
       "      <th>Fecha</th>\n",
       "      <th>Hora</th>\n",
       "      <th>Temperatura(ºC)</th>\n",
       "      <th>Velocidad(m/s)</th>\n",
       "      <th>Direccion(º)</th>\n",
       "      <th>Presion(mmHg)</th>\n",
       "      <th>Humedad(%)</th>\n",
       "      <th>Precipitacion(mm)</th>\n",
       "      <th>Radiacion(W/m^2)</th>\n",
       "      <th>Evapotranspiracion(mm)</th>\n",
       "      <th>Precipitacion_Real</th>\n",
       "      <th>Evapo_real(mm)</th>\n",
       "    </tr>\n",
       "  </thead>\n",
       "  <tbody>\n",
       "    <tr>\n",
       "      <th>0</th>\n",
       "      <td>1/01/2010</td>\n",
       "      <td>0:01:22</td>\n",
       "      <td>13.38</td>\n",
       "      <td>0.0</td>\n",
       "      <td>338</td>\n",
       "      <td>587.63</td>\n",
       "      <td>94</td>\n",
       "      <td>0.0</td>\n",
       "      <td>0</td>\n",
       "      <td>0.27</td>\n",
       "      <td>0.0</td>\n",
       "      <td>0.0</td>\n",
       "    </tr>\n",
       "    <tr>\n",
       "      <th>1</th>\n",
       "      <td>1/01/2010</td>\n",
       "      <td>0:06:22</td>\n",
       "      <td>13.44</td>\n",
       "      <td>0.0</td>\n",
       "      <td>337</td>\n",
       "      <td>587.35</td>\n",
       "      <td>94</td>\n",
       "      <td>0.0</td>\n",
       "      <td>0</td>\n",
       "      <td>0.0</td>\n",
       "      <td>0.0</td>\n",
       "      <td>0.0</td>\n",
       "    </tr>\n",
       "    <tr>\n",
       "      <th>2</th>\n",
       "      <td>1/01/2010</td>\n",
       "      <td>0:11:38</td>\n",
       "      <td>13.44</td>\n",
       "      <td>0.0</td>\n",
       "      <td>337</td>\n",
       "      <td>587.35</td>\n",
       "      <td>94</td>\n",
       "      <td>0.0</td>\n",
       "      <td>0</td>\n",
       "      <td>0.0</td>\n",
       "      <td>0.0</td>\n",
       "      <td>0.0</td>\n",
       "    </tr>\n",
       "  </tbody>\n",
       "</table>\n",
       "</div>"
      ],
      "text/plain": [
       "       Fecha     Hora Temperatura(ºC) Velocidad(m/s) Direccion(º)  \\\n",
       "0  1/01/2010  0:01:22           13.38            0.0          338   \n",
       "1  1/01/2010  0:06:22           13.44            0.0          337   \n",
       "2  1/01/2010  0:11:38           13.44            0.0          337   \n",
       "\n",
       "  Presion(mmHg) Humedad(%) Precipitacion(mm) Radiacion(W/m^2)  \\\n",
       "0        587.63         94               0.0                0   \n",
       "1        587.35         94               0.0                0   \n",
       "2        587.35         94               0.0                0   \n",
       "\n",
       "  Evapotranspiracion(mm) Precipitacion_Real Evapo_real(mm)  \n",
       "0                   0.27                0.0            0.0  \n",
       "1                    0.0                0.0            0.0  \n",
       "2                    0.0                0.0            0.0  "
      ]
     },
     "execution_count": 149,
     "metadata": {},
     "output_type": "execute_result"
    }
   ],
   "source": [
    "bosques_del_norte.head(3)"
   ]
  },
  {
   "cell_type": "code",
   "execution_count": 150,
   "id": "2d8bf309",
   "metadata": {
    "ExecuteTime": {
     "end_time": "2022-07-16T15:14:22.605291Z",
     "start_time": "2022-07-16T15:14:17.487076Z"
    }
   },
   "outputs": [],
   "source": [
    "bosques_del_norte = bosques_del_norte.replace(\"-\", np.nan) \n",
    "bosques_del_norte = bosques_del_norte.apply(lambda x: x.str.replace(',',''))"
   ]
  },
  {
   "cell_type": "code",
   "execution_count": 51,
   "id": "33b2488e",
   "metadata": {
    "ExecuteTime": {
     "end_time": "2022-07-16T14:55:59.771493Z",
     "start_time": "2022-07-16T14:55:59.765465Z"
    }
   },
   "outputs": [],
   "source": [
    "#print(bosques_del_norte[\"Precipitacion(mm)\"].unique().tolist())"
   ]
  },
  {
   "cell_type": "code",
   "execution_count": 151,
   "id": "1b4d427c",
   "metadata": {
    "ExecuteTime": {
     "end_time": "2022-07-16T15:15:02.929144Z",
     "start_time": "2022-07-16T15:15:00.215264Z"
    }
   },
   "outputs": [],
   "source": [
    "bosques_del_norte.to_csv('C:/Users/pulzara/Documents/Universidad internacional de valencia/TFM/base de datos/SIMAC organizados/BD2/bosques_del_norte.txt', sep = '|', index=False, header=True)"
   ]
  },
  {
   "cell_type": "markdown",
   "id": "62212fc5",
   "metadata": {},
   "source": [
    "## Chec uribe"
   ]
  },
  {
   "cell_type": "code",
   "execution_count": 152,
   "id": "6213d2e6",
   "metadata": {
    "ExecuteTime": {
     "end_time": "2022-07-16T15:15:07.005122Z",
     "start_time": "2022-07-16T15:15:05.749503Z"
    }
   },
   "outputs": [],
   "source": [
    "chec_uribe_2011 = pd.read_csv('C:/Users/pulzara/Documents/Universidad internacional de valencia/TFM/base de datos/SIMAC organizados/chec uribe/2011_chec_uribe.csv',encoding=\"utf-8\", header=2)    \n",
    "chec_uribe_2012 = pd.read_csv('C:/Users/pulzara/Documents/Universidad internacional de valencia/TFM/base de datos/SIMAC organizados/chec uribe/2012_chec_uribe.csv',encoding=\"utf-8\", header=2)    \n",
    "chec_uribe_2013 = pd.read_csv('C:/Users/pulzara/Documents/Universidad internacional de valencia/TFM/base de datos/SIMAC organizados/chec uribe/2013_chec_uribe.csv',encoding=\"utf-8\", header=2)    \n",
    "chec_uribe_2014 = pd.read_csv('C:/Users/pulzara/Documents/Universidad internacional de valencia/TFM/base de datos/SIMAC organizados/chec uribe/2014_chec_uribe.csv',encoding=\"utf-8\", header=2)    \n",
    "chec_uribe_2015 = pd.read_csv('C:/Users/pulzara/Documents/Universidad internacional de valencia/TFM/base de datos/SIMAC organizados/chec uribe/2015_chec_uribe.csv',encoding=\"utf-8\", header=2)    \n",
    "chec_uribe_2016 = pd.read_csv('C:/Users/pulzara/Documents/Universidad internacional de valencia/TFM/base de datos/SIMAC organizados/chec uribe/2016_chec_uribe.csv',encoding=\"utf-8\", header=2)    \n",
    "chec_uribe_2017 = pd.read_csv('C:/Users/pulzara/Documents/Universidad internacional de valencia/TFM/base de datos/SIMAC organizados/chec uribe/2017_chec_uribe.csv',encoding=\"utf-8\", header=2)    \n",
    "chec_uribe_2018 = pd.read_csv('C:/Users/pulzara/Documents/Universidad internacional de valencia/TFM/base de datos/SIMAC organizados/chec uribe/2018_chec_uribe.csv',encoding=\"utf-8\", header=2)    \n",
    "chec_uribe_2019 = pd.read_csv('C:/Users/pulzara/Documents/Universidad internacional de valencia/TFM/base de datos/SIMAC organizados/chec uribe/2019_chec_uribe.csv',encoding=\"utf-8\", header=2)    \n",
    "chec_uribe_2020 = pd.read_csv('C:/Users/pulzara/Documents/Universidad internacional de valencia/TFM/base de datos/SIMAC organizados/chec uribe/2020_chec_uribe.csv',encoding=\"utf-8\", header=2)    "
   ]
  },
  {
   "cell_type": "code",
   "execution_count": 153,
   "id": "876ef12e",
   "metadata": {
    "ExecuteTime": {
     "end_time": "2022-07-16T15:15:08.013787Z",
     "start_time": "2022-07-16T15:15:07.988446Z"
    }
   },
   "outputs": [],
   "source": [
    "chec_uribe_2011.columns = chec_uribe_2011.columns.str.strip()\n",
    "chec_uribe_2012.columns = chec_uribe_2012.columns.str.strip()\n",
    "chec_uribe_2013.columns = chec_uribe_2013.columns.str.strip()\n",
    "chec_uribe_2014.columns = chec_uribe_2014.columns.str.strip()\n",
    "chec_uribe_2015.columns = chec_uribe_2015.columns.str.strip()\n",
    "chec_uribe_2016.columns = chec_uribe_2016.columns.str.strip()\n",
    "chec_uribe_2017.columns = chec_uribe_2017.columns.str.strip()\n",
    "chec_uribe_2018.columns = chec_uribe_2018.columns.str.strip()\n",
    "chec_uribe_2019.columns = chec_uribe_2019.columns.str.strip()\n",
    "chec_uribe_2020.columns = chec_uribe_2020.columns.str.strip()"
   ]
  },
  {
   "cell_type": "code",
   "execution_count": 154,
   "id": "d6a7e8bb",
   "metadata": {
    "ExecuteTime": {
     "end_time": "2022-07-16T15:15:09.059073Z",
     "start_time": "2022-07-16T15:15:08.967713Z"
    }
   },
   "outputs": [],
   "source": [
    "chec_uribe = pd.concat([chec_uribe_2011,\n",
    "        chec_uribe_2012,\n",
    "        chec_uribe_2013,\n",
    "        chec_uribe_2014,\n",
    "        chec_uribe_2015,\n",
    "        chec_uribe_2016,\n",
    "        chec_uribe_2017,\n",
    "        chec_uribe_2018,\n",
    "        chec_uribe_2019,\n",
    "        chec_uribe_2020], axis = 0)"
   ]
  },
  {
   "cell_type": "code",
   "execution_count": 155,
   "id": "2d8f99d0",
   "metadata": {
    "ExecuteTime": {
     "end_time": "2022-07-16T15:15:10.308409Z",
     "start_time": "2022-07-16T15:15:10.050430Z"
    }
   },
   "outputs": [],
   "source": [
    "chec_uribe = chec_uribe[['Fecha', 'Hora', 'Temperatura(ºC)', 'Velocidad(m/s)', 'Direccion(º)', 'Presion(mmHg)', 'Humedad(%)',\n",
    "                       'Precipitacion(mm)', 'Radiacion(W/m^2)','Evapotranspiracion(mm)','Precipitacion_Real', 'Evapo_real(mm)']] "
   ]
  },
  {
   "cell_type": "code",
   "execution_count": 156,
   "id": "f1469fec",
   "metadata": {
    "ExecuteTime": {
     "end_time": "2022-07-16T15:15:11.277443Z",
     "start_time": "2022-07-16T15:15:11.262749Z"
    }
   },
   "outputs": [
    {
     "data": {
      "text/html": [
       "<div>\n",
       "<style scoped>\n",
       "    .dataframe tbody tr th:only-of-type {\n",
       "        vertical-align: middle;\n",
       "    }\n",
       "\n",
       "    .dataframe tbody tr th {\n",
       "        vertical-align: top;\n",
       "    }\n",
       "\n",
       "    .dataframe thead th {\n",
       "        text-align: right;\n",
       "    }\n",
       "</style>\n",
       "<table border=\"1\" class=\"dataframe\">\n",
       "  <thead>\n",
       "    <tr style=\"text-align: right;\">\n",
       "      <th></th>\n",
       "      <th>Fecha</th>\n",
       "      <th>Hora</th>\n",
       "      <th>Temperatura(ºC)</th>\n",
       "      <th>Velocidad(m/s)</th>\n",
       "      <th>Direccion(º)</th>\n",
       "      <th>Presion(mmHg)</th>\n",
       "      <th>Humedad(%)</th>\n",
       "      <th>Precipitacion(mm)</th>\n",
       "      <th>Radiacion(W/m^2)</th>\n",
       "      <th>Evapotranspiracion(mm)</th>\n",
       "      <th>Precipitacion_Real</th>\n",
       "      <th>Evapo_real(mm)</th>\n",
       "    </tr>\n",
       "  </thead>\n",
       "  <tbody>\n",
       "    <tr>\n",
       "      <th>0</th>\n",
       "      <td>15/04/2011</td>\n",
       "      <td>12:05:01</td>\n",
       "      <td>0.0</td>\n",
       "      <td>0.0</td>\n",
       "      <td>0</td>\n",
       "      <td>0.0</td>\n",
       "      <td>0</td>\n",
       "      <td>0.0</td>\n",
       "      <td>0</td>\n",
       "      <td>0.0</td>\n",
       "      <td>0.0</td>\n",
       "      <td>0.0</td>\n",
       "    </tr>\n",
       "    <tr>\n",
       "      <th>1</th>\n",
       "      <td>15/04/2011</td>\n",
       "      <td>12:09:08</td>\n",
       "      <td>21.27</td>\n",
       "      <td>0.0</td>\n",
       "      <td>183</td>\n",
       "      <td>607.01</td>\n",
       "      <td>82</td>\n",
       "      <td>0.0</td>\n",
       "      <td>0</td>\n",
       "      <td>0.0</td>\n",
       "      <td>0.0</td>\n",
       "      <td>0.0</td>\n",
       "    </tr>\n",
       "    <tr>\n",
       "      <th>2</th>\n",
       "      <td>15/04/2011</td>\n",
       "      <td>12:09:19</td>\n",
       "      <td>21.33</td>\n",
       "      <td>0.0</td>\n",
       "      <td>183</td>\n",
       "      <td>607.01</td>\n",
       "      <td>82</td>\n",
       "      <td>0.0</td>\n",
       "      <td>0</td>\n",
       "      <td>0.0</td>\n",
       "      <td>0.0</td>\n",
       "      <td>0.0</td>\n",
       "    </tr>\n",
       "  </tbody>\n",
       "</table>\n",
       "</div>"
      ],
      "text/plain": [
       "        Fecha      Hora Temperatura(ºC) Velocidad(m/s) Direccion(º)  \\\n",
       "0  15/04/2011  12:05:01             0.0            0.0            0   \n",
       "1  15/04/2011  12:09:08           21.27            0.0          183   \n",
       "2  15/04/2011  12:09:19           21.33            0.0          183   \n",
       "\n",
       "  Presion(mmHg) Humedad(%) Precipitacion(mm) Radiacion(W/m^2)  \\\n",
       "0           0.0          0               0.0                0   \n",
       "1        607.01         82               0.0                0   \n",
       "2        607.01         82               0.0                0   \n",
       "\n",
       "  Evapotranspiracion(mm) Precipitacion_Real Evapo_real(mm)  \n",
       "0                    0.0                0.0            0.0  \n",
       "1                    0.0                0.0            0.0  \n",
       "2                    0.0                0.0            0.0  "
      ]
     },
     "execution_count": 156,
     "metadata": {},
     "output_type": "execute_result"
    }
   ],
   "source": [
    "chec_uribe.head(3) "
   ]
  },
  {
   "cell_type": "code",
   "execution_count": 157,
   "id": "e8e19d7b",
   "metadata": {
    "ExecuteTime": {
     "end_time": "2022-07-16T15:15:28.709968Z",
     "start_time": "2022-07-16T15:15:25.141888Z"
    }
   },
   "outputs": [],
   "source": [
    "chec_uribe = chec_uribe.replace(\"-\", np.nan)\n",
    "chec_uribe = chec_uribe.apply(lambda x: x.str.replace(',',''))"
   ]
  },
  {
   "cell_type": "code",
   "execution_count": 158,
   "id": "212e2b63",
   "metadata": {
    "ExecuteTime": {
     "end_time": "2022-07-16T15:15:32.154730Z",
     "start_time": "2022-07-16T15:15:29.699109Z"
    }
   },
   "outputs": [],
   "source": [
    "chec_uribe.to_csv('C:/Users/pulzara/Documents/Universidad internacional de valencia/TFM/base de datos/SIMAC organizados/BD2/chec_uribe.txt', sep = '|', index=False, header=True)"
   ]
  },
  {
   "cell_type": "markdown",
   "id": "2e48c3ed",
   "metadata": {},
   "source": [
    "## El carmen"
   ]
  },
  {
   "cell_type": "code",
   "execution_count": 175,
   "id": "6e5c778e",
   "metadata": {
    "ExecuteTime": {
     "end_time": "2022-07-16T15:18:34.328454Z",
     "start_time": "2022-07-16T15:18:32.919558Z"
    }
   },
   "outputs": [],
   "source": [
    "el_carmen_2010_1 = pd.read_csv('C:/Users/pulzara/Documents/Universidad internacional de valencia/TFM/base de datos/SIMAC organizados/el carmen/2010_el_carmen_1.csv',encoding=\"utf-8\", header=2)\n",
    "el_carmen_2010_2 = pd.read_csv('C:/Users/pulzara/Documents/Universidad internacional de valencia/TFM/base de datos/SIMAC organizados/el carmen/2010_el_carmen_2.csv',encoding=\"utf-8\", header=2)\n",
    "el_carmen_2011 = pd.read_csv('C:/Users/pulzara/Documents/Universidad internacional de valencia/TFM/base de datos/SIMAC organizados/el carmen/2011_el_carmen.csv',encoding=\"utf-8\", header=2)    \n",
    "el_carmen_2012 = pd.read_csv('C:/Users/pulzara/Documents/Universidad internacional de valencia/TFM/base de datos/SIMAC organizados/el carmen/2012_el_carmen.csv',encoding=\"utf-8\", header=2)    \n",
    "el_carmen_2013 = pd.read_csv('C:/Users/pulzara/Documents/Universidad internacional de valencia/TFM/base de datos/SIMAC organizados/el carmen/2013_el_carmen.csv',encoding=\"utf-8\", header=2)    \n",
    "el_carmen_2014 = pd.read_csv('C:/Users/pulzara/Documents/Universidad internacional de valencia/TFM/base de datos/SIMAC organizados/el carmen/2014_el_carmen.csv',encoding=\"utf-8\", header=2)    \n",
    "el_carmen_2015 = pd.read_csv('C:/Users/pulzara/Documents/Universidad internacional de valencia/TFM/base de datos/SIMAC organizados/el carmen/2015_el_carmen.csv',encoding=\"utf-8\", header=2)    \n",
    "el_carmen_2016 = pd.read_csv('C:/Users/pulzara/Documents/Universidad internacional de valencia/TFM/base de datos/SIMAC organizados/el carmen/2016_el_carmen.csv',encoding=\"utf-8\", header=2)    \n",
    "el_carmen_2017 = pd.read_csv('C:/Users/pulzara/Documents/Universidad internacional de valencia/TFM/base de datos/SIMAC organizados/el carmen/2017_el_carmen.csv',encoding=\"utf-8\", header=2)    \n",
    "el_carmen_2018 = pd.read_csv('C:/Users/pulzara/Documents/Universidad internacional de valencia/TFM/base de datos/SIMAC organizados/el carmen/2018_el_carmen.csv',encoding=\"utf-8\", header=2)    \n",
    "el_carmen_2019 = pd.read_csv('C:/Users/pulzara/Documents/Universidad internacional de valencia/TFM/base de datos/SIMAC organizados/el carmen/2019_el_carmen.csv',encoding=\"utf-8\", header=2)    \n",
    "el_carmen_2020 = pd.read_csv('C:/Users/pulzara/Documents/Universidad internacional de valencia/TFM/base de datos/SIMAC organizados/el carmen/2020_el_carmen.csv',encoding=\"utf-8\", header=2)    "
   ]
  },
  {
   "cell_type": "code",
   "execution_count": 176,
   "id": "cbc8fefd",
   "metadata": {
    "ExecuteTime": {
     "end_time": "2022-07-16T15:18:35.284207Z",
     "start_time": "2022-07-16T15:18:35.268178Z"
    }
   },
   "outputs": [],
   "source": [
    "el_carmen_2010_1.columns = el_carmen_2010_1.columns.str.strip()\n",
    "el_carmen_2010_2.columns = el_carmen_2010_2.columns.str.strip()\n",
    "el_carmen_2011.columns = el_carmen_2011.columns.str.strip()\n",
    "el_carmen_2012.columns = el_carmen_2012.columns.str.strip()\n",
    "el_carmen_2013.columns = el_carmen_2013.columns.str.strip()\n",
    "el_carmen_2014.columns = el_carmen_2014.columns.str.strip()\n",
    "el_carmen_2015.columns = el_carmen_2015.columns.str.strip()\n",
    "el_carmen_2016.columns = el_carmen_2016.columns.str.strip()\n",
    "el_carmen_2017.columns = el_carmen_2017.columns.str.strip()\n",
    "el_carmen_2018.columns = el_carmen_2018.columns.str.strip()\n",
    "el_carmen_2019.columns = el_carmen_2019.columns.str.strip()\n",
    "el_carmen_2020.columns = el_carmen_2020.columns.str.strip()"
   ]
  },
  {
   "cell_type": "code",
   "execution_count": 177,
   "id": "4536823b",
   "metadata": {
    "ExecuteTime": {
     "end_time": "2022-07-16T15:18:36.330879Z",
     "start_time": "2022-07-16T15:18:36.222692Z"
    }
   },
   "outputs": [],
   "source": [
    "el_carmen = pd.concat([el_carmen_2010_1,\n",
    "        el_carmen_2010_2,\n",
    "        el_carmen_2011,\n",
    "        el_carmen_2012,\n",
    "        el_carmen_2013,\n",
    "        el_carmen_2014,\n",
    "        el_carmen_2015,\n",
    "        el_carmen_2016,\n",
    "        el_carmen_2017,\n",
    "        el_carmen_2018,\n",
    "        el_carmen_2019,\n",
    "        el_carmen_2020], axis = 0)"
   ]
  },
  {
   "cell_type": "code",
   "execution_count": 178,
   "id": "d4294ee6",
   "metadata": {
    "ExecuteTime": {
     "end_time": "2022-07-16T15:18:37.568403Z",
     "start_time": "2022-07-16T15:18:37.276420Z"
    }
   },
   "outputs": [],
   "source": [
    "el_carmen = el_carmen[['Fecha', 'Hora', 'Temperatura(ºC)', 'Velocidad(m/s)', 'Direccion(º)', 'Presion(mmHg)', 'Humedad(%)',\n",
    "                       'Precipitacion(mm)', 'Radiacion(W/m^2)','Evapotranspiracion(mm)','Precipitacion_Real', 'Evapo_real(mm)']] "
   ]
  },
  {
   "cell_type": "code",
   "execution_count": 163,
   "id": "686fca0d",
   "metadata": {
    "ExecuteTime": {
     "end_time": "2022-07-16T15:15:43.855019Z",
     "start_time": "2022-07-16T15:15:43.841018Z"
    }
   },
   "outputs": [
    {
     "data": {
      "text/html": [
       "<div>\n",
       "<style scoped>\n",
       "    .dataframe tbody tr th:only-of-type {\n",
       "        vertical-align: middle;\n",
       "    }\n",
       "\n",
       "    .dataframe tbody tr th {\n",
       "        vertical-align: top;\n",
       "    }\n",
       "\n",
       "    .dataframe thead th {\n",
       "        text-align: right;\n",
       "    }\n",
       "</style>\n",
       "<table border=\"1\" class=\"dataframe\">\n",
       "  <thead>\n",
       "    <tr style=\"text-align: right;\">\n",
       "      <th></th>\n",
       "      <th>Fecha</th>\n",
       "      <th>Hora</th>\n",
       "      <th>Temperatura(ºC)</th>\n",
       "      <th>Velocidad(m/s)</th>\n",
       "      <th>Direccion(º)</th>\n",
       "      <th>Presion(mmHg)</th>\n",
       "      <th>Humedad(%)</th>\n",
       "      <th>Precipitacion(mm)</th>\n",
       "      <th>Radiacion(W/m^2)</th>\n",
       "      <th>Evapotranspiracion(mm)</th>\n",
       "      <th>Precipitacion_Real</th>\n",
       "      <th>Evapo_real(mm)</th>\n",
       "    </tr>\n",
       "  </thead>\n",
       "  <tbody>\n",
       "    <tr>\n",
       "      <th>0</th>\n",
       "      <td>1/01/2010</td>\n",
       "      <td>0:01:26</td>\n",
       "      <td>14.55</td>\n",
       "      <td>0.0</td>\n",
       "      <td>81</td>\n",
       "      <td>596.29</td>\n",
       "      <td>75</td>\n",
       "      <td>992.37</td>\n",
       "      <td>0</td>\n",
       "      <td>596.11</td>\n",
       "      <td>0.0</td>\n",
       "      <td>0.0</td>\n",
       "    </tr>\n",
       "    <tr>\n",
       "      <th>1</th>\n",
       "      <td>1/01/2010</td>\n",
       "      <td>0:06:27</td>\n",
       "      <td>14.5</td>\n",
       "      <td>0.0</td>\n",
       "      <td>81</td>\n",
       "      <td>596.24</td>\n",
       "      <td>76</td>\n",
       "      <td>992.37</td>\n",
       "      <td>0</td>\n",
       "      <td>596.11</td>\n",
       "      <td>0.0</td>\n",
       "      <td>0.0</td>\n",
       "    </tr>\n",
       "    <tr>\n",
       "      <th>2</th>\n",
       "      <td>1/01/2010</td>\n",
       "      <td>0:11:42</td>\n",
       "      <td>14.55</td>\n",
       "      <td>0.0</td>\n",
       "      <td>81</td>\n",
       "      <td>596.24</td>\n",
       "      <td>76</td>\n",
       "      <td>992.37</td>\n",
       "      <td>0</td>\n",
       "      <td>596.11</td>\n",
       "      <td>0.0</td>\n",
       "      <td>0.0</td>\n",
       "    </tr>\n",
       "  </tbody>\n",
       "</table>\n",
       "</div>"
      ],
      "text/plain": [
       "       Fecha     Hora Temperatura(ºC) Velocidad(m/s) Direccion(º)  \\\n",
       "0  1/01/2010  0:01:26           14.55            0.0           81   \n",
       "1  1/01/2010  0:06:27            14.5            0.0           81   \n",
       "2  1/01/2010  0:11:42           14.55            0.0           81   \n",
       "\n",
       "  Presion(mmHg) Humedad(%) Precipitacion(mm) Radiacion(W/m^2)  \\\n",
       "0        596.29         75            992.37                0   \n",
       "1        596.24         76            992.37                0   \n",
       "2        596.24         76            992.37                0   \n",
       "\n",
       "  Evapotranspiracion(mm) Precipitacion_Real Evapo_real(mm)  \n",
       "0                 596.11                0.0            0.0  \n",
       "1                 596.11                0.0            0.0  \n",
       "2                 596.11                0.0            0.0  "
      ]
     },
     "execution_count": 163,
     "metadata": {},
     "output_type": "execute_result"
    }
   ],
   "source": [
    "el_carmen.head(3)   "
   ]
  },
  {
   "cell_type": "code",
   "execution_count": 182,
   "id": "89a68eb5",
   "metadata": {
    "ExecuteTime": {
     "end_time": "2022-07-16T15:20:24.646123Z",
     "start_time": "2022-07-16T15:20:19.767230Z"
    }
   },
   "outputs": [],
   "source": [
    "el_carmen = el_carmen.replace(\"-\", np.nan)  \n",
    "el_carmen = el_carmen.apply(lambda x: x.str.replace(',','')) "
   ]
  },
  {
   "cell_type": "code",
   "execution_count": 186,
   "id": "2f8bcb4d",
   "metadata": {
    "ExecuteTime": {
     "end_time": "2022-07-16T15:20:41.895762Z",
     "start_time": "2022-07-16T15:20:41.846761Z"
    }
   },
   "outputs": [
    {
     "data": {
      "text/html": [
       "<div>\n",
       "<style scoped>\n",
       "    .dataframe tbody tr th:only-of-type {\n",
       "        vertical-align: middle;\n",
       "    }\n",
       "\n",
       "    .dataframe tbody tr th {\n",
       "        vertical-align: top;\n",
       "    }\n",
       "\n",
       "    .dataframe thead th {\n",
       "        text-align: right;\n",
       "    }\n",
       "</style>\n",
       "<table border=\"1\" class=\"dataframe\">\n",
       "  <thead>\n",
       "    <tr style=\"text-align: right;\">\n",
       "      <th></th>\n",
       "      <th>Fecha</th>\n",
       "      <th>Hora</th>\n",
       "      <th>Temperatura(ºC)</th>\n",
       "      <th>Velocidad(m/s)</th>\n",
       "      <th>Direccion(º)</th>\n",
       "      <th>Presion(mmHg)</th>\n",
       "      <th>Humedad(%)</th>\n",
       "      <th>Precipitacion(mm)</th>\n",
       "      <th>Radiacion(W/m^2)</th>\n",
       "      <th>Evapotranspiracion(mm)</th>\n",
       "      <th>Precipitacion_Real</th>\n",
       "      <th>Evapo_real(mm)</th>\n",
       "    </tr>\n",
       "  </thead>\n",
       "  <tbody>\n",
       "  </tbody>\n",
       "</table>\n",
       "</div>"
      ],
      "text/plain": [
       "Empty DataFrame\n",
       "Columns: [Fecha, Hora, Temperatura(ºC), Velocidad(m/s), Direccion(º), Presion(mmHg), Humedad(%), Precipitacion(mm), Radiacion(W/m^2), Evapotranspiracion(mm), Precipitacion_Real, Evapo_real(mm)]\n",
       "Index: []"
      ]
     },
     "execution_count": 186,
     "metadata": {},
     "output_type": "execute_result"
    }
   ],
   "source": [
    "el_carmen[el_carmen[\"Temperatura(ºC)\"] == 'NaN']         "
   ]
  },
  {
   "cell_type": "code",
   "execution_count": 187,
   "id": "0b3c23fe",
   "metadata": {
    "ExecuteTime": {
     "end_time": "2022-07-16T15:23:01.790823Z",
     "start_time": "2022-07-16T15:22:58.935136Z"
    }
   },
   "outputs": [],
   "source": [
    "el_carmen.to_csv('C:/Users/pulzara/Documents/Universidad internacional de valencia/TFM/base de datos/SIMAC organizados/BD2/el_carmen.txt', sep = '|', index=False, header=True)"
   ]
  },
  {
   "cell_type": "markdown",
   "id": "af6d411f",
   "metadata": {},
   "source": [
    "## Emas"
   ]
  },
  {
   "cell_type": "code",
   "execution_count": 188,
   "id": "5def232a",
   "metadata": {
    "ExecuteTime": {
     "end_time": "2022-07-16T15:23:46.804611Z",
     "start_time": "2022-07-16T15:23:45.327369Z"
    }
   },
   "outputs": [],
   "source": [
    "emas_2010_1 = pd.read_csv('C:/Users/pulzara/Documents/Universidad internacional de valencia/TFM/base de datos/SIMAC organizados/emas/2010_emas_1.csv',encoding=\"utf-8\", header=2)\n",
    "emas_2010_2 = pd.read_csv('C:/Users/pulzara/Documents/Universidad internacional de valencia/TFM/base de datos/SIMAC organizados/emas/2010_emas_2.csv',encoding=\"utf-8\", header=2)\n",
    "emas_2011 = pd.read_csv('C:/Users/pulzara/Documents/Universidad internacional de valencia/TFM/base de datos/SIMAC organizados/emas/2011_emas.csv',encoding=\"utf-8\", header=2)    \n",
    "emas_2012 = pd.read_csv('C:/Users/pulzara/Documents/Universidad internacional de valencia/TFM/base de datos/SIMAC organizados/emas/2012_emas.csv',encoding=\"utf-8\", header=2)    \n",
    "emas_2013 = pd.read_csv('C:/Users/pulzara/Documents/Universidad internacional de valencia/TFM/base de datos/SIMAC organizados/emas/2013_emas.csv',encoding=\"utf-8\", header=2)    \n",
    "emas_2014 = pd.read_csv('C:/Users/pulzara/Documents/Universidad internacional de valencia/TFM/base de datos/SIMAC organizados/emas/2014_emas.csv',encoding=\"utf-8\", header=2)    \n",
    "emas_2015 = pd.read_csv('C:/Users/pulzara/Documents/Universidad internacional de valencia/TFM/base de datos/SIMAC organizados/emas/2015_emas.csv',encoding=\"utf-8\", header=2)    \n",
    "emas_2016 = pd.read_csv('C:/Users/pulzara/Documents/Universidad internacional de valencia/TFM/base de datos/SIMAC organizados/emas/2016_emas.csv',encoding=\"utf-8\", header=2)    \n",
    "emas_2017 = pd.read_csv('C:/Users/pulzara/Documents/Universidad internacional de valencia/TFM/base de datos/SIMAC organizados/emas/2017_emas.csv',encoding=\"utf-8\", header=2)    \n",
    "emas_2018 = pd.read_csv('C:/Users/pulzara/Documents/Universidad internacional de valencia/TFM/base de datos/SIMAC organizados/emas/2018_emas.csv',encoding=\"utf-8\", header=2)    \n",
    "emas_2019 = pd.read_csv('C:/Users/pulzara/Documents/Universidad internacional de valencia/TFM/base de datos/SIMAC organizados/emas/2019_emas.csv',encoding=\"utf-8\", header=2)    \n",
    "emas_2020 = pd.read_csv('C:/Users/pulzara/Documents/Universidad internacional de valencia/TFM/base de datos/SIMAC organizados/emas/2020_emas.csv',encoding=\"utf-8\", header=2)    "
   ]
  },
  {
   "cell_type": "code",
   "execution_count": 189,
   "id": "a90e414e",
   "metadata": {
    "ExecuteTime": {
     "end_time": "2022-07-16T15:23:47.770985Z",
     "start_time": "2022-07-16T15:23:47.756484Z"
    }
   },
   "outputs": [],
   "source": [
    "emas_2010_1.columns = emas_2010_1.columns.str.strip()\n",
    "emas_2010_2.columns = emas_2010_2.columns.str.strip()\n",
    "emas_2011.columns = emas_2011.columns.str.strip()\n",
    "emas_2012.columns = emas_2012.columns.str.strip()\n",
    "emas_2013.columns = emas_2013.columns.str.strip()\n",
    "emas_2014.columns = emas_2014.columns.str.strip()\n",
    "emas_2015.columns = emas_2015.columns.str.strip()\n",
    "emas_2016.columns = emas_2016.columns.str.strip()\n",
    "emas_2017.columns = emas_2017.columns.str.strip()\n",
    "emas_2018.columns = emas_2018.columns.str.strip()\n",
    "emas_2019.columns = emas_2019.columns.str.strip()\n",
    "emas_2020.columns = emas_2020.columns.str.strip()"
   ]
  },
  {
   "cell_type": "code",
   "execution_count": 190,
   "id": "e3ce019a",
   "metadata": {
    "ExecuteTime": {
     "end_time": "2022-07-16T15:23:48.869104Z",
     "start_time": "2022-07-16T15:23:48.730073Z"
    }
   },
   "outputs": [],
   "source": [
    "emas = pd.concat([emas_2010_1,\n",
    "        emas_2010_2,\n",
    "        emas_2011,\n",
    "        emas_2012,\n",
    "        emas_2013,\n",
    "        emas_2014,\n",
    "        emas_2015,\n",
    "        emas_2016,\n",
    "        emas_2017,\n",
    "        emas_2018,\n",
    "        emas_2019,\n",
    "        emas_2020,], axis = 0)"
   ]
  },
  {
   "cell_type": "code",
   "execution_count": 191,
   "id": "94b0ac1f",
   "metadata": {
    "ExecuteTime": {
     "end_time": "2022-07-16T15:23:50.422103Z",
     "start_time": "2022-07-16T15:23:50.077074Z"
    }
   },
   "outputs": [],
   "source": [
    "emas = emas[['Fecha', 'Hora', 'Temperatura(ºC)', 'Velocidad(m/s)', 'Direccion(º)', 'Presion(mmHg)', 'Humedad(%)',\n",
    "                       'Precipitacion(mm)', 'Radiacion(W/m^2)','Evapotranspiracion(mm)','Precipitacion_Real', 'Evapo_real(mm)']] "
   ]
  },
  {
   "cell_type": "code",
   "execution_count": 192,
   "id": "c4215406",
   "metadata": {
    "ExecuteTime": {
     "end_time": "2022-07-16T15:23:51.388112Z",
     "start_time": "2022-07-16T15:23:51.373073Z"
    }
   },
   "outputs": [
    {
     "data": {
      "text/html": [
       "<div>\n",
       "<style scoped>\n",
       "    .dataframe tbody tr th:only-of-type {\n",
       "        vertical-align: middle;\n",
       "    }\n",
       "\n",
       "    .dataframe tbody tr th {\n",
       "        vertical-align: top;\n",
       "    }\n",
       "\n",
       "    .dataframe thead th {\n",
       "        text-align: right;\n",
       "    }\n",
       "</style>\n",
       "<table border=\"1\" class=\"dataframe\">\n",
       "  <thead>\n",
       "    <tr style=\"text-align: right;\">\n",
       "      <th></th>\n",
       "      <th>Fecha</th>\n",
       "      <th>Hora</th>\n",
       "      <th>Temperatura(ºC)</th>\n",
       "      <th>Velocidad(m/s)</th>\n",
       "      <th>Direccion(º)</th>\n",
       "      <th>Presion(mmHg)</th>\n",
       "      <th>Humedad(%)</th>\n",
       "      <th>Precipitacion(mm)</th>\n",
       "      <th>Radiacion(W/m^2)</th>\n",
       "      <th>Evapotranspiracion(mm)</th>\n",
       "      <th>Precipitacion_Real</th>\n",
       "      <th>Evapo_real(mm)</th>\n",
       "    </tr>\n",
       "  </thead>\n",
       "  <tbody>\n",
       "    <tr>\n",
       "      <th>0</th>\n",
       "      <td>1/01/2010</td>\n",
       "      <td>0:01:30</td>\n",
       "      <td>13.44</td>\n",
       "      <td>0.0</td>\n",
       "      <td>24</td>\n",
       "      <td>597.61</td>\n",
       "      <td>91</td>\n",
       "      <td>0.0</td>\n",
       "      <td>0</td>\n",
       "      <td>2.92</td>\n",
       "      <td>0.0</td>\n",
       "      <td>0.0</td>\n",
       "    </tr>\n",
       "    <tr>\n",
       "      <th>1</th>\n",
       "      <td>1/01/2010</td>\n",
       "      <td>0:06:31</td>\n",
       "      <td>13.44</td>\n",
       "      <td>1.34</td>\n",
       "      <td>24</td>\n",
       "      <td>597.59</td>\n",
       "      <td>91</td>\n",
       "      <td>0.0</td>\n",
       "      <td>0</td>\n",
       "      <td>0.0</td>\n",
       "      <td>0.0</td>\n",
       "      <td>0.0</td>\n",
       "    </tr>\n",
       "    <tr>\n",
       "      <th>2</th>\n",
       "      <td>1/01/2010</td>\n",
       "      <td>0:11:46</td>\n",
       "      <td>13.44</td>\n",
       "      <td>1.34</td>\n",
       "      <td>24</td>\n",
       "      <td>597.59</td>\n",
       "      <td>91</td>\n",
       "      <td>0.0</td>\n",
       "      <td>0</td>\n",
       "      <td>0.0</td>\n",
       "      <td>0.0</td>\n",
       "      <td>0.0</td>\n",
       "    </tr>\n",
       "  </tbody>\n",
       "</table>\n",
       "</div>"
      ],
      "text/plain": [
       "       Fecha     Hora Temperatura(ºC) Velocidad(m/s) Direccion(º)  \\\n",
       "0  1/01/2010  0:01:30           13.44            0.0           24   \n",
       "1  1/01/2010  0:06:31           13.44           1.34           24   \n",
       "2  1/01/2010  0:11:46           13.44           1.34           24   \n",
       "\n",
       "  Presion(mmHg) Humedad(%) Precipitacion(mm) Radiacion(W/m^2)  \\\n",
       "0        597.61         91               0.0                0   \n",
       "1        597.59         91               0.0                0   \n",
       "2        597.59         91               0.0                0   \n",
       "\n",
       "  Evapotranspiracion(mm) Precipitacion_Real Evapo_real(mm)  \n",
       "0                   2.92                0.0            0.0  \n",
       "1                    0.0                0.0            0.0  \n",
       "2                    0.0                0.0            0.0  "
      ]
     },
     "execution_count": 192,
     "metadata": {},
     "output_type": "execute_result"
    }
   ],
   "source": [
    "emas.head(3)"
   ]
  },
  {
   "cell_type": "code",
   "execution_count": 193,
   "id": "a16bfd99",
   "metadata": {
    "ExecuteTime": {
     "end_time": "2022-07-16T15:24:14.069066Z",
     "start_time": "2022-07-16T15:24:09.103946Z"
    }
   },
   "outputs": [],
   "source": [
    "emas = emas.replace(\"-\", np.nan)  \n",
    "emas = emas.apply(lambda x: x.str.replace(',','')) "
   ]
  },
  {
   "cell_type": "code",
   "execution_count": 194,
   "id": "f14267e3",
   "metadata": {
    "ExecuteTime": {
     "end_time": "2022-07-16T15:24:23.123167Z",
     "start_time": "2022-07-16T15:24:20.410171Z"
    }
   },
   "outputs": [],
   "source": [
    "emas.to_csv('C:/Users/pulzara/Documents/Universidad internacional de valencia/TFM/base de datos/SIMAC organizados/BD2/emas.txt', sep = '|', index=False, header=True)"
   ]
  },
  {
   "cell_type": "markdown",
   "id": "24330363",
   "metadata": {},
   "source": [
    "## Hospital de caldas"
   ]
  },
  {
   "cell_type": "code",
   "execution_count": 195,
   "id": "767b77a4",
   "metadata": {
    "ExecuteTime": {
     "end_time": "2022-07-16T15:24:27.990203Z",
     "start_time": "2022-07-16T15:24:26.550439Z"
    }
   },
   "outputs": [],
   "source": [
    "hospital_caldas_2010_1 = pd.read_csv('C:/Users/pulzara/Documents/Universidad internacional de valencia/TFM/base de datos/SIMAC organizados/hospital de caldas/2010_hospital_de_caldas_1.csv',encoding=\"utf-8\", header=2)\n",
    "hospital_caldas_2010_2 = pd.read_csv('C:/Users/pulzara/Documents/Universidad internacional de valencia/TFM/base de datos/SIMAC organizados/hospital de caldas/2010_hospital_de_caldas_2.csv',encoding=\"utf-8\", header=2)\n",
    "hospital_caldas_2011 = pd.read_csv('C:/Users/pulzara/Documents/Universidad internacional de valencia/TFM/base de datos/SIMAC organizados/hospital de caldas/2011_hospital_de_caldas.csv',encoding=\"utf-8\", header=2)    \n",
    "hospital_caldas_2012 = pd.read_csv('C:/Users/pulzara/Documents/Universidad internacional de valencia/TFM/base de datos/SIMAC organizados/hospital de caldas/2012_hospital_de_caldas.csv',encoding=\"utf-8\", header=2)    \n",
    "hospital_caldas_2013 = pd.read_csv('C:/Users/pulzara/Documents/Universidad internacional de valencia/TFM/base de datos/SIMAC organizados/hospital de caldas/2013_hospital_de_caldas.csv',encoding=\"utf-8\", header=2)    \n",
    "hospital_caldas_2014 = pd.read_csv('C:/Users/pulzara/Documents/Universidad internacional de valencia/TFM/base de datos/SIMAC organizados/hospital de caldas/2014_hospital_de_caldas.csv',encoding=\"utf-8\", header=2)    \n",
    "hospital_caldas_2015 = pd.read_csv('C:/Users/pulzara/Documents/Universidad internacional de valencia/TFM/base de datos/SIMAC organizados/hospital de caldas/2015_hospital_de_caldas.csv',encoding=\"utf-8\", header=2)    \n",
    "hospital_caldas_2016 = pd.read_csv('C:/Users/pulzara/Documents/Universidad internacional de valencia/TFM/base de datos/SIMAC organizados/hospital de caldas/2016_hospital_de_caldas.csv',encoding=\"utf-8\", header=2)    \n",
    "hospital_caldas_2017 = pd.read_csv('C:/Users/pulzara/Documents/Universidad internacional de valencia/TFM/base de datos/SIMAC organizados/hospital de caldas/2017_hospital_de_caldas.csv',encoding=\"utf-8\", header=2)    \n",
    "hospital_caldas_2018 = pd.read_csv('C:/Users/pulzara/Documents/Universidad internacional de valencia/TFM/base de datos/SIMAC organizados/hospital de caldas/2018_hospital_de_caldas.csv',encoding=\"utf-8\", header=2)    \n",
    "hospital_caldas_2019 = pd.read_csv('C:/Users/pulzara/Documents/Universidad internacional de valencia/TFM/base de datos/SIMAC organizados/hospital de caldas/2019_hospital_de_caldas.csv',encoding=\"utf-8\", header=2)    \n",
    "hospital_caldas_2020 = pd.read_csv('C:/Users/pulzara/Documents/Universidad internacional de valencia/TFM/base de datos/SIMAC organizados/hospital de caldas/2020_hospital_de_caldas.csv',encoding=\"utf-8\", header=2)    "
   ]
  },
  {
   "cell_type": "code",
   "execution_count": 196,
   "id": "243a6985",
   "metadata": {
    "ExecuteTime": {
     "end_time": "2022-07-16T15:24:28.966447Z",
     "start_time": "2022-07-16T15:24:28.952448Z"
    }
   },
   "outputs": [],
   "source": [
    "hospital_caldas_2010_1.columns = hospital_caldas_2010_1.columns.str.strip()\n",
    "hospital_caldas_2010_2.columns = hospital_caldas_2010_2.columns.str.strip()\n",
    "hospital_caldas_2011.columns = hospital_caldas_2011.columns.str.strip()\n",
    "hospital_caldas_2012.columns = hospital_caldas_2012.columns.str.strip()\n",
    "hospital_caldas_2013.columns = hospital_caldas_2013.columns.str.strip()\n",
    "hospital_caldas_2014.columns = hospital_caldas_2014.columns.str.strip()\n",
    "hospital_caldas_2015.columns = hospital_caldas_2015.columns.str.strip()\n",
    "hospital_caldas_2016.columns = hospital_caldas_2016.columns.str.strip()\n",
    "hospital_caldas_2017.columns = hospital_caldas_2017.columns.str.strip()\n",
    "hospital_caldas_2018.columns = hospital_caldas_2018.columns.str.strip()\n",
    "hospital_caldas_2019.columns = hospital_caldas_2019.columns.str.strip()\n",
    "hospital_caldas_2020.columns = hospital_caldas_2020.columns.str.strip()"
   ]
  },
  {
   "cell_type": "code",
   "execution_count": 197,
   "id": "7437c00b",
   "metadata": {
    "ExecuteTime": {
     "end_time": "2022-07-16T15:24:30.060264Z",
     "start_time": "2022-07-16T15:24:29.936140Z"
    }
   },
   "outputs": [],
   "source": [
    "hospital_caldas = pd.concat([hospital_caldas_2010_1,\n",
    "        hospital_caldas_2010_2,\n",
    "        hospital_caldas_2011,\n",
    "        hospital_caldas_2012,\n",
    "        hospital_caldas_2013,\n",
    "        hospital_caldas_2014,\n",
    "        hospital_caldas_2015,\n",
    "        hospital_caldas_2016,\n",
    "        hospital_caldas_2017,\n",
    "        hospital_caldas_2018,\n",
    "        hospital_caldas_2019,\n",
    "        hospital_caldas_2020,], axis = 0)"
   ]
  },
  {
   "cell_type": "code",
   "execution_count": 198,
   "id": "b1880d0a",
   "metadata": {
    "ExecuteTime": {
     "end_time": "2022-07-16T15:24:31.334452Z",
     "start_time": "2022-07-16T15:24:31.015056Z"
    }
   },
   "outputs": [],
   "source": [
    "hospital_caldas = hospital_caldas[['Fecha', 'Hora', 'Temperatura(ºC)', 'Velocidad(m/s)', 'Direccion(º)', 'Presion(mmHg)', 'Humedad(%)',\n",
    "                       'Precipitacion(mm)', 'Radiacion(W/m^2)','Evapotranspiracion(mm)','Precipitacion_Real', 'Evapo_real(mm)']] "
   ]
  },
  {
   "cell_type": "code",
   "execution_count": 199,
   "id": "ee041376",
   "metadata": {
    "ExecuteTime": {
     "end_time": "2022-07-16T15:25:00.221202Z",
     "start_time": "2022-07-16T15:24:54.591441Z"
    }
   },
   "outputs": [],
   "source": [
    "hospital_caldas = hospital_caldas.replace(\"-\", np.nan) \n",
    "hospital_caldas = hospital_caldas.apply(lambda x: x.str.replace(',',''))"
   ]
  },
  {
   "cell_type": "code",
   "execution_count": 67,
   "id": "eb1ed7d5",
   "metadata": {
    "ExecuteTime": {
     "end_time": "2022-07-16T14:58:31.021565Z",
     "start_time": "2022-07-16T14:58:31.011563Z"
    }
   },
   "outputs": [
    {
     "data": {
      "text/html": [
       "<div>\n",
       "<style scoped>\n",
       "    .dataframe tbody tr th:only-of-type {\n",
       "        vertical-align: middle;\n",
       "    }\n",
       "\n",
       "    .dataframe tbody tr th {\n",
       "        vertical-align: top;\n",
       "    }\n",
       "\n",
       "    .dataframe thead th {\n",
       "        text-align: right;\n",
       "    }\n",
       "</style>\n",
       "<table border=\"1\" class=\"dataframe\">\n",
       "  <thead>\n",
       "    <tr style=\"text-align: right;\">\n",
       "      <th></th>\n",
       "      <th>Fecha</th>\n",
       "      <th>Hora</th>\n",
       "      <th>Temperatura(ºC)</th>\n",
       "      <th>Velocidad(m/s)</th>\n",
       "      <th>Direccion(º)</th>\n",
       "      <th>Presion(mmHg)</th>\n",
       "      <th>Humedad(%)</th>\n",
       "      <th>Precipitacion(mm)</th>\n",
       "      <th>Radiacion(W/m^2)</th>\n",
       "      <th>Evapotranspiracion(mm)</th>\n",
       "      <th>Precipitacion_Real</th>\n",
       "      <th>Evapo_real(mm)</th>\n",
       "    </tr>\n",
       "  </thead>\n",
       "  <tbody>\n",
       "    <tr>\n",
       "      <th>0</th>\n",
       "      <td>1/01/2010</td>\n",
       "      <td>0:01:51</td>\n",
       "      <td>15.0</td>\n",
       "      <td>0.0</td>\n",
       "      <td>94</td>\n",
       "      <td>588.54</td>\n",
       "      <td>82</td>\n",
       "      <td>0.0</td>\n",
       "      <td>0</td>\n",
       "      <td>3.07</td>\n",
       "      <td>0.0</td>\n",
       "      <td>0.02</td>\n",
       "    </tr>\n",
       "    <tr>\n",
       "      <th>1</th>\n",
       "      <td>1/01/2010</td>\n",
       "      <td>0:06:41</td>\n",
       "      <td>14.83</td>\n",
       "      <td>1.34</td>\n",
       "      <td>102</td>\n",
       "      <td>588.39</td>\n",
       "      <td>82</td>\n",
       "      <td>0.0</td>\n",
       "      <td>0</td>\n",
       "      <td>3.07</td>\n",
       "      <td>0.0</td>\n",
       "      <td>0.0</td>\n",
       "    </tr>\n",
       "    <tr>\n",
       "      <th>2</th>\n",
       "      <td>1/01/2010</td>\n",
       "      <td>0:11:57</td>\n",
       "      <td>15.0</td>\n",
       "      <td>1.78</td>\n",
       "      <td>100</td>\n",
       "      <td>588.47</td>\n",
       "      <td>80</td>\n",
       "      <td>0.0</td>\n",
       "      <td>0</td>\n",
       "      <td>3.07</td>\n",
       "      <td>0.0</td>\n",
       "      <td>0.0</td>\n",
       "    </tr>\n",
       "  </tbody>\n",
       "</table>\n",
       "</div>"
      ],
      "text/plain": [
       "       Fecha     Hora Temperatura(ºC) Velocidad(m/s) Direccion(º)  \\\n",
       "0  1/01/2010  0:01:51            15.0            0.0           94   \n",
       "1  1/01/2010  0:06:41           14.83           1.34          102   \n",
       "2  1/01/2010  0:11:57            15.0           1.78          100   \n",
       "\n",
       "  Presion(mmHg) Humedad(%) Precipitacion(mm) Radiacion(W/m^2)  \\\n",
       "0        588.54         82               0.0                0   \n",
       "1        588.39         82               0.0                0   \n",
       "2        588.47         80               0.0                0   \n",
       "\n",
       "  Evapotranspiracion(mm) Precipitacion_Real Evapo_real(mm)  \n",
       "0                   3.07                0.0           0.02  \n",
       "1                   3.07                0.0            0.0  \n",
       "2                   3.07                0.0            0.0  "
      ]
     },
     "execution_count": 67,
     "metadata": {},
     "output_type": "execute_result"
    }
   ],
   "source": [
    "hospital_caldas.head(3)   "
   ]
  },
  {
   "cell_type": "code",
   "execution_count": 200,
   "id": "3d1ce1f0",
   "metadata": {
    "ExecuteTime": {
     "end_time": "2022-07-16T15:25:06.496717Z",
     "start_time": "2022-07-16T15:25:03.750481Z"
    }
   },
   "outputs": [],
   "source": [
    "hospital_caldas.to_csv('C:/Users/pulzara/Documents/Universidad internacional de valencia/TFM/base de datos/SIMAC organizados/BD2/hospital_caldas.txt', sep = '|', index=False, header=True)"
   ]
  },
  {
   "cell_type": "markdown",
   "id": "99c9b41d",
   "metadata": {},
   "source": [
    "## La nubia"
   ]
  },
  {
   "cell_type": "code",
   "execution_count": 201,
   "id": "baf5f6f0",
   "metadata": {
    "ExecuteTime": {
     "end_time": "2022-07-16T15:25:11.144345Z",
     "start_time": "2022-07-16T15:25:09.661971Z"
    }
   },
   "outputs": [],
   "source": [
    "la_nubia_2010_1 = pd.read_csv('C:/Users/pulzara/Documents/Universidad internacional de valencia/TFM/base de datos/SIMAC organizados/la nubia/2010_la_nubia_1.csv',encoding=\"utf-8\", header=2)\n",
    "la_nubia_2010_2 = pd.read_csv('C:/Users/pulzara/Documents/Universidad internacional de valencia/TFM/base de datos/SIMAC organizados/la nubia/2010_la_nubia_2.csv',encoding=\"utf-8\", header=2)\n",
    "la_nubia_2011 = pd.read_csv('C:/Users/pulzara/Documents/Universidad internacional de valencia/TFM/base de datos/SIMAC organizados/la nubia/2011_la_nubia.csv',encoding=\"utf-8\", header=2)    \n",
    "la_nubia_2012 = pd.read_csv('C:/Users/pulzara/Documents/Universidad internacional de valencia/TFM/base de datos/SIMAC organizados/la nubia/2012_la_nubia.csv',encoding=\"utf-8\", header=2)    \n",
    "la_nubia_2013 = pd.read_csv('C:/Users/pulzara/Documents/Universidad internacional de valencia/TFM/base de datos/SIMAC organizados/la nubia/2013_la_nubia.csv',encoding=\"utf-8\", header=2)    \n",
    "la_nubia_2014 = pd.read_csv('C:/Users/pulzara/Documents/Universidad internacional de valencia/TFM/base de datos/SIMAC organizados/la nubia/2014_la_nubia.csv',encoding=\"utf-8\", header=2)    \n",
    "la_nubia_2015 = pd.read_csv('C:/Users/pulzara/Documents/Universidad internacional de valencia/TFM/base de datos/SIMAC organizados/la nubia/2015_la_nubia.csv',encoding=\"utf-8\", header=2)    \n",
    "la_nubia_2016 = pd.read_csv('C:/Users/pulzara/Documents/Universidad internacional de valencia/TFM/base de datos/SIMAC organizados/la nubia/2016_la_nubia.csv',encoding=\"utf-8\", header=2)    \n",
    "la_nubia_2017 = pd.read_csv('C:/Users/pulzara/Documents/Universidad internacional de valencia/TFM/base de datos/SIMAC organizados/la nubia/2017_la_nubia.csv',encoding=\"utf-8\", header=2)    \n",
    "la_nubia_2018 = pd.read_csv('C:/Users/pulzara/Documents/Universidad internacional de valencia/TFM/base de datos/SIMAC organizados/la nubia/2018_la_nubia.csv',encoding=\"utf-8\", header=2)    \n",
    "la_nubia_2019 = pd.read_csv('C:/Users/pulzara/Documents/Universidad internacional de valencia/TFM/base de datos/SIMAC organizados/la nubia/2019_la_nubia.csv',encoding=\"utf-8\", header=2)    \n",
    "la_nubia_2020 = pd.read_csv('C:/Users/pulzara/Documents/Universidad internacional de valencia/TFM/base de datos/SIMAC organizados/la nubia/2020_la_nubia.csv',encoding=\"utf-8\", header=2)    "
   ]
  },
  {
   "cell_type": "code",
   "execution_count": 202,
   "id": "ead17e3b",
   "metadata": {
    "ExecuteTime": {
     "end_time": "2022-07-16T15:25:12.139510Z",
     "start_time": "2022-07-16T15:25:12.124027Z"
    }
   },
   "outputs": [],
   "source": [
    "la_nubia_2010_1.columns = la_nubia_2010_1.columns.str.strip()\n",
    "la_nubia_2010_2.columns = la_nubia_2010_2.columns.str.strip()\n",
    "la_nubia_2011.columns = la_nubia_2011.columns.str.strip()\n",
    "la_nubia_2012.columns = la_nubia_2012.columns.str.strip()\n",
    "la_nubia_2013.columns = la_nubia_2013.columns.str.strip()\n",
    "la_nubia_2014.columns = la_nubia_2014.columns.str.strip()\n",
    "la_nubia_2015.columns = la_nubia_2015.columns.str.strip()\n",
    "la_nubia_2016.columns = la_nubia_2016.columns.str.strip()\n",
    "la_nubia_2017.columns = la_nubia_2017.columns.str.strip()\n",
    "la_nubia_2018.columns = la_nubia_2018.columns.str.strip()\n",
    "la_nubia_2019.columns = la_nubia_2019.columns.str.strip()\n",
    "la_nubia_2020.columns = la_nubia_2020.columns.str.strip()"
   ]
  },
  {
   "cell_type": "code",
   "execution_count": 203,
   "id": "e069a3aa",
   "metadata": {
    "ExecuteTime": {
     "end_time": "2022-07-16T15:25:13.242105Z",
     "start_time": "2022-07-16T15:25:13.122035Z"
    }
   },
   "outputs": [],
   "source": [
    "la_nubia = pd.concat([la_nubia_2010_1,\n",
    "        la_nubia_2010_2,\n",
    "        la_nubia_2011,\n",
    "        la_nubia_2012,\n",
    "        la_nubia_2013,\n",
    "        la_nubia_2014,\n",
    "        la_nubia_2015,\n",
    "        la_nubia_2016,\n",
    "        la_nubia_2017,\n",
    "        la_nubia_2018,\n",
    "        la_nubia_2019,\n",
    "        la_nubia_2020,], axis = 0)"
   ]
  },
  {
   "cell_type": "code",
   "execution_count": 204,
   "id": "6e210b85",
   "metadata": {
    "ExecuteTime": {
     "end_time": "2022-07-16T15:25:14.496774Z",
     "start_time": "2022-07-16T15:25:14.195259Z"
    }
   },
   "outputs": [],
   "source": [
    "la_nubia = la_nubia[['Fecha', 'Hora', 'Temperatura(ºC)', 'Velocidad(m/s)', 'Direccion(º)', 'Presion(mmHg)', 'Humedad(%)',\n",
    "                       'Precipitacion(mm)', 'Radiacion(W/m^2)','Evapotranspiracion(mm)','Precipitacion_Real', 'Evapo_real(mm)']] "
   ]
  },
  {
   "cell_type": "code",
   "execution_count": 205,
   "id": "2bd83d46",
   "metadata": {
    "ExecuteTime": {
     "end_time": "2022-07-16T15:25:15.502420Z",
     "start_time": "2022-07-16T15:25:15.487776Z"
    }
   },
   "outputs": [
    {
     "data": {
      "text/html": [
       "<div>\n",
       "<style scoped>\n",
       "    .dataframe tbody tr th:only-of-type {\n",
       "        vertical-align: middle;\n",
       "    }\n",
       "\n",
       "    .dataframe tbody tr th {\n",
       "        vertical-align: top;\n",
       "    }\n",
       "\n",
       "    .dataframe thead th {\n",
       "        text-align: right;\n",
       "    }\n",
       "</style>\n",
       "<table border=\"1\" class=\"dataframe\">\n",
       "  <thead>\n",
       "    <tr style=\"text-align: right;\">\n",
       "      <th></th>\n",
       "      <th>Fecha</th>\n",
       "      <th>Hora</th>\n",
       "      <th>Temperatura(ºC)</th>\n",
       "      <th>Velocidad(m/s)</th>\n",
       "      <th>Direccion(º)</th>\n",
       "      <th>Presion(mmHg)</th>\n",
       "      <th>Humedad(%)</th>\n",
       "      <th>Precipitacion(mm)</th>\n",
       "      <th>Radiacion(W/m^2)</th>\n",
       "      <th>Evapotranspiracion(mm)</th>\n",
       "      <th>Precipitacion_Real</th>\n",
       "      <th>Evapo_real(mm)</th>\n",
       "    </tr>\n",
       "  </thead>\n",
       "  <tbody>\n",
       "    <tr>\n",
       "      <th>0</th>\n",
       "      <td>1/01/2010</td>\n",
       "      <td>0:01:44</td>\n",
       "      <td>12.27</td>\n",
       "      <td>1.34</td>\n",
       "      <td>121</td>\n",
       "      <td>601.86</td>\n",
       "      <td>84</td>\n",
       "      <td>928.11</td>\n",
       "      <td>0</td>\n",
       "      <td>756.7</td>\n",
       "      <td>0</td>\n",
       "      <td>0.0</td>\n",
       "    </tr>\n",
       "    <tr>\n",
       "      <th>1</th>\n",
       "      <td>1/01/2010</td>\n",
       "      <td>0:06:35</td>\n",
       "      <td>12.38</td>\n",
       "      <td>1.34</td>\n",
       "      <td>113</td>\n",
       "      <td>601.91</td>\n",
       "      <td>84</td>\n",
       "      <td>928.11</td>\n",
       "      <td>0</td>\n",
       "      <td>756.7</td>\n",
       "      <td>0</td>\n",
       "      <td>0.0</td>\n",
       "    </tr>\n",
       "    <tr>\n",
       "      <th>2</th>\n",
       "      <td>1/01/2010</td>\n",
       "      <td>0:11:51</td>\n",
       "      <td>12.38</td>\n",
       "      <td>0.0</td>\n",
       "      <td>135</td>\n",
       "      <td>601.88</td>\n",
       "      <td>83</td>\n",
       "      <td>928.11</td>\n",
       "      <td>0</td>\n",
       "      <td>756.7</td>\n",
       "      <td>0</td>\n",
       "      <td>0.0</td>\n",
       "    </tr>\n",
       "  </tbody>\n",
       "</table>\n",
       "</div>"
      ],
      "text/plain": [
       "       Fecha     Hora Temperatura(ºC) Velocidad(m/s) Direccion(º)  \\\n",
       "0  1/01/2010  0:01:44           12.27           1.34          121   \n",
       "1  1/01/2010  0:06:35           12.38           1.34          113   \n",
       "2  1/01/2010  0:11:51           12.38            0.0          135   \n",
       "\n",
       "  Presion(mmHg) Humedad(%) Precipitacion(mm) Radiacion(W/m^2)  \\\n",
       "0        601.86         84            928.11                0   \n",
       "1        601.91         84            928.11                0   \n",
       "2        601.88         83            928.11                0   \n",
       "\n",
       "  Evapotranspiracion(mm) Precipitacion_Real Evapo_real(mm)  \n",
       "0                  756.7                  0            0.0  \n",
       "1                  756.7                  0            0.0  \n",
       "2                  756.7                  0            0.0  "
      ]
     },
     "execution_count": 205,
     "metadata": {},
     "output_type": "execute_result"
    }
   ],
   "source": [
    "la_nubia.head(3) "
   ]
  },
  {
   "cell_type": "code",
   "execution_count": 206,
   "id": "71afb95f",
   "metadata": {
    "ExecuteTime": {
     "end_time": "2022-07-16T15:25:36.405005Z",
     "start_time": "2022-07-16T15:25:31.550576Z"
    }
   },
   "outputs": [],
   "source": [
    "la_nubia = la_nubia.replace(\"-\", np.nan) \n",
    "la_nubia = la_nubia.apply(lambda x: x.str.replace(',','')) "
   ]
  },
  {
   "cell_type": "code",
   "execution_count": 207,
   "id": "9f0da447",
   "metadata": {
    "ExecuteTime": {
     "end_time": "2022-07-16T15:25:42.276517Z",
     "start_time": "2022-07-16T15:25:39.454986Z"
    }
   },
   "outputs": [],
   "source": [
    "la_nubia.to_csv('C:/Users/pulzara/Documents/Universidad internacional de valencia/TFM/base de datos/SIMAC organizados/BD2/la_nubia.txt', sep = '|', index=False, header=True)"
   ]
  },
  {
   "cell_type": "markdown",
   "id": "e236e88a",
   "metadata": {},
   "source": [
    "## La palma"
   ]
  },
  {
   "cell_type": "code",
   "execution_count": 208,
   "id": "99e20088",
   "metadata": {
    "ExecuteTime": {
     "end_time": "2022-07-16T15:25:45.473754Z",
     "start_time": "2022-07-16T15:25:44.054693Z"
    }
   },
   "outputs": [],
   "source": [
    "la_palma_2010_1 = pd.read_csv('C:/Users/pulzara/Documents/Universidad internacional de valencia/TFM/base de datos/SIMAC organizados/la palma/2010_la_palma_1.csv',encoding=\"utf-8\", header=2)\n",
    "la_palma_2010_2 = pd.read_csv('C:/Users/pulzara/Documents/Universidad internacional de valencia/TFM/base de datos/SIMAC organizados/la palma/2010_la_palma_2.csv',encoding=\"utf-8\", header=2)\n",
    "la_palma_2011 = pd.read_csv('C:/Users/pulzara/Documents/Universidad internacional de valencia/TFM/base de datos/SIMAC organizados/la palma/2011_la_palma.csv',encoding=\"utf-8\", header=2)    \n",
    "la_palma_2012 = pd.read_csv('C:/Users/pulzara/Documents/Universidad internacional de valencia/TFM/base de datos/SIMAC organizados/la palma/2012_la_palma.csv',encoding=\"utf-8\", header=2)    \n",
    "la_palma_2013 = pd.read_csv('C:/Users/pulzara/Documents/Universidad internacional de valencia/TFM/base de datos/SIMAC organizados/la palma/2013_la_palma.csv',encoding=\"utf-8\", header=2)    \n",
    "la_palma_2014 = pd.read_csv('C:/Users/pulzara/Documents/Universidad internacional de valencia/TFM/base de datos/SIMAC organizados/la palma/2014_la_palma.csv',encoding=\"utf-8\", header=2)    \n",
    "la_palma_2015 = pd.read_csv('C:/Users/pulzara/Documents/Universidad internacional de valencia/TFM/base de datos/SIMAC organizados/la palma/2015_la_palma.csv',encoding=\"utf-8\", header=2)    \n",
    "la_palma_2016 = pd.read_csv('C:/Users/pulzara/Documents/Universidad internacional de valencia/TFM/base de datos/SIMAC organizados/la palma/2016_la_palma.csv',encoding=\"utf-8\", header=2)    \n",
    "la_palma_2017 = pd.read_csv('C:/Users/pulzara/Documents/Universidad internacional de valencia/TFM/base de datos/SIMAC organizados/la palma/2017_la_palma.csv',encoding=\"utf-8\", header=2)    \n",
    "la_palma_2018 = pd.read_csv('C:/Users/pulzara/Documents/Universidad internacional de valencia/TFM/base de datos/SIMAC organizados/la palma/2018_la_palma.csv',encoding=\"utf-8\", header=2)    \n",
    "la_palma_2019 = pd.read_csv('C:/Users/pulzara/Documents/Universidad internacional de valencia/TFM/base de datos/SIMAC organizados/la palma/2019_la_palma.csv',encoding=\"utf-8\", header=2)    \n",
    "la_palma_2020 = pd.read_csv('C:/Users/pulzara/Documents/Universidad internacional de valencia/TFM/base de datos/SIMAC organizados/la palma/2020_la_palma.csv',encoding=\"utf-8\", header=2)    "
   ]
  },
  {
   "cell_type": "code",
   "execution_count": 209,
   "id": "a0de2b4e",
   "metadata": {
    "ExecuteTime": {
     "end_time": "2022-07-16T15:25:46.447885Z",
     "start_time": "2022-07-16T15:25:46.433884Z"
    }
   },
   "outputs": [],
   "source": [
    "la_palma_2010_1.columns = la_palma_2010_1.columns.str.strip()\n",
    "la_palma_2010_2.columns = la_palma_2010_2.columns.str.strip()\n",
    "la_palma_2011.columns = la_palma_2011.columns.str.strip()\n",
    "la_palma_2012.columns = la_palma_2012.columns.str.strip()\n",
    "la_palma_2013.columns = la_palma_2013.columns.str.strip()\n",
    "la_palma_2014.columns = la_palma_2014.columns.str.strip()\n",
    "la_palma_2015.columns = la_palma_2015.columns.str.strip()\n",
    "la_palma_2016.columns = la_palma_2016.columns.str.strip()\n",
    "la_palma_2017.columns = la_palma_2017.columns.str.strip()\n",
    "la_palma_2018.columns = la_palma_2018.columns.str.strip()\n",
    "la_palma_2019.columns = la_palma_2019.columns.str.strip()\n",
    "la_palma_2020.columns = la_palma_2020.columns.str.strip()"
   ]
  },
  {
   "cell_type": "code",
   "execution_count": 210,
   "id": "d833e7ef",
   "metadata": {
    "ExecuteTime": {
     "end_time": "2022-07-16T15:25:48.526247Z",
     "start_time": "2022-07-16T15:25:48.342895Z"
    }
   },
   "outputs": [],
   "source": [
    "la_palma = pd.concat([la_palma_2010_1,\n",
    "        la_palma_2010_2,\n",
    "        la_palma_2011,\n",
    "        la_palma_2012,\n",
    "        la_palma_2013,\n",
    "        la_palma_2014,\n",
    "        la_palma_2015,\n",
    "        la_palma_2016,\n",
    "        la_palma_2017,\n",
    "        la_palma_2018,\n",
    "        la_palma_2019,\n",
    "        la_palma_2020,], axis = 0)"
   ]
  },
  {
   "cell_type": "code",
   "execution_count": 211,
   "id": "3c58d13c",
   "metadata": {
    "ExecuteTime": {
     "end_time": "2022-07-16T15:25:49.795842Z",
     "start_time": "2022-07-16T15:25:49.490517Z"
    }
   },
   "outputs": [],
   "source": [
    "la_palma = la_palma[['Fecha', 'Hora', 'Temperatura(ºC)', 'Velocidad(m/s)', 'Direccion(º)', 'Presion(mmHg)', 'Humedad(%)',\n",
    "                       'Precipitacion(mm)', 'Radiacion(W/m^2)','Evapotranspiracion(mm)','Precipitacion_Real', 'Evapo_real(mm)']] "
   ]
  },
  {
   "cell_type": "code",
   "execution_count": 80,
   "id": "0c93c02f",
   "metadata": {
    "ExecuteTime": {
     "end_time": "2022-07-16T14:59:39.868495Z",
     "start_time": "2022-07-16T14:59:39.854494Z"
    }
   },
   "outputs": [
    {
     "data": {
      "text/html": [
       "<div>\n",
       "<style scoped>\n",
       "    .dataframe tbody tr th:only-of-type {\n",
       "        vertical-align: middle;\n",
       "    }\n",
       "\n",
       "    .dataframe tbody tr th {\n",
       "        vertical-align: top;\n",
       "    }\n",
       "\n",
       "    .dataframe thead th {\n",
       "        text-align: right;\n",
       "    }\n",
       "</style>\n",
       "<table border=\"1\" class=\"dataframe\">\n",
       "  <thead>\n",
       "    <tr style=\"text-align: right;\">\n",
       "      <th></th>\n",
       "      <th>Fecha</th>\n",
       "      <th>Hora</th>\n",
       "      <th>Temperatura(ºC)</th>\n",
       "      <th>Velocidad(m/s)</th>\n",
       "      <th>Direccion(º)</th>\n",
       "      <th>Presion(mmHg)</th>\n",
       "      <th>Humedad(%)</th>\n",
       "      <th>Precipitacion(mm)</th>\n",
       "      <th>Radiacion(W/m^2)</th>\n",
       "      <th>Evapotranspiracion(mm)</th>\n",
       "      <th>Precipitacion_Real</th>\n",
       "      <th>Evapo_real(mm)</th>\n",
       "    </tr>\n",
       "  </thead>\n",
       "  <tbody>\n",
       "    <tr>\n",
       "      <th>0</th>\n",
       "      <td>1/01/2010</td>\n",
       "      <td>0:02:01</td>\n",
       "      <td>18.22</td>\n",
       "      <td>0.0</td>\n",
       "      <td>165</td>\n",
       "      <td>608.26</td>\n",
       "      <td>84</td>\n",
       "      <td>0.0</td>\n",
       "      <td>0</td>\n",
       "      <td>2.84</td>\n",
       "      <td>0.0</td>\n",
       "      <td>0.0</td>\n",
       "    </tr>\n",
       "    <tr>\n",
       "      <th>1</th>\n",
       "      <td>1/01/2010</td>\n",
       "      <td>0:06:52</td>\n",
       "      <td>18.11</td>\n",
       "      <td>0.0</td>\n",
       "      <td>165</td>\n",
       "      <td>607.88</td>\n",
       "      <td>83</td>\n",
       "      <td>0.0</td>\n",
       "      <td>0</td>\n",
       "      <td>0.0</td>\n",
       "      <td>0.0</td>\n",
       "      <td>0.0</td>\n",
       "    </tr>\n",
       "    <tr>\n",
       "      <th>2</th>\n",
       "      <td>1/01/2010</td>\n",
       "      <td>0:12:08</td>\n",
       "      <td>18.16</td>\n",
       "      <td>0.0</td>\n",
       "      <td>165</td>\n",
       "      <td>607.83</td>\n",
       "      <td>82</td>\n",
       "      <td>0.0</td>\n",
       "      <td>0</td>\n",
       "      <td>0.0</td>\n",
       "      <td>0.0</td>\n",
       "      <td>0.0</td>\n",
       "    </tr>\n",
       "  </tbody>\n",
       "</table>\n",
       "</div>"
      ],
      "text/plain": [
       "       Fecha     Hora Temperatura(ºC) Velocidad(m/s) Direccion(º)  \\\n",
       "0  1/01/2010  0:02:01           18.22            0.0          165   \n",
       "1  1/01/2010  0:06:52           18.11            0.0          165   \n",
       "2  1/01/2010  0:12:08           18.16            0.0          165   \n",
       "\n",
       "  Presion(mmHg) Humedad(%) Precipitacion(mm) Radiacion(W/m^2)  \\\n",
       "0        608.26         84               0.0                0   \n",
       "1        607.88         83               0.0                0   \n",
       "2        607.83         82               0.0                0   \n",
       "\n",
       "  Evapotranspiracion(mm) Precipitacion_Real Evapo_real(mm)  \n",
       "0                   2.84                0.0            0.0  \n",
       "1                    0.0                0.0            0.0  \n",
       "2                    0.0                0.0            0.0  "
      ]
     },
     "execution_count": 80,
     "metadata": {},
     "output_type": "execute_result"
    }
   ],
   "source": [
    "la_palma.head(3)  "
   ]
  },
  {
   "cell_type": "code",
   "execution_count": 212,
   "id": "a46aa5ed",
   "metadata": {
    "ExecuteTime": {
     "end_time": "2022-07-16T15:26:09.896743Z",
     "start_time": "2022-07-16T15:26:04.983615Z"
    }
   },
   "outputs": [],
   "source": [
    "la_palma = la_palma.replace(\"-\", np.nan) \n",
    "la_palma = la_palma.apply(lambda x: x.str.replace(',','')) "
   ]
  },
  {
   "cell_type": "code",
   "execution_count": 213,
   "id": "c14ebb6c",
   "metadata": {
    "ExecuteTime": {
     "end_time": "2022-07-16T15:26:14.385776Z",
     "start_time": "2022-07-16T15:26:11.629741Z"
    }
   },
   "outputs": [],
   "source": [
    "la_palma.to_csv('C:/Users/pulzara/Documents/Universidad internacional de valencia/TFM/base de datos/SIMAC organizados/BD2/la_palma.txt', sep = '|', index=False, header=True)"
   ]
  },
  {
   "cell_type": "markdown",
   "id": "10ee740e",
   "metadata": {},
   "source": [
    "## Milan planta niza"
   ]
  },
  {
   "cell_type": "code",
   "execution_count": 214,
   "id": "f3599a83",
   "metadata": {
    "ExecuteTime": {
     "end_time": "2022-07-16T15:26:16.804705Z",
     "start_time": "2022-07-16T15:26:15.369781Z"
    }
   },
   "outputs": [],
   "source": [
    "milan_2010_1 = pd.read_csv('C:/Users/pulzara/Documents/Universidad internacional de valencia/TFM/base de datos/SIMAC organizados/milan planta niza 2/2010_milan_planta_niza_1.csv',encoding=\"utf-8\", header=2)\n",
    "milan_2010_2 = pd.read_csv('C:/Users/pulzara/Documents/Universidad internacional de valencia/TFM/base de datos/SIMAC organizados/milan planta niza 2/2010_milan_planta_niza_2.csv',encoding=\"utf-8\", header=2)\n",
    "milan_2011 = pd.read_csv('C:/Users/pulzara/Documents/Universidad internacional de valencia/TFM/base de datos/SIMAC organizados/milan planta niza 2/2011_milan_planta_niza.csv',encoding=\"utf-8\", header=2)    \n",
    "milan_2012 = pd.read_csv('C:/Users/pulzara/Documents/Universidad internacional de valencia/TFM/base de datos/SIMAC organizados/milan planta niza 2/2012_milan_planta_niza.csv',encoding=\"utf-8\", header=2)    \n",
    "milan_2013 = pd.read_csv('C:/Users/pulzara/Documents/Universidad internacional de valencia/TFM/base de datos/SIMAC organizados/milan planta niza 2/2013_milan_planta_niza.csv',encoding=\"utf-8\", header=2)    \n",
    "milan_2014 = pd.read_csv('C:/Users/pulzara/Documents/Universidad internacional de valencia/TFM/base de datos/SIMAC organizados/milan planta niza 2/2014_milan_planta_niza.csv',encoding=\"utf-8\", header=2)    \n",
    "milan_2015 = pd.read_csv('C:/Users/pulzara/Documents/Universidad internacional de valencia/TFM/base de datos/SIMAC organizados/milan planta niza 2/2015_milan_planta_niza.csv',encoding=\"utf-8\", header=2)    \n",
    "milan_2016 = pd.read_csv('C:/Users/pulzara/Documents/Universidad internacional de valencia/TFM/base de datos/SIMAC organizados/milan planta niza 2/2016_milan_planta_niza.csv',encoding=\"utf-8\", header=2)    \n",
    "milan_2017 = pd.read_csv('C:/Users/pulzara/Documents/Universidad internacional de valencia/TFM/base de datos/SIMAC organizados/milan planta niza 2/2017_milan_planta_niza.csv',encoding=\"utf-8\", header=2)    \n",
    "milan_2018 = pd.read_csv('C:/Users/pulzara/Documents/Universidad internacional de valencia/TFM/base de datos/SIMAC organizados/milan planta niza 2/2018_milan_planta_niza.csv',encoding=\"utf-8\", header=2)    \n",
    "milan_2019 = pd.read_csv('C:/Users/pulzara/Documents/Universidad internacional de valencia/TFM/base de datos/SIMAC organizados/milan planta niza 2/2019_milan_planta_niza.csv',encoding=\"utf-8\", header=2)    \n",
    "milan_2020 = pd.read_csv('C:/Users/pulzara/Documents/Universidad internacional de valencia/TFM/base de datos/SIMAC organizados/milan planta niza 2/2020_milan_planta_niza.csv',encoding=\"utf-8\", header=2)    "
   ]
  },
  {
   "cell_type": "code",
   "execution_count": 215,
   "id": "cf0a2078",
   "metadata": {
    "ExecuteTime": {
     "end_time": "2022-07-16T15:26:17.777414Z",
     "start_time": "2022-07-16T15:26:17.764413Z"
    }
   },
   "outputs": [],
   "source": [
    "milan_2010_1.columns = milan_2010_1.columns.str.strip()\n",
    "milan_2010_2.columns = milan_2010_2.columns.str.strip()\n",
    "milan_2011.columns = milan_2011.columns.str.strip()\n",
    "milan_2012.columns = milan_2012.columns.str.strip()\n",
    "milan_2013.columns = milan_2013.columns.str.strip()\n",
    "milan_2014.columns = milan_2014.columns.str.strip()\n",
    "milan_2015.columns = milan_2015.columns.str.strip()\n",
    "milan_2016.columns = milan_2016.columns.str.strip()\n",
    "milan_2017.columns = milan_2017.columns.str.strip()\n",
    "milan_2018.columns = milan_2018.columns.str.strip()\n",
    "milan_2019.columns = milan_2019.columns.str.strip()\n",
    "milan_2020.columns = milan_2020.columns.str.strip()"
   ]
  },
  {
   "cell_type": "code",
   "execution_count": 216,
   "id": "2142f93c",
   "metadata": {
    "ExecuteTime": {
     "end_time": "2022-07-16T15:26:18.868119Z",
     "start_time": "2022-07-16T15:26:18.745146Z"
    }
   },
   "outputs": [],
   "source": [
    "milan = pd.concat([milan_2010_1,\n",
    "        milan_2010_2,\n",
    "        milan_2011,\n",
    "        milan_2012,\n",
    "        milan_2013,\n",
    "        milan_2014,\n",
    "        milan_2015,\n",
    "        milan_2016,\n",
    "        milan_2017,\n",
    "        milan_2018,\n",
    "        milan_2019,\n",
    "        milan_2020,], axis = 0)"
   ]
  },
  {
   "cell_type": "code",
   "execution_count": 217,
   "id": "3af48b4f",
   "metadata": {
    "ExecuteTime": {
     "end_time": "2022-07-16T15:26:20.127595Z",
     "start_time": "2022-07-16T15:26:19.819731Z"
    }
   },
   "outputs": [],
   "source": [
    "milan = milan[['Fecha', 'Hora', 'Temperatura(ºC)', 'Velocidad(m/s)', 'Direccion(º)', 'Presion(mmHg)', 'Humedad(%)',\n",
    "                       'Precipitacion(mm)', 'Radiacion(W/m^2)','Evapotranspiracion(mm)','Precipitacion_Real', 'Evapo_real(mm)']] "
   ]
  },
  {
   "cell_type": "code",
   "execution_count": 87,
   "id": "699e58ee",
   "metadata": {
    "ExecuteTime": {
     "end_time": "2022-07-16T15:00:07.752926Z",
     "start_time": "2022-07-16T15:00:07.737927Z"
    }
   },
   "outputs": [
    {
     "data": {
      "text/html": [
       "<div>\n",
       "<style scoped>\n",
       "    .dataframe tbody tr th:only-of-type {\n",
       "        vertical-align: middle;\n",
       "    }\n",
       "\n",
       "    .dataframe tbody tr th {\n",
       "        vertical-align: top;\n",
       "    }\n",
       "\n",
       "    .dataframe thead th {\n",
       "        text-align: right;\n",
       "    }\n",
       "</style>\n",
       "<table border=\"1\" class=\"dataframe\">\n",
       "  <thead>\n",
       "    <tr style=\"text-align: right;\">\n",
       "      <th></th>\n",
       "      <th>Fecha</th>\n",
       "      <th>Hora</th>\n",
       "      <th>Temperatura(ºC)</th>\n",
       "      <th>Velocidad(m/s)</th>\n",
       "      <th>Direccion(º)</th>\n",
       "      <th>Presion(mmHg)</th>\n",
       "      <th>Humedad(%)</th>\n",
       "      <th>Precipitacion(mm)</th>\n",
       "      <th>Radiacion(W/m^2)</th>\n",
       "      <th>Evapotranspiracion(mm)</th>\n",
       "      <th>Precipitacion_Real</th>\n",
       "      <th>Evapo_real(mm)</th>\n",
       "    </tr>\n",
       "  </thead>\n",
       "  <tbody>\n",
       "    <tr>\n",
       "      <th>0</th>\n",
       "      <td>1/01/2010</td>\n",
       "      <td>0:02:07</td>\n",
       "      <td>14.83</td>\n",
       "      <td>0.44</td>\n",
       "      <td>125</td>\n",
       "      <td>586.31</td>\n",
       "      <td>80</td>\n",
       "      <td>0.0</td>\n",
       "      <td>0</td>\n",
       "      <td>0.0</td>\n",
       "      <td>0.0</td>\n",
       "      <td>0.0</td>\n",
       "    </tr>\n",
       "    <tr>\n",
       "      <th>1</th>\n",
       "      <td>1/01/2010</td>\n",
       "      <td>0:06:58</td>\n",
       "      <td>14.88</td>\n",
       "      <td>0.0</td>\n",
       "      <td>125</td>\n",
       "      <td>586.23</td>\n",
       "      <td>80</td>\n",
       "      <td>0.0</td>\n",
       "      <td>0</td>\n",
       "      <td>0.0</td>\n",
       "      <td>0.0</td>\n",
       "      <td>0.0</td>\n",
       "    </tr>\n",
       "    <tr>\n",
       "      <th>2</th>\n",
       "      <td>1/01/2010</td>\n",
       "      <td>0:12:16</td>\n",
       "      <td>14.83</td>\n",
       "      <td>0.44</td>\n",
       "      <td>125</td>\n",
       "      <td>586.23</td>\n",
       "      <td>79</td>\n",
       "      <td>0.0</td>\n",
       "      <td>0</td>\n",
       "      <td>0.0</td>\n",
       "      <td>0.0</td>\n",
       "      <td>0.0</td>\n",
       "    </tr>\n",
       "  </tbody>\n",
       "</table>\n",
       "</div>"
      ],
      "text/plain": [
       "       Fecha     Hora Temperatura(ºC) Velocidad(m/s) Direccion(º)  \\\n",
       "0  1/01/2010  0:02:07           14.83           0.44          125   \n",
       "1  1/01/2010  0:06:58           14.88            0.0          125   \n",
       "2  1/01/2010  0:12:16           14.83           0.44          125   \n",
       "\n",
       "  Presion(mmHg) Humedad(%) Precipitacion(mm) Radiacion(W/m^2)  \\\n",
       "0        586.31         80               0.0                0   \n",
       "1        586.23         80               0.0                0   \n",
       "2        586.23         79               0.0                0   \n",
       "\n",
       "  Evapotranspiracion(mm) Precipitacion_Real Evapo_real(mm)  \n",
       "0                    0.0                0.0            0.0  \n",
       "1                    0.0                0.0            0.0  \n",
       "2                    0.0                0.0            0.0  "
      ]
     },
     "execution_count": 87,
     "metadata": {},
     "output_type": "execute_result"
    }
   ],
   "source": [
    "milan.head(3)"
   ]
  },
  {
   "cell_type": "code",
   "execution_count": 218,
   "id": "236a545a",
   "metadata": {
    "ExecuteTime": {
     "end_time": "2022-07-16T15:26:34.997395Z",
     "start_time": "2022-07-16T15:26:29.782461Z"
    }
   },
   "outputs": [],
   "source": [
    "milan = milan.replace(\"-\", np.nan) \n",
    "milan = milan.apply(lambda x: x.str.replace(',','')) "
   ]
  },
  {
   "cell_type": "code",
   "execution_count": 219,
   "id": "92fea115",
   "metadata": {
    "ExecuteTime": {
     "end_time": "2022-07-16T15:26:41.963424Z",
     "start_time": "2022-07-16T15:26:39.222373Z"
    }
   },
   "outputs": [],
   "source": [
    "milan.to_csv('C:/Users/pulzara/Documents/Universidad internacional de valencia/TFM/base de datos/SIMAC organizados/BD2/milan.txt', sep = '|', index=False, header=True)"
   ]
  },
  {
   "cell_type": "markdown",
   "id": "899205e2",
   "metadata": {},
   "source": [
    "## Observatorio vulcanologico"
   ]
  },
  {
   "cell_type": "code",
   "execution_count": 220,
   "id": "a3498787",
   "metadata": {
    "ExecuteTime": {
     "end_time": "2022-07-16T15:26:45.073181Z",
     "start_time": "2022-07-16T15:26:43.584363Z"
    }
   },
   "outputs": [],
   "source": [
    "obs_vulcanologico_2010_1 = pd.read_csv('C:/Users/pulzara/Documents/Universidad internacional de valencia/TFM/base de datos/SIMAC organizados/obs vulcanologico/2010_obs_vulcanologico_1.csv',encoding=\"utf-8\", header=2)\n",
    "obs_vulcanologico_2010_2 = pd.read_csv('C:/Users/pulzara/Documents/Universidad internacional de valencia/TFM/base de datos/SIMAC organizados/obs vulcanologico/2010_obs_vulcanologico_2.csv',encoding=\"utf-8\", header=2)\n",
    "obs_vulcanologico_2011 = pd.read_csv('C:/Users/pulzara/Documents/Universidad internacional de valencia/TFM/base de datos/SIMAC organizados/obs vulcanologico/2011_obs_vulcanologico.csv',encoding=\"utf-8\", header=2)    \n",
    "obs_vulcanologico_2012 = pd.read_csv('C:/Users/pulzara/Documents/Universidad internacional de valencia/TFM/base de datos/SIMAC organizados/obs vulcanologico/2012_obs_vulcanologico.csv',encoding=\"utf-8\", header=2)    \n",
    "obs_vulcanologico_2013 = pd.read_csv('C:/Users/pulzara/Documents/Universidad internacional de valencia/TFM/base de datos/SIMAC organizados/obs vulcanologico/2013_obs_vulcanologico.csv',encoding=\"utf-8\", header=2)    \n",
    "obs_vulcanologico_2014 = pd.read_csv('C:/Users/pulzara/Documents/Universidad internacional de valencia/TFM/base de datos/SIMAC organizados/obs vulcanologico/2014_obs_vulcanologico.csv',encoding=\"utf-8\", header=2)    \n",
    "obs_vulcanologico_2015 = pd.read_csv('C:/Users/pulzara/Documents/Universidad internacional de valencia/TFM/base de datos/SIMAC organizados/obs vulcanologico/2015_obs_vulcanologico.csv',encoding=\"utf-8\", header=2)    \n",
    "obs_vulcanologico_2016 = pd.read_csv('C:/Users/pulzara/Documents/Universidad internacional de valencia/TFM/base de datos/SIMAC organizados/obs vulcanologico/2016_obs_vulcanologico.csv',encoding=\"utf-8\", header=2)    \n",
    "obs_vulcanologico_2017 = pd.read_csv('C:/Users/pulzara/Documents/Universidad internacional de valencia/TFM/base de datos/SIMAC organizados/obs vulcanologico/2017_obs_vulcanologico.csv',encoding=\"utf-8\", header=2)    \n",
    "obs_vulcanologico_2018 = pd.read_csv('C:/Users/pulzara/Documents/Universidad internacional de valencia/TFM/base de datos/SIMAC organizados/obs vulcanologico/2018_obs_vulcanologico.csv',encoding=\"utf-8\", header=2)    \n",
    "obs_vulcanologico_2019 = pd.read_csv('C:/Users/pulzara/Documents/Universidad internacional de valencia/TFM/base de datos/SIMAC organizados/obs vulcanologico/2019_obs_vulcanologico.csv',encoding=\"utf-8\", header=2)    \n",
    "obs_vulcanologico_2020 = pd.read_csv('C:/Users/pulzara/Documents/Universidad internacional de valencia/TFM/base de datos/SIMAC organizados/obs vulcanologico/2020_obs_vulcanologico.csv',encoding=\"utf-8\", header=2)    "
   ]
  },
  {
   "cell_type": "code",
   "execution_count": 221,
   "id": "82af18cf",
   "metadata": {
    "ExecuteTime": {
     "end_time": "2022-07-16T15:26:46.091181Z",
     "start_time": "2022-07-16T15:26:46.075833Z"
    }
   },
   "outputs": [],
   "source": [
    "obs_vulcanologico_2010_1.columns = obs_vulcanologico_2010_1.columns.str.strip()\n",
    "obs_vulcanologico_2010_2.columns = obs_vulcanologico_2010_2.columns.str.strip()\n",
    "obs_vulcanologico_2011.columns = obs_vulcanologico_2011.columns.str.strip()\n",
    "obs_vulcanologico_2012.columns = obs_vulcanologico_2012.columns.str.strip()\n",
    "obs_vulcanologico_2013.columns = obs_vulcanologico_2013.columns.str.strip()\n",
    "obs_vulcanologico_2014.columns = obs_vulcanologico_2014.columns.str.strip()\n",
    "obs_vulcanologico_2015.columns = obs_vulcanologico_2015.columns.str.strip()\n",
    "obs_vulcanologico_2016.columns = obs_vulcanologico_2016.columns.str.strip()\n",
    "obs_vulcanologico_2017.columns = obs_vulcanologico_2017.columns.str.strip()\n",
    "obs_vulcanologico_2018.columns = obs_vulcanologico_2018.columns.str.strip()\n",
    "obs_vulcanologico_2019.columns = obs_vulcanologico_2019.columns.str.strip()\n",
    "obs_vulcanologico_2020.columns = obs_vulcanologico_2020.columns.str.strip()"
   ]
  },
  {
   "cell_type": "code",
   "execution_count": 222,
   "id": "7fa8927f",
   "metadata": {
    "ExecuteTime": {
     "end_time": "2022-07-16T15:26:47.163387Z",
     "start_time": "2022-07-16T15:26:47.050697Z"
    }
   },
   "outputs": [],
   "source": [
    "obs_vulcanologico = pd.concat([obs_vulcanologico_2010_1,\n",
    "        obs_vulcanologico_2010_2,\n",
    "        obs_vulcanologico_2011,\n",
    "        obs_vulcanologico_2012,\n",
    "        obs_vulcanologico_2013,\n",
    "        obs_vulcanologico_2014,\n",
    "        obs_vulcanologico_2015,\n",
    "        obs_vulcanologico_2016,\n",
    "        obs_vulcanologico_2017,\n",
    "        obs_vulcanologico_2018,\n",
    "        obs_vulcanologico_2019,\n",
    "        obs_vulcanologico_2020,], axis = 0)"
   ]
  },
  {
   "cell_type": "code",
   "execution_count": 223,
   "id": "9465e029",
   "metadata": {
    "ExecuteTime": {
     "end_time": "2022-07-16T15:26:48.432102Z",
     "start_time": "2022-07-16T15:26:48.127767Z"
    }
   },
   "outputs": [],
   "source": [
    "obs_vulcanologico = obs_vulcanologico[['Fecha', 'Hora', 'Temperatura(ºC)', 'Velocidad(m/s)', 'Direccion(º)', 'Presion(mmHg)', 'Humedad(%)',\n",
    "                       'Precipitacion(mm)', 'Radiacion(W/m^2)','Evapotranspiracion(mm)','Precipitacion_Real', 'Evapo_real(mm)']] "
   ]
  },
  {
   "cell_type": "code",
   "execution_count": 94,
   "id": "1e10ee47",
   "metadata": {
    "ExecuteTime": {
     "end_time": "2022-07-16T15:00:39.857203Z",
     "start_time": "2022-07-16T15:00:39.843193Z"
    }
   },
   "outputs": [
    {
     "data": {
      "text/html": [
       "<div>\n",
       "<style scoped>\n",
       "    .dataframe tbody tr th:only-of-type {\n",
       "        vertical-align: middle;\n",
       "    }\n",
       "\n",
       "    .dataframe tbody tr th {\n",
       "        vertical-align: top;\n",
       "    }\n",
       "\n",
       "    .dataframe thead th {\n",
       "        text-align: right;\n",
       "    }\n",
       "</style>\n",
       "<table border=\"1\" class=\"dataframe\">\n",
       "  <thead>\n",
       "    <tr style=\"text-align: right;\">\n",
       "      <th></th>\n",
       "      <th>Fecha</th>\n",
       "      <th>Hora</th>\n",
       "      <th>Temperatura(ºC)</th>\n",
       "      <th>Velocidad(m/s)</th>\n",
       "      <th>Direccion(º)</th>\n",
       "      <th>Presion(mmHg)</th>\n",
       "      <th>Humedad(%)</th>\n",
       "      <th>Precipitacion(mm)</th>\n",
       "      <th>Radiacion(W/m^2)</th>\n",
       "      <th>Evapotranspiracion(mm)</th>\n",
       "      <th>Precipitacion_Real</th>\n",
       "      <th>Evapo_real(mm)</th>\n",
       "    </tr>\n",
       "  </thead>\n",
       "  <tbody>\n",
       "    <tr>\n",
       "      <th>0</th>\n",
       "      <td>1/01/2010</td>\n",
       "      <td>0:01:55</td>\n",
       "      <td>14.72</td>\n",
       "      <td>0.0</td>\n",
       "      <td>247</td>\n",
       "      <td>590.68</td>\n",
       "      <td>74</td>\n",
       "      <td>852.17</td>\n",
       "      <td>0</td>\n",
       "      <td>386.74</td>\n",
       "      <td>0.0</td>\n",
       "      <td>0.0</td>\n",
       "    </tr>\n",
       "    <tr>\n",
       "      <th>1</th>\n",
       "      <td>1/01/2010</td>\n",
       "      <td>0:06:45</td>\n",
       "      <td>14.61</td>\n",
       "      <td>0.0</td>\n",
       "      <td>247</td>\n",
       "      <td>590.68</td>\n",
       "      <td>76</td>\n",
       "      <td>852.17</td>\n",
       "      <td>0</td>\n",
       "      <td>386.74</td>\n",
       "      <td>0.0</td>\n",
       "      <td>0.0</td>\n",
       "    </tr>\n",
       "    <tr>\n",
       "      <th>2</th>\n",
       "      <td>1/01/2010</td>\n",
       "      <td>0:12:02</td>\n",
       "      <td>14.61</td>\n",
       "      <td>0.0</td>\n",
       "      <td>247</td>\n",
       "      <td>590.75</td>\n",
       "      <td>78</td>\n",
       "      <td>852.17</td>\n",
       "      <td>0</td>\n",
       "      <td>386.74</td>\n",
       "      <td>0.0</td>\n",
       "      <td>0.0</td>\n",
       "    </tr>\n",
       "  </tbody>\n",
       "</table>\n",
       "</div>"
      ],
      "text/plain": [
       "       Fecha     Hora Temperatura(ºC) Velocidad(m/s) Direccion(º)  \\\n",
       "0  1/01/2010  0:01:55           14.72            0.0          247   \n",
       "1  1/01/2010  0:06:45           14.61            0.0          247   \n",
       "2  1/01/2010  0:12:02           14.61            0.0          247   \n",
       "\n",
       "  Presion(mmHg) Humedad(%) Precipitacion(mm) Radiacion(W/m^2)  \\\n",
       "0        590.68         74            852.17                0   \n",
       "1        590.68         76            852.17                0   \n",
       "2        590.75         78            852.17                0   \n",
       "\n",
       "  Evapotranspiracion(mm) Precipitacion_Real Evapo_real(mm)  \n",
       "0                 386.74                0.0            0.0  \n",
       "1                 386.74                0.0            0.0  \n",
       "2                 386.74                0.0            0.0  "
      ]
     },
     "execution_count": 94,
     "metadata": {},
     "output_type": "execute_result"
    }
   ],
   "source": [
    "obs_vulcanologico.head(3) "
   ]
  },
  {
   "cell_type": "code",
   "execution_count": 224,
   "id": "10b70ed5",
   "metadata": {
    "ExecuteTime": {
     "end_time": "2022-07-16T15:27:11.442038Z",
     "start_time": "2022-07-16T15:27:06.254618Z"
    }
   },
   "outputs": [],
   "source": [
    "obs_vulcanologico = obs_vulcanologico.replace(\"-\", np.nan) \n",
    "obs_vulcanologico = obs_vulcanologico.apply(lambda x: x.str.replace(',','')) "
   ]
  },
  {
   "cell_type": "code",
   "execution_count": 225,
   "id": "ca5cbc72",
   "metadata": {
    "ExecuteTime": {
     "end_time": "2022-07-16T15:27:22.720414Z",
     "start_time": "2022-07-16T15:27:19.965690Z"
    }
   },
   "outputs": [],
   "source": [
    "obs_vulcanologico.to_csv('C:/Users/pulzara/Documents/Universidad internacional de valencia/TFM/base de datos/SIMAC organizados/BD2/obs_vulcanologico.txt', sep = '|', index=False, header=True)"
   ]
  },
  {
   "cell_type": "markdown",
   "id": "8a219b5e",
   "metadata": {},
   "source": [
    "## Posgrados"
   ]
  },
  {
   "cell_type": "code",
   "execution_count": 226,
   "id": "bc9410f8",
   "metadata": {
    "ExecuteTime": {
     "end_time": "2022-07-16T15:27:25.913192Z",
     "start_time": "2022-07-16T15:27:24.349711Z"
    }
   },
   "outputs": [],
   "source": [
    "posgrados_2010_1 = pd.read_csv('C:/Users/pulzara/Documents/Universidad internacional de valencia/TFM/base de datos/SIMAC organizados/posgrados/2010_posgrados_1.csv',encoding=\"utf-8\", header=2)\n",
    "posgrados_2010_2 = pd.read_csv('C:/Users/pulzara/Documents/Universidad internacional de valencia/TFM/base de datos/SIMAC organizados/posgrados/2010_posgrados_2.csv',encoding=\"utf-8\", header=2)\n",
    "posgrados_2011 = pd.read_csv('C:/Users/pulzara/Documents/Universidad internacional de valencia/TFM/base de datos/SIMAC organizados/posgrados/2011_posgrados.csv',encoding=\"utf-8\", header=2)    \n",
    "posgrados_2012 = pd.read_csv('C:/Users/pulzara/Documents/Universidad internacional de valencia/TFM/base de datos/SIMAC organizados/posgrados/2012_posgrados.csv',encoding=\"utf-8\", header=2)    \n",
    "posgrados_2013 = pd.read_csv('C:/Users/pulzara/Documents/Universidad internacional de valencia/TFM/base de datos/SIMAC organizados/posgrados/2013_posgrados.csv',encoding=\"utf-8\", header=2)    \n",
    "posgrados_2014 = pd.read_csv('C:/Users/pulzara/Documents/Universidad internacional de valencia/TFM/base de datos/SIMAC organizados/posgrados/2014_posgrados.csv',encoding=\"utf-8\", header=2)    \n",
    "posgrados_2015 = pd.read_csv('C:/Users/pulzara/Documents/Universidad internacional de valencia/TFM/base de datos/SIMAC organizados/posgrados/2015_posgrados.csv',encoding=\"utf-8\", header=2)    \n",
    "posgrados_2016 = pd.read_csv('C:/Users/pulzara/Documents/Universidad internacional de valencia/TFM/base de datos/SIMAC organizados/posgrados/2016_posgrados.csv',encoding=\"utf-8\", header=2)    \n",
    "posgrados_2017 = pd.read_csv('C:/Users/pulzara/Documents/Universidad internacional de valencia/TFM/base de datos/SIMAC organizados/posgrados/2017_posgrados.csv',encoding=\"utf-8\", header=2)    \n",
    "posgrados_2018 = pd.read_csv('C:/Users/pulzara/Documents/Universidad internacional de valencia/TFM/base de datos/SIMAC organizados/posgrados/2018_posgrados.csv',encoding=\"utf-8\", header=2)    \n",
    "posgrados_2019 = pd.read_csv('C:/Users/pulzara/Documents/Universidad internacional de valencia/TFM/base de datos/SIMAC organizados/posgrados/2019_posgrados.csv',encoding=\"utf-8\", header=2)    \n",
    "posgrados_2020 = pd.read_csv('C:/Users/pulzara/Documents/Universidad internacional de valencia/TFM/base de datos/SIMAC organizados/posgrados/2020_posgrados.csv',encoding=\"utf-8\", header=2)    "
   ]
  },
  {
   "cell_type": "code",
   "execution_count": 227,
   "id": "e4d6e52d",
   "metadata": {
    "ExecuteTime": {
     "end_time": "2022-07-16T15:27:26.908046Z",
     "start_time": "2022-07-16T15:27:26.893307Z"
    }
   },
   "outputs": [],
   "source": [
    "posgrados_2010_1.columns = posgrados_2010_1.columns.str.strip()\n",
    "posgrados_2010_2.columns = posgrados_2010_2.columns.str.strip()\n",
    "posgrados_2011.columns = posgrados_2011.columns.str.strip()\n",
    "posgrados_2012.columns = posgrados_2012.columns.str.strip()\n",
    "posgrados_2013.columns = posgrados_2013.columns.str.strip()\n",
    "posgrados_2014.columns = posgrados_2014.columns.str.strip()\n",
    "posgrados_2015.columns = posgrados_2015.columns.str.strip()\n",
    "posgrados_2016.columns = posgrados_2016.columns.str.strip()\n",
    "posgrados_2017.columns = posgrados_2017.columns.str.strip()\n",
    "posgrados_2018.columns = posgrados_2018.columns.str.strip()\n",
    "posgrados_2019.columns = posgrados_2019.columns.str.strip()\n",
    "posgrados_2020.columns = posgrados_2020.columns.str.strip()"
   ]
  },
  {
   "cell_type": "code",
   "execution_count": 228,
   "id": "307d5ab7",
   "metadata": {
    "ExecuteTime": {
     "end_time": "2022-07-16T15:27:27.982859Z",
     "start_time": "2022-07-16T15:27:27.861188Z"
    }
   },
   "outputs": [],
   "source": [
    "posgrados = pd.concat([posgrados_2010_1,\n",
    "        posgrados_2010_2,\n",
    "        posgrados_2011,\n",
    "        posgrados_2012,\n",
    "        posgrados_2013,\n",
    "        posgrados_2014,\n",
    "        posgrados_2015,\n",
    "        posgrados_2016,\n",
    "        posgrados_2017,\n",
    "        posgrados_2018,\n",
    "        posgrados_2019,\n",
    "        posgrados_2020,], axis = 0)"
   ]
  },
  {
   "cell_type": "code",
   "execution_count": 229,
   "id": "3721f67d",
   "metadata": {
    "ExecuteTime": {
     "end_time": "2022-07-16T15:27:29.552854Z",
     "start_time": "2022-07-16T15:27:29.228494Z"
    }
   },
   "outputs": [],
   "source": [
    "posgrados = posgrados[['Fecha', 'Hora', 'Temperatura(ºC)', 'Velocidad(m/s)', 'Direccion(º)', 'Presion(mmHg)', 'Humedad(%)',\n",
    "                       'Precipitacion(mm)', 'Radiacion(W/m^2)','Evapotranspiracion(mm)','Precipitacion_Real', 'Evapo_real(mm)']] "
   ]
  },
  {
   "cell_type": "code",
   "execution_count": 101,
   "id": "c1bd7abf",
   "metadata": {
    "ExecuteTime": {
     "end_time": "2022-07-16T15:01:22.123392Z",
     "start_time": "2022-07-16T15:01:22.109395Z"
    }
   },
   "outputs": [
    {
     "data": {
      "text/html": [
       "<div>\n",
       "<style scoped>\n",
       "    .dataframe tbody tr th:only-of-type {\n",
       "        vertical-align: middle;\n",
       "    }\n",
       "\n",
       "    .dataframe tbody tr th {\n",
       "        vertical-align: top;\n",
       "    }\n",
       "\n",
       "    .dataframe thead th {\n",
       "        text-align: right;\n",
       "    }\n",
       "</style>\n",
       "<table border=\"1\" class=\"dataframe\">\n",
       "  <thead>\n",
       "    <tr style=\"text-align: right;\">\n",
       "      <th></th>\n",
       "      <th>Fecha</th>\n",
       "      <th>Hora</th>\n",
       "      <th>Temperatura(ºC)</th>\n",
       "      <th>Velocidad(m/s)</th>\n",
       "      <th>Direccion(º)</th>\n",
       "      <th>Presion(mmHg)</th>\n",
       "      <th>Humedad(%)</th>\n",
       "      <th>Precipitacion(mm)</th>\n",
       "      <th>Radiacion(W/m^2)</th>\n",
       "      <th>Evapotranspiracion(mm)</th>\n",
       "      <th>Precipitacion_Real</th>\n",
       "      <th>Evapo_real(mm)</th>\n",
       "    </tr>\n",
       "  </thead>\n",
       "  <tbody>\n",
       "    <tr>\n",
       "      <th>0</th>\n",
       "      <td>1/01/2010</td>\n",
       "      <td>0:02:13</td>\n",
       "      <td>13.55</td>\n",
       "      <td>0.44</td>\n",
       "      <td>147</td>\n",
       "      <td>591.54</td>\n",
       "      <td>88</td>\n",
       "      <td>79.75</td>\n",
       "      <td>0</td>\n",
       "      <td>63.01</td>\n",
       "      <td>0.0</td>\n",
       "      <td>0.0</td>\n",
       "    </tr>\n",
       "    <tr>\n",
       "      <th>1</th>\n",
       "      <td>1/01/2010</td>\n",
       "      <td>0:07:02</td>\n",
       "      <td>13.55</td>\n",
       "      <td>0.44</td>\n",
       "      <td>147</td>\n",
       "      <td>591.54</td>\n",
       "      <td>88</td>\n",
       "      <td>79.75</td>\n",
       "      <td>0</td>\n",
       "      <td>63.01</td>\n",
       "      <td>0.0</td>\n",
       "      <td>0.0</td>\n",
       "    </tr>\n",
       "    <tr>\n",
       "      <th>2</th>\n",
       "      <td>1/01/2010</td>\n",
       "      <td>0:12:22</td>\n",
       "      <td>13.55</td>\n",
       "      <td>0.89</td>\n",
       "      <td>146</td>\n",
       "      <td>591.54</td>\n",
       "      <td>88</td>\n",
       "      <td>79.75</td>\n",
       "      <td>0</td>\n",
       "      <td>63.01</td>\n",
       "      <td>0.0</td>\n",
       "      <td>0.0</td>\n",
       "    </tr>\n",
       "  </tbody>\n",
       "</table>\n",
       "</div>"
      ],
      "text/plain": [
       "       Fecha     Hora Temperatura(ºC) Velocidad(m/s) Direccion(º)  \\\n",
       "0  1/01/2010  0:02:13           13.55           0.44          147   \n",
       "1  1/01/2010  0:07:02           13.55           0.44          147   \n",
       "2  1/01/2010  0:12:22           13.55           0.89          146   \n",
       "\n",
       "  Presion(mmHg) Humedad(%) Precipitacion(mm) Radiacion(W/m^2)  \\\n",
       "0        591.54         88             79.75                0   \n",
       "1        591.54         88             79.75                0   \n",
       "2        591.54         88             79.75                0   \n",
       "\n",
       "  Evapotranspiracion(mm) Precipitacion_Real Evapo_real(mm)  \n",
       "0                  63.01                0.0            0.0  \n",
       "1                  63.01                0.0            0.0  \n",
       "2                  63.01                0.0            0.0  "
      ]
     },
     "execution_count": 101,
     "metadata": {},
     "output_type": "execute_result"
    }
   ],
   "source": [
    "posgrados.head(3)   "
   ]
  },
  {
   "cell_type": "code",
   "execution_count": 230,
   "id": "15d74ec4",
   "metadata": {
    "ExecuteTime": {
     "end_time": "2022-07-16T15:27:45.240793Z",
     "start_time": "2022-07-16T15:27:40.342866Z"
    }
   },
   "outputs": [],
   "source": [
    "posgrados = posgrados.replace(\"-\", np.nan) \n",
    "posgrados = posgrados.apply(lambda x: x.str.replace(',',''))"
   ]
  },
  {
   "cell_type": "code",
   "execution_count": 231,
   "id": "3f1fadf2",
   "metadata": {
    "ExecuteTime": {
     "end_time": "2022-07-16T15:27:49.089669Z",
     "start_time": "2022-07-16T15:27:46.237240Z"
    }
   },
   "outputs": [],
   "source": [
    "posgrados.to_csv('C:/Users/pulzara/Documents/Universidad internacional de valencia/TFM/base de datos/SIMAC organizados/BD2/posgrados.txt', sep = '|', index=False, header=True)"
   ]
  },
  {
   "cell_type": "markdown",
   "id": "7eee71c9",
   "metadata": {},
   "source": [
    "## Palogrande"
   ]
  },
  {
   "cell_type": "code",
   "execution_count": 232,
   "id": "f0f9a2df",
   "metadata": {
    "ExecuteTime": {
     "end_time": "2022-07-16T15:27:54.198472Z",
     "start_time": "2022-07-16T15:27:52.878940Z"
    }
   },
   "outputs": [],
   "source": [
    "palogrande_2010_1 = pd.read_csv('C:/Users/pulzara/Documents/Universidad internacional de valencia/TFM/base de datos/SIMAC organizados/q palogrande/2010_q_palogrande_ruta30_1.csv',encoding=\"utf-8\", header=2)\n",
    "palogrande_2010_2 = pd.read_csv('C:/Users/pulzara/Documents/Universidad internacional de valencia/TFM/base de datos/SIMAC organizados/q palogrande/2010_q_palogrande_ruta30_2.csv',encoding=\"utf-8\", header=2)\n",
    "palogrande_2011 = pd.read_csv('C:/Users/pulzara/Documents/Universidad internacional de valencia/TFM/base de datos/SIMAC organizados/q palogrande/2011_q_palogrande_ruta30.csv',encoding=\"utf-8\", header=2)    \n",
    "palogrande_2012 = pd.read_csv('C:/Users/pulzara/Documents/Universidad internacional de valencia/TFM/base de datos/SIMAC organizados/q palogrande/2012_q_palogrande_ruta30.csv',encoding=\"utf-8\", header=2)    \n",
    "palogrande_2013 = pd.read_csv('C:/Users/pulzara/Documents/Universidad internacional de valencia/TFM/base de datos/SIMAC organizados/q palogrande/2013_q_palogrande_ruta30.csv',encoding=\"utf-8\", header=2)    \n",
    "palogrande_2014 = pd.read_csv('C:/Users/pulzara/Documents/Universidad internacional de valencia/TFM/base de datos/SIMAC organizados/q palogrande/2014_q_palogrande_ruta30.csv',encoding=\"utf-8\", header=2)    \n",
    "palogrande_2015 = pd.read_csv('C:/Users/pulzara/Documents/Universidad internacional de valencia/TFM/base de datos/SIMAC organizados/q palogrande/2015_q_palogrande_ruta30.csv',encoding=\"utf-8\", header=2)    \n",
    "palogrande_2016 = pd.read_csv('C:/Users/pulzara/Documents/Universidad internacional de valencia/TFM/base de datos/SIMAC organizados/q palogrande/2016_q_palogrande_ruta30.csv',encoding=\"utf-8\", header=2)    \n",
    "palogrande_2017 = pd.read_csv('C:/Users/pulzara/Documents/Universidad internacional de valencia/TFM/base de datos/SIMAC organizados/q palogrande/2017_q_palogrande_ruta30.csv',encoding=\"utf-8\", header=2)    \n",
    "palogrande_2018 = pd.read_csv('C:/Users/pulzara/Documents/Universidad internacional de valencia/TFM/base de datos/SIMAC organizados/q palogrande/2018_q_palogrande_ruta30.csv',encoding=\"utf-8\", header=2)    \n",
    "palogrande_2019 = pd.read_csv('C:/Users/pulzara/Documents/Universidad internacional de valencia/TFM/base de datos/SIMAC organizados/q palogrande/2019_q_palogrande_ruta30.csv',encoding=\"utf-8\", header=2)    \n",
    "palogrande_2020 = pd.read_csv('C:/Users/pulzara/Documents/Universidad internacional de valencia/TFM/base de datos/SIMAC organizados/q palogrande/2020_q_palogrande_ruta30.csv',encoding=\"utf-8\", header=2)    "
   ]
  },
  {
   "cell_type": "code",
   "execution_count": 233,
   "id": "9f6104c2",
   "metadata": {
    "ExecuteTime": {
     "end_time": "2022-07-16T15:27:55.214541Z",
     "start_time": "2022-07-16T15:27:55.199336Z"
    }
   },
   "outputs": [],
   "source": [
    "palogrande_2010_1.columns = palogrande_2010_1.columns.str.strip()\n",
    "palogrande_2010_2.columns = palogrande_2010_2.columns.str.strip()\n",
    "palogrande_2011.columns = palogrande_2011.columns.str.strip()\n",
    "palogrande_2012.columns = palogrande_2012.columns.str.strip()\n",
    "palogrande_2013.columns = palogrande_2013.columns.str.strip()\n",
    "palogrande_2014.columns = palogrande_2014.columns.str.strip()\n",
    "palogrande_2015.columns = palogrande_2015.columns.str.strip()\n",
    "palogrande_2016.columns = palogrande_2016.columns.str.strip()\n",
    "palogrande_2017.columns = palogrande_2017.columns.str.strip()\n",
    "palogrande_2018.columns = palogrande_2018.columns.str.strip()\n",
    "palogrande_2019.columns = palogrande_2019.columns.str.strip()\n",
    "palogrande_2020.columns = palogrande_2020.columns.str.strip()"
   ]
  },
  {
   "cell_type": "code",
   "execution_count": 234,
   "id": "1f194dbd",
   "metadata": {
    "ExecuteTime": {
     "end_time": "2022-07-16T15:27:56.311220Z",
     "start_time": "2022-07-16T15:27:56.187221Z"
    }
   },
   "outputs": [],
   "source": [
    "palogrande = pd.concat([palogrande_2010_1,\n",
    "        palogrande_2010_2,\n",
    "        palogrande_2011,\n",
    "        palogrande_2012,\n",
    "        palogrande_2013,\n",
    "        palogrande_2014,\n",
    "        palogrande_2015,\n",
    "        palogrande_2016,\n",
    "        palogrande_2017,\n",
    "        palogrande_2018,\n",
    "        palogrande_2019,\n",
    "        palogrande_2020,], axis = 0)"
   ]
  },
  {
   "cell_type": "code",
   "execution_count": 235,
   "id": "0cc02fb1",
   "metadata": {
    "ExecuteTime": {
     "end_time": "2022-07-16T15:27:57.780793Z",
     "start_time": "2022-07-16T15:27:57.490933Z"
    }
   },
   "outputs": [],
   "source": [
    "palogrande = palogrande[['Fecha', 'Hora', 'Temperatura(ºC)', 'Velocidad(m/s)', 'Direccion(º)', 'Presion(mmHg)', 'Humedad(%)',\n",
    "                       'Precipitacion(mm)', 'Radiacion(W/m^2)','Evapotranspiracion(mm)','Precipitacion_Real', 'Evapo_real(mm)']]  "
   ]
  },
  {
   "cell_type": "code",
   "execution_count": 108,
   "id": "89bf19a1",
   "metadata": {
    "ExecuteTime": {
     "end_time": "2022-07-16T15:02:00.769292Z",
     "start_time": "2022-07-16T15:02:00.754290Z"
    }
   },
   "outputs": [
    {
     "data": {
      "text/html": [
       "<div>\n",
       "<style scoped>\n",
       "    .dataframe tbody tr th:only-of-type {\n",
       "        vertical-align: middle;\n",
       "    }\n",
       "\n",
       "    .dataframe tbody tr th {\n",
       "        vertical-align: top;\n",
       "    }\n",
       "\n",
       "    .dataframe thead th {\n",
       "        text-align: right;\n",
       "    }\n",
       "</style>\n",
       "<table border=\"1\" class=\"dataframe\">\n",
       "  <thead>\n",
       "    <tr style=\"text-align: right;\">\n",
       "      <th></th>\n",
       "      <th>Fecha</th>\n",
       "      <th>Hora</th>\n",
       "      <th>Temperatura(ºC)</th>\n",
       "      <th>Velocidad(m/s)</th>\n",
       "      <th>Direccion(º)</th>\n",
       "      <th>Presion(mmHg)</th>\n",
       "      <th>Humedad(%)</th>\n",
       "      <th>Precipitacion(mm)</th>\n",
       "      <th>Radiacion(W/m^2)</th>\n",
       "      <th>Evapotranspiracion(mm)</th>\n",
       "      <th>Precipitacion_Real</th>\n",
       "      <th>Evapo_real(mm)</th>\n",
       "    </tr>\n",
       "  </thead>\n",
       "  <tbody>\n",
       "    <tr>\n",
       "      <th>101538</th>\n",
       "      <td>31/12/2020</td>\n",
       "      <td>23:45:00</td>\n",
       "      <td>-</td>\n",
       "      <td>NaN</td>\n",
       "      <td>NaN</td>\n",
       "      <td>NaN</td>\n",
       "      <td>NaN</td>\n",
       "      <td>76.4</td>\n",
       "      <td>NaN</td>\n",
       "      <td>NaN</td>\n",
       "      <td>0.0</td>\n",
       "      <td>NaN</td>\n",
       "    </tr>\n",
       "    <tr>\n",
       "      <th>101539</th>\n",
       "      <td>31/12/2020</td>\n",
       "      <td>23:50:00</td>\n",
       "      <td>-</td>\n",
       "      <td>NaN</td>\n",
       "      <td>NaN</td>\n",
       "      <td>NaN</td>\n",
       "      <td>NaN</td>\n",
       "      <td>76.4</td>\n",
       "      <td>NaN</td>\n",
       "      <td>NaN</td>\n",
       "      <td>0.0</td>\n",
       "      <td>NaN</td>\n",
       "    </tr>\n",
       "    <tr>\n",
       "      <th>101540</th>\n",
       "      <td>31/12/2020</td>\n",
       "      <td>23:55:00</td>\n",
       "      <td>-</td>\n",
       "      <td>NaN</td>\n",
       "      <td>NaN</td>\n",
       "      <td>NaN</td>\n",
       "      <td>NaN</td>\n",
       "      <td>76.4</td>\n",
       "      <td>NaN</td>\n",
       "      <td>NaN</td>\n",
       "      <td>0.0</td>\n",
       "      <td>NaN</td>\n",
       "    </tr>\n",
       "  </tbody>\n",
       "</table>\n",
       "</div>"
      ],
      "text/plain": [
       "             Fecha      Hora Temperatura(ºC)  Velocidad(m/s)  Direccion(º)  \\\n",
       "101538  31/12/2020  23:45:00               -             NaN           NaN   \n",
       "101539  31/12/2020  23:50:00               -             NaN           NaN   \n",
       "101540  31/12/2020  23:55:00               -             NaN           NaN   \n",
       "\n",
       "        Presion(mmHg)  Humedad(%) Precipitacion(mm)  Radiacion(W/m^2)  \\\n",
       "101538            NaN         NaN              76.4               NaN   \n",
       "101539            NaN         NaN              76.4               NaN   \n",
       "101540            NaN         NaN              76.4               NaN   \n",
       "\n",
       "        Evapotranspiracion(mm) Precipitacion_Real  Evapo_real(mm)  \n",
       "101538                     NaN                0.0             NaN  \n",
       "101539                     NaN                0.0             NaN  \n",
       "101540                     NaN                0.0             NaN  "
      ]
     },
     "execution_count": 108,
     "metadata": {},
     "output_type": "execute_result"
    }
   ],
   "source": [
    "palogrande.tail(3)  "
   ]
  },
  {
   "cell_type": "code",
   "execution_count": 237,
   "id": "700b1052",
   "metadata": {
    "ExecuteTime": {
     "end_time": "2022-07-16T15:28:44.313966Z",
     "start_time": "2022-07-16T15:28:43.887804Z"
    }
   },
   "outputs": [],
   "source": [
    "palogrande = palogrande.replace(\"-\", np.nan) \n",
    "palogrande = palogrande.apply(lambda x: x.replace(',','')) "
   ]
  },
  {
   "cell_type": "code",
   "execution_count": 240,
   "id": "31e50455",
   "metadata": {
    "ExecuteTime": {
     "end_time": "2022-07-16T15:30:02.982952Z",
     "start_time": "2022-07-16T15:29:59.302735Z"
    }
   },
   "outputs": [],
   "source": [
    "palogrande.to_csv('C:/Users/pulzara/Documents/Universidad internacional de valencia/TFM/base de datos/SIMAC organizados/BD2/palogrande.txt', sep = '|', index=False, header=True)"
   ]
  },
  {
   "cell_type": "markdown",
   "id": "8efa7d39",
   "metadata": {},
   "source": [
    "## Yarumos"
   ]
  },
  {
   "cell_type": "code",
   "execution_count": 241,
   "id": "6327595b",
   "metadata": {
    "ExecuteTime": {
     "end_time": "2022-07-16T15:30:06.807138Z",
     "start_time": "2022-07-16T15:30:05.359076Z"
    }
   },
   "outputs": [],
   "source": [
    "yarumos_2010_1 = pd.read_csv('C:/Users/pulzara/Documents/Universidad internacional de valencia/TFM/base de datos/SIMAC organizados/yarumos/2010_yarumos_1.csv',encoding=\"utf-8\", header=2)\n",
    "yarumos_2010_2 = pd.read_csv('C:/Users/pulzara/Documents/Universidad internacional de valencia/TFM/base de datos/SIMAC organizados/yarumos/2010_yarumos_2.csv',encoding=\"utf-8\", header=2)\n",
    "yarumos_2011 = pd.read_csv('C:/Users/pulzara/Documents/Universidad internacional de valencia/TFM/base de datos/SIMAC organizados/yarumos/2011_yarumos.csv',encoding=\"utf-8\", header=2)    \n",
    "yarumos_2012 = pd.read_csv('C:/Users/pulzara/Documents/Universidad internacional de valencia/TFM/base de datos/SIMAC organizados/yarumos/2012_yarumos.csv',encoding=\"utf-8\", header=2)    \n",
    "yarumos_2013 = pd.read_csv('C:/Users/pulzara/Documents/Universidad internacional de valencia/TFM/base de datos/SIMAC organizados/yarumos/2013_yarumos.csv',encoding=\"utf-8\", header=2)    \n",
    "yarumos_2014 = pd.read_csv('C:/Users/pulzara/Documents/Universidad internacional de valencia/TFM/base de datos/SIMAC organizados/yarumos/2014_yarumos.csv',encoding=\"utf-8\", header=2)    \n",
    "yarumos_2015 = pd.read_csv('C:/Users/pulzara/Documents/Universidad internacional de valencia/TFM/base de datos/SIMAC organizados/yarumos/2015_yarumos.csv',encoding=\"utf-8\", header=2)    \n",
    "yarumos_2016 = pd.read_csv('C:/Users/pulzara/Documents/Universidad internacional de valencia/TFM/base de datos/SIMAC organizados/yarumos/2016_yarumos.csv',encoding=\"utf-8\", header=2)    \n",
    "yarumos_2017 = pd.read_csv('C:/Users/pulzara/Documents/Universidad internacional de valencia/TFM/base de datos/SIMAC organizados/yarumos/2017_yarumos.csv',encoding=\"utf-8\", header=2)    \n",
    "yarumos_2018 = pd.read_csv('C:/Users/pulzara/Documents/Universidad internacional de valencia/TFM/base de datos/SIMAC organizados/yarumos/2018_yarumos.csv',encoding=\"utf-8\", header=2)    \n",
    "yarumos_2019 = pd.read_csv('C:/Users/pulzara/Documents/Universidad internacional de valencia/TFM/base de datos/SIMAC organizados/yarumos/2019_yarumos.csv',encoding=\"utf-8\", header=2)    \n",
    "yarumos_2020 = pd.read_csv('C:/Users/pulzara/Documents/Universidad internacional de valencia/TFM/base de datos/SIMAC organizados/yarumos/2020_yarumos.csv',encoding=\"utf-8\", header=2)    "
   ]
  },
  {
   "cell_type": "code",
   "execution_count": 242,
   "id": "f8ff108d",
   "metadata": {
    "ExecuteTime": {
     "end_time": "2022-07-16T15:30:07.779761Z",
     "start_time": "2022-07-16T15:30:07.765764Z"
    }
   },
   "outputs": [],
   "source": [
    "yarumos_2010_1.columns = yarumos_2010_1.columns.str.strip()\n",
    "yarumos_2010_2.columns = yarumos_2010_2.columns.str.strip()\n",
    "yarumos_2011.columns = yarumos_2011.columns.str.strip()\n",
    "yarumos_2012.columns = yarumos_2012.columns.str.strip()\n",
    "yarumos_2013.columns = yarumos_2013.columns.str.strip()\n",
    "yarumos_2014.columns = yarumos_2014.columns.str.strip()\n",
    "yarumos_2015.columns = yarumos_2015.columns.str.strip()\n",
    "yarumos_2016.columns = yarumos_2016.columns.str.strip()\n",
    "yarumos_2017.columns = yarumos_2017.columns.str.strip()\n",
    "yarumos_2018.columns = yarumos_2018.columns.str.strip()\n",
    "yarumos_2019.columns = yarumos_2019.columns.str.strip() \n",
    "yarumos_2020.columns = yarumos_2020.columns.str.strip()"
   ]
  },
  {
   "cell_type": "code",
   "execution_count": 243,
   "id": "5ffe4a2a",
   "metadata": {
    "ExecuteTime": {
     "end_time": "2022-07-16T15:30:08.863603Z",
     "start_time": "2022-07-16T15:30:08.742970Z"
    }
   },
   "outputs": [],
   "source": [
    "yarumos = pd.concat([yarumos_2010_1,\n",
    "        yarumos_2010_2,\n",
    "        yarumos_2011,\n",
    "        yarumos_2012,\n",
    "        yarumos_2013,\n",
    "        yarumos_2014,\n",
    "        yarumos_2015,\n",
    "        yarumos_2016,\n",
    "        yarumos_2017,\n",
    "        yarumos_2018,\n",
    "        yarumos_2019,\n",
    "        yarumos_2020,], axis = 0)"
   ]
  },
  {
   "cell_type": "code",
   "execution_count": 244,
   "id": "ea6f465e",
   "metadata": {
    "ExecuteTime": {
     "end_time": "2022-07-16T15:30:10.133639Z",
     "start_time": "2022-07-16T15:30:09.828090Z"
    }
   },
   "outputs": [],
   "source": [
    "yarumos = yarumos[['Fecha', 'Hora', 'Temperatura(ºC)', 'Velocidad(m/s)', 'Direccion(º)', 'Presion(mmHg)', 'Humedad(%)',\n",
    "                       'Precipitacion(mm)', 'Radiacion(W/m^2)','Evapotranspiracion(mm)','Precipitacion_Real', 'Evapo_real(mm)']] "
   ]
  },
  {
   "cell_type": "code",
   "execution_count": 115,
   "id": "2be4a63d",
   "metadata": {
    "ExecuteTime": {
     "end_time": "2022-07-16T15:02:32.574643Z",
     "start_time": "2022-07-16T15:02:32.560642Z"
    }
   },
   "outputs": [
    {
     "data": {
      "text/html": [
       "<div>\n",
       "<style scoped>\n",
       "    .dataframe tbody tr th:only-of-type {\n",
       "        vertical-align: middle;\n",
       "    }\n",
       "\n",
       "    .dataframe tbody tr th {\n",
       "        vertical-align: top;\n",
       "    }\n",
       "\n",
       "    .dataframe thead th {\n",
       "        text-align: right;\n",
       "    }\n",
       "</style>\n",
       "<table border=\"1\" class=\"dataframe\">\n",
       "  <thead>\n",
       "    <tr style=\"text-align: right;\">\n",
       "      <th></th>\n",
       "      <th>Fecha</th>\n",
       "      <th>Hora</th>\n",
       "      <th>Temperatura(ºC)</th>\n",
       "      <th>Velocidad(m/s)</th>\n",
       "      <th>Direccion(º)</th>\n",
       "      <th>Presion(mmHg)</th>\n",
       "      <th>Humedad(%)</th>\n",
       "      <th>Precipitacion(mm)</th>\n",
       "      <th>Radiacion(W/m^2)</th>\n",
       "      <th>Evapotranspiracion(mm)</th>\n",
       "      <th>Precipitacion_Real</th>\n",
       "      <th>Evapo_real(mm)</th>\n",
       "    </tr>\n",
       "  </thead>\n",
       "  <tbody>\n",
       "    <tr>\n",
       "      <th>0</th>\n",
       "      <td>1/01/2010</td>\n",
       "      <td>0:02:26</td>\n",
       "      <td>11.94</td>\n",
       "      <td>1.78</td>\n",
       "      <td>94</td>\n",
       "      <td>589.42</td>\n",
       "      <td>90</td>\n",
       "      <td>90.17</td>\n",
       "      <td>0</td>\n",
       "      <td>41.67</td>\n",
       "      <td>0.0</td>\n",
       "      <td>0.0</td>\n",
       "    </tr>\n",
       "    <tr>\n",
       "      <th>1</th>\n",
       "      <td>1/01/2010</td>\n",
       "      <td>0:07:15</td>\n",
       "      <td>11.88</td>\n",
       "      <td>1.78</td>\n",
       "      <td>102</td>\n",
       "      <td>589.38</td>\n",
       "      <td>90</td>\n",
       "      <td>90.17</td>\n",
       "      <td>0</td>\n",
       "      <td>41.67</td>\n",
       "      <td>0.0</td>\n",
       "      <td>0.0</td>\n",
       "    </tr>\n",
       "    <tr>\n",
       "      <th>2</th>\n",
       "      <td>1/01/2010</td>\n",
       "      <td>0:12:34</td>\n",
       "      <td>11.88</td>\n",
       "      <td>1.78</td>\n",
       "      <td>91</td>\n",
       "      <td>589.28</td>\n",
       "      <td>90</td>\n",
       "      <td>90.17</td>\n",
       "      <td>0</td>\n",
       "      <td>41.67</td>\n",
       "      <td>0.0</td>\n",
       "      <td>0.0</td>\n",
       "    </tr>\n",
       "  </tbody>\n",
       "</table>\n",
       "</div>"
      ],
      "text/plain": [
       "       Fecha     Hora Temperatura(ºC) Velocidad(m/s) Direccion(º)  \\\n",
       "0  1/01/2010  0:02:26           11.94           1.78           94   \n",
       "1  1/01/2010  0:07:15           11.88           1.78          102   \n",
       "2  1/01/2010  0:12:34           11.88           1.78           91   \n",
       "\n",
       "  Presion(mmHg) Humedad(%) Precipitacion(mm) Radiacion(W/m^2)  \\\n",
       "0        589.42         90             90.17                0   \n",
       "1        589.38         90             90.17                0   \n",
       "2        589.28         90             90.17                0   \n",
       "\n",
       "  Evapotranspiracion(mm) Precipitacion_Real Evapo_real(mm)  \n",
       "0                  41.67                0.0            0.0  \n",
       "1                  41.67                0.0            0.0  \n",
       "2                  41.67                0.0            0.0  "
      ]
     },
     "execution_count": 115,
     "metadata": {},
     "output_type": "execute_result"
    }
   ],
   "source": [
    "yarumos.head(3)   "
   ]
  },
  {
   "cell_type": "code",
   "execution_count": 245,
   "id": "73f72447",
   "metadata": {
    "ExecuteTime": {
     "end_time": "2022-07-16T15:30:33.115949Z",
     "start_time": "2022-07-16T15:30:28.070405Z"
    }
   },
   "outputs": [],
   "source": [
    "yarumos = yarumos.replace(\"-\", np.nan)  \n",
    "yarumos = yarumos.apply(lambda x: x.str.replace(',','')) "
   ]
  },
  {
   "cell_type": "code",
   "execution_count": 246,
   "id": "6aa68cbe",
   "metadata": {
    "ExecuteTime": {
     "end_time": "2022-07-16T15:30:38.544890Z",
     "start_time": "2022-07-16T15:30:35.767480Z"
    }
   },
   "outputs": [],
   "source": [
    "yarumos.to_csv('C:/Users/pulzara/Documents/Universidad internacional de valencia/TFM/base de datos/SIMAC organizados/BD2/yarumos.txt', sep = '|', index=False, header=True)"
   ]
  },
  {
   "cell_type": "code",
   "execution_count": null,
   "id": "af4cd48e",
   "metadata": {},
   "outputs": [],
   "source": []
  }
 ],
 "metadata": {
  "hide_input": false,
  "kernelspec": {
   "display_name": "Python 3 (ipykernel)",
   "language": "python",
   "name": "python3"
  },
  "language_info": {
   "codemirror_mode": {
    "name": "ipython",
    "version": 3
   },
   "file_extension": ".py",
   "mimetype": "text/x-python",
   "name": "python",
   "nbconvert_exporter": "python",
   "pygments_lexer": "ipython3",
   "version": "3.8.12"
  },
  "toc": {
   "base_numbering": 1,
   "nav_menu": {},
   "number_sections": true,
   "sideBar": true,
   "skip_h1_title": false,
   "title_cell": "Table of Contents",
   "title_sidebar": "Contents",
   "toc_cell": false,
   "toc_position": {},
   "toc_section_display": true,
   "toc_window_display": false
  },
  "varInspector": {
   "cols": {
    "lenName": 16,
    "lenType": 16,
    "lenVar": 40
   },
   "kernels_config": {
    "python": {
     "delete_cmd_postfix": "",
     "delete_cmd_prefix": "del ",
     "library": "var_list.py",
     "varRefreshCmd": "print(var_dic_list())"
    },
    "r": {
     "delete_cmd_postfix": ") ",
     "delete_cmd_prefix": "rm(",
     "library": "var_list.r",
     "varRefreshCmd": "cat(var_dic_list()) "
    }
   },
   "types_to_exclude": [
    "module",
    "function",
    "builtin_function_or_method",
    "instance",
    "_Feature"
   ],
   "window_display": false
  }
 },
 "nbformat": 4,
 "nbformat_minor": 5
}
