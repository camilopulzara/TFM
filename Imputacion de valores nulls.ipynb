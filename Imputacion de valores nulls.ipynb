{
 "cells": [
  {
   "cell_type": "code",
   "execution_count": null,
   "id": "d720d058",
   "metadata": {
    "ExecuteTime": {
     "end_time": "2022-08-22T13:47:40.081443Z",
     "start_time": "2022-08-22T13:47:40.072440Z"
    }
   },
   "outputs": [],
   "source": [
    "from IPython.core.display import display, HTML\n",
    "display(HTML(\"<style>.container { width:85% !important; }</style>\"))"
   ]
  },
  {
   "cell_type": "code",
   "execution_count": null,
   "id": "f4bf2545",
   "metadata": {
    "ExecuteTime": {
     "end_time": "2022-08-22T13:47:43.676551Z",
     "start_time": "2022-08-22T13:47:40.629016Z"
    }
   },
   "outputs": [],
   "source": [
    "import numpy as np\n",
    "import pandas as pd\n",
    "import random\n",
    "import seaborn as sns \n",
    "import matplotlib.pyplot as plt\n",
    "import plotly.express as px\n",
    "import datetime\n",
    "from datetime import datetime\n",
    "from sklearn.metrics import mean_squared_error\n",
    "from math import sqrt\n",
    "import statsmodels\n",
    "from statsmodels.tsa.stattools import adfuller\n",
    "import statsmodels.api as sm\n",
    "from sklearn.preprocessing import StandardScaler\n",
    "from fbprophet import Prophet\n",
    "from sklearn.metrics import mean_squared_error\n",
    "from math import sqrt\n",
    "import math \n",
    "import random\n",
    "import miceforest as mf\n",
    "import sys \n",
    "from sklearn.ensemble import RandomForestRegressor\n",
    "from sklearn.impute import KNNImputer\n",
    "\n",
    "import warnings\n",
    "warnings.filterwarnings(\"ignore\")\n",
    "\n",
    "import logging\n",
    "logging.getLogger('fbprophet').setLevel(logging.WARNING)\n",
    "\n",
    "\n",
    "import gc"
   ]
  },
  {
   "cell_type": "code",
   "execution_count": null,
   "id": "53870ffa",
   "metadata": {
    "ExecuteTime": {
     "end_time": "2022-08-22T13:47:48.448432Z",
     "start_time": "2022-08-22T13:47:43.710522Z"
    }
   },
   "outputs": [],
   "source": [
    "data = pd.read_table('C:/Users/pulzara/Documents/Universidad internacional de valencia/TFM/base de datos/SIMAC organizados/BD2/data.txt',delimiter = '|') "
   ]
  },
  {
   "cell_type": "code",
   "execution_count": null,
   "id": "a47192ba",
   "metadata": {
    "ExecuteTime": {
     "end_time": "2022-08-22T13:47:48.496525Z",
     "start_time": "2022-08-22T13:47:48.481525Z"
    },
    "scrolled": true
   },
   "outputs": [],
   "source": [
    "data.head(4) "
   ]
  },
  {
   "cell_type": "code",
   "execution_count": null,
   "id": "d3f3e848",
   "metadata": {
    "ExecuteTime": {
     "end_time": "2022-07-25T17:36:17.056986Z",
     "start_time": "2022-07-25T17:36:16.693776Z"
    }
   },
   "outputs": [],
   "source": [
    "data[data.Estacion == \"aranjuez\"].Precipitacion.plot() "
   ]
  },
  {
   "cell_type": "code",
   "execution_count": null,
   "id": "459ec918",
   "metadata": {
    "ExecuteTime": {
     "end_time": "2022-08-22T13:47:48.703555Z",
     "start_time": "2022-08-22T13:47:48.530528Z"
    }
   },
   "outputs": [],
   "source": [
    "datas = data[[\"Fecha\",\"Hora\",\"Temperatura\",\"Velocidad\",\"Presion\",\"Humedad\",\"Precipitacion\",\"Radiacion\"]]\n",
    "datas.head(3) "
   ]
  },
  {
   "cell_type": "code",
   "execution_count": null,
   "id": "ffd94eab",
   "metadata": {
    "ExecuteTime": {
     "end_time": "2022-07-25T17:36:51.507931Z",
     "start_time": "2022-07-25T17:36:51.005160Z"
    }
   },
   "outputs": [],
   "source": [
    "corr_matrix = datas.corr(method='pearson') "
   ]
  },
  {
   "cell_type": "code",
   "execution_count": null,
   "id": "9b6babba",
   "metadata": {
    "ExecuteTime": {
     "end_time": "2022-07-25T17:36:56.538481Z",
     "start_time": "2022-07-25T17:36:56.382022Z"
    }
   },
   "outputs": [],
   "source": [
    "fig, ax = plt.subplots(nrows=1, ncols=1, figsize=(10, 10)) \n",
    "\n",
    "sns.heatmap(\n",
    "    corr_matrix,\n",
    "    annot     = True,\n",
    "    cbar      = False,\n",
    "    annot_kws = {\"size\": 8},\n",
    "    vmin      = -1,\n",
    "    vmax      = 1,\n",
    "    center    = 0,\n",
    "    cmap      = sns.diverging_palette(20, 220, n=200),\n",
    "    square    = True,\n",
    "    ax        = ax\n",
    ")\n",
    "\n",
    "ax.set_xticklabels(\n",
    "    ax.get_xticklabels(),\n",
    "    rotation = 45,\n",
    "    horizontalalignment = 'right',\n",
    ")\n",
    "\n",
    "ax.tick_params(labelsize = 10)"
   ]
  },
  {
   "cell_type": "code",
   "execution_count": null,
   "id": "c4ff416b",
   "metadata": {
    "ExecuteTime": {
     "end_time": "2022-07-25T17:37:02.917377Z",
     "start_time": "2022-07-25T17:37:02.909352Z"
    }
   },
   "outputs": [],
   "source": [
    "corr_matrix[\"Precipitacion\"].sort_values(ascending=False) "
   ]
  },
  {
   "cell_type": "code",
   "execution_count": null,
   "id": "863a9f4e",
   "metadata": {
    "ExecuteTime": {
     "end_time": "2022-07-25T17:26:36.039775Z",
     "start_time": "2022-07-25T17:26:28.997093Z"
    }
   },
   "outputs": [],
   "source": [
    "import missingno as msno  \n",
    "%matplotlib inline\n",
    "msno.matrix(datas,figsize=(15,6),fontsize=12)  "
   ]
  },
  {
   "cell_type": "code",
   "execution_count": null,
   "id": "b2a77698",
   "metadata": {
    "ExecuteTime": {
     "end_time": "2022-08-22T13:52:09.416834Z",
     "start_time": "2022-08-22T13:52:09.300703Z"
    }
   },
   "outputs": [],
   "source": [
    "datas = datas[[\"Fecha\",\"Temperatura\",\"Velocidad\",\"Presion\",\"Humedad\",\"Precipitacion\", \"Radiacion\"]]\n",
    "datas.info()  "
   ]
  },
  {
   "cell_type": "code",
   "execution_count": null,
   "id": "15074ce7",
   "metadata": {
    "ExecuteTime": {
     "end_time": "2022-08-22T13:52:11.675768Z",
     "start_time": "2022-08-22T13:52:10.676715Z"
    }
   },
   "outputs": [],
   "source": [
    "datas[\"Fecha\"] = pd.to_datetime(datas[\"Fecha\"])  "
   ]
  },
  {
   "cell_type": "code",
   "execution_count": null,
   "id": "9ed9be35",
   "metadata": {
    "ExecuteTime": {
     "end_time": "2022-08-22T13:52:12.567986Z",
     "start_time": "2022-08-22T13:52:11.739883Z"
    }
   },
   "outputs": [],
   "source": [
    "datas[\"year\"] = datas[\"Fecha\"].dt.year  \n",
    "datas[\"month\"] = datas[\"Fecha\"].dt.month \n",
    "datas[\"day\"] = datas[\"Fecha\"].dt.day  "
   ]
  },
  {
   "cell_type": "code",
   "execution_count": null,
   "id": "ac2a644a",
   "metadata": {
    "ExecuteTime": {
     "end_time": "2022-08-22T13:52:12.790125Z",
     "start_time": "2022-08-22T13:52:12.632096Z"
    }
   },
   "outputs": [],
   "source": [
    "datas = datas.drop(columns={\"Fecha\"}, axis = 1) "
   ]
  },
  {
   "cell_type": "code",
   "execution_count": null,
   "id": "bdda6a7c",
   "metadata": {
    "ExecuteTime": {
     "end_time": "2022-07-25T17:40:46.664375Z",
     "start_time": "2022-07-25T17:40:46.637391Z"
    }
   },
   "outputs": [],
   "source": [
    "datas"
   ]
  },
  {
   "cell_type": "markdown",
   "id": "baa07e2b",
   "metadata": {},
   "source": [
    "Technically, any predictive model capable of inference can be used for MICE. In this article, we impute a dataset with the miceforest Python library, which uses lightgbm random forests by default (although this can be changed). Random forests work well with the MICE algorithm for several reasons: <br/>\n",
    "\n",
    "1. Do not need much hyperparameter tuning\n",
    "2. Easily handle non-linear relationships in the data\n",
    "3. Can return OOB performance inexpensively\n",
    "4. Are trivially parallelizable\n",
    "5. Can return feature importance for diagnostics"
   ]
  },
  {
   "cell_type": "code",
   "execution_count": null,
   "id": "43f54261",
   "metadata": {
    "ExecuteTime": {
     "end_time": "2022-07-22T16:50:27.225794Z",
     "start_time": "2022-07-22T16:33:44.465889Z"
    },
    "scrolled": true
   },
   "outputs": [],
   "source": [
    "# Create kernel. \n",
    "kds = mf.ImputationKernel(\n",
    "  datas,  \n",
    "  #datasets=3, \n",
    "  save_all_iterations=True,\n",
    "  random_state=36\n",
    ")\n",
    "\n",
    "# Run the MICE algorithm for 2 iterations\n",
    "kds.mice(iterations=5)\n",
    "\n",
    "# Return the completed dataset.\n",
    "complete = kds.complete_data(0)\n",
    "print(complete.isnull().sum())"
   ]
  },
  {
   "cell_type": "markdown",
   "id": "c78996f3",
   "metadata": {},
   "source": [
    "**What we have done is created 5 separate datasets with different imputed values.** <br/>\n",
    "**We can never be sure what the original data was, but if our different datasets all come up with similar imputed values, we can say that we are confident in our imputations. Let’s take a look at the correlations of the imputed values between datasets:**"
   ]
  },
  {
   "cell_type": "code",
   "execution_count": null,
   "id": "e159f34b",
   "metadata": {
    "ExecuteTime": {
     "end_time": "2022-07-22T16:52:13.504579Z",
     "start_time": "2022-07-22T16:52:09.835499Z"
    }
   },
   "outputs": [],
   "source": [
    "kds.plot_correlations(wspace=.5,hspace=2)"
   ]
  },
  {
   "cell_type": "code",
   "execution_count": null,
   "id": "4a49bc08",
   "metadata": {
    "ExecuteTime": {
     "end_time": "2022-07-22T16:56:40.769053Z",
     "start_time": "2022-07-22T16:52:31.363788Z"
    }
   },
   "outputs": [],
   "source": [
    "kds.plot_imputed_distributions(wspace=0.35,hspace=0.4)"
   ]
  },
  {
   "cell_type": "code",
   "execution_count": null,
   "id": "f85f4d78",
   "metadata": {
    "ExecuteTime": {
     "end_time": "2022-07-22T16:57:05.650304Z",
     "start_time": "2022-07-22T16:57:05.108362Z"
    }
   },
   "outputs": [],
   "source": [
    "complete.Precipitacion.plot()"
   ]
  },
  {
   "cell_type": "code",
   "execution_count": null,
   "id": "bdd6bb79",
   "metadata": {
    "ExecuteTime": {
     "end_time": "2022-07-22T20:39:26.929570Z",
     "start_time": "2022-07-22T20:39:26.357031Z"
    }
   },
   "outputs": [],
   "source": [
    "#plt.figure(figsize=(12,8))\n",
    "datas.Precipitacion.plot()   "
   ]
  },
  {
   "cell_type": "markdown",
   "id": "b9945eaa",
   "metadata": {},
   "source": [
    "## MICE "
   ]
  },
  {
   "cell_type": "code",
   "execution_count": null,
   "id": "58b03072",
   "metadata": {
    "ExecuteTime": {
     "end_time": "2022-07-25T17:32:01.885664Z",
     "start_time": "2022-07-25T17:28:40.173472Z"
    }
   },
   "outputs": [],
   "source": [
    "# Create kernel. \n",
    "kds_2 = mf.ImputationKernel(\n",
    "  datas,  \n",
    "  datasets=1, \n",
    "  save_all_iterations=True,\n",
    "  random_state=36\n",
    ")\n",
    "\n",
    "# Run the MICE algorithm for 2 iterations\n",
    "kds_2.mice(iterations=5)    \n",
    "\n",
    "# Return the completed dataset.\n",
    "complete_2 = kds_2.complete_data(0)\n",
    "print(complete_2.isnull().sum())"
   ]
  },
  {
   "cell_type": "code",
   "execution_count": null,
   "id": "af0b3c77",
   "metadata": {},
   "outputs": [],
   "source": []
  },
  {
   "cell_type": "code",
   "execution_count": null,
   "id": "4d8e14e0",
   "metadata": {
    "ExecuteTime": {
     "end_time": "2022-07-25T17:33:00.732337Z",
     "start_time": "2022-07-25T17:33:00.158620Z"
    }
   },
   "outputs": [],
   "source": [
    "#plt.figure(figsize=(8,6))\n",
    "complete_2.Precipitacion.plot()  "
   ]
  },
  {
   "cell_type": "code",
   "execution_count": null,
   "id": "3be13389",
   "metadata": {
    "ExecuteTime": {
     "end_time": "2022-07-25T17:33:16.441962Z",
     "start_time": "2022-07-25T17:33:15.884648Z"
    }
   },
   "outputs": [],
   "source": [
    "#plt.figure(figsize=(8,6))\n",
    "datas.Precipitacion.plot()    "
   ]
  },
  {
   "cell_type": "code",
   "execution_count": null,
   "id": "06c03233",
   "metadata": {
    "ExecuteTime": {
     "end_time": "2022-07-25T17:33:44.687402Z",
     "start_time": "2022-07-25T17:33:44.101441Z"
    }
   },
   "outputs": [],
   "source": [
    "complete_2.Temperatura.plot()"
   ]
  },
  {
   "cell_type": "code",
   "execution_count": null,
   "id": "d67b4e54",
   "metadata": {
    "ExecuteTime": {
     "end_time": "2022-07-25T17:33:47.223262Z",
     "start_time": "2022-07-25T17:33:46.555930Z"
    }
   },
   "outputs": [],
   "source": [
    "datas.Temperatura.plot()     "
   ]
  },
  {
   "cell_type": "code",
   "execution_count": null,
   "id": "0731ec77",
   "metadata": {
    "ExecuteTime": {
     "end_time": "2022-07-25T17:41:07.483868Z",
     "start_time": "2022-07-25T17:41:07.470868Z"
    }
   },
   "outputs": [],
   "source": [
    "complete_2"
   ]
  },
  {
   "cell_type": "code",
   "execution_count": null,
   "id": "c2bbfe1f",
   "metadata": {
    "ExecuteTime": {
     "end_time": "2022-07-25T17:34:11.358011Z",
     "start_time": "2022-07-25T17:33:54.923757Z"
    }
   },
   "outputs": [],
   "source": [
    "complete_2.to_csv('C:/Users/pulzara/Documents/Universidad internacional de valencia/TFM/base de datos/SIMAC organizados/BD2/data_imputed_MICE.txt', sep = '|', index=False, header=True)"
   ]
  },
  {
   "cell_type": "code",
   "execution_count": null,
   "id": "6448d2cb",
   "metadata": {
    "ExecuteTime": {
     "end_time": "2022-08-22T13:55:53.904022Z",
     "start_time": "2022-08-22T13:55:53.876912Z"
    },
    "scrolled": true
   },
   "outputs": [],
   "source": [
    "complete_2.insert(loc =6,column='Estacion', value = data.Estacion) "
   ]
  },
  {
   "cell_type": "code",
   "execution_count": null,
   "id": "37015f48",
   "metadata": {
    "ExecuteTime": {
     "end_time": "2022-07-25T17:38:56.898946Z",
     "start_time": "2022-07-25T17:38:56.677998Z"
    }
   },
   "outputs": [],
   "source": [
    "tipos = complete_2.Estacion.unique() \n",
    "tipos "
   ]
  },
  {
   "cell_type": "code",
   "execution_count": null,
   "id": "e7dcc529",
   "metadata": {
    "ExecuteTime": {
     "end_time": "2022-07-25T17:39:25.994184Z",
     "start_time": "2022-07-25T17:39:21.661317Z"
    },
    "scrolled": true
   },
   "outputs": [],
   "source": [
    "for i in tipos:\n",
    "    print(i) \n",
    "    complete_2[complete_2.Estacion == i].Precipitacion.plot() \n",
    "    plt.show()"
   ]
  },
  {
   "cell_type": "markdown",
   "id": "2f9fd1ed",
   "metadata": {},
   "source": [
    "## MICE con nuevas variables "
   ]
  },
  {
   "cell_type": "code",
   "execution_count": null,
   "id": "96b3a2b4",
   "metadata": {
    "ExecuteTime": {
     "end_time": "2022-08-22T13:52:32.574238Z",
     "start_time": "2022-08-22T13:52:31.205117Z"
    }
   },
   "outputs": [],
   "source": [
    "data[\"Fecha\"] = pd.to_datetime(data[\"Fecha\"])   \n",
    "datas[\"year\"] = data[\"Fecha\"].dt.year  \n",
    "datas[\"month\"] = data[\"Fecha\"].dt.month \n",
    "datas[\"day\"] = data[\"Fecha\"].dt.day  "
   ]
  },
  {
   "cell_type": "code",
   "execution_count": null,
   "id": "b1e69547",
   "metadata": {
    "ExecuteTime": {
     "end_time": "2022-08-22T13:52:52.960728Z",
     "start_time": "2022-08-22T13:52:52.950729Z"
    }
   },
   "outputs": [],
   "source": [
    "#datas = datas.drop(columns={\"Fecha\"}, axis = 1) "
   ]
  },
  {
   "cell_type": "code",
   "execution_count": null,
   "id": "684dc804",
   "metadata": {
    "ExecuteTime": {
     "end_time": "2022-07-25T17:47:29.903269Z",
     "start_time": "2022-07-25T17:44:16.542930Z"
    }
   },
   "outputs": [],
   "source": [
    "# Create kernel. \n",
    "kds_3 = mf.ImputationKernel(\n",
    "  datas,  \n",
    "  datasets=1, \n",
    "  save_all_iterations=True,\n",
    "  random_state=36\n",
    ")\n",
    "\n",
    "# Run the MICE algorithm for 2 iterations\n",
    "kds_3.mice(iterations=5)    \n",
    "\n",
    "# Return the completed dataset.\n",
    "complete_3 = kds_3.complete_data(0)\n",
    "print(complete_3.isnull().sum())"
   ]
  },
  {
   "cell_type": "code",
   "execution_count": null,
   "id": "f067eb51",
   "metadata": {
    "ExecuteTime": {
     "end_time": "2022-07-25T17:48:18.634336Z",
     "start_time": "2022-07-25T17:48:18.085453Z"
    }
   },
   "outputs": [],
   "source": [
    "complete_3.Precipitacion.plot()  "
   ]
  },
  {
   "cell_type": "code",
   "execution_count": null,
   "id": "db8cb757",
   "metadata": {
    "ExecuteTime": {
     "end_time": "2022-07-25T17:48:22.355397Z",
     "start_time": "2022-07-25T17:48:21.782135Z"
    }
   },
   "outputs": [],
   "source": [
    "datas.Precipitacion.plot()    "
   ]
  },
  {
   "cell_type": "code",
   "execution_count": null,
   "id": "fcfafdb3",
   "metadata": {
    "ExecuteTime": {
     "end_time": "2022-07-25T17:49:29.776488Z",
     "start_time": "2022-07-25T17:49:29.750427Z"
    }
   },
   "outputs": [],
   "source": [
    "complete_3.insert(loc =9,column='Estacion', value = data.Estacion)  "
   ]
  },
  {
   "cell_type": "code",
   "execution_count": null,
   "id": "1bb293db",
   "metadata": {
    "ExecuteTime": {
     "end_time": "2022-07-25T17:49:45.322835Z",
     "start_time": "2022-07-25T17:49:40.797852Z"
    }
   },
   "outputs": [],
   "source": [
    "for i in tipos:\n",
    "    print(i) \n",
    "    complete_3[complete_3.Estacion == i].Precipitacion.plot()  \n",
    "    plt.show()"
   ]
  },
  {
   "cell_type": "code",
   "execution_count": null,
   "id": "cbaf2922",
   "metadata": {
    "ExecuteTime": {
     "end_time": "2022-07-25T19:27:56.702032Z",
     "start_time": "2022-07-25T19:27:36.306985Z"
    }
   },
   "outputs": [],
   "source": [
    "complete_3.to_csv('C:/Users/pulzara/Documents/Universidad internacional de valencia/TFM/base de datos/SIMAC organizados/BD2/data_imputed_MICE_3.txt', sep = '|', index=False, header=True)"
   ]
  },
  {
   "cell_type": "code",
   "execution_count": null,
   "id": "1cb60943",
   "metadata": {
    "ExecuteTime": {
     "end_time": "2022-07-22T15:43:31.640368Z",
     "start_time": "2022-07-22T15:43:31.520482Z"
    }
   },
   "outputs": [],
   "source": [
    "plt.figure(figsize=(12,8))\n",
    "complete_2[complete_2.Precipitacion > 200].Precipitacion.plot()"
   ]
  },
  {
   "cell_type": "code",
   "execution_count": null,
   "id": "b666741b",
   "metadata": {
    "ExecuteTime": {
     "end_time": "2022-07-22T15:40:26.053432Z",
     "start_time": "2022-07-22T15:40:25.944022Z"
    }
   },
   "outputs": [],
   "source": [
    "dt[\"Precipitacion\"] = np.where((dt.Precipitacion >300 ), 250, dt[\"Precipitacion\"])  "
   ]
  },
  {
   "cell_type": "markdown",
   "id": "1ef1f958",
   "metadata": {
    "ExecuteTime": {
     "start_time": "2022-07-22T18:23:50.582Z"
    }
   },
   "source": [
    "## random forest\n"
   ]
  },
  {
   "cell_type": "code",
   "execution_count": null,
   "id": "b2288968",
   "metadata": {
    "ExecuteTime": {
     "end_time": "2022-07-25T17:50:12.966778Z",
     "start_time": "2022-07-25T17:50:12.958827Z"
    }
   },
   "outputs": [],
   "source": [
    "import sklearn.neighbors._base\n",
    "sys.modules['sklearn.neighbors.base'] = sklearn.neighbors._base"
   ]
  },
  {
   "cell_type": "code",
   "execution_count": null,
   "id": "6e846719",
   "metadata": {
    "ExecuteTime": {
     "end_time": "2022-07-25T17:50:13.616682Z",
     "start_time": "2022-07-25T17:50:13.596654Z"
    }
   },
   "outputs": [],
   "source": [
    "from missingpy import MissForest  "
   ]
  },
  {
   "cell_type": "code",
   "execution_count": null,
   "id": "653d1f46",
   "metadata": {
    "ExecuteTime": {
     "end_time": "2022-07-25T17:50:21.142608Z",
     "start_time": "2022-07-25T17:50:21.126462Z"
    }
   },
   "outputs": [],
   "source": [
    "datas "
   ]
  },
  {
   "cell_type": "code",
   "execution_count": null,
   "id": "a54732b7",
   "metadata": {
    "ExecuteTime": {
     "end_time": "2022-07-25T19:22:24.063448Z",
     "start_time": "2022-07-25T17:50:37.654363Z"
    }
   },
   "outputs": [],
   "source": [
    "imputer = MissForest()\n",
    "\n",
    "data_imputed = imputer.fit_transform(datas)"
   ]
  },
  {
   "cell_type": "code",
   "execution_count": null,
   "id": "dbf539c6",
   "metadata": {
    "ExecuteTime": {
     "end_time": "2022-07-25T19:22:24.126478Z",
     "start_time": "2022-07-25T19:22:24.111448Z"
    }
   },
   "outputs": [],
   "source": [
    "df_imputed = pd.DataFrame(data_imputed) "
   ]
  },
  {
   "cell_type": "code",
   "execution_count": null,
   "id": "d946b21a",
   "metadata": {
    "ExecuteTime": {
     "end_time": "2022-07-25T19:22:24.190447Z",
     "start_time": "2022-07-25T19:22:24.175448Z"
    }
   },
   "outputs": [],
   "source": [
    "col_list = tuple(datas.columns.values) "
   ]
  },
  {
   "cell_type": "code",
   "execution_count": null,
   "id": "34ff272f",
   "metadata": {
    "ExecuteTime": {
     "end_time": "2022-07-25T19:22:24.254447Z",
     "start_time": "2022-07-25T19:22:24.239448Z"
    }
   },
   "outputs": [],
   "source": [
    "old_col_names = tuple(df_imputed.columns.values)"
   ]
  },
  {
   "cell_type": "code",
   "execution_count": null,
   "id": "f7cae081",
   "metadata": {
    "ExecuteTime": {
     "end_time": "2022-07-25T19:22:24.318448Z",
     "start_time": "2022-07-25T19:22:24.303449Z"
    }
   },
   "outputs": [],
   "source": [
    "df_imputed.rename(\n",
    "    columns={i:j for i,j in zip(old_col_names,col_list)}, inplace=True\n",
    ") "
   ]
  },
  {
   "cell_type": "code",
   "execution_count": null,
   "id": "2927fc98",
   "metadata": {
    "ExecuteTime": {
     "end_time": "2022-07-25T19:23:09.211127Z",
     "start_time": "2022-07-25T19:23:09.188127Z"
    }
   },
   "outputs": [],
   "source": [
    "df_imputed"
   ]
  },
  {
   "cell_type": "code",
   "execution_count": null,
   "id": "2dad1b40",
   "metadata": {
    "ExecuteTime": {
     "end_time": "2022-07-25T19:23:12.835035Z",
     "start_time": "2022-07-25T19:23:12.290334Z"
    }
   },
   "outputs": [],
   "source": [
    "df_imputed.Precipitacion.plot() "
   ]
  },
  {
   "cell_type": "code",
   "execution_count": null,
   "id": "5aab84e0",
   "metadata": {
    "ExecuteTime": {
     "end_time": "2022-07-25T19:23:22.677905Z",
     "start_time": "2022-07-25T19:23:22.112917Z"
    }
   },
   "outputs": [],
   "source": [
    "datas.Precipitacion.plot()  "
   ]
  },
  {
   "cell_type": "code",
   "execution_count": null,
   "id": "1a2fc31b",
   "metadata": {
    "ExecuteTime": {
     "end_time": "2022-07-25T19:23:34.807646Z",
     "start_time": "2022-07-25T19:23:34.777644Z"
    }
   },
   "outputs": [],
   "source": [
    "df_imputed"
   ]
  },
  {
   "cell_type": "code",
   "execution_count": null,
   "id": "3c5e9998",
   "metadata": {
    "ExecuteTime": {
     "end_time": "2022-08-22T13:49:43.219934Z",
     "start_time": "2022-08-22T13:49:18.429462Z"
    }
   },
   "outputs": [],
   "source": [
    "#df_imputed.to_csv('C:/Users/pulzara/Documents/Universidad internacional de valencia/TFM/base de datos/SIMAC organizados/BD2/data_imputed_rf.txt', sep = '|', index=False, header=True)"
   ]
  },
  {
   "cell_type": "code",
   "execution_count": null,
   "id": "15860202",
   "metadata": {
    "ExecuteTime": {
     "end_time": "2022-08-22T13:49:44.153584Z",
     "start_time": "2022-08-22T13:49:43.285586Z"
    }
   },
   "outputs": [],
   "source": [
    "df_imputed.insert(loc =9,column='Estacion', value = data.Estacion)"
   ]
  },
  {
   "cell_type": "code",
   "execution_count": null,
   "id": "e5ee628c",
   "metadata": {
    "ExecuteTime": {
     "end_time": "2022-08-22T13:49:44.157587Z",
     "start_time": "2022-08-22T13:49:44.157587Z"
    }
   },
   "outputs": [],
   "source": [
    "df_imputed"
   ]
  },
  {
   "cell_type": "code",
   "execution_count": null,
   "id": "7f88d245",
   "metadata": {
    "ExecuteTime": {
     "end_time": "2022-07-25T19:25:05.775406Z",
     "start_time": "2022-07-25T19:25:01.538651Z"
    }
   },
   "outputs": [],
   "source": [
    "for i in tipos:\n",
    "    print(i) \n",
    "    df_imputed[df_imputed.Estacion == i].Precipitacion.plot()   \n",
    "    plt.show()"
   ]
  },
  {
   "cell_type": "code",
   "execution_count": null,
   "id": "5ddf8d07",
   "metadata": {
    "ExecuteTime": {
     "end_time": "2022-07-25T19:26:27.511836Z",
     "start_time": "2022-07-25T19:26:26.954682Z"
    }
   },
   "outputs": [],
   "source": [
    "df_imputed.Temperatura.plot()  "
   ]
  },
  {
   "cell_type": "code",
   "execution_count": null,
   "id": "52bf054e",
   "metadata": {
    "ExecuteTime": {
     "end_time": "2022-07-25T19:26:29.430020Z",
     "start_time": "2022-07-25T19:26:28.761950Z"
    }
   },
   "outputs": [],
   "source": [
    "datas.Temperatura.plot()  "
   ]
  },
  {
   "cell_type": "code",
   "execution_count": null,
   "id": "3323dfc5",
   "metadata": {
    "ExecuteTime": {
     "end_time": "2022-07-25T19:26:41.356903Z",
     "start_time": "2022-07-25T19:26:40.778530Z"
    }
   },
   "outputs": [],
   "source": [
    "df_imputed.Humedad.plot()  "
   ]
  },
  {
   "cell_type": "code",
   "execution_count": null,
   "id": "f0b00ad8",
   "metadata": {
    "ExecuteTime": {
     "end_time": "2022-07-25T19:26:42.651362Z",
     "start_time": "2022-07-25T19:26:41.961995Z"
    }
   },
   "outputs": [],
   "source": [
    "datas.Humedad.plot()   "
   ]
  },
  {
   "cell_type": "code",
   "execution_count": null,
   "id": "454a434e",
   "metadata": {},
   "outputs": [],
   "source": []
  },
  {
   "cell_type": "markdown",
   "id": "23d9a99a",
   "metadata": {},
   "source": [
    "## knn Imputer"
   ]
  },
  {
   "cell_type": "code",
   "execution_count": null,
   "id": "e933dab1",
   "metadata": {
    "ExecuteTime": {
     "end_time": "2022-07-25T19:43:12.609403Z",
     "start_time": "2022-07-25T19:43:12.596403Z"
    }
   },
   "outputs": [],
   "source": [
    "#imputer = KNNImputer(n_neighbors=5)\n",
    "#imputer_fit = imputer.fit_transform(datas)"
   ]
  },
  {
   "cell_type": "code",
   "execution_count": null,
   "id": "c035379f",
   "metadata": {
    "ExecuteTime": {
     "end_time": "2022-07-24T05:02:49.878905Z",
     "start_time": "2022-07-24T05:02:49.878905Z"
    }
   },
   "outputs": [],
   "source": [
    "knn_imputed = pd.DataFrame(imputer_fit, columns=datas.columns)"
   ]
  },
  {
   "cell_type": "code",
   "execution_count": null,
   "id": "37ec7c6c",
   "metadata": {
    "ExecuteTime": {
     "end_time": "2022-07-24T05:02:49.880907Z",
     "start_time": "2022-07-24T05:02:49.880907Z"
    }
   },
   "outputs": [],
   "source": [
    "knn_imputed.to_csv('C:/Users/pulzara/Documents/Universidad internacional de valencia/TFM/base de datos/SIMAC organizados/BD2/data_imputed_knn.txt', sep = '|', index=False, header=True)"
   ]
  },
  {
   "cell_type": "markdown",
   "id": "b4868ac9",
   "metadata": {},
   "source": [
    "## Cargamos los datos nuevamente"
   ]
  },
  {
   "cell_type": "code",
   "execution_count": null,
   "id": "8927b008",
   "metadata": {
    "ExecuteTime": {
     "end_time": "2022-08-22T13:54:34.095113Z",
     "start_time": "2022-08-22T13:54:32.454082Z"
    }
   },
   "outputs": [],
   "source": [
    "complete_2 = pd.read_table('C:/Users/pulzara/Documents/Universidad internacional de valencia/TFM/base de datos/SIMAC organizados/BD2/data_imputed_MICE.txt',delimiter = '|') "
   ]
  },
  {
   "cell_type": "code",
   "execution_count": null,
   "id": "3c0acaaf",
   "metadata": {
    "ExecuteTime": {
     "end_time": "2022-08-22T13:54:32.389968Z",
     "start_time": "2022-08-22T13:54:27.708937Z"
    }
   },
   "outputs": [],
   "source": [
    "df_imputed = pd.read_table('C:/Users/pulzara/Documents/Universidad internacional de valencia/TFM/base de datos/SIMAC organizados/BD2/data_imputed_rf.txt',delimiter = '|') "
   ]
  },
  {
   "cell_type": "code",
   "execution_count": null,
   "id": "691aac2e",
   "metadata": {
    "ExecuteTime": {
     "end_time": "2022-08-22T13:54:53.752302Z",
     "start_time": "2022-08-22T13:54:53.733304Z"
    }
   },
   "outputs": [],
   "source": [
    "df_imputed "
   ]
  },
  {
   "cell_type": "code",
   "execution_count": null,
   "id": "f625dd17",
   "metadata": {
    "ExecuteTime": {
     "end_time": "2022-08-22T13:55:25.494919Z",
     "start_time": "2022-08-22T13:55:25.468919Z"
    }
   },
   "outputs": [],
   "source": [
    "complete_2 "
   ]
  },
  {
   "cell_type": "code",
   "execution_count": null,
   "id": "cfe8207c",
   "metadata": {
    "ExecuteTime": {
     "end_time": "2022-08-22T13:56:16.779359Z",
     "start_time": "2022-08-22T13:56:16.765360Z"
    }
   },
   "outputs": [],
   "source": [
    "#complete_2.insert(loc = 0,column=\"Fecha\", value= data.Fecha) \n",
    "#df_imputed.insert(loc = 0,column=\"Fecha\", value= data.Fecha) \n",
    "#df_imputed.insert(loc = 1,column=\"Hora\", value= data.Hora) \n",
    "#complete_2.insert(loc = 1,column=\"Hora\", value= data.Hora)\n",
    "#complete_2.insert(loc = 8,column=\"Estacion\", value= data.Estacion)  \n",
    "#df_imputed.insert(loc = 8,column=\"Estacion\", value= data.Estacion)  "
   ]
  },
  {
   "cell_type": "code",
   "execution_count": null,
   "id": "4217ee7a",
   "metadata": {
    "ExecuteTime": {
     "end_time": "2022-08-22T13:56:19.758653Z",
     "start_time": "2022-08-22T13:56:19.684644Z"
    }
   },
   "outputs": [],
   "source": [
    "df_imputed[\"year\"] = df_imputed.year.astype(int)\n",
    "df_imputed[\"month\"] = df_imputed.month.astype(int) \n",
    "df_imputed[\"day\"] = df_imputed.day.astype(int)"
   ]
  },
  {
   "cell_type": "code",
   "execution_count": null,
   "id": "cdcad812",
   "metadata": {},
   "outputs": [],
   "source": [
    "complete_2[\"year\"] = complete_2.year.astype(int)\n",
    "complete_2[\"month\"] = complete_2.month.astype(int)\n",
    "complete_2[\"day\"] = complete_2.day.astype(int) "
   ]
  },
  {
   "cell_type": "code",
   "execution_count": null,
   "id": "4743b0a8",
   "metadata": {
    "ExecuteTime": {
     "end_time": "2022-07-23T15:37:21.573280Z",
     "start_time": "2022-07-23T15:37:21.559283Z"
    },
    "scrolled": true
   },
   "outputs": [],
   "source": [
    "df_imputed.info()"
   ]
  },
  {
   "cell_type": "code",
   "execution_count": null,
   "id": "5122e244",
   "metadata": {
    "ExecuteTime": {
     "end_time": "2022-08-22T13:56:49.280541Z",
     "start_time": "2022-08-22T13:56:49.253542Z"
    }
   },
   "outputs": [],
   "source": [
    "df_imputed"
   ]
  },
  {
   "cell_type": "code",
   "execution_count": null,
   "id": "142c8bd5",
   "metadata": {
    "ExecuteTime": {
     "end_time": "2022-07-23T14:53:06.600189Z",
     "start_time": "2022-07-23T14:53:06.588189Z"
    }
   },
   "outputs": [],
   "source": [
    "df_imputed.set_index(\"Fecha\",drop=True, inplace=True)  "
   ]
  },
  {
   "cell_type": "markdown",
   "id": "6149ec2b",
   "metadata": {
    "ExecuteTime": {
     "end_time": "2022-07-23T15:02:17.314667Z",
     "start_time": "2022-07-23T15:02:17.292671Z"
    }
   },
   "source": [
    "## Random forest"
   ]
  },
  {
   "cell_type": "code",
   "execution_count": null,
   "id": "ab6b4ca4",
   "metadata": {
    "ExecuteTime": {
     "end_time": "2022-07-23T15:40:15.483958Z",
     "start_time": "2022-07-23T15:40:15.420856Z"
    }
   },
   "outputs": [],
   "source": [
    "x = df_imputed[[\"Temperatura\", \"Velocidad\", \"Presion\", \"Humedad\", \"Radiacion\"]]\n",
    "y = df_imputed[\"Precipitacion\"]"
   ]
  },
  {
   "cell_type": "code",
   "execution_count": null,
   "id": "df54f8b7",
   "metadata": {
    "ExecuteTime": {
     "end_time": "2022-07-23T15:40:41.765657Z",
     "start_time": "2022-07-23T15:40:41.413015Z"
    }
   },
   "outputs": [],
   "source": [
    "scaler = StandardScaler()\n",
    "X = scaler.fit_transform(x) "
   ]
  },
  {
   "cell_type": "code",
   "execution_count": null,
   "id": "7e9efaf1",
   "metadata": {
    "ExecuteTime": {
     "end_time": "2022-07-23T16:03:30.779078Z",
     "start_time": "2022-07-23T15:44:34.148785Z"
    }
   },
   "outputs": [],
   "source": [
    "rf = RandomForestRegressor(n_estimators = 80, random_state = 40)\n",
    "rf_fit = rf.fit(X, y)   "
   ]
  },
  {
   "cell_type": "code",
   "execution_count": null,
   "id": "65eb474d",
   "metadata": {
    "ExecuteTime": {
     "end_time": "2022-07-23T16:12:25.619027Z",
     "start_time": "2022-07-23T16:12:22.823023Z"
    }
   },
   "outputs": [],
   "source": [
    "rf_fit.feature_importances_"
   ]
  },
  {
   "cell_type": "code",
   "execution_count": null,
   "id": "c684ba3d",
   "metadata": {
    "ExecuteTime": {
     "end_time": "2022-07-23T16:13:17.047983Z",
     "start_time": "2022-07-23T16:13:15.014362Z"
    }
   },
   "outputs": [],
   "source": [
    "importances = rf_fit.feature_importances_\n",
    "columns = x.columns \n",
    "indices = np.argsort(importances)[::-1]\n",
    "\n",
    "plt.figure(figsize = (12,6))\n",
    "sns.barplot(columns[indices], importances[indices])\n",
    "plt.xticks(rotation=85)\n",
    "plt.show"
   ]
  },
  {
   "cell_type": "markdown",
   "id": "12044e61",
   "metadata": {},
   "source": [
    "### PCA "
   ]
  },
  {
   "cell_type": "code",
   "execution_count": null,
   "id": "99259875",
   "metadata": {
    "ExecuteTime": {
     "end_time": "2022-08-22T14:00:27.238444Z",
     "start_time": "2022-08-22T14:00:27.117324Z"
    }
   },
   "outputs": [],
   "source": [
    "df_pca = df_imputed[['Temperatura','Velocidad','Presion','Humedad','Precipitacion','Radiacion']]"
   ]
  },
  {
   "cell_type": "code",
   "execution_count": null,
   "id": "f5f83b3c",
   "metadata": {
    "ExecuteTime": {
     "end_time": "2022-08-22T14:00:28.092367Z",
     "start_time": "2022-08-22T14:00:28.077361Z"
    }
   },
   "outputs": [],
   "source": [
    "pca = PCA() \n",
    "pca.fit(df_pca)  "
   ]
  },
  {
   "cell_type": "code",
   "execution_count": null,
   "id": "165676d5",
   "metadata": {},
   "outputs": [],
   "source": []
  },
  {
   "cell_type": "markdown",
   "id": "04e8dd2f",
   "metadata": {},
   "source": [
    "### dataset2"
   ]
  },
  {
   "cell_type": "code",
   "execution_count": null,
   "id": "1412401c",
   "metadata": {
    "ExecuteTime": {
     "end_time": "2022-07-23T16:15:05.518458Z",
     "start_time": "2022-07-23T16:15:05.438332Z"
    }
   },
   "outputs": [],
   "source": [
    "x_1 = complete_2[[\"Temperatura\", \"Velocidad\", \"Presion\", \"Humedad\", \"Radiacion\"]]\n",
    "y_1 = complete_2[\"Precipitacion\"] "
   ]
  },
  {
   "cell_type": "code",
   "execution_count": null,
   "id": "b577e8bc",
   "metadata": {
    "ExecuteTime": {
     "end_time": "2022-07-23T16:15:33.584405Z",
     "start_time": "2022-07-23T16:15:33.238062Z"
    }
   },
   "outputs": [],
   "source": [
    "scaler2 = StandardScaler()\n",
    "X2 = scaler2.fit_transform(x_1) "
   ]
  },
  {
   "cell_type": "code",
   "execution_count": null,
   "id": "6dbbff54",
   "metadata": {
    "ExecuteTime": {
     "end_time": "2022-07-23T16:36:05.384554Z",
     "start_time": "2022-07-23T16:16:11.494232Z"
    }
   },
   "outputs": [],
   "source": [
    "rf2 = RandomForestRegressor(n_estimators = 80, random_state = 40)\n",
    "rf_fit2 = rf2.fit(X2, y_1)   "
   ]
  },
  {
   "cell_type": "code",
   "execution_count": null,
   "id": "4418be0c",
   "metadata": {
    "ExecuteTime": {
     "end_time": "2022-07-23T16:52:57.802669Z",
     "start_time": "2022-07-23T16:52:54.616666Z"
    }
   },
   "outputs": [],
   "source": [
    "rf_fit2.feature_importances_"
   ]
  },
  {
   "cell_type": "code",
   "execution_count": null,
   "id": "beccf9d4",
   "metadata": {
    "ExecuteTime": {
     "end_time": "2022-07-23T16:53:01.093225Z",
     "start_time": "2022-07-23T16:52:58.784353Z"
    }
   },
   "outputs": [],
   "source": [
    "importances = rf_fit2.feature_importances_\n",
    "columns = x_1.columns \n",
    "indices = np.argsort(importances)[::-1]\n",
    "\n",
    "plt.figure(figsize = (12,6))\n",
    "sns.barplot(columns[indices], importances[indices])\n",
    "plt.xticks(rotation=85)\n",
    "plt.show"
   ]
  },
  {
   "cell_type": "markdown",
   "id": "7a848a2f",
   "metadata": {},
   "source": [
    "## random forest - forecasterAutoreg "
   ]
  },
  {
   "cell_type": "code",
   "execution_count": null,
   "id": "a9021ad0",
   "metadata": {
    "ExecuteTime": {
     "end_time": "2022-07-23T15:07:48.573003Z",
     "start_time": "2022-07-23T15:07:48.562834Z"
    }
   },
   "outputs": [],
   "source": [
    "def train_test_split(data, fecha):\n",
    "    \n",
    "    test = data[data.index <= fecha]\n",
    "    train = data[data.index > fecha]\n",
    "    return test, train"
   ]
  },
  {
   "cell_type": "code",
   "execution_count": null,
   "id": "4df57f8e",
   "metadata": {
    "ExecuteTime": {
     "end_time": "2022-07-23T15:07:54.333234Z",
     "start_time": "2022-07-23T15:07:53.708199Z"
    }
   },
   "outputs": [],
   "source": [
    "train, test = train_test_split(df_imputed,\"2020-12-25\")"
   ]
  },
  {
   "cell_type": "code",
   "execution_count": null,
   "id": "5b7a4fae",
   "metadata": {
    "ExecuteTime": {
     "end_time": "2022-07-23T15:11:29.410395Z",
     "start_time": "2022-07-23T15:11:29.380795Z"
    }
   },
   "outputs": [],
   "source": [
    "train "
   ]
  },
  {
   "cell_type": "code",
   "execution_count": null,
   "id": "b6fcdfe6",
   "metadata": {
    "ExecuteTime": {
     "end_time": "2022-07-23T15:15:00.408373Z",
     "start_time": "2022-07-23T15:14:48.998253Z"
    }
   },
   "outputs": [],
   "source": [
    "plt.figure(figsize = (12,8))\n",
    "plt.plot(train.Precipitacion,label='train')\n",
    "plt.plot(test.Precipitacion, label= 'test')  \n",
    "plt.legend(loc = \"upper left\")\n",
    "plt.show "
   ]
  },
  {
   "cell_type": "code",
   "execution_count": null,
   "id": "908131e7",
   "metadata": {},
   "outputs": [],
   "source": []
  }
 ],
 "metadata": {
  "hide_input": false,
  "kernelspec": {
   "display_name": "Python 3 (ipykernel)",
   "language": "python",
   "name": "python3"
  },
  "language_info": {
   "codemirror_mode": {
    "name": "ipython",
    "version": 3
   },
   "file_extension": ".py",
   "mimetype": "text/x-python",
   "name": "python",
   "nbconvert_exporter": "python",
   "pygments_lexer": "ipython3",
   "version": "3.8.12"
  },
  "toc": {
   "base_numbering": 1,
   "nav_menu": {},
   "number_sections": true,
   "sideBar": true,
   "skip_h1_title": false,
   "title_cell": "Table of Contents",
   "title_sidebar": "Contents",
   "toc_cell": false,
   "toc_position": {
    "height": "calc(100% - 180px)",
    "left": "10px",
    "top": "150px",
    "width": "384px"
   },
   "toc_section_display": true,
   "toc_window_display": false
  },
  "varInspector": {
   "cols": {
    "lenName": 16,
    "lenType": 16,
    "lenVar": 40
   },
   "kernels_config": {
    "python": {
     "delete_cmd_postfix": "",
     "delete_cmd_prefix": "del ",
     "library": "var_list.py",
     "varRefreshCmd": "print(var_dic_list())"
    },
    "r": {
     "delete_cmd_postfix": ") ",
     "delete_cmd_prefix": "rm(",
     "library": "var_list.r",
     "varRefreshCmd": "cat(var_dic_list()) "
    }
   },
   "types_to_exclude": [
    "module",
    "function",
    "builtin_function_or_method",
    "instance",
    "_Feature"
   ],
   "window_display": false
  }
 },
 "nbformat": 4,
 "nbformat_minor": 5
}
