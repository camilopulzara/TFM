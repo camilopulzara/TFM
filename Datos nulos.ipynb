{
 "cells": [
  {
   "cell_type": "code",
   "execution_count": 1,
   "id": "d720d058",
   "metadata": {
    "ExecuteTime": {
     "end_time": "2022-07-23T14:11:14.877914Z",
     "start_time": "2022-07-23T14:11:14.860915Z"
    }
   },
   "outputs": [
    {
     "name": "stderr",
     "output_type": "stream",
     "text": [
      "C:\\Users\\pulzara\\AppData\\Local\\Temp\\ipykernel_17620\\495279268.py:1: DeprecationWarning: Importing display from IPython.core.display is deprecated since IPython 7.14, please import from IPython display\n",
      "  from IPython.core.display import display, HTML\n"
     ]
    },
    {
     "data": {
      "text/html": [
       "<style>.container { width:85% !important; }</style>"
      ],
      "text/plain": [
       "<IPython.core.display.HTML object>"
      ]
     },
     "metadata": {},
     "output_type": "display_data"
    }
   ],
   "source": [
    "from IPython.core.display import display, HTML\n",
    "display(HTML(\"<style>.container { width:85% !important; }</style>\"))"
   ]
  },
  {
   "cell_type": "code",
   "execution_count": 87,
   "id": "f4bf2545",
   "metadata": {
    "ExecuteTime": {
     "end_time": "2022-07-23T15:41:22.102181Z",
     "start_time": "2022-07-23T15:41:22.084183Z"
    }
   },
   "outputs": [],
   "source": [
    "import numpy as np\n",
    "import pandas as pd\n",
    "import random\n",
    "import seaborn as sns \n",
    "import matplotlib.pyplot as plt\n",
    "import plotly.express as px\n",
    "import datetime\n",
    "from datetime import datetime\n",
    "from sklearn.metrics import mean_squared_error\n",
    "from math import sqrt\n",
    "import statsmodels\n",
    "from statsmodels.tsa.stattools import adfuller\n",
    "import statsmodels.api as sm\n",
    "from sklearn.preprocessing import StandardScaler\n",
    "from fbprophet import Prophet\n",
    "from sklearn.metrics import mean_squared_error\n",
    "from math import sqrt\n",
    "import math \n",
    "import random\n",
    "import miceforest as mf\n",
    "import sys \n",
    "from sklearn.ensemble import RandomForestRegressor\n",
    "\n",
    "import warnings\n",
    "warnings.filterwarnings(\"ignore\")\n",
    "\n",
    "import logging\n",
    "logging.getLogger('fbprophet').setLevel(logging.WARNING)\n",
    "\n",
    "\n",
    "import gc"
   ]
  },
  {
   "cell_type": "code",
   "execution_count": 3,
   "id": "53870ffa",
   "metadata": {
    "ExecuteTime": {
     "end_time": "2022-07-23T14:11:27.345333Z",
     "start_time": "2022-07-23T14:11:21.993253Z"
    }
   },
   "outputs": [],
   "source": [
    "data = pd.read_table('C:/Users/pulzara/Documents/Universidad internacional de valencia/TFM/base de datos/SIMAC organizados/BD2/data.txt',delimiter = '|') "
   ]
  },
  {
   "cell_type": "code",
   "execution_count": 4,
   "id": "a47192ba",
   "metadata": {
    "ExecuteTime": {
     "end_time": "2022-07-22T19:12:20.579916Z",
     "start_time": "2022-07-22T19:12:20.560833Z"
    },
    "scrolled": true
   },
   "outputs": [
    {
     "data": {
      "text/html": [
       "<div>\n",
       "<style scoped>\n",
       "    .dataframe tbody tr th:only-of-type {\n",
       "        vertical-align: middle;\n",
       "    }\n",
       "\n",
       "    .dataframe tbody tr th {\n",
       "        vertical-align: top;\n",
       "    }\n",
       "\n",
       "    .dataframe thead th {\n",
       "        text-align: right;\n",
       "    }\n",
       "</style>\n",
       "<table border=\"1\" class=\"dataframe\">\n",
       "  <thead>\n",
       "    <tr style=\"text-align: right;\">\n",
       "      <th></th>\n",
       "      <th>Fecha</th>\n",
       "      <th>Hora</th>\n",
       "      <th>Temperatura</th>\n",
       "      <th>Velocidad</th>\n",
       "      <th>Direccion</th>\n",
       "      <th>Presion</th>\n",
       "      <th>Humedad</th>\n",
       "      <th>Precipitacion</th>\n",
       "      <th>Radiacion</th>\n",
       "      <th>Evapotranspiracion</th>\n",
       "      <th>Precipitacion_Real</th>\n",
       "      <th>Evapo_real</th>\n",
       "      <th>Estacion</th>\n",
       "    </tr>\n",
       "  </thead>\n",
       "  <tbody>\n",
       "    <tr>\n",
       "      <th>0</th>\n",
       "      <td>2017-01-01</td>\n",
       "      <td>0:00:53</td>\n",
       "      <td>18.06</td>\n",
       "      <td>1.79</td>\n",
       "      <td>138.0</td>\n",
       "      <td>603.13</td>\n",
       "      <td>84.0</td>\n",
       "      <td>35.8</td>\n",
       "      <td>0.0</td>\n",
       "      <td>0.0</td>\n",
       "      <td>0.0</td>\n",
       "      <td>0.0</td>\n",
       "      <td>alcazares</td>\n",
       "    </tr>\n",
       "    <tr>\n",
       "      <th>1</th>\n",
       "      <td>2017-01-01</td>\n",
       "      <td>0:06:00</td>\n",
       "      <td>18.06</td>\n",
       "      <td>2.24</td>\n",
       "      <td>138.0</td>\n",
       "      <td>603.16</td>\n",
       "      <td>84.0</td>\n",
       "      <td>35.8</td>\n",
       "      <td>0.0</td>\n",
       "      <td>0.0</td>\n",
       "      <td>0.0</td>\n",
       "      <td>0.0</td>\n",
       "      <td>alcazares</td>\n",
       "    </tr>\n",
       "    <tr>\n",
       "      <th>2</th>\n",
       "      <td>2017-01-01</td>\n",
       "      <td>0:11:05</td>\n",
       "      <td>18.06</td>\n",
       "      <td>0.89</td>\n",
       "      <td>138.0</td>\n",
       "      <td>603.16</td>\n",
       "      <td>84.0</td>\n",
       "      <td>35.8</td>\n",
       "      <td>0.0</td>\n",
       "      <td>0.0</td>\n",
       "      <td>0.0</td>\n",
       "      <td>0.0</td>\n",
       "      <td>alcazares</td>\n",
       "    </tr>\n",
       "    <tr>\n",
       "      <th>3</th>\n",
       "      <td>2017-01-01</td>\n",
       "      <td>0:16:10</td>\n",
       "      <td>18.00</td>\n",
       "      <td>0.00</td>\n",
       "      <td>138.0</td>\n",
       "      <td>603.06</td>\n",
       "      <td>85.0</td>\n",
       "      <td>35.8</td>\n",
       "      <td>0.0</td>\n",
       "      <td>0.0</td>\n",
       "      <td>0.0</td>\n",
       "      <td>0.0</td>\n",
       "      <td>alcazares</td>\n",
       "    </tr>\n",
       "  </tbody>\n",
       "</table>\n",
       "</div>"
      ],
      "text/plain": [
       "        Fecha     Hora  Temperatura  Velocidad  Direccion  Presion  Humedad  \\\n",
       "0  2017-01-01  0:00:53        18.06       1.79      138.0   603.13     84.0   \n",
       "1  2017-01-01  0:06:00        18.06       2.24      138.0   603.16     84.0   \n",
       "2  2017-01-01  0:11:05        18.06       0.89      138.0   603.16     84.0   \n",
       "3  2017-01-01  0:16:10        18.00       0.00      138.0   603.06     85.0   \n",
       "\n",
       "   Precipitacion  Radiacion  Evapotranspiracion  Precipitacion_Real  \\\n",
       "0           35.8        0.0                 0.0                 0.0   \n",
       "1           35.8        0.0                 0.0                 0.0   \n",
       "2           35.8        0.0                 0.0                 0.0   \n",
       "3           35.8        0.0                 0.0                 0.0   \n",
       "\n",
       "   Evapo_real   Estacion  \n",
       "0         0.0  alcazares  \n",
       "1         0.0  alcazares  \n",
       "2         0.0  alcazares  \n",
       "3         0.0  alcazares  "
      ]
     },
     "execution_count": 4,
     "metadata": {},
     "output_type": "execute_result"
    }
   ],
   "source": [
    "data.head(4) "
   ]
  },
  {
   "cell_type": "code",
   "execution_count": 4,
   "id": "257faddb",
   "metadata": {
    "ExecuteTime": {
     "end_time": "2022-07-23T14:11:30.973035Z",
     "start_time": "2022-07-23T14:11:29.978001Z"
    }
   },
   "outputs": [],
   "source": [
    "data = data.drop(data.index[data[\"Estacion\"] == \"palogrande\"]).reset_index(drop=True) "
   ]
  },
  {
   "cell_type": "code",
   "execution_count": null,
   "id": "bf4e582e",
   "metadata": {},
   "outputs": [],
   "source": []
  },
  {
   "cell_type": "code",
   "execution_count": 6,
   "id": "459ec918",
   "metadata": {
    "ExecuteTime": {
     "end_time": "2022-07-22T19:12:28.236842Z",
     "start_time": "2022-07-22T19:12:28.025740Z"
    }
   },
   "outputs": [
    {
     "data": {
      "text/html": [
       "<div>\n",
       "<style scoped>\n",
       "    .dataframe tbody tr th:only-of-type {\n",
       "        vertical-align: middle;\n",
       "    }\n",
       "\n",
       "    .dataframe tbody tr th {\n",
       "        vertical-align: top;\n",
       "    }\n",
       "\n",
       "    .dataframe thead th {\n",
       "        text-align: right;\n",
       "    }\n",
       "</style>\n",
       "<table border=\"1\" class=\"dataframe\">\n",
       "  <thead>\n",
       "    <tr style=\"text-align: right;\">\n",
       "      <th></th>\n",
       "      <th>Fecha</th>\n",
       "      <th>Hora</th>\n",
       "      <th>Temperatura</th>\n",
       "      <th>Velocidad</th>\n",
       "      <th>Presion</th>\n",
       "      <th>Humedad</th>\n",
       "      <th>Precipitacion</th>\n",
       "      <th>Radiacion</th>\n",
       "    </tr>\n",
       "  </thead>\n",
       "  <tbody>\n",
       "    <tr>\n",
       "      <th>0</th>\n",
       "      <td>2017-01-01</td>\n",
       "      <td>0:00:53</td>\n",
       "      <td>18.06</td>\n",
       "      <td>1.79</td>\n",
       "      <td>603.13</td>\n",
       "      <td>84.0</td>\n",
       "      <td>35.8</td>\n",
       "      <td>0.0</td>\n",
       "    </tr>\n",
       "    <tr>\n",
       "      <th>1</th>\n",
       "      <td>2017-01-01</td>\n",
       "      <td>0:06:00</td>\n",
       "      <td>18.06</td>\n",
       "      <td>2.24</td>\n",
       "      <td>603.16</td>\n",
       "      <td>84.0</td>\n",
       "      <td>35.8</td>\n",
       "      <td>0.0</td>\n",
       "    </tr>\n",
       "    <tr>\n",
       "      <th>2</th>\n",
       "      <td>2017-01-01</td>\n",
       "      <td>0:11:05</td>\n",
       "      <td>18.06</td>\n",
       "      <td>0.89</td>\n",
       "      <td>603.16</td>\n",
       "      <td>84.0</td>\n",
       "      <td>35.8</td>\n",
       "      <td>0.0</td>\n",
       "    </tr>\n",
       "  </tbody>\n",
       "</table>\n",
       "</div>"
      ],
      "text/plain": [
       "        Fecha     Hora  Temperatura  Velocidad  Presion  Humedad  \\\n",
       "0  2017-01-01  0:00:53        18.06       1.79   603.13     84.0   \n",
       "1  2017-01-01  0:06:00        18.06       2.24   603.16     84.0   \n",
       "2  2017-01-01  0:11:05        18.06       0.89   603.16     84.0   \n",
       "\n",
       "   Precipitacion  Radiacion  \n",
       "0           35.8        0.0  \n",
       "1           35.8        0.0  \n",
       "2           35.8        0.0  "
      ]
     },
     "execution_count": 6,
     "metadata": {},
     "output_type": "execute_result"
    }
   ],
   "source": [
    "data = data[[\"Fecha\",\"Hora\",\"Temperatura\",\"Velocidad\",\"Presion\",\"Humedad\",\"Precipitacion\",\"Radiacion\"]]\n",
    "data.head(3) "
   ]
  },
  {
   "cell_type": "code",
   "execution_count": 86,
   "id": "ffd94eab",
   "metadata": {
    "ExecuteTime": {
     "end_time": "2022-07-22T16:09:20.594457Z",
     "start_time": "2022-07-22T16:09:19.385549Z"
    }
   },
   "outputs": [],
   "source": [
    "corr_matrix = data.corr(method='pearson') "
   ]
  },
  {
   "cell_type": "code",
   "execution_count": 87,
   "id": "9b6babba",
   "metadata": {
    "ExecuteTime": {
     "end_time": "2022-07-22T16:09:21.569162Z",
     "start_time": "2022-07-22T16:09:21.185492Z"
    }
   },
   "outputs": [
    {
     "data": {
      "image/png": "[encoded data removed]",
      "text/plain": [
       "<Figure size 720x720 with 1 Axes>"
      ]
     },
     "metadata": {
      "needs_background": "light"
     },
     "output_type": "display_data"
    }
   ],
   "source": [
    "fig, ax = plt.subplots(nrows=1, ncols=1, figsize=(10, 10)) \n",
    "\n",
    "sns.heatmap(\n",
    "    corr_matrix,\n",
    "    annot     = True,\n",
    "    cbar      = False,\n",
    "    annot_kws = {\"size\": 8},\n",
    "    vmin      = -1,\n",
    "    vmax      = 1,\n",
    "    center    = 0,\n",
    "    cmap      = sns.diverging_palette(20, 220, n=200),\n",
    "    square    = True,\n",
    "    ax        = ax\n",
    ")\n",
    "\n",
    "ax.set_xticklabels(\n",
    "    ax.get_xticklabels(),\n",
    "    rotation = 45,\n",
    "    horizontalalignment = 'right',\n",
    ")\n",
    "\n",
    "ax.tick_params(labelsize = 10)"
   ]
  },
  {
   "cell_type": "code",
   "execution_count": 88,
   "id": "c4ff416b",
   "metadata": {
    "ExecuteTime": {
     "end_time": "2022-07-22T16:09:25.676815Z",
     "start_time": "2022-07-22T16:09:25.657805Z"
    }
   },
   "outputs": [
    {
     "data": {
      "text/plain": [
       "Precipitacion         1.000000\n",
       "Humedad               0.238363\n",
       "Precipitacion_Real    0.065910\n",
       "Presion               0.002206\n",
       "Evapo_real           -0.009258\n",
       "Radiacion            -0.038980\n",
       "Direccion            -0.044323\n",
       "Velocidad            -0.059184\n",
       "Evapotranspiracion   -0.071007\n",
       "Temperatura          -0.197327\n",
       "Name: Precipitacion, dtype: float64"
      ]
     },
     "execution_count": 88,
     "metadata": {},
     "output_type": "execute_result"
    }
   ],
   "source": [
    "corr_matrix[\"Precipitacion\"].sort_values(ascending=False) "
   ]
  },
  {
   "cell_type": "code",
   "execution_count": 89,
   "id": "863a9f4e",
   "metadata": {
    "ExecuteTime": {
     "end_time": "2022-07-22T16:09:42.855776Z",
     "start_time": "2022-07-22T16:09:32.337929Z"
    }
   },
   "outputs": [
    {
     "data": {
      "text/plain": [
       "<AxesSubplot:>"
      ]
     },
     "execution_count": 89,
     "metadata": {},
     "output_type": "execute_result"
    },
    {
     "data": {
      "image/png": "[encoded data removed]",
      "text/plain": [
       "<Figure size 1080x432 with 2 Axes>"
      ]
     },
     "metadata": {
      "needs_background": "light"
     },
     "output_type": "display_data"
    }
   ],
   "source": [
    "import missingno as msno  \n",
    "%matplotlib inline\n",
    "msno.matrix(data,figsize=(15,6),fontsize=12)  "
   ]
  },
  {
   "cell_type": "code",
   "execution_count": 7,
   "id": "b2a77698",
   "metadata": {
    "ExecuteTime": {
     "end_time": "2022-07-22T19:12:36.684929Z",
     "start_time": "2022-07-22T19:12:36.576953Z"
    }
   },
   "outputs": [
    {
     "name": "stdout",
     "output_type": "stream",
     "text": [
      "<class 'pandas.core.frame.DataFrame'>\n",
      "RangeIndex: 5330016 entries, 0 to 5330015\n",
      "Data columns (total 7 columns):\n",
      " #   Column         Dtype  \n",
      "---  ------         -----  \n",
      " 0   Fecha          object \n",
      " 1   Temperatura    float64\n",
      " 2   Velocidad      float64\n",
      " 3   Presion        float64\n",
      " 4   Humedad        float64\n",
      " 5   Precipitacion  float64\n",
      " 6   Radiacion      float64\n",
      "dtypes: float64(6), object(1)\n",
      "memory usage: 284.7+ MB\n"
     ]
    }
   ],
   "source": [
    "datas = data[[\"Fecha\",\"Temperatura\",\"Velocidad\",\"Presion\",\"Humedad\",\"Precipitacion\", \"Radiacion\"]]\n",
    "datas.info()  "
   ]
  },
  {
   "cell_type": "code",
   "execution_count": 8,
   "id": "15074ce7",
   "metadata": {
    "ExecuteTime": {
     "end_time": "2022-07-22T19:12:38.398536Z",
     "start_time": "2022-07-22T19:12:37.488501Z"
    }
   },
   "outputs": [],
   "source": [
    "datas[\"Fecha\"] = pd.to_datetime(datas[\"Fecha\"])  "
   ]
  },
  {
   "cell_type": "code",
   "execution_count": 9,
   "id": "9ed9be35",
   "metadata": {
    "ExecuteTime": {
     "end_time": "2022-07-22T19:12:40.524927Z",
     "start_time": "2022-07-22T19:12:39.697074Z"
    }
   },
   "outputs": [],
   "source": [
    "datas[\"year\"] = datas[\"Fecha\"].dt.year  \n",
    "datas[\"month\"] = datas[\"Fecha\"].dt.month \n",
    "datas[\"day\"] = datas[\"Fecha\"].dt.day  "
   ]
  },
  {
   "cell_type": "code",
   "execution_count": 10,
   "id": "ac2a644a",
   "metadata": {
    "ExecuteTime": {
     "end_time": "2022-07-22T19:12:41.413970Z",
     "start_time": "2022-07-22T19:12:41.241001Z"
    }
   },
   "outputs": [],
   "source": [
    "datas = datas.drop(columns={\"Fecha\"}, axis = 1) "
   ]
  },
  {
   "cell_type": "code",
   "execution_count": 24,
   "id": "bdda6a7c",
   "metadata": {
    "ExecuteTime": {
     "end_time": "2022-07-22T20:31:27.190113Z",
     "start_time": "2022-07-22T20:31:27.164366Z"
    }
   },
   "outputs": [
    {
     "data": {
      "text/html": [
       "<div>\n",
       "<style scoped>\n",
       "    .dataframe tbody tr th:only-of-type {\n",
       "        vertical-align: middle;\n",
       "    }\n",
       "\n",
       "    .dataframe tbody tr th {\n",
       "        vertical-align: top;\n",
       "    }\n",
       "\n",
       "    .dataframe thead th {\n",
       "        text-align: right;\n",
       "    }\n",
       "</style>\n",
       "<table border=\"1\" class=\"dataframe\">\n",
       "  <thead>\n",
       "    <tr style=\"text-align: right;\">\n",
       "      <th></th>\n",
       "      <th>Temperatura</th>\n",
       "      <th>Velocidad</th>\n",
       "      <th>Presion</th>\n",
       "      <th>Humedad</th>\n",
       "      <th>Precipitacion</th>\n",
       "      <th>Radiacion</th>\n",
       "      <th>year</th>\n",
       "      <th>month</th>\n",
       "      <th>day</th>\n",
       "    </tr>\n",
       "  </thead>\n",
       "  <tbody>\n",
       "    <tr>\n",
       "      <th>0</th>\n",
       "      <td>18.06</td>\n",
       "      <td>1.79</td>\n",
       "      <td>603.13</td>\n",
       "      <td>84.0</td>\n",
       "      <td>35.8</td>\n",
       "      <td>0.0</td>\n",
       "      <td>2017</td>\n",
       "      <td>1</td>\n",
       "      <td>1</td>\n",
       "    </tr>\n",
       "    <tr>\n",
       "      <th>1</th>\n",
       "      <td>18.06</td>\n",
       "      <td>2.24</td>\n",
       "      <td>603.16</td>\n",
       "      <td>84.0</td>\n",
       "      <td>35.8</td>\n",
       "      <td>0.0</td>\n",
       "      <td>2017</td>\n",
       "      <td>1</td>\n",
       "      <td>1</td>\n",
       "    </tr>\n",
       "    <tr>\n",
       "      <th>2</th>\n",
       "      <td>18.06</td>\n",
       "      <td>0.89</td>\n",
       "      <td>603.16</td>\n",
       "      <td>84.0</td>\n",
       "      <td>35.8</td>\n",
       "      <td>0.0</td>\n",
       "      <td>2017</td>\n",
       "      <td>1</td>\n",
       "      <td>1</td>\n",
       "    </tr>\n",
       "    <tr>\n",
       "      <th>3</th>\n",
       "      <td>18.00</td>\n",
       "      <td>0.00</td>\n",
       "      <td>603.06</td>\n",
       "      <td>85.0</td>\n",
       "      <td>35.8</td>\n",
       "      <td>0.0</td>\n",
       "      <td>2017</td>\n",
       "      <td>1</td>\n",
       "      <td>1</td>\n",
       "    </tr>\n",
       "    <tr>\n",
       "      <th>4</th>\n",
       "      <td>17.89</td>\n",
       "      <td>1.79</td>\n",
       "      <td>603.00</td>\n",
       "      <td>85.0</td>\n",
       "      <td>35.8</td>\n",
       "      <td>0.0</td>\n",
       "      <td>2017</td>\n",
       "      <td>1</td>\n",
       "      <td>1</td>\n",
       "    </tr>\n",
       "    <tr>\n",
       "      <th>...</th>\n",
       "      <td>...</td>\n",
       "      <td>...</td>\n",
       "      <td>...</td>\n",
       "      <td>...</td>\n",
       "      <td>...</td>\n",
       "      <td>...</td>\n",
       "      <td>...</td>\n",
       "      <td>...</td>\n",
       "      <td>...</td>\n",
       "    </tr>\n",
       "    <tr>\n",
       "      <th>5330011</th>\n",
       "      <td>16.44</td>\n",
       "      <td>1.34</td>\n",
       "      <td>589.61</td>\n",
       "      <td>89.0</td>\n",
       "      <td>1.0</td>\n",
       "      <td>213.0</td>\n",
       "      <td>2020</td>\n",
       "      <td>12</td>\n",
       "      <td>31</td>\n",
       "    </tr>\n",
       "    <tr>\n",
       "      <th>5330012</th>\n",
       "      <td>16.39</td>\n",
       "      <td>0.45</td>\n",
       "      <td>589.59</td>\n",
       "      <td>88.0</td>\n",
       "      <td>1.0</td>\n",
       "      <td>301.0</td>\n",
       "      <td>2020</td>\n",
       "      <td>12</td>\n",
       "      <td>31</td>\n",
       "    </tr>\n",
       "    <tr>\n",
       "      <th>5330013</th>\n",
       "      <td>16.56</td>\n",
       "      <td>1.79</td>\n",
       "      <td>589.61</td>\n",
       "      <td>89.0</td>\n",
       "      <td>1.0</td>\n",
       "      <td>735.0</td>\n",
       "      <td>2020</td>\n",
       "      <td>12</td>\n",
       "      <td>31</td>\n",
       "    </tr>\n",
       "    <tr>\n",
       "      <th>5330014</th>\n",
       "      <td>16.72</td>\n",
       "      <td>0.89</td>\n",
       "      <td>589.56</td>\n",
       "      <td>89.0</td>\n",
       "      <td>1.0</td>\n",
       "      <td>272.0</td>\n",
       "      <td>2020</td>\n",
       "      <td>12</td>\n",
       "      <td>31</td>\n",
       "    </tr>\n",
       "    <tr>\n",
       "      <th>5330015</th>\n",
       "      <td>16.89</td>\n",
       "      <td>1.34</td>\n",
       "      <td>589.51</td>\n",
       "      <td>87.0</td>\n",
       "      <td>1.0</td>\n",
       "      <td>258.0</td>\n",
       "      <td>2020</td>\n",
       "      <td>12</td>\n",
       "      <td>31</td>\n",
       "    </tr>\n",
       "  </tbody>\n",
       "</table>\n",
       "<p>5330016 rows × 9 columns</p>\n",
       "</div>"
      ],
      "text/plain": [
       "         Temperatura  Velocidad  Presion  Humedad  Precipitacion  Radiacion  \\\n",
       "0              18.06       1.79   603.13     84.0           35.8        0.0   \n",
       "1              18.06       2.24   603.16     84.0           35.8        0.0   \n",
       "2              18.06       0.89   603.16     84.0           35.8        0.0   \n",
       "3              18.00       0.00   603.06     85.0           35.8        0.0   \n",
       "4              17.89       1.79   603.00     85.0           35.8        0.0   \n",
       "...              ...        ...      ...      ...            ...        ...   \n",
       "5330011        16.44       1.34   589.61     89.0            1.0      213.0   \n",
       "5330012        16.39       0.45   589.59     88.0            1.0      301.0   \n",
       "5330013        16.56       1.79   589.61     89.0            1.0      735.0   \n",
       "5330014        16.72       0.89   589.56     89.0            1.0      272.0   \n",
       "5330015        16.89       1.34   589.51     87.0            1.0      258.0   \n",
       "\n",
       "         year  month  day  \n",
       "0        2017      1    1  \n",
       "1        2017      1    1  \n",
       "2        2017      1    1  \n",
       "3        2017      1    1  \n",
       "4        2017      1    1  \n",
       "...       ...    ...  ...  \n",
       "5330011  2020     12   31  \n",
       "5330012  2020     12   31  \n",
       "5330013  2020     12   31  \n",
       "5330014  2020     12   31  \n",
       "5330015  2020     12   31  \n",
       "\n",
       "[5330016 rows x 9 columns]"
      ]
     },
     "execution_count": 24,
     "metadata": {},
     "output_type": "execute_result"
    }
   ],
   "source": [
    "datas"
   ]
  },
  {
   "cell_type": "markdown",
   "id": "baa07e2b",
   "metadata": {},
   "source": [
    "Technically, any predictive model capable of inference can be used for MICE. In this article, we impute a dataset with the miceforest Python library, which uses lightgbm random forests by default (although this can be changed). Random forests work well with the MICE algorithm for several reasons: <br/>\n",
    "\n",
    "1. Do not need much hyperparameter tuning\n",
    "2. Easily handle non-linear relationships in the data\n",
    "3. Can return OOB performance inexpensively\n",
    "4. Are trivially parallelizable\n",
    "5. Can return feature importance for diagnostics"
   ]
  },
  {
   "cell_type": "code",
   "execution_count": 109,
   "id": "43f54261",
   "metadata": {
    "ExecuteTime": {
     "end_time": "2022-07-22T16:50:27.225794Z",
     "start_time": "2022-07-22T16:33:44.465889Z"
    },
    "scrolled": true
   },
   "outputs": [
    {
     "name": "stdout",
     "output_type": "stream",
     "text": [
      "Temperatura      0\n",
      "Velocidad        0\n",
      "Presion          0\n",
      "Humedad          0\n",
      "Precipitacion    0\n",
      "Radiacion        0\n",
      "year             0\n",
      "month            0\n",
      "day              0\n",
      "dtype: int64\n"
     ]
    }
   ],
   "source": [
    "# Create kernel. \n",
    "kds = mf.ImputationKernel(\n",
    "  datas,  \n",
    "  #datasets=3, \n",
    "  save_all_iterations=True,\n",
    "  random_state=36\n",
    ")\n",
    "\n",
    "# Run the MICE algorithm for 2 iterations\n",
    "kds.mice(iterations=5)\n",
    "\n",
    "# Return the completed dataset.\n",
    "complete = kds.complete_data(0)\n",
    "print(complete.isnull().sum())"
   ]
  },
  {
   "cell_type": "markdown",
   "id": "c78996f3",
   "metadata": {},
   "source": [
    "**What we have done is created 5 separate datasets with different imputed values.** <br/>\n",
    "**We can never be sure what the original data was, but if our different datasets all come up with similar imputed values, we can say that we are confident in our imputations. Let’s take a look at the correlations of the imputed values between datasets:**"
   ]
  },
  {
   "cell_type": "code",
   "execution_count": 110,
   "id": "e159f34b",
   "metadata": {
    "ExecuteTime": {
     "end_time": "2022-07-22T16:52:13.504579Z",
     "start_time": "2022-07-22T16:52:09.835499Z"
    }
   },
   "outputs": [
    {
     "data": {
      "image/png": "[encoded data removed]",
      "text/plain": [
       "<Figure size 432x288 with 6 Axes>"
      ]
     },
     "metadata": {
      "needs_background": "light"
     },
     "output_type": "display_data"
    }
   ],
   "source": [
    "kds.plot_correlations(wspace=.5,hspace=2)"
   ]
  },
  {
   "cell_type": "code",
   "execution_count": 111,
   "id": "4a49bc08",
   "metadata": {
    "ExecuteTime": {
     "end_time": "2022-07-22T16:56:40.769053Z",
     "start_time": "2022-07-22T16:52:31.363788Z"
    }
   },
   "outputs": [
    {
     "data": {
      "image/png": "[encoded data removed]",
      "text/plain": [
       "<Figure size 432x288 with 6 Axes>"
      ]
     },
     "metadata": {
      "needs_background": "light"
     },
     "output_type": "display_data"
    }
   ],
   "source": [
    "kds.plot_imputed_distributions(wspace=0.35,hspace=0.4)"
   ]
  },
  {
   "cell_type": "code",
   "execution_count": 112,
   "id": "f85f4d78",
   "metadata": {
    "ExecuteTime": {
     "end_time": "2022-07-22T16:57:05.650304Z",
     "start_time": "2022-07-22T16:57:05.108362Z"
    }
   },
   "outputs": [
    {
     "data": {
      "text/plain": [
       "<AxesSubplot:>"
      ]
     },
     "execution_count": 112,
     "metadata": {},
     "output_type": "execute_result"
    },
    {
     "data": {
      "image/png": "[encoded data removed]",
      "text/plain": [
       "<Figure size 432x288 with 1 Axes>"
      ]
     },
     "metadata": {
      "needs_background": "light"
     },
     "output_type": "display_data"
    }
   ],
   "source": [
    "complete.Precipitacion.plot()"
   ]
  },
  {
   "cell_type": "code",
   "execution_count": 33,
   "id": "bdd6bb79",
   "metadata": {
    "ExecuteTime": {
     "end_time": "2022-07-22T20:39:26.929570Z",
     "start_time": "2022-07-22T20:39:26.357031Z"
    }
   },
   "outputs": [
    {
     "data": {
      "text/plain": [
       "<AxesSubplot:>"
      ]
     },
     "execution_count": 33,
     "metadata": {},
     "output_type": "execute_result"
    },
    {
     "data": {
      "image/png": "[encoded data removed]",
      "text/plain": [
       "<Figure size 432x288 with 1 Axes>"
      ]
     },
     "metadata": {
      "needs_background": "light"
     },
     "output_type": "display_data"
    }
   ],
   "source": [
    "#plt.figure(figsize=(12,8))\n",
    "datas.Precipitacion.plot()   "
   ]
  },
  {
   "cell_type": "markdown",
   "id": "b9945eaa",
   "metadata": {},
   "source": [
    "## MICE "
   ]
  },
  {
   "cell_type": "code",
   "execution_count": 35,
   "id": "58b03072",
   "metadata": {
    "ExecuteTime": {
     "end_time": "2022-07-22T20:43:18.354877Z",
     "start_time": "2022-07-22T20:39:49.221378Z"
    }
   },
   "outputs": [
    {
     "name": "stdout",
     "output_type": "stream",
     "text": [
      "Temperatura      0\n",
      "Velocidad        0\n",
      "Presion          0\n",
      "Humedad          0\n",
      "Precipitacion    0\n",
      "Radiacion        0\n",
      "year             0\n",
      "month            0\n",
      "day              0\n",
      "dtype: int64\n"
     ]
    }
   ],
   "source": [
    "# Create kernel. \n",
    "kds_2 = mf.ImputationKernel(\n",
    "  datas,  \n",
    "  datasets=1, \n",
    "  save_all_iterations=True,\n",
    "  random_state=36\n",
    ")\n",
    "\n",
    "# Run the MICE algorithm for 2 iterations\n",
    "kds_2.mice(iterations=5)    \n",
    "\n",
    "# Return the completed dataset.\n",
    "complete_2 = kds_2.complete_data(0)\n",
    "print(complete_2.isnull().sum())"
   ]
  },
  {
   "cell_type": "code",
   "execution_count": null,
   "id": "af0b3c77",
   "metadata": {},
   "outputs": [],
   "source": []
  },
  {
   "cell_type": "code",
   "execution_count": 36,
   "id": "4d8e14e0",
   "metadata": {
    "ExecuteTime": {
     "end_time": "2022-07-22T20:55:20.412658Z",
     "start_time": "2022-07-22T20:55:19.870906Z"
    }
   },
   "outputs": [
    {
     "data": {
      "text/plain": [
       "<AxesSubplot:>"
      ]
     },
     "execution_count": 36,
     "metadata": {},
     "output_type": "execute_result"
    },
    {
     "data": {
      "image/png": "[encoded data removed]",
      "text/plain": [
       "<Figure size 432x288 with 1 Axes>"
      ]
     },
     "metadata": {
      "needs_background": "light"
     },
     "output_type": "display_data"
    }
   ],
   "source": [
    "#plt.figure(figsize=(8,6))\n",
    "complete_2.Precipitacion.plot()  "
   ]
  },
  {
   "cell_type": "code",
   "execution_count": 37,
   "id": "3be13389",
   "metadata": {
    "ExecuteTime": {
     "end_time": "2022-07-22T20:55:22.910007Z",
     "start_time": "2022-07-22T20:55:22.350227Z"
    }
   },
   "outputs": [
    {
     "data": {
      "text/plain": [
       "<AxesSubplot:>"
      ]
     },
     "execution_count": 37,
     "metadata": {},
     "output_type": "execute_result"
    },
    {
     "data": {
      "image/png": "[encoded data removed]",
      "text/plain": [
       "<Figure size 432x288 with 1 Axes>"
      ]
     },
     "metadata": {
      "needs_background": "light"
     },
     "output_type": "display_data"
    }
   ],
   "source": [
    "#plt.figure(figsize=(8,6))\n",
    "datas.Precipitacion.plot()    "
   ]
  },
  {
   "cell_type": "code",
   "execution_count": 38,
   "id": "06c03233",
   "metadata": {
    "ExecuteTime": {
     "end_time": "2022-07-22T20:55:25.620603Z",
     "start_time": "2022-07-22T20:55:25.030018Z"
    }
   },
   "outputs": [
    {
     "data": {
      "text/plain": [
       "<AxesSubplot:>"
      ]
     },
     "execution_count": 38,
     "metadata": {},
     "output_type": "execute_result"
    },
    {
     "data": {
      "image/png": "[encoded data removed]",
      "text/plain": [
       "<Figure size 432x288 with 1 Axes>"
      ]
     },
     "metadata": {
      "needs_background": "light"
     },
     "output_type": "display_data"
    }
   ],
   "source": [
    "complete_2.Temperatura.plot()"
   ]
  },
  {
   "cell_type": "code",
   "execution_count": 41,
   "id": "d67b4e54",
   "metadata": {
    "ExecuteTime": {
     "end_time": "2022-07-22T21:00:24.509296Z",
     "start_time": "2022-07-22T21:00:23.782579Z"
    }
   },
   "outputs": [
    {
     "data": {
      "text/plain": [
       "<AxesSubplot:>"
      ]
     },
     "execution_count": 41,
     "metadata": {},
     "output_type": "execute_result"
    },
    {
     "data": {
      "image/png": "[encoded data removed]",
      "text/plain": [
       "<Figure size 432x288 with 1 Axes>"
      ]
     },
     "metadata": {
      "needs_background": "light"
     },
     "output_type": "display_data"
    }
   ],
   "source": [
    "datas.Temperatura.plot()     "
   ]
  },
  {
   "cell_type": "code",
   "execution_count": 39,
   "id": "0731ec77",
   "metadata": {
    "ExecuteTime": {
     "end_time": "2022-07-22T20:59:35.518701Z",
     "start_time": "2022-07-22T20:59:35.494732Z"
    }
   },
   "outputs": [
    {
     "data": {
      "text/html": [
       "<div>\n",
       "<style scoped>\n",
       "    .dataframe tbody tr th:only-of-type {\n",
       "        vertical-align: middle;\n",
       "    }\n",
       "\n",
       "    .dataframe tbody tr th {\n",
       "        vertical-align: top;\n",
       "    }\n",
       "\n",
       "    .dataframe thead th {\n",
       "        text-align: right;\n",
       "    }\n",
       "</style>\n",
       "<table border=\"1\" class=\"dataframe\">\n",
       "  <thead>\n",
       "    <tr style=\"text-align: right;\">\n",
       "      <th></th>\n",
       "      <th>Temperatura</th>\n",
       "      <th>Velocidad</th>\n",
       "      <th>Presion</th>\n",
       "      <th>Humedad</th>\n",
       "      <th>Precipitacion</th>\n",
       "      <th>Radiacion</th>\n",
       "      <th>year</th>\n",
       "      <th>month</th>\n",
       "      <th>day</th>\n",
       "    </tr>\n",
       "  </thead>\n",
       "  <tbody>\n",
       "    <tr>\n",
       "      <th>0</th>\n",
       "      <td>18.06</td>\n",
       "      <td>1.79</td>\n",
       "      <td>603.13</td>\n",
       "      <td>84.0</td>\n",
       "      <td>35.8</td>\n",
       "      <td>0.0</td>\n",
       "      <td>2017</td>\n",
       "      <td>1</td>\n",
       "      <td>1</td>\n",
       "    </tr>\n",
       "    <tr>\n",
       "      <th>1</th>\n",
       "      <td>18.06</td>\n",
       "      <td>2.24</td>\n",
       "      <td>603.16</td>\n",
       "      <td>84.0</td>\n",
       "      <td>35.8</td>\n",
       "      <td>0.0</td>\n",
       "      <td>2017</td>\n",
       "      <td>1</td>\n",
       "      <td>1</td>\n",
       "    </tr>\n",
       "    <tr>\n",
       "      <th>2</th>\n",
       "      <td>18.06</td>\n",
       "      <td>0.89</td>\n",
       "      <td>603.16</td>\n",
       "      <td>84.0</td>\n",
       "      <td>35.8</td>\n",
       "      <td>0.0</td>\n",
       "      <td>2017</td>\n",
       "      <td>1</td>\n",
       "      <td>1</td>\n",
       "    </tr>\n",
       "    <tr>\n",
       "      <th>3</th>\n",
       "      <td>18.00</td>\n",
       "      <td>0.00</td>\n",
       "      <td>603.06</td>\n",
       "      <td>85.0</td>\n",
       "      <td>35.8</td>\n",
       "      <td>0.0</td>\n",
       "      <td>2017</td>\n",
       "      <td>1</td>\n",
       "      <td>1</td>\n",
       "    </tr>\n",
       "    <tr>\n",
       "      <th>4</th>\n",
       "      <td>17.89</td>\n",
       "      <td>1.79</td>\n",
       "      <td>603.00</td>\n",
       "      <td>85.0</td>\n",
       "      <td>35.8</td>\n",
       "      <td>0.0</td>\n",
       "      <td>2017</td>\n",
       "      <td>1</td>\n",
       "      <td>1</td>\n",
       "    </tr>\n",
       "    <tr>\n",
       "      <th>...</th>\n",
       "      <td>...</td>\n",
       "      <td>...</td>\n",
       "      <td>...</td>\n",
       "      <td>...</td>\n",
       "      <td>...</td>\n",
       "      <td>...</td>\n",
       "      <td>...</td>\n",
       "      <td>...</td>\n",
       "      <td>...</td>\n",
       "    </tr>\n",
       "    <tr>\n",
       "      <th>5330011</th>\n",
       "      <td>16.44</td>\n",
       "      <td>1.34</td>\n",
       "      <td>589.61</td>\n",
       "      <td>89.0</td>\n",
       "      <td>1.0</td>\n",
       "      <td>213.0</td>\n",
       "      <td>2020</td>\n",
       "      <td>12</td>\n",
       "      <td>31</td>\n",
       "    </tr>\n",
       "    <tr>\n",
       "      <th>5330012</th>\n",
       "      <td>16.39</td>\n",
       "      <td>0.45</td>\n",
       "      <td>589.59</td>\n",
       "      <td>88.0</td>\n",
       "      <td>1.0</td>\n",
       "      <td>301.0</td>\n",
       "      <td>2020</td>\n",
       "      <td>12</td>\n",
       "      <td>31</td>\n",
       "    </tr>\n",
       "    <tr>\n",
       "      <th>5330013</th>\n",
       "      <td>16.56</td>\n",
       "      <td>1.79</td>\n",
       "      <td>589.61</td>\n",
       "      <td>89.0</td>\n",
       "      <td>1.0</td>\n",
       "      <td>735.0</td>\n",
       "      <td>2020</td>\n",
       "      <td>12</td>\n",
       "      <td>31</td>\n",
       "    </tr>\n",
       "    <tr>\n",
       "      <th>5330014</th>\n",
       "      <td>16.72</td>\n",
       "      <td>0.89</td>\n",
       "      <td>589.56</td>\n",
       "      <td>89.0</td>\n",
       "      <td>1.0</td>\n",
       "      <td>272.0</td>\n",
       "      <td>2020</td>\n",
       "      <td>12</td>\n",
       "      <td>31</td>\n",
       "    </tr>\n",
       "    <tr>\n",
       "      <th>5330015</th>\n",
       "      <td>16.89</td>\n",
       "      <td>1.34</td>\n",
       "      <td>589.51</td>\n",
       "      <td>87.0</td>\n",
       "      <td>1.0</td>\n",
       "      <td>258.0</td>\n",
       "      <td>2020</td>\n",
       "      <td>12</td>\n",
       "      <td>31</td>\n",
       "    </tr>\n",
       "  </tbody>\n",
       "</table>\n",
       "<p>5330016 rows × 9 columns</p>\n",
       "</div>"
      ],
      "text/plain": [
       "         Temperatura  Velocidad  Presion  Humedad  Precipitacion  Radiacion  \\\n",
       "0              18.06       1.79   603.13     84.0           35.8        0.0   \n",
       "1              18.06       2.24   603.16     84.0           35.8        0.0   \n",
       "2              18.06       0.89   603.16     84.0           35.8        0.0   \n",
       "3              18.00       0.00   603.06     85.0           35.8        0.0   \n",
       "4              17.89       1.79   603.00     85.0           35.8        0.0   \n",
       "...              ...        ...      ...      ...            ...        ...   \n",
       "5330011        16.44       1.34   589.61     89.0            1.0      213.0   \n",
       "5330012        16.39       0.45   589.59     88.0            1.0      301.0   \n",
       "5330013        16.56       1.79   589.61     89.0            1.0      735.0   \n",
       "5330014        16.72       0.89   589.56     89.0            1.0      272.0   \n",
       "5330015        16.89       1.34   589.51     87.0            1.0      258.0   \n",
       "\n",
       "         year  month  day  \n",
       "0        2017      1    1  \n",
       "1        2017      1    1  \n",
       "2        2017      1    1  \n",
       "3        2017      1    1  \n",
       "4        2017      1    1  \n",
       "...       ...    ...  ...  \n",
       "5330011  2020     12   31  \n",
       "5330012  2020     12   31  \n",
       "5330013  2020     12   31  \n",
       "5330014  2020     12   31  \n",
       "5330015  2020     12   31  \n",
       "\n",
       "[5330016 rows x 9 columns]"
      ]
     },
     "execution_count": 39,
     "metadata": {},
     "output_type": "execute_result"
    }
   ],
   "source": [
    "complete_2"
   ]
  },
  {
   "cell_type": "code",
   "execution_count": 40,
   "id": "c2bbfe1f",
   "metadata": {
    "ExecuteTime": {
     "end_time": "2022-07-22T21:00:03.149570Z",
     "start_time": "2022-07-22T20:59:43.068826Z"
    }
   },
   "outputs": [],
   "source": [
    "complete_2.to_csv('C:/Users/pulzara/Documents/Universidad internacional de valencia/TFM/base de datos/SIMAC organizados/BD2/data_imputed_MICE.txt', sep = '|', index=False, header=True)"
   ]
  },
  {
   "cell_type": "code",
   "execution_count": 15,
   "id": "2eb434af",
   "metadata": {
    "ExecuteTime": {
     "end_time": "2022-07-23T14:21:07.636201Z",
     "start_time": "2022-07-23T14:21:05.456853Z"
    }
   },
   "outputs": [],
   "source": [
    "complete_2 = pd.read_table('C:/Users/pulzara/Documents/Universidad internacional de valencia/TFM/base de datos/SIMAC organizados/BD2/data_imputed_MICE.txt',delimiter = '|') "
   ]
  },
  {
   "cell_type": "code",
   "execution_count": 6,
   "id": "e51b69ee",
   "metadata": {
    "ExecuteTime": {
     "end_time": "2022-07-23T14:12:38.421228Z",
     "start_time": "2022-07-23T14:12:38.393231Z"
    },
    "scrolled": true
   },
   "outputs": [
    {
     "data": {
      "text/html": [
       "<div>\n",
       "<style scoped>\n",
       "    .dataframe tbody tr th:only-of-type {\n",
       "        vertical-align: middle;\n",
       "    }\n",
       "\n",
       "    .dataframe tbody tr th {\n",
       "        vertical-align: top;\n",
       "    }\n",
       "\n",
       "    .dataframe thead th {\n",
       "        text-align: right;\n",
       "    }\n",
       "</style>\n",
       "<table border=\"1\" class=\"dataframe\">\n",
       "  <thead>\n",
       "    <tr style=\"text-align: right;\">\n",
       "      <th></th>\n",
       "      <th>Temperatura</th>\n",
       "      <th>Velocidad</th>\n",
       "      <th>Presion</th>\n",
       "      <th>Humedad</th>\n",
       "      <th>Precipitacion</th>\n",
       "      <th>Radiacion</th>\n",
       "      <th>year</th>\n",
       "      <th>month</th>\n",
       "      <th>day</th>\n",
       "    </tr>\n",
       "  </thead>\n",
       "  <tbody>\n",
       "    <tr>\n",
       "      <th>0</th>\n",
       "      <td>18.06</td>\n",
       "      <td>1.79</td>\n",
       "      <td>603.13</td>\n",
       "      <td>84.0</td>\n",
       "      <td>35.8</td>\n",
       "      <td>0.0</td>\n",
       "      <td>2017</td>\n",
       "      <td>1</td>\n",
       "      <td>1</td>\n",
       "    </tr>\n",
       "    <tr>\n",
       "      <th>1</th>\n",
       "      <td>18.06</td>\n",
       "      <td>2.24</td>\n",
       "      <td>603.16</td>\n",
       "      <td>84.0</td>\n",
       "      <td>35.8</td>\n",
       "      <td>0.0</td>\n",
       "      <td>2017</td>\n",
       "      <td>1</td>\n",
       "      <td>1</td>\n",
       "    </tr>\n",
       "    <tr>\n",
       "      <th>2</th>\n",
       "      <td>18.06</td>\n",
       "      <td>0.89</td>\n",
       "      <td>603.16</td>\n",
       "      <td>84.0</td>\n",
       "      <td>35.8</td>\n",
       "      <td>0.0</td>\n",
       "      <td>2017</td>\n",
       "      <td>1</td>\n",
       "      <td>1</td>\n",
       "    </tr>\n",
       "    <tr>\n",
       "      <th>3</th>\n",
       "      <td>18.00</td>\n",
       "      <td>0.00</td>\n",
       "      <td>603.06</td>\n",
       "      <td>85.0</td>\n",
       "      <td>35.8</td>\n",
       "      <td>0.0</td>\n",
       "      <td>2017</td>\n",
       "      <td>1</td>\n",
       "      <td>1</td>\n",
       "    </tr>\n",
       "    <tr>\n",
       "      <th>4</th>\n",
       "      <td>17.89</td>\n",
       "      <td>1.79</td>\n",
       "      <td>603.00</td>\n",
       "      <td>85.0</td>\n",
       "      <td>35.8</td>\n",
       "      <td>0.0</td>\n",
       "      <td>2017</td>\n",
       "      <td>1</td>\n",
       "      <td>1</td>\n",
       "    </tr>\n",
       "    <tr>\n",
       "      <th>...</th>\n",
       "      <td>...</td>\n",
       "      <td>...</td>\n",
       "      <td>...</td>\n",
       "      <td>...</td>\n",
       "      <td>...</td>\n",
       "      <td>...</td>\n",
       "      <td>...</td>\n",
       "      <td>...</td>\n",
       "      <td>...</td>\n",
       "    </tr>\n",
       "    <tr>\n",
       "      <th>5330011</th>\n",
       "      <td>16.44</td>\n",
       "      <td>1.34</td>\n",
       "      <td>589.61</td>\n",
       "      <td>89.0</td>\n",
       "      <td>1.0</td>\n",
       "      <td>213.0</td>\n",
       "      <td>2020</td>\n",
       "      <td>12</td>\n",
       "      <td>31</td>\n",
       "    </tr>\n",
       "    <tr>\n",
       "      <th>5330012</th>\n",
       "      <td>16.39</td>\n",
       "      <td>0.45</td>\n",
       "      <td>589.59</td>\n",
       "      <td>88.0</td>\n",
       "      <td>1.0</td>\n",
       "      <td>301.0</td>\n",
       "      <td>2020</td>\n",
       "      <td>12</td>\n",
       "      <td>31</td>\n",
       "    </tr>\n",
       "    <tr>\n",
       "      <th>5330013</th>\n",
       "      <td>16.56</td>\n",
       "      <td>1.79</td>\n",
       "      <td>589.61</td>\n",
       "      <td>89.0</td>\n",
       "      <td>1.0</td>\n",
       "      <td>735.0</td>\n",
       "      <td>2020</td>\n",
       "      <td>12</td>\n",
       "      <td>31</td>\n",
       "    </tr>\n",
       "    <tr>\n",
       "      <th>5330014</th>\n",
       "      <td>16.72</td>\n",
       "      <td>0.89</td>\n",
       "      <td>589.56</td>\n",
       "      <td>89.0</td>\n",
       "      <td>1.0</td>\n",
       "      <td>272.0</td>\n",
       "      <td>2020</td>\n",
       "      <td>12</td>\n",
       "      <td>31</td>\n",
       "    </tr>\n",
       "    <tr>\n",
       "      <th>5330015</th>\n",
       "      <td>16.89</td>\n",
       "      <td>1.34</td>\n",
       "      <td>589.51</td>\n",
       "      <td>87.0</td>\n",
       "      <td>1.0</td>\n",
       "      <td>258.0</td>\n",
       "      <td>2020</td>\n",
       "      <td>12</td>\n",
       "      <td>31</td>\n",
       "    </tr>\n",
       "  </tbody>\n",
       "</table>\n",
       "<p>5330016 rows × 9 columns</p>\n",
       "</div>"
      ],
      "text/plain": [
       "         Temperatura  Velocidad  Presion  Humedad  Precipitacion  Radiacion  \\\n",
       "0              18.06       1.79   603.13     84.0           35.8        0.0   \n",
       "1              18.06       2.24   603.16     84.0           35.8        0.0   \n",
       "2              18.06       0.89   603.16     84.0           35.8        0.0   \n",
       "3              18.00       0.00   603.06     85.0           35.8        0.0   \n",
       "4              17.89       1.79   603.00     85.0           35.8        0.0   \n",
       "...              ...        ...      ...      ...            ...        ...   \n",
       "5330011        16.44       1.34   589.61     89.0            1.0      213.0   \n",
       "5330012        16.39       0.45   589.59     88.0            1.0      301.0   \n",
       "5330013        16.56       1.79   589.61     89.0            1.0      735.0   \n",
       "5330014        16.72       0.89   589.56     89.0            1.0      272.0   \n",
       "5330015        16.89       1.34   589.51     87.0            1.0      258.0   \n",
       "\n",
       "         year  month  day  \n",
       "0        2017      1    1  \n",
       "1        2017      1    1  \n",
       "2        2017      1    1  \n",
       "3        2017      1    1  \n",
       "4        2017      1    1  \n",
       "...       ...    ...  ...  \n",
       "5330011  2020     12   31  \n",
       "5330012  2020     12   31  \n",
       "5330013  2020     12   31  \n",
       "5330014  2020     12   31  \n",
       "5330015  2020     12   31  \n",
       "\n",
       "[5330016 rows x 9 columns]"
      ]
     },
     "execution_count": 6,
     "metadata": {},
     "output_type": "execute_result"
    }
   ],
   "source": [
    "complete_2"
   ]
  },
  {
   "cell_type": "code",
   "execution_count": 65,
   "id": "1cb60943",
   "metadata": {
    "ExecuteTime": {
     "end_time": "2022-07-22T15:43:31.640368Z",
     "start_time": "2022-07-22T15:43:31.520482Z"
    }
   },
   "outputs": [
    {
     "data": {
      "text/plain": [
       "<AxesSubplot:>"
      ]
     },
     "execution_count": 65,
     "metadata": {},
     "output_type": "execute_result"
    },
    {
     "data": {
      "image/png": "[encoded data removed]",
      "text/plain": [
       "<Figure size 864x576 with 1 Axes>"
      ]
     },
     "metadata": {
      "needs_background": "light"
     },
     "output_type": "display_data"
    }
   ],
   "source": [
    "plt.figure(figsize=(12,8))\n",
    "complete_2[complete_2.Precipitacion > 200].Precipitacion.plot()"
   ]
  },
  {
   "cell_type": "code",
   "execution_count": 60,
   "id": "b666741b",
   "metadata": {
    "ExecuteTime": {
     "end_time": "2022-07-22T15:40:26.053432Z",
     "start_time": "2022-07-22T15:40:25.944022Z"
    }
   },
   "outputs": [],
   "source": [
    "dt[\"Precipitacion\"] = np.where((dt.Precipitacion >300 ), 250, dt[\"Precipitacion\"])  "
   ]
  },
  {
   "cell_type": "markdown",
   "id": "1ef1f958",
   "metadata": {
    "ExecuteTime": {
     "start_time": "2022-07-22T18:23:50.582Z"
    }
   },
   "source": [
    "## random forest\n"
   ]
  },
  {
   "cell_type": "code",
   "execution_count": 14,
   "id": "b2288968",
   "metadata": {
    "ExecuteTime": {
     "end_time": "2022-07-22T19:17:25.126163Z",
     "start_time": "2022-07-22T19:17:25.114165Z"
    }
   },
   "outputs": [],
   "source": [
    "import sklearn.neighbors._base\n",
    "sys.modules['sklearn.neighbors.base'] = sklearn.neighbors._base"
   ]
  },
  {
   "cell_type": "code",
   "execution_count": 16,
   "id": "6e846719",
   "metadata": {
    "ExecuteTime": {
     "end_time": "2022-07-22T19:18:36.898789Z",
     "start_time": "2022-07-22T19:18:36.833455Z"
    }
   },
   "outputs": [],
   "source": [
    "from missingpy import MissForest  "
   ]
  },
  {
   "cell_type": "code",
   "execution_count": 17,
   "id": "a54732b7",
   "metadata": {
    "ExecuteTime": {
     "end_time": "2022-07-22T20:29:57.640807Z",
     "start_time": "2022-07-22T19:19:32.185705Z"
    }
   },
   "outputs": [
    {
     "name": "stdout",
     "output_type": "stream",
     "text": [
      "Iteration: 0\n",
      "Iteration: 1\n",
      "Iteration: 2\n"
     ]
    }
   ],
   "source": [
    "imputer = MissForest()\n",
    "\n",
    "data_imputed = imputer.fit_transform(datas)"
   ]
  },
  {
   "cell_type": "code",
   "execution_count": 18,
   "id": "dbf539c6",
   "metadata": {
    "ExecuteTime": {
     "end_time": "2022-07-22T20:30:06.865219Z",
     "start_time": "2022-07-22T20:30:06.853331Z"
    }
   },
   "outputs": [],
   "source": [
    "df_imputed = pd.DataFrame(data_imputed) "
   ]
  },
  {
   "cell_type": "code",
   "execution_count": 19,
   "id": "d946b21a",
   "metadata": {
    "ExecuteTime": {
     "end_time": "2022-07-22T20:30:09.677030Z",
     "start_time": "2022-07-22T20:30:09.660665Z"
    }
   },
   "outputs": [],
   "source": [
    "col_list = tuple(datas.columns.values) "
   ]
  },
  {
   "cell_type": "code",
   "execution_count": 20,
   "id": "34ff272f",
   "metadata": {
    "ExecuteTime": {
     "end_time": "2022-07-22T20:30:10.435631Z",
     "start_time": "2022-07-22T20:30:10.427530Z"
    }
   },
   "outputs": [],
   "source": [
    "old_col_names = tuple(df_imputed.columns.values)"
   ]
  },
  {
   "cell_type": "code",
   "execution_count": 21,
   "id": "f7cae081",
   "metadata": {
    "ExecuteTime": {
     "end_time": "2022-07-22T20:30:11.170916Z",
     "start_time": "2022-07-22T20:30:11.164686Z"
    }
   },
   "outputs": [],
   "source": [
    "df_imputed.rename(\n",
    "    columns={i:j for i,j in zip(old_col_names,col_list)}, inplace=True\n",
    ") "
   ]
  },
  {
   "cell_type": "code",
   "execution_count": 22,
   "id": "2927fc98",
   "metadata": {
    "ExecuteTime": {
     "end_time": "2022-07-22T20:30:15.250644Z",
     "start_time": "2022-07-22T20:30:15.219423Z"
    }
   },
   "outputs": [
    {
     "data": {
      "text/html": [
       "<div>\n",
       "<style scoped>\n",
       "    .dataframe tbody tr th:only-of-type {\n",
       "        vertical-align: middle;\n",
       "    }\n",
       "\n",
       "    .dataframe tbody tr th {\n",
       "        vertical-align: top;\n",
       "    }\n",
       "\n",
       "    .dataframe thead th {\n",
       "        text-align: right;\n",
       "    }\n",
       "</style>\n",
       "<table border=\"1\" class=\"dataframe\">\n",
       "  <thead>\n",
       "    <tr style=\"text-align: right;\">\n",
       "      <th></th>\n",
       "      <th>Temperatura</th>\n",
       "      <th>Velocidad</th>\n",
       "      <th>Presion</th>\n",
       "      <th>Humedad</th>\n",
       "      <th>Precipitacion</th>\n",
       "      <th>Radiacion</th>\n",
       "      <th>year</th>\n",
       "      <th>month</th>\n",
       "      <th>day</th>\n",
       "    </tr>\n",
       "  </thead>\n",
       "  <tbody>\n",
       "    <tr>\n",
       "      <th>0</th>\n",
       "      <td>18.06</td>\n",
       "      <td>1.79</td>\n",
       "      <td>603.13</td>\n",
       "      <td>84.0</td>\n",
       "      <td>35.8</td>\n",
       "      <td>0.0</td>\n",
       "      <td>2017.0</td>\n",
       "      <td>1.0</td>\n",
       "      <td>1.0</td>\n",
       "    </tr>\n",
       "    <tr>\n",
       "      <th>1</th>\n",
       "      <td>18.06</td>\n",
       "      <td>2.24</td>\n",
       "      <td>603.16</td>\n",
       "      <td>84.0</td>\n",
       "      <td>35.8</td>\n",
       "      <td>0.0</td>\n",
       "      <td>2017.0</td>\n",
       "      <td>1.0</td>\n",
       "      <td>1.0</td>\n",
       "    </tr>\n",
       "    <tr>\n",
       "      <th>2</th>\n",
       "      <td>18.06</td>\n",
       "      <td>0.89</td>\n",
       "      <td>603.16</td>\n",
       "      <td>84.0</td>\n",
       "      <td>35.8</td>\n",
       "      <td>0.0</td>\n",
       "      <td>2017.0</td>\n",
       "      <td>1.0</td>\n",
       "      <td>1.0</td>\n",
       "    </tr>\n",
       "    <tr>\n",
       "      <th>3</th>\n",
       "      <td>18.00</td>\n",
       "      <td>0.00</td>\n",
       "      <td>603.06</td>\n",
       "      <td>85.0</td>\n",
       "      <td>35.8</td>\n",
       "      <td>0.0</td>\n",
       "      <td>2017.0</td>\n",
       "      <td>1.0</td>\n",
       "      <td>1.0</td>\n",
       "    </tr>\n",
       "    <tr>\n",
       "      <th>4</th>\n",
       "      <td>17.89</td>\n",
       "      <td>1.79</td>\n",
       "      <td>603.00</td>\n",
       "      <td>85.0</td>\n",
       "      <td>35.8</td>\n",
       "      <td>0.0</td>\n",
       "      <td>2017.0</td>\n",
       "      <td>1.0</td>\n",
       "      <td>1.0</td>\n",
       "    </tr>\n",
       "    <tr>\n",
       "      <th>...</th>\n",
       "      <td>...</td>\n",
       "      <td>...</td>\n",
       "      <td>...</td>\n",
       "      <td>...</td>\n",
       "      <td>...</td>\n",
       "      <td>...</td>\n",
       "      <td>...</td>\n",
       "      <td>...</td>\n",
       "      <td>...</td>\n",
       "    </tr>\n",
       "    <tr>\n",
       "      <th>5330011</th>\n",
       "      <td>16.44</td>\n",
       "      <td>1.34</td>\n",
       "      <td>589.61</td>\n",
       "      <td>89.0</td>\n",
       "      <td>1.0</td>\n",
       "      <td>213.0</td>\n",
       "      <td>2020.0</td>\n",
       "      <td>12.0</td>\n",
       "      <td>31.0</td>\n",
       "    </tr>\n",
       "    <tr>\n",
       "      <th>5330012</th>\n",
       "      <td>16.39</td>\n",
       "      <td>0.45</td>\n",
       "      <td>589.59</td>\n",
       "      <td>88.0</td>\n",
       "      <td>1.0</td>\n",
       "      <td>301.0</td>\n",
       "      <td>2020.0</td>\n",
       "      <td>12.0</td>\n",
       "      <td>31.0</td>\n",
       "    </tr>\n",
       "    <tr>\n",
       "      <th>5330013</th>\n",
       "      <td>16.56</td>\n",
       "      <td>1.79</td>\n",
       "      <td>589.61</td>\n",
       "      <td>89.0</td>\n",
       "      <td>1.0</td>\n",
       "      <td>735.0</td>\n",
       "      <td>2020.0</td>\n",
       "      <td>12.0</td>\n",
       "      <td>31.0</td>\n",
       "    </tr>\n",
       "    <tr>\n",
       "      <th>5330014</th>\n",
       "      <td>16.72</td>\n",
       "      <td>0.89</td>\n",
       "      <td>589.56</td>\n",
       "      <td>89.0</td>\n",
       "      <td>1.0</td>\n",
       "      <td>272.0</td>\n",
       "      <td>2020.0</td>\n",
       "      <td>12.0</td>\n",
       "      <td>31.0</td>\n",
       "    </tr>\n",
       "    <tr>\n",
       "      <th>5330015</th>\n",
       "      <td>16.89</td>\n",
       "      <td>1.34</td>\n",
       "      <td>589.51</td>\n",
       "      <td>87.0</td>\n",
       "      <td>1.0</td>\n",
       "      <td>258.0</td>\n",
       "      <td>2020.0</td>\n",
       "      <td>12.0</td>\n",
       "      <td>31.0</td>\n",
       "    </tr>\n",
       "  </tbody>\n",
       "</table>\n",
       "<p>5330016 rows × 9 columns</p>\n",
       "</div>"
      ],
      "text/plain": [
       "         Temperatura  Velocidad  Presion  Humedad  Precipitacion  Radiacion  \\\n",
       "0              18.06       1.79   603.13     84.0           35.8        0.0   \n",
       "1              18.06       2.24   603.16     84.0           35.8        0.0   \n",
       "2              18.06       0.89   603.16     84.0           35.8        0.0   \n",
       "3              18.00       0.00   603.06     85.0           35.8        0.0   \n",
       "4              17.89       1.79   603.00     85.0           35.8        0.0   \n",
       "...              ...        ...      ...      ...            ...        ...   \n",
       "5330011        16.44       1.34   589.61     89.0            1.0      213.0   \n",
       "5330012        16.39       0.45   589.59     88.0            1.0      301.0   \n",
       "5330013        16.56       1.79   589.61     89.0            1.0      735.0   \n",
       "5330014        16.72       0.89   589.56     89.0            1.0      272.0   \n",
       "5330015        16.89       1.34   589.51     87.0            1.0      258.0   \n",
       "\n",
       "           year  month   day  \n",
       "0        2017.0    1.0   1.0  \n",
       "1        2017.0    1.0   1.0  \n",
       "2        2017.0    1.0   1.0  \n",
       "3        2017.0    1.0   1.0  \n",
       "4        2017.0    1.0   1.0  \n",
       "...         ...    ...   ...  \n",
       "5330011  2020.0   12.0  31.0  \n",
       "5330012  2020.0   12.0  31.0  \n",
       "5330013  2020.0   12.0  31.0  \n",
       "5330014  2020.0   12.0  31.0  \n",
       "5330015  2020.0   12.0  31.0  \n",
       "\n",
       "[5330016 rows x 9 columns]"
      ]
     },
     "execution_count": 22,
     "metadata": {},
     "output_type": "execute_result"
    }
   ],
   "source": [
    "df_imputed"
   ]
  },
  {
   "cell_type": "code",
   "execution_count": 23,
   "id": "2dad1b40",
   "metadata": {
    "ExecuteTime": {
     "end_time": "2022-07-22T20:30:33.019239Z",
     "start_time": "2022-07-22T20:30:32.467929Z"
    }
   },
   "outputs": [
    {
     "data": {
      "text/plain": [
       "<AxesSubplot:>"
      ]
     },
     "execution_count": 23,
     "metadata": {},
     "output_type": "execute_result"
    },
    {
     "data": {
      "image/png": "[encoded data removed]",
      "text/plain": [
       "<Figure size 432x288 with 1 Axes>"
      ]
     },
     "metadata": {
      "needs_background": "light"
     },
     "output_type": "display_data"
    }
   ],
   "source": [
    "df_imputed.Precipitacion.plot() "
   ]
  },
  {
   "cell_type": "code",
   "execution_count": 27,
   "id": "5aab84e0",
   "metadata": {
    "ExecuteTime": {
     "end_time": "2022-07-22T20:33:50.485475Z",
     "start_time": "2022-07-22T20:33:49.909321Z"
    }
   },
   "outputs": [
    {
     "data": {
      "text/plain": [
       "<AxesSubplot:>"
      ]
     },
     "execution_count": 27,
     "metadata": {},
     "output_type": "execute_result"
    },
    {
     "data": {
      "image/png": "[encoded data removed]",
      "text/plain": [
       "<Figure size 432x288 with 1 Axes>"
      ]
     },
     "metadata": {
      "needs_background": "light"
     },
     "output_type": "display_data"
    }
   ],
   "source": [
    "datas.Precipitacion.plot()  "
   ]
  },
  {
   "cell_type": "code",
   "execution_count": 25,
   "id": "3c5e9998",
   "metadata": {
    "ExecuteTime": {
     "end_time": "2022-07-22T20:32:44.158006Z",
     "start_time": "2022-07-22T20:32:18.381490Z"
    }
   },
   "outputs": [],
   "source": [
    "df_imputed.to_csv('C:/Users/pulzara/Documents/Universidad internacional de valencia/TFM/base de datos/SIMAC organizados/BD2/data_imputed_rf.txt', sep = '|', index=False, header=True)"
   ]
  },
  {
   "cell_type": "code",
   "execution_count": 14,
   "id": "2dfbc9f0",
   "metadata": {
    "ExecuteTime": {
     "end_time": "2022-07-23T14:21:02.359424Z",
     "start_time": "2022-07-23T14:20:59.751062Z"
    }
   },
   "outputs": [],
   "source": [
    "df_imputed = pd.read_table('C:/Users/pulzara/Documents/Universidad internacional de valencia/TFM/base de datos/SIMAC organizados/BD2/data_imputed_rf.txt',delimiter = '|') "
   ]
  },
  {
   "cell_type": "code",
   "execution_count": 8,
   "id": "ade3c04f",
   "metadata": {
    "ExecuteTime": {
     "end_time": "2022-07-23T14:13:30.558217Z",
     "start_time": "2022-07-23T14:13:30.538213Z"
    }
   },
   "outputs": [
    {
     "data": {
      "text/html": [
       "<div>\n",
       "<style scoped>\n",
       "    .dataframe tbody tr th:only-of-type {\n",
       "        vertical-align: middle;\n",
       "    }\n",
       "\n",
       "    .dataframe tbody tr th {\n",
       "        vertical-align: top;\n",
       "    }\n",
       "\n",
       "    .dataframe thead th {\n",
       "        text-align: right;\n",
       "    }\n",
       "</style>\n",
       "<table border=\"1\" class=\"dataframe\">\n",
       "  <thead>\n",
       "    <tr style=\"text-align: right;\">\n",
       "      <th></th>\n",
       "      <th>Temperatura</th>\n",
       "      <th>Velocidad</th>\n",
       "      <th>Presion</th>\n",
       "      <th>Humedad</th>\n",
       "      <th>Precipitacion</th>\n",
       "      <th>Radiacion</th>\n",
       "      <th>year</th>\n",
       "      <th>month</th>\n",
       "      <th>day</th>\n",
       "    </tr>\n",
       "  </thead>\n",
       "  <tbody>\n",
       "    <tr>\n",
       "      <th>0</th>\n",
       "      <td>18.06</td>\n",
       "      <td>1.79</td>\n",
       "      <td>603.13</td>\n",
       "      <td>84.0</td>\n",
       "      <td>35.8</td>\n",
       "      <td>0.0</td>\n",
       "      <td>2017.0</td>\n",
       "      <td>1.0</td>\n",
       "      <td>1.0</td>\n",
       "    </tr>\n",
       "    <tr>\n",
       "      <th>1</th>\n",
       "      <td>18.06</td>\n",
       "      <td>2.24</td>\n",
       "      <td>603.16</td>\n",
       "      <td>84.0</td>\n",
       "      <td>35.8</td>\n",
       "      <td>0.0</td>\n",
       "      <td>2017.0</td>\n",
       "      <td>1.0</td>\n",
       "      <td>1.0</td>\n",
       "    </tr>\n",
       "    <tr>\n",
       "      <th>2</th>\n",
       "      <td>18.06</td>\n",
       "      <td>0.89</td>\n",
       "      <td>603.16</td>\n",
       "      <td>84.0</td>\n",
       "      <td>35.8</td>\n",
       "      <td>0.0</td>\n",
       "      <td>2017.0</td>\n",
       "      <td>1.0</td>\n",
       "      <td>1.0</td>\n",
       "    </tr>\n",
       "    <tr>\n",
       "      <th>3</th>\n",
       "      <td>18.00</td>\n",
       "      <td>0.00</td>\n",
       "      <td>603.06</td>\n",
       "      <td>85.0</td>\n",
       "      <td>35.8</td>\n",
       "      <td>0.0</td>\n",
       "      <td>2017.0</td>\n",
       "      <td>1.0</td>\n",
       "      <td>1.0</td>\n",
       "    </tr>\n",
       "    <tr>\n",
       "      <th>4</th>\n",
       "      <td>17.89</td>\n",
       "      <td>1.79</td>\n",
       "      <td>603.00</td>\n",
       "      <td>85.0</td>\n",
       "      <td>35.8</td>\n",
       "      <td>0.0</td>\n",
       "      <td>2017.0</td>\n",
       "      <td>1.0</td>\n",
       "      <td>1.0</td>\n",
       "    </tr>\n",
       "    <tr>\n",
       "      <th>...</th>\n",
       "      <td>...</td>\n",
       "      <td>...</td>\n",
       "      <td>...</td>\n",
       "      <td>...</td>\n",
       "      <td>...</td>\n",
       "      <td>...</td>\n",
       "      <td>...</td>\n",
       "      <td>...</td>\n",
       "      <td>...</td>\n",
       "    </tr>\n",
       "    <tr>\n",
       "      <th>5330011</th>\n",
       "      <td>16.44</td>\n",
       "      <td>1.34</td>\n",
       "      <td>589.61</td>\n",
       "      <td>89.0</td>\n",
       "      <td>1.0</td>\n",
       "      <td>213.0</td>\n",
       "      <td>2020.0</td>\n",
       "      <td>12.0</td>\n",
       "      <td>31.0</td>\n",
       "    </tr>\n",
       "    <tr>\n",
       "      <th>5330012</th>\n",
       "      <td>16.39</td>\n",
       "      <td>0.45</td>\n",
       "      <td>589.59</td>\n",
       "      <td>88.0</td>\n",
       "      <td>1.0</td>\n",
       "      <td>301.0</td>\n",
       "      <td>2020.0</td>\n",
       "      <td>12.0</td>\n",
       "      <td>31.0</td>\n",
       "    </tr>\n",
       "    <tr>\n",
       "      <th>5330013</th>\n",
       "      <td>16.56</td>\n",
       "      <td>1.79</td>\n",
       "      <td>589.61</td>\n",
       "      <td>89.0</td>\n",
       "      <td>1.0</td>\n",
       "      <td>735.0</td>\n",
       "      <td>2020.0</td>\n",
       "      <td>12.0</td>\n",
       "      <td>31.0</td>\n",
       "    </tr>\n",
       "    <tr>\n",
       "      <th>5330014</th>\n",
       "      <td>16.72</td>\n",
       "      <td>0.89</td>\n",
       "      <td>589.56</td>\n",
       "      <td>89.0</td>\n",
       "      <td>1.0</td>\n",
       "      <td>272.0</td>\n",
       "      <td>2020.0</td>\n",
       "      <td>12.0</td>\n",
       "      <td>31.0</td>\n",
       "    </tr>\n",
       "    <tr>\n",
       "      <th>5330015</th>\n",
       "      <td>16.89</td>\n",
       "      <td>1.34</td>\n",
       "      <td>589.51</td>\n",
       "      <td>87.0</td>\n",
       "      <td>1.0</td>\n",
       "      <td>258.0</td>\n",
       "      <td>2020.0</td>\n",
       "      <td>12.0</td>\n",
       "      <td>31.0</td>\n",
       "    </tr>\n",
       "  </tbody>\n",
       "</table>\n",
       "<p>5330016 rows × 9 columns</p>\n",
       "</div>"
      ],
      "text/plain": [
       "         Temperatura  Velocidad  Presion  Humedad  Precipitacion  Radiacion  \\\n",
       "0              18.06       1.79   603.13     84.0           35.8        0.0   \n",
       "1              18.06       2.24   603.16     84.0           35.8        0.0   \n",
       "2              18.06       0.89   603.16     84.0           35.8        0.0   \n",
       "3              18.00       0.00   603.06     85.0           35.8        0.0   \n",
       "4              17.89       1.79   603.00     85.0           35.8        0.0   \n",
       "...              ...        ...      ...      ...            ...        ...   \n",
       "5330011        16.44       1.34   589.61     89.0            1.0      213.0   \n",
       "5330012        16.39       0.45   589.59     88.0            1.0      301.0   \n",
       "5330013        16.56       1.79   589.61     89.0            1.0      735.0   \n",
       "5330014        16.72       0.89   589.56     89.0            1.0      272.0   \n",
       "5330015        16.89       1.34   589.51     87.0            1.0      258.0   \n",
       "\n",
       "           year  month   day  \n",
       "0        2017.0    1.0   1.0  \n",
       "1        2017.0    1.0   1.0  \n",
       "2        2017.0    1.0   1.0  \n",
       "3        2017.0    1.0   1.0  \n",
       "4        2017.0    1.0   1.0  \n",
       "...         ...    ...   ...  \n",
       "5330011  2020.0   12.0  31.0  \n",
       "5330012  2020.0   12.0  31.0  \n",
       "5330013  2020.0   12.0  31.0  \n",
       "5330014  2020.0   12.0  31.0  \n",
       "5330015  2020.0   12.0  31.0  \n",
       "\n",
       "[5330016 rows x 9 columns]"
      ]
     },
     "execution_count": 8,
     "metadata": {},
     "output_type": "execute_result"
    }
   ],
   "source": [
    "df_imputed"
   ]
  },
  {
   "cell_type": "code",
   "execution_count": 28,
   "id": "5ddf8d07",
   "metadata": {
    "ExecuteTime": {
     "end_time": "2022-07-22T20:34:32.450787Z",
     "start_time": "2022-07-22T20:34:31.868449Z"
    }
   },
   "outputs": [
    {
     "data": {
      "text/plain": [
       "<AxesSubplot:>"
      ]
     },
     "execution_count": 28,
     "metadata": {},
     "output_type": "execute_result"
    },
    {
     "data": {
      "image/png": "[encoded data removed]",
      "text/plain": [
       "<Figure size 432x288 with 1 Axes>"
      ]
     },
     "metadata": {
      "needs_background": "light"
     },
     "output_type": "display_data"
    }
   ],
   "source": [
    "df_imputed.Temperatura.plot()  "
   ]
  },
  {
   "cell_type": "code",
   "execution_count": 29,
   "id": "52bf054e",
   "metadata": {
    "ExecuteTime": {
     "end_time": "2022-07-22T20:34:44.657190Z",
     "start_time": "2022-07-22T20:34:43.925452Z"
    }
   },
   "outputs": [
    {
     "data": {
      "text/plain": [
       "<AxesSubplot:>"
      ]
     },
     "execution_count": 29,
     "metadata": {},
     "output_type": "execute_result"
    },
    {
     "data": {
      "image/png": "[encoded data removed]",
      "text/plain": [
       "<Figure size 432x288 with 1 Axes>"
      ]
     },
     "metadata": {
      "needs_background": "light"
     },
     "output_type": "display_data"
    }
   ],
   "source": [
    "datas.Temperatura.plot()  "
   ]
  },
  {
   "cell_type": "code",
   "execution_count": 30,
   "id": "3323dfc5",
   "metadata": {
    "ExecuteTime": {
     "end_time": "2022-07-22T20:35:42.307503Z",
     "start_time": "2022-07-22T20:35:41.708498Z"
    }
   },
   "outputs": [
    {
     "data": {
      "text/plain": [
       "<AxesSubplot:>"
      ]
     },
     "execution_count": 30,
     "metadata": {},
     "output_type": "execute_result"
    },
    {
     "data": {
      "image/png": "[encoded data removed]",
      "text/plain": [
       "<Figure size 432x288 with 1 Axes>"
      ]
     },
     "metadata": {
      "needs_background": "light"
     },
     "output_type": "display_data"
    }
   ],
   "source": [
    "df_imputed.Humedad.plot()  "
   ]
  },
  {
   "cell_type": "code",
   "execution_count": 31,
   "id": "f0b00ad8",
   "metadata": {
    "ExecuteTime": {
     "end_time": "2022-07-22T20:35:52.228515Z",
     "start_time": "2022-07-22T20:35:51.477190Z"
    }
   },
   "outputs": [
    {
     "data": {
      "text/plain": [
       "<AxesSubplot:>"
      ]
     },
     "execution_count": 31,
     "metadata": {},
     "output_type": "execute_result"
    },
    {
     "data": {
      "image/png": "[encoded data removed]",
      "text/plain": [
       "<Figure size 432x288 with 1 Axes>"
      ]
     },
     "metadata": {
      "needs_background": "light"
     },
     "output_type": "display_data"
    }
   ],
   "source": [
    "datas.Humedad.plot()   "
   ]
  },
  {
   "cell_type": "markdown",
   "id": "39c32f30",
   "metadata": {},
   "source": [
    "## Cargamos los datos nuevamente"
   ]
  },
  {
   "cell_type": "code",
   "execution_count": 75,
   "id": "f06de4f4",
   "metadata": {
    "ExecuteTime": {
     "end_time": "2022-07-23T15:37:18.315299Z",
     "start_time": "2022-07-23T15:37:16.091916Z"
    }
   },
   "outputs": [],
   "source": [
    "complete_2 = pd.read_table('C:/Users/pulzara/Documents/Universidad internacional de valencia/TFM/base de datos/SIMAC organizados/BD2/data_imputed_MICE.txt',delimiter = '|') "
   ]
  },
  {
   "cell_type": "code",
   "execution_count": 76,
   "id": "d8d0d687",
   "metadata": {
    "ExecuteTime": {
     "end_time": "2022-07-23T15:37:20.954649Z",
     "start_time": "2022-07-23T15:37:18.364937Z"
    }
   },
   "outputs": [],
   "source": [
    "df_imputed = pd.read_table('C:/Users/pulzara/Documents/Universidad internacional de valencia/TFM/base de datos/SIMAC organizados/BD2/data_imputed_rf.txt',delimiter = '|') "
   ]
  },
  {
   "cell_type": "code",
   "execution_count": 77,
   "id": "20cb867e",
   "metadata": {
    "ExecuteTime": {
     "end_time": "2022-07-23T15:37:21.147865Z",
     "start_time": "2022-07-23T15:37:20.991383Z"
    }
   },
   "outputs": [],
   "source": [
    "complete_2.insert(loc = 0,column=\"Fecha\", value= data.Fecha) \n",
    "df_imputed.insert(loc = 0,column=\"Fecha\", value= data.Fecha) \n",
    "df_imputed.insert(loc = 1,column=\"Hora\", value= data.Hora) \n",
    "complete_2.insert(loc = 1,column=\"Hora\", value= data.Hora)\n",
    "complete_2.insert(loc = 8,column=\"Estacion\", value= data.Estacion) \n",
    "df_imputed.insert(loc = 8,column=\"Estacion\", value= data.Estacion)  "
   ]
  },
  {
   "cell_type": "code",
   "execution_count": 78,
   "id": "d8601053",
   "metadata": {
    "ExecuteTime": {
     "end_time": "2022-07-23T15:37:21.522625Z",
     "start_time": "2022-07-23T15:37:21.194868Z"
    }
   },
   "outputs": [],
   "source": [
    "df_imputed[\"year\"] = df_imputed.year.astype(int)\n",
    "df_imputed[\"month\"] = df_imputed.month.astype(int) \n",
    "df_imputed[\"day\"] = df_imputed.day.astype(int)\n",
    "\n",
    "complete_2[\"year\"] = complete_2.year.astype(int)\n",
    "complete_2[\"month\"] = complete_2.month.astype(int)\n",
    "complete_2[\"day\"] = complete_2.day.astype(int) "
   ]
  },
  {
   "cell_type": "code",
   "execution_count": 79,
   "id": "9d84f047",
   "metadata": {
    "ExecuteTime": {
     "end_time": "2022-07-23T15:37:21.573280Z",
     "start_time": "2022-07-23T15:37:21.559283Z"
    },
    "scrolled": true
   },
   "outputs": [
    {
     "name": "stdout",
     "output_type": "stream",
     "text": [
      "<class 'pandas.core.frame.DataFrame'>\n",
      "RangeIndex: 5330016 entries, 0 to 5330015\n",
      "Data columns (total 12 columns):\n",
      " #   Column         Dtype  \n",
      "---  ------         -----  \n",
      " 0   Fecha          object \n",
      " 1   Hora           object \n",
      " 2   Temperatura    float64\n",
      " 3   Velocidad      float64\n",
      " 4   Presion        float64\n",
      " 5   Humedad        float64\n",
      " 6   Precipitacion  float64\n",
      " 7   Radiacion      float64\n",
      " 8   Estacion       object \n",
      " 9   year           int32  \n",
      " 10  month          int32  \n",
      " 11  day            int32  \n",
      "dtypes: float64(6), int32(3), object(3)\n",
      "memory usage: 427.0+ MB\n"
     ]
    }
   ],
   "source": [
    "df_imputed.info()"
   ]
  },
  {
   "cell_type": "code",
   "execution_count": 80,
   "id": "5e98b829",
   "metadata": {
    "ExecuteTime": {
     "end_time": "2022-07-23T15:37:23.396490Z",
     "start_time": "2022-07-23T15:37:23.372489Z"
    }
   },
   "outputs": [
    {
     "data": {
      "text/html": [
       "<div>\n",
       "<style scoped>\n",
       "    .dataframe tbody tr th:only-of-type {\n",
       "        vertical-align: middle;\n",
       "    }\n",
       "\n",
       "    .dataframe tbody tr th {\n",
       "        vertical-align: top;\n",
       "    }\n",
       "\n",
       "    .dataframe thead th {\n",
       "        text-align: right;\n",
       "    }\n",
       "</style>\n",
       "<table border=\"1\" class=\"dataframe\">\n",
       "  <thead>\n",
       "    <tr style=\"text-align: right;\">\n",
       "      <th></th>\n",
       "      <th>Fecha</th>\n",
       "      <th>Hora</th>\n",
       "      <th>Temperatura</th>\n",
       "      <th>Velocidad</th>\n",
       "      <th>Presion</th>\n",
       "      <th>Humedad</th>\n",
       "      <th>Precipitacion</th>\n",
       "      <th>Radiacion</th>\n",
       "      <th>Estacion</th>\n",
       "      <th>year</th>\n",
       "      <th>month</th>\n",
       "      <th>day</th>\n",
       "    </tr>\n",
       "  </thead>\n",
       "  <tbody>\n",
       "    <tr>\n",
       "      <th>0</th>\n",
       "      <td>2017-01-01</td>\n",
       "      <td>0:00:53</td>\n",
       "      <td>18.06</td>\n",
       "      <td>1.79</td>\n",
       "      <td>603.13</td>\n",
       "      <td>84.0</td>\n",
       "      <td>35.8</td>\n",
       "      <td>0.0</td>\n",
       "      <td>alcazares</td>\n",
       "      <td>2017</td>\n",
       "      <td>1</td>\n",
       "      <td>1</td>\n",
       "    </tr>\n",
       "    <tr>\n",
       "      <th>1</th>\n",
       "      <td>2017-01-01</td>\n",
       "      <td>0:06:00</td>\n",
       "      <td>18.06</td>\n",
       "      <td>2.24</td>\n",
       "      <td>603.16</td>\n",
       "      <td>84.0</td>\n",
       "      <td>35.8</td>\n",
       "      <td>0.0</td>\n",
       "      <td>alcazares</td>\n",
       "      <td>2017</td>\n",
       "      <td>1</td>\n",
       "      <td>1</td>\n",
       "    </tr>\n",
       "    <tr>\n",
       "      <th>2</th>\n",
       "      <td>2017-01-01</td>\n",
       "      <td>0:11:05</td>\n",
       "      <td>18.06</td>\n",
       "      <td>0.89</td>\n",
       "      <td>603.16</td>\n",
       "      <td>84.0</td>\n",
       "      <td>35.8</td>\n",
       "      <td>0.0</td>\n",
       "      <td>alcazares</td>\n",
       "      <td>2017</td>\n",
       "      <td>1</td>\n",
       "      <td>1</td>\n",
       "    </tr>\n",
       "    <tr>\n",
       "      <th>3</th>\n",
       "      <td>2017-01-01</td>\n",
       "      <td>0:16:10</td>\n",
       "      <td>18.00</td>\n",
       "      <td>0.00</td>\n",
       "      <td>603.06</td>\n",
       "      <td>85.0</td>\n",
       "      <td>35.8</td>\n",
       "      <td>0.0</td>\n",
       "      <td>alcazares</td>\n",
       "      <td>2017</td>\n",
       "      <td>1</td>\n",
       "      <td>1</td>\n",
       "    </tr>\n",
       "    <tr>\n",
       "      <th>4</th>\n",
       "      <td>2017-01-01</td>\n",
       "      <td>0:21:14</td>\n",
       "      <td>17.89</td>\n",
       "      <td>1.79</td>\n",
       "      <td>603.00</td>\n",
       "      <td>85.0</td>\n",
       "      <td>35.8</td>\n",
       "      <td>0.0</td>\n",
       "      <td>alcazares</td>\n",
       "      <td>2017</td>\n",
       "      <td>1</td>\n",
       "      <td>1</td>\n",
       "    </tr>\n",
       "    <tr>\n",
       "      <th>...</th>\n",
       "      <td>...</td>\n",
       "      <td>...</td>\n",
       "      <td>...</td>\n",
       "      <td>...</td>\n",
       "      <td>...</td>\n",
       "      <td>...</td>\n",
       "      <td>...</td>\n",
       "      <td>...</td>\n",
       "      <td>...</td>\n",
       "      <td>...</td>\n",
       "      <td>...</td>\n",
       "      <td>...</td>\n",
       "    </tr>\n",
       "    <tr>\n",
       "      <th>5330011</th>\n",
       "      <td>2020-12-31</td>\n",
       "      <td>9:38:01</td>\n",
       "      <td>16.44</td>\n",
       "      <td>1.34</td>\n",
       "      <td>589.61</td>\n",
       "      <td>89.0</td>\n",
       "      <td>1.0</td>\n",
       "      <td>213.0</td>\n",
       "      <td>yarumos</td>\n",
       "      <td>2020</td>\n",
       "      <td>12</td>\n",
       "      <td>31</td>\n",
       "    </tr>\n",
       "    <tr>\n",
       "      <th>5330012</th>\n",
       "      <td>2020-12-31</td>\n",
       "      <td>9:42:22</td>\n",
       "      <td>16.39</td>\n",
       "      <td>0.45</td>\n",
       "      <td>589.59</td>\n",
       "      <td>88.0</td>\n",
       "      <td>1.0</td>\n",
       "      <td>301.0</td>\n",
       "      <td>yarumos</td>\n",
       "      <td>2020</td>\n",
       "      <td>12</td>\n",
       "      <td>31</td>\n",
       "    </tr>\n",
       "    <tr>\n",
       "      <th>5330013</th>\n",
       "      <td>2020-12-31</td>\n",
       "      <td>9:47:20</td>\n",
       "      <td>16.56</td>\n",
       "      <td>1.79</td>\n",
       "      <td>589.61</td>\n",
       "      <td>89.0</td>\n",
       "      <td>1.0</td>\n",
       "      <td>735.0</td>\n",
       "      <td>yarumos</td>\n",
       "      <td>2020</td>\n",
       "      <td>12</td>\n",
       "      <td>31</td>\n",
       "    </tr>\n",
       "    <tr>\n",
       "      <th>5330014</th>\n",
       "      <td>2020-12-31</td>\n",
       "      <td>9:52:23</td>\n",
       "      <td>16.72</td>\n",
       "      <td>0.89</td>\n",
       "      <td>589.56</td>\n",
       "      <td>89.0</td>\n",
       "      <td>1.0</td>\n",
       "      <td>272.0</td>\n",
       "      <td>yarumos</td>\n",
       "      <td>2020</td>\n",
       "      <td>12</td>\n",
       "      <td>31</td>\n",
       "    </tr>\n",
       "    <tr>\n",
       "      <th>5330015</th>\n",
       "      <td>2020-12-31</td>\n",
       "      <td>9:57:21</td>\n",
       "      <td>16.89</td>\n",
       "      <td>1.34</td>\n",
       "      <td>589.51</td>\n",
       "      <td>87.0</td>\n",
       "      <td>1.0</td>\n",
       "      <td>258.0</td>\n",
       "      <td>yarumos</td>\n",
       "      <td>2020</td>\n",
       "      <td>12</td>\n",
       "      <td>31</td>\n",
       "    </tr>\n",
       "  </tbody>\n",
       "</table>\n",
       "<p>5330016 rows × 12 columns</p>\n",
       "</div>"
      ],
      "text/plain": [
       "              Fecha     Hora  Temperatura  Velocidad  Presion  Humedad  \\\n",
       "0        2017-01-01  0:00:53        18.06       1.79   603.13     84.0   \n",
       "1        2017-01-01  0:06:00        18.06       2.24   603.16     84.0   \n",
       "2        2017-01-01  0:11:05        18.06       0.89   603.16     84.0   \n",
       "3        2017-01-01  0:16:10        18.00       0.00   603.06     85.0   \n",
       "4        2017-01-01  0:21:14        17.89       1.79   603.00     85.0   \n",
       "...             ...      ...          ...        ...      ...      ...   \n",
       "5330011  2020-12-31  9:38:01        16.44       1.34   589.61     89.0   \n",
       "5330012  2020-12-31  9:42:22        16.39       0.45   589.59     88.0   \n",
       "5330013  2020-12-31  9:47:20        16.56       1.79   589.61     89.0   \n",
       "5330014  2020-12-31  9:52:23        16.72       0.89   589.56     89.0   \n",
       "5330015  2020-12-31  9:57:21        16.89       1.34   589.51     87.0   \n",
       "\n",
       "         Precipitacion  Radiacion   Estacion  year  month  day  \n",
       "0                 35.8        0.0  alcazares  2017      1    1  \n",
       "1                 35.8        0.0  alcazares  2017      1    1  \n",
       "2                 35.8        0.0  alcazares  2017      1    1  \n",
       "3                 35.8        0.0  alcazares  2017      1    1  \n",
       "4                 35.8        0.0  alcazares  2017      1    1  \n",
       "...                ...        ...        ...   ...    ...  ...  \n",
       "5330011            1.0      213.0    yarumos  2020     12   31  \n",
       "5330012            1.0      301.0    yarumos  2020     12   31  \n",
       "5330013            1.0      735.0    yarumos  2020     12   31  \n",
       "5330014            1.0      272.0    yarumos  2020     12   31  \n",
       "5330015            1.0      258.0    yarumos  2020     12   31  \n",
       "\n",
       "[5330016 rows x 12 columns]"
      ]
     },
     "execution_count": 80,
     "metadata": {},
     "output_type": "execute_result"
    }
   ],
   "source": [
    "df_imputed"
   ]
  },
  {
   "cell_type": "code",
   "execution_count": 43,
   "id": "757421fd",
   "metadata": {
    "ExecuteTime": {
     "end_time": "2022-07-23T14:53:06.600189Z",
     "start_time": "2022-07-23T14:53:06.588189Z"
    }
   },
   "outputs": [],
   "source": [
    "df_imputed.set_index(\"Fecha\",drop=True, inplace=True)  "
   ]
  },
  {
   "cell_type": "markdown",
   "id": "470c18db",
   "metadata": {
    "ExecuteTime": {
     "end_time": "2022-07-23T15:02:17.314667Z",
     "start_time": "2022-07-23T15:02:17.292671Z"
    }
   },
   "source": [
    "## Random forest"
   ]
  },
  {
   "cell_type": "code",
   "execution_count": 83,
   "id": "74d23b49",
   "metadata": {
    "ExecuteTime": {
     "end_time": "2022-07-23T15:40:15.483958Z",
     "start_time": "2022-07-23T15:40:15.420856Z"
    }
   },
   "outputs": [],
   "source": [
    "x = df_imputed[[\"Temperatura\", \"Velocidad\", \"Presion\", \"Humedad\", \"Radiacion\"]]\n",
    "y = df_imputed[\"Precipitacion\"]"
   ]
  },
  {
   "cell_type": "code",
   "execution_count": 85,
   "id": "8b14fa0c",
   "metadata": {
    "ExecuteTime": {
     "end_time": "2022-07-23T15:40:41.765657Z",
     "start_time": "2022-07-23T15:40:41.413015Z"
    }
   },
   "outputs": [],
   "source": [
    "scaler = StandardScaler()\n",
    "X = scaler.fit_transform(x) "
   ]
  },
  {
   "cell_type": "code",
   "execution_count": 91,
   "id": "08d151a1",
   "metadata": {
    "ExecuteTime": {
     "end_time": "2022-07-23T16:03:30.779078Z",
     "start_time": "2022-07-23T15:44:34.148785Z"
    }
   },
   "outputs": [],
   "source": [
    "rf = RandomForestRegressor(n_estimators = 80, random_state = 40)\n",
    "rf_fit = rf.fit(X, y)   "
   ]
  },
  {
   "cell_type": "code",
   "execution_count": 92,
   "id": "5376c470",
   "metadata": {
    "ExecuteTime": {
     "end_time": "2022-07-23T16:12:25.619027Z",
     "start_time": "2022-07-23T16:12:22.823023Z"
    }
   },
   "outputs": [
    {
     "data": {
      "text/plain": [
       "array([0.23968434, 0.08907665, 0.35196982, 0.15618087, 0.16308831])"
      ]
     },
     "execution_count": 92,
     "metadata": {},
     "output_type": "execute_result"
    }
   ],
   "source": [
    "rf_fit.feature_importances_"
   ]
  },
  {
   "cell_type": "code",
   "execution_count": 94,
   "id": "ea5e9274",
   "metadata": {
    "ExecuteTime": {
     "end_time": "2022-07-23T16:13:17.047983Z",
     "start_time": "2022-07-23T16:13:15.014362Z"
    }
   },
   "outputs": [
    {
     "data": {
      "text/plain": [
       "<function matplotlib.pyplot.show(close=None, block=None)>"
      ]
     },
     "execution_count": 94,
     "metadata": {},
     "output_type": "execute_result"
    },
    {
     "data": {
      "image/png": "[encoded data removed]",
      "text/plain": [
       "<Figure size 864x432 with 1 Axes>"
      ]
     },
     "metadata": {
      "needs_background": "light"
     },
     "output_type": "display_data"
    }
   ],
   "source": [
    "importances = rf_fit.feature_importances_\n",
    "columns = x.columns \n",
    "indices = np.argsort(importances)[::-1]\n",
    "\n",
    "plt.figure(figsize = (12,6))\n",
    "sns.barplot(columns[indices], importances[indices])\n",
    "plt.xticks(rotation=85)\n",
    "plt.show"
   ]
  },
  {
   "cell_type": "markdown",
   "id": "6e497a42",
   "metadata": {},
   "source": [
    "### dataset2"
   ]
  },
  {
   "cell_type": "code",
   "execution_count": 99,
   "id": "a1a68133",
   "metadata": {
    "ExecuteTime": {
     "end_time": "2022-07-23T16:15:05.518458Z",
     "start_time": "2022-07-23T16:15:05.438332Z"
    }
   },
   "outputs": [],
   "source": [
    "x_1 = complete_2[[\"Temperatura\", \"Velocidad\", \"Presion\", \"Humedad\", \"Radiacion\"]]\n",
    "y_1 = complete_2[\"Precipitacion\"] "
   ]
  },
  {
   "cell_type": "code",
   "execution_count": 100,
   "id": "ed67c29c",
   "metadata": {
    "ExecuteTime": {
     "end_time": "2022-07-23T16:15:33.584405Z",
     "start_time": "2022-07-23T16:15:33.238062Z"
    }
   },
   "outputs": [],
   "source": [
    "scaler2 = StandardScaler()\n",
    "X2 = scaler2.fit_transform(x_1) "
   ]
  },
  {
   "cell_type": "code",
   "execution_count": 101,
   "id": "34778480",
   "metadata": {
    "ExecuteTime": {
     "end_time": "2022-07-23T16:36:05.384554Z",
     "start_time": "2022-07-23T16:16:11.494232Z"
    }
   },
   "outputs": [],
   "source": [
    "rf2 = RandomForestRegressor(n_estimators = 80, random_state = 40)\n",
    "rf_fit2 = rf2.fit(X2, y_1)   "
   ]
  },
  {
   "cell_type": "code",
   "execution_count": 102,
   "id": "b185dac7",
   "metadata": {
    "ExecuteTime": {
     "end_time": "2022-07-23T16:52:57.802669Z",
     "start_time": "2022-07-23T16:52:54.616666Z"
    }
   },
   "outputs": [
    {
     "data": {
      "text/plain": [
       "array([0.24744521, 0.08429914, 0.36238181, 0.14177997, 0.16409387])"
      ]
     },
     "execution_count": 102,
     "metadata": {},
     "output_type": "execute_result"
    }
   ],
   "source": [
    "rf_fit2.feature_importances_"
   ]
  },
  {
   "cell_type": "code",
   "execution_count": 103,
   "id": "e15c9507",
   "metadata": {
    "ExecuteTime": {
     "end_time": "2022-07-23T16:53:01.093225Z",
     "start_time": "2022-07-23T16:52:58.784353Z"
    }
   },
   "outputs": [
    {
     "data": {
      "text/plain": [
       "<function matplotlib.pyplot.show(close=None, block=None)>"
      ]
     },
     "execution_count": 103,
     "metadata": {},
     "output_type": "execute_result"
    },
    {
     "data": {
      "image/png": "[encoded data removed]",
      "text/plain": [
       "<Figure size 864x432 with 1 Axes>"
      ]
     },
     "metadata": {
      "needs_background": "light"
     },
     "output_type": "display_data"
    }
   ],
   "source": [
    "importances = rf_fit2.feature_importances_\n",
    "columns = x_1.columns \n",
    "indices = np.argsort(importances)[::-1]\n",
    "\n",
    "plt.figure(figsize = (12,6))\n",
    "sns.barplot(columns[indices], importances[indices])\n",
    "plt.xticks(rotation=85)\n",
    "plt.show"
   ]
  },
  {
   "cell_type": "markdown",
   "id": "10d718a7",
   "metadata": {},
   "source": [
    "## random forest - forecasterAutoreg "
   ]
  },
  {
   "cell_type": "code",
   "execution_count": 59,
   "id": "f0a31c20",
   "metadata": {
    "ExecuteTime": {
     "end_time": "2022-07-23T15:07:48.573003Z",
     "start_time": "2022-07-23T15:07:48.562834Z"
    }
   },
   "outputs": [],
   "source": [
    "def train_test_split(data, fecha):\n",
    "    \n",
    "    test = data[data.index <= fecha]\n",
    "    train = data[data.index > fecha]\n",
    "    return test, train"
   ]
  },
  {
   "cell_type": "code",
   "execution_count": 60,
   "id": "26ac627e",
   "metadata": {
    "ExecuteTime": {
     "end_time": "2022-07-23T15:07:54.333234Z",
     "start_time": "2022-07-23T15:07:53.708199Z"
    }
   },
   "outputs": [],
   "source": [
    "train, test = train_test_split(df_imputed,\"2020-12-25\")"
   ]
  },
  {
   "cell_type": "code",
   "execution_count": 70,
   "id": "efb3252f",
   "metadata": {
    "ExecuteTime": {
     "end_time": "2022-07-23T15:11:29.410395Z",
     "start_time": "2022-07-23T15:11:29.380795Z"
    }
   },
   "outputs": [
    {
     "data": {
      "text/html": [
       "<div>\n",
       "<style scoped>\n",
       "    .dataframe tbody tr th:only-of-type {\n",
       "        vertical-align: middle;\n",
       "    }\n",
       "\n",
       "    .dataframe tbody tr th {\n",
       "        vertical-align: top;\n",
       "    }\n",
       "\n",
       "    .dataframe thead th {\n",
       "        text-align: right;\n",
       "    }\n",
       "</style>\n",
       "<table border=\"1\" class=\"dataframe\">\n",
       "  <thead>\n",
       "    <tr style=\"text-align: right;\">\n",
       "      <th></th>\n",
       "      <th>Hora</th>\n",
       "      <th>Temperatura</th>\n",
       "      <th>Velocidad</th>\n",
       "      <th>Presion</th>\n",
       "      <th>Humedad</th>\n",
       "      <th>Precipitacion</th>\n",
       "      <th>Estacion</th>\n",
       "      <th>Radiacion</th>\n",
       "      <th>year</th>\n",
       "      <th>month</th>\n",
       "      <th>day</th>\n",
       "    </tr>\n",
       "    <tr>\n",
       "      <th>Fecha</th>\n",
       "      <th></th>\n",
       "      <th></th>\n",
       "      <th></th>\n",
       "      <th></th>\n",
       "      <th></th>\n",
       "      <th></th>\n",
       "      <th></th>\n",
       "      <th></th>\n",
       "      <th></th>\n",
       "      <th></th>\n",
       "      <th></th>\n",
       "    </tr>\n",
       "  </thead>\n",
       "  <tbody>\n",
       "    <tr>\n",
       "      <th>2017-01-01</th>\n",
       "      <td>0:00:53</td>\n",
       "      <td>18.06</td>\n",
       "      <td>1.79</td>\n",
       "      <td>603.13</td>\n",
       "      <td>84.0</td>\n",
       "      <td>35.8</td>\n",
       "      <td>alcazares</td>\n",
       "      <td>0.0</td>\n",
       "      <td>2017</td>\n",
       "      <td>1</td>\n",
       "      <td>1</td>\n",
       "    </tr>\n",
       "    <tr>\n",
       "      <th>2017-01-01</th>\n",
       "      <td>0:06:00</td>\n",
       "      <td>18.06</td>\n",
       "      <td>2.24</td>\n",
       "      <td>603.16</td>\n",
       "      <td>84.0</td>\n",
       "      <td>35.8</td>\n",
       "      <td>alcazares</td>\n",
       "      <td>0.0</td>\n",
       "      <td>2017</td>\n",
       "      <td>1</td>\n",
       "      <td>1</td>\n",
       "    </tr>\n",
       "    <tr>\n",
       "      <th>2017-01-01</th>\n",
       "      <td>0:11:05</td>\n",
       "      <td>18.06</td>\n",
       "      <td>0.89</td>\n",
       "      <td>603.16</td>\n",
       "      <td>84.0</td>\n",
       "      <td>35.8</td>\n",
       "      <td>alcazares</td>\n",
       "      <td>0.0</td>\n",
       "      <td>2017</td>\n",
       "      <td>1</td>\n",
       "      <td>1</td>\n",
       "    </tr>\n",
       "    <tr>\n",
       "      <th>2017-01-01</th>\n",
       "      <td>0:16:10</td>\n",
       "      <td>18.00</td>\n",
       "      <td>0.00</td>\n",
       "      <td>603.06</td>\n",
       "      <td>85.0</td>\n",
       "      <td>35.8</td>\n",
       "      <td>alcazares</td>\n",
       "      <td>0.0</td>\n",
       "      <td>2017</td>\n",
       "      <td>1</td>\n",
       "      <td>1</td>\n",
       "    </tr>\n",
       "    <tr>\n",
       "      <th>2017-01-01</th>\n",
       "      <td>0:21:14</td>\n",
       "      <td>17.89</td>\n",
       "      <td>1.79</td>\n",
       "      <td>603.00</td>\n",
       "      <td>85.0</td>\n",
       "      <td>35.8</td>\n",
       "      <td>alcazares</td>\n",
       "      <td>0.0</td>\n",
       "      <td>2017</td>\n",
       "      <td>1</td>\n",
       "      <td>1</td>\n",
       "    </tr>\n",
       "    <tr>\n",
       "      <th>...</th>\n",
       "      <td>...</td>\n",
       "      <td>...</td>\n",
       "      <td>...</td>\n",
       "      <td>...</td>\n",
       "      <td>...</td>\n",
       "      <td>...</td>\n",
       "      <td>...</td>\n",
       "      <td>...</td>\n",
       "      <td>...</td>\n",
       "      <td>...</td>\n",
       "      <td>...</td>\n",
       "    </tr>\n",
       "    <tr>\n",
       "      <th>2020-12-25</th>\n",
       "      <td>9:39:00</td>\n",
       "      <td>15.44</td>\n",
       "      <td>0.00</td>\n",
       "      <td>589.44</td>\n",
       "      <td>98.0</td>\n",
       "      <td>21.0</td>\n",
       "      <td>yarumos</td>\n",
       "      <td>220.0</td>\n",
       "      <td>2020</td>\n",
       "      <td>12</td>\n",
       "      <td>25</td>\n",
       "    </tr>\n",
       "    <tr>\n",
       "      <th>2020-12-25</th>\n",
       "      <td>9:44:02</td>\n",
       "      <td>15.44</td>\n",
       "      <td>0.00</td>\n",
       "      <td>589.49</td>\n",
       "      <td>97.0</td>\n",
       "      <td>21.0</td>\n",
       "      <td>yarumos</td>\n",
       "      <td>230.0</td>\n",
       "      <td>2020</td>\n",
       "      <td>12</td>\n",
       "      <td>25</td>\n",
       "    </tr>\n",
       "    <tr>\n",
       "      <th>2020-12-25</th>\n",
       "      <td>9:49:01</td>\n",
       "      <td>15.44</td>\n",
       "      <td>0.00</td>\n",
       "      <td>589.49</td>\n",
       "      <td>96.0</td>\n",
       "      <td>21.0</td>\n",
       "      <td>yarumos</td>\n",
       "      <td>236.0</td>\n",
       "      <td>2020</td>\n",
       "      <td>12</td>\n",
       "      <td>25</td>\n",
       "    </tr>\n",
       "    <tr>\n",
       "      <th>2020-12-25</th>\n",
       "      <td>9:54:32</td>\n",
       "      <td>15.44</td>\n",
       "      <td>0.00</td>\n",
       "      <td>589.51</td>\n",
       "      <td>95.0</td>\n",
       "      <td>21.0</td>\n",
       "      <td>yarumos</td>\n",
       "      <td>239.0</td>\n",
       "      <td>2020</td>\n",
       "      <td>12</td>\n",
       "      <td>25</td>\n",
       "    </tr>\n",
       "    <tr>\n",
       "      <th>2020-12-25</th>\n",
       "      <td>9:59:50</td>\n",
       "      <td>15.56</td>\n",
       "      <td>0.00</td>\n",
       "      <td>589.46</td>\n",
       "      <td>96.0</td>\n",
       "      <td>21.0</td>\n",
       "      <td>yarumos</td>\n",
       "      <td>251.0</td>\n",
       "      <td>2020</td>\n",
       "      <td>12</td>\n",
       "      <td>25</td>\n",
       "    </tr>\n",
       "  </tbody>\n",
       "</table>\n",
       "<p>5307600 rows × 11 columns</p>\n",
       "</div>"
      ],
      "text/plain": [
       "               Hora  Temperatura  Velocidad  Presion  Humedad  Precipitacion  \\\n",
       "Fecha                                                                          \n",
       "2017-01-01  0:00:53        18.06       1.79   603.13     84.0           35.8   \n",
       "2017-01-01  0:06:00        18.06       2.24   603.16     84.0           35.8   \n",
       "2017-01-01  0:11:05        18.06       0.89   603.16     84.0           35.8   \n",
       "2017-01-01  0:16:10        18.00       0.00   603.06     85.0           35.8   \n",
       "2017-01-01  0:21:14        17.89       1.79   603.00     85.0           35.8   \n",
       "...             ...          ...        ...      ...      ...            ...   \n",
       "2020-12-25  9:39:00        15.44       0.00   589.44     98.0           21.0   \n",
       "2020-12-25  9:44:02        15.44       0.00   589.49     97.0           21.0   \n",
       "2020-12-25  9:49:01        15.44       0.00   589.49     96.0           21.0   \n",
       "2020-12-25  9:54:32        15.44       0.00   589.51     95.0           21.0   \n",
       "2020-12-25  9:59:50        15.56       0.00   589.46     96.0           21.0   \n",
       "\n",
       "             Estacion  Radiacion  year  month  day  \n",
       "Fecha                                               \n",
       "2017-01-01  alcazares        0.0  2017      1    1  \n",
       "2017-01-01  alcazares        0.0  2017      1    1  \n",
       "2017-01-01  alcazares        0.0  2017      1    1  \n",
       "2017-01-01  alcazares        0.0  2017      1    1  \n",
       "2017-01-01  alcazares        0.0  2017      1    1  \n",
       "...               ...        ...   ...    ...  ...  \n",
       "2020-12-25    yarumos      220.0  2020     12   25  \n",
       "2020-12-25    yarumos      230.0  2020     12   25  \n",
       "2020-12-25    yarumos      236.0  2020     12   25  \n",
       "2020-12-25    yarumos      239.0  2020     12   25  \n",
       "2020-12-25    yarumos      251.0  2020     12   25  \n",
       "\n",
       "[5307600 rows x 11 columns]"
      ]
     },
     "execution_count": 70,
     "metadata": {},
     "output_type": "execute_result"
    }
   ],
   "source": [
    "train "
   ]
  },
  {
   "cell_type": "code",
   "execution_count": 72,
   "id": "2f3e58a2",
   "metadata": {
    "ExecuteTime": {
     "end_time": "2022-07-23T15:15:00.408373Z",
     "start_time": "2022-07-23T15:14:48.998253Z"
    }
   },
   "outputs": [
    {
     "data": {
      "text/plain": [
       "<function matplotlib.pyplot.show(close=None, block=None)>"
      ]
     },
     "execution_count": 72,
     "metadata": {},
     "output_type": "execute_result"
    },
    {
     "data": {
      "image/png": "[encoded data removed]",
      "text/plain": [
       "<Figure size 864x576 with 1 Axes>"
      ]
     },
     "metadata": {
      "needs_background": "light"
     },
     "output_type": "display_data"
    }
   ],
   "source": [
    "plt.figure(figsize = (12,8))\n",
    "plt.plot(train.Precipitacion,label='train')\n",
    "plt.plot(test.Precipitacion, label= 'test')  \n",
    "plt.legend(loc = \"upper left\")\n",
    "plt.show "
   ]
  },
  {
   "cell_type": "code",
   "execution_count": null,
   "id": "2dc9e4fb",
   "metadata": {},
   "outputs": [],
   "source": []
  }
 ],
 "metadata": {
  "hide_input": false,
  "kernelspec": {
   "display_name": "Python 3 (ipykernel)",
   "language": "python",
   "name": "python3"
  },
  "language_info": {
   "codemirror_mode": {
    "name": "ipython",
    "version": 3
   },
   "file_extension": ".py",
   "mimetype": "text/x-python",
   "name": "python",
   "nbconvert_exporter": "python",
   "pygments_lexer": "ipython3",
   "version": "3.8.12"
  },
  "toc": {
   "base_numbering": 1,
   "nav_menu": {},
   "number_sections": true,
   "sideBar": true,
   "skip_h1_title": false,
   "title_cell": "Table of Contents",
   "title_sidebar": "Contents",
   "toc_cell": false,
   "toc_position": {},
   "toc_section_display": true,
   "toc_window_display": false
  },
  "varInspector": {
   "cols": {
    "lenName": 16,
    "lenType": 16,
    "lenVar": 40
   },
   "kernels_config": {
    "python": {
     "delete_cmd_postfix": "",
     "delete_cmd_prefix": "del ",
     "library": "var_list.py",
     "varRefreshCmd": "print(var_dic_list())"
    },
    "r": {
     "delete_cmd_postfix": ") ",
     "delete_cmd_prefix": "rm(",
     "library": "var_list.r",
     "varRefreshCmd": "cat(var_dic_list()) "
    }
   },
   "types_to_exclude": [
    "module",
    "function",
    "builtin_function_or_method",
    "instance",
    "_Feature"
   ],
   "window_display": false
  }
 },
 "nbformat": 4,
 "nbformat_minor": 5
}
