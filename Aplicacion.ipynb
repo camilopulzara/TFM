{
 "cells": [
  {
   "cell_type": "code",
   "execution_count": 1,
   "id": "c2368ec7",
   "metadata": {
    "ExecuteTime": {
     "end_time": "2022-09-05T13:27:21.479292Z",
     "start_time": "2022-09-05T13:27:21.468292Z"
    }
   },
   "outputs": [
    {
     "name": "stderr",
     "output_type": "stream",
     "text": [
      "C:\\Users\\pulzara\\AppData\\Local\\Temp\\ipykernel_25080\\495279268.py:1: DeprecationWarning: Importing display from IPython.core.display is deprecated since IPython 7.14, please import from IPython display\n",
      "  from IPython.core.display import display, HTML\n"
     ]
    },
    {
     "data": {
      "text/html": [
       "<style>.container { width:85% !important; }</style>"
      ],
      "text/plain": [
       "<IPython.core.display.HTML object>"
      ]
     },
     "metadata": {},
     "output_type": "display_data"
    }
   ],
   "source": [
    "from IPython.core.display import display, HTML\n",
    "display(HTML(\"<style>.container { width:85% !important; }</style>\"))"
   ]
  },
  {
   "cell_type": "code",
   "execution_count": 2,
   "id": "9fda8cac",
   "metadata": {
    "ExecuteTime": {
     "end_time": "2022-09-05T13:27:25.767619Z",
     "start_time": "2022-09-05T13:27:22.012407Z"
    }
   },
   "outputs": [],
   "source": [
    "import numpy as np\n",
    "import pandas as pd\n",
    "import statsmodels.api as sm\n",
    "from fbprophet import Prophet\n",
    "from neuralprophet import NeuralProphet \n",
    "\n",
    "import random\n",
    "import seaborn as sns \n",
    "import matplotlib.pyplot as plt\n",
    "import plotly.express as px\n",
    "import datetime\n",
    "from datetime import datetime\n",
    "from sklearn.metrics import mean_squared_error\n",
    "from math import sqrt\n",
    "import statsmodels\n",
    "from statsmodels.tsa.stattools import adfuller\n",
    "import statsmodels.api as sm\n",
    "from sklearn.preprocessing import StandardScaler\n",
    "from fbprophet import Prophet\n",
    "from sklearn.metrics import mean_squared_error\n",
    "from sklearn.metrics import mean_absolute_error\n",
    "from sklearn.metrics import mean_absolute_percentage_error\n",
    "from math import sqrt\n",
    "import math \n",
    "import random\n",
    "import miceforest as mf\n",
    "import sys \n",
    "from sklearn.ensemble import RandomForestRegressor\n",
    "from sklearn.impute import KNNImputer\n",
    "from statsmodels.graphics.tsaplots import plot_acf,plot_pacf\n",
    "import statsmodels.api as sm\n",
    "from fbprophet import Prophet\n",
    "from neuralprophet import NeuralProphet \n",
    "\n",
    "import warnings\n",
    "warnings.filterwarnings(\"ignore\")\n",
    "\n",
    "import logging\n",
    "logging.getLogger('fbprophet').setLevel(logging.WARNING)\n",
    "\n",
    "\n",
    "import gc"
   ]
  },
  {
   "cell_type": "code",
   "execution_count": 3,
   "id": "441fdcc8",
   "metadata": {
    "ExecuteTime": {
     "end_time": "2022-09-05T13:27:30.425618Z",
     "start_time": "2022-09-05T13:27:25.784619Z"
    }
   },
   "outputs": [],
   "source": [
    "df_imputed = pd.read_table('C:/Users/pulzara/Documents/Universidad internacional de valencia/TFM/base de datos/SIMAC organizados/BD2/data_imputed_rf.txt',delimiter = '|') "
   ]
  },
  {
   "cell_type": "code",
   "execution_count": 4,
   "id": "1edb1738",
   "metadata": {
    "ExecuteTime": {
     "end_time": "2022-09-05T13:27:35.176738Z",
     "start_time": "2022-09-05T13:27:30.442619Z"
    }
   },
   "outputs": [],
   "source": [
    "data = pd.read_table('C:/Users/pulzara/Documents/Universidad internacional de valencia/TFM/base de datos/SIMAC organizados/BD2/data.txt',delimiter = '|') "
   ]
  },
  {
   "cell_type": "code",
   "execution_count": 5,
   "id": "f32a601a",
   "metadata": {
    "ExecuteTime": {
     "end_time": "2022-09-05T13:27:35.440151Z",
     "start_time": "2022-09-05T13:27:35.193620Z"
    }
   },
   "outputs": [
    {
     "data": {
      "text/html": [
       "<div>\n",
       "<style scoped>\n",
       "    .dataframe tbody tr th:only-of-type {\n",
       "        vertical-align: middle;\n",
       "    }\n",
       "\n",
       "    .dataframe tbody tr th {\n",
       "        vertical-align: top;\n",
       "    }\n",
       "\n",
       "    .dataframe thead th {\n",
       "        text-align: right;\n",
       "    }\n",
       "</style>\n",
       "<table border=\"1\" class=\"dataframe\">\n",
       "  <thead>\n",
       "    <tr style=\"text-align: right;\">\n",
       "      <th></th>\n",
       "      <th>Fecha</th>\n",
       "      <th>Hora</th>\n",
       "      <th>Temperatura</th>\n",
       "      <th>Velocidad</th>\n",
       "      <th>Presion</th>\n",
       "      <th>Humedad</th>\n",
       "      <th>Precipitacion</th>\n",
       "      <th>Radiacion</th>\n",
       "      <th>Estacion</th>\n",
       "    </tr>\n",
       "  </thead>\n",
       "  <tbody>\n",
       "    <tr>\n",
       "      <th>0</th>\n",
       "      <td>2017-01-01</td>\n",
       "      <td>0:00:53</td>\n",
       "      <td>18.06</td>\n",
       "      <td>1.79</td>\n",
       "      <td>603.13</td>\n",
       "      <td>84.0</td>\n",
       "      <td>35.8</td>\n",
       "      <td>0.0</td>\n",
       "      <td>alcazares</td>\n",
       "    </tr>\n",
       "    <tr>\n",
       "      <th>1</th>\n",
       "      <td>2017-01-01</td>\n",
       "      <td>0:06:00</td>\n",
       "      <td>18.06</td>\n",
       "      <td>2.24</td>\n",
       "      <td>603.16</td>\n",
       "      <td>84.0</td>\n",
       "      <td>35.8</td>\n",
       "      <td>0.0</td>\n",
       "      <td>alcazares</td>\n",
       "    </tr>\n",
       "    <tr>\n",
       "      <th>2</th>\n",
       "      <td>2017-01-01</td>\n",
       "      <td>0:11:05</td>\n",
       "      <td>18.06</td>\n",
       "      <td>0.89</td>\n",
       "      <td>603.16</td>\n",
       "      <td>84.0</td>\n",
       "      <td>35.8</td>\n",
       "      <td>0.0</td>\n",
       "      <td>alcazares</td>\n",
       "    </tr>\n",
       "  </tbody>\n",
       "</table>\n",
       "</div>"
      ],
      "text/plain": [
       "        Fecha     Hora  Temperatura  Velocidad  Presion  Humedad  \\\n",
       "0  2017-01-01  0:00:53        18.06       1.79   603.13     84.0   \n",
       "1  2017-01-01  0:06:00        18.06       2.24   603.16     84.0   \n",
       "2  2017-01-01  0:11:05        18.06       0.89   603.16     84.0   \n",
       "\n",
       "   Precipitacion  Radiacion   Estacion  \n",
       "0           35.8        0.0  alcazares  \n",
       "1           35.8        0.0  alcazares  \n",
       "2           35.8        0.0  alcazares  "
      ]
     },
     "execution_count": 5,
     "metadata": {},
     "output_type": "execute_result"
    }
   ],
   "source": [
    "data = data[[\"Fecha\",\"Hora\",\"Temperatura\",\"Velocidad\",\"Presion\",\"Humedad\",\"Precipitacion\",\"Radiacion\", \"Estacion\"]]\n",
    "data.head(3) "
   ]
  },
  {
   "cell_type": "code",
   "execution_count": 6,
   "id": "f7eadec3",
   "metadata": {
    "ExecuteTime": {
     "end_time": "2022-09-05T13:27:35.644155Z",
     "start_time": "2022-09-05T13:27:35.457120Z"
    }
   },
   "outputs": [],
   "source": [
    "df_imputed = df_imputed.drop(df_imputed.columns[[0,1,8]], axis = 1) "
   ]
  },
  {
   "cell_type": "code",
   "execution_count": 7,
   "id": "ca729fcd",
   "metadata": {
    "ExecuteTime": {
     "end_time": "2022-09-05T13:27:38.762120Z",
     "start_time": "2022-09-05T13:27:35.661123Z"
    }
   },
   "outputs": [],
   "source": [
    "data[\"Hora\"] = pd.to_datetime(data[\"Fecha\"] + ' '+ data[\"Hora\"])  "
   ]
  },
  {
   "cell_type": "code",
   "execution_count": 8,
   "id": "4be5c076",
   "metadata": {
    "ExecuteTime": {
     "end_time": "2022-09-05T13:27:38.825128Z",
     "start_time": "2022-09-05T13:27:38.779120Z"
    }
   },
   "outputs": [],
   "source": [
    "df_imputed.insert(loc =0,column='Fecha', value = data.Fecha)     \n",
    "df_imputed.insert(loc =7,column='Estacion', value = data.Estacion) \n",
    "df_imputed.insert(loc =7,column='Hora', value = data.Hora) "
   ]
  },
  {
   "cell_type": "code",
   "execution_count": 9,
   "id": "1f1522c0",
   "metadata": {
    "ExecuteTime": {
     "end_time": "2022-09-05T13:27:39.094120Z",
     "start_time": "2022-09-05T13:27:38.841120Z"
    }
   },
   "outputs": [],
   "source": [
    "df_imputed = df_imputed.drop(df_imputed.columns[[9,10,11]], axis = 1)"
   ]
  },
  {
   "cell_type": "code",
   "execution_count": 10,
   "id": "a40f591f",
   "metadata": {
    "ExecuteTime": {
     "end_time": "2022-09-05T13:27:39.204134Z",
     "start_time": "2022-09-05T13:27:39.125120Z"
    }
   },
   "outputs": [],
   "source": [
    "df_imputed[\"Velocidad\"] = np.where((df_imputed.Velocidad < 0), 0, df_imputed[\"Velocidad\"])  "
   ]
  },
  {
   "cell_type": "code",
   "execution_count": 11,
   "id": "66603311",
   "metadata": {
    "ExecuteTime": {
     "end_time": "2022-09-05T13:27:39.236152Z",
     "start_time": "2022-09-05T13:27:39.221121Z"
    }
   },
   "outputs": [],
   "source": [
    "def group(data, column_name, frec):\n",
    "\n",
    "        \"\"\"\n",
    "        Esta funcion agrupa por serie de tiempo en dias para obtener la media los datos\n",
    "        \"\"\"\n",
    "        data = data.groupby([pd.Grouper(key=column_name, freq=frec)]).mean() \n",
    "        data = data.reset_index()\n",
    "        data[column_name] = pd.to_datetime(data[column_name]) \n",
    "        data[column_name] = data[column_name].sort_values(ascending=False)\n",
    "        data = data.set_index(column_name)\n",
    "\n",
    "        return data"
   ]
  },
  {
   "cell_type": "code",
   "execution_count": 12,
   "id": "12263085",
   "metadata": {
    "ExecuteTime": {
     "end_time": "2022-09-05T13:27:39.444158Z",
     "start_time": "2022-09-05T13:27:39.253150Z"
    }
   },
   "outputs": [],
   "source": [
    "df = df_imputed.copy() "
   ]
  },
  {
   "cell_type": "code",
   "execution_count": 13,
   "id": "a912fd23",
   "metadata": {
    "ExecuteTime": {
     "end_time": "2022-09-05T13:27:46.823523Z",
     "start_time": "2022-09-05T13:27:39.477153Z"
    }
   },
   "outputs": [],
   "source": [
    "df[\"Hora\"] = df[\"Hora\"].astype(str).str[:-2]   \n",
    "df[\"Hora\"] = df[\"Hora\"] + '00'"
   ]
  },
  {
   "cell_type": "code",
   "execution_count": 14,
   "id": "ac98e3c9",
   "metadata": {
    "ExecuteTime": {
     "end_time": "2022-09-05T13:27:49.310430Z",
     "start_time": "2022-09-05T13:27:46.855398Z"
    }
   },
   "outputs": [],
   "source": [
    "df[\"Hora\"] = pd.to_datetime(df[\"Hora\"]) "
   ]
  },
  {
   "cell_type": "code",
   "execution_count": 15,
   "id": "ff22fb20",
   "metadata": {
    "ExecuteTime": {
     "end_time": "2022-09-05T13:27:49.626471Z",
     "start_time": "2022-09-05T13:27:49.405398Z"
    }
   },
   "outputs": [
    {
     "data": {
      "text/plain": [
       "array(['alcazares', 'aranjuez', 'bosques_del_norte', 'chec_uribe',\n",
       "       'el_carmen', 'emas', 'hospital_caldas', 'la_nubia', 'la_palma',\n",
       "       'milan', 'obs_vulcanologico', 'posgrados', 'yarumos'], dtype=object)"
      ]
     },
     "execution_count": 15,
     "metadata": {},
     "output_type": "execute_result"
    }
   ],
   "source": [
    "tipos = df.Estacion.unique()\n",
    "tipos "
   ]
  },
  {
   "cell_type": "code",
   "execution_count": 16,
   "id": "07f7e977",
   "metadata": {
    "ExecuteTime": {
     "end_time": "2022-09-05T13:27:49.673744Z",
     "start_time": "2022-09-05T13:27:49.658758Z"
    }
   },
   "outputs": [
    {
     "data": {
      "text/html": [
       "<div>\n",
       "<style scoped>\n",
       "    .dataframe tbody tr th:only-of-type {\n",
       "        vertical-align: middle;\n",
       "    }\n",
       "\n",
       "    .dataframe tbody tr th {\n",
       "        vertical-align: top;\n",
       "    }\n",
       "\n",
       "    .dataframe thead th {\n",
       "        text-align: right;\n",
       "    }\n",
       "</style>\n",
       "<table border=\"1\" class=\"dataframe\">\n",
       "  <thead>\n",
       "    <tr style=\"text-align: right;\">\n",
       "      <th></th>\n",
       "      <th>holiday</th>\n",
       "      <th>ds</th>\n",
       "      <th>lower_window</th>\n",
       "      <th>upper_window</th>\n",
       "    </tr>\n",
       "  </thead>\n",
       "  <tbody>\n",
       "    <tr>\n",
       "      <th>0</th>\n",
       "      <td>eventosmanizales</td>\n",
       "      <td>2017-04-19</td>\n",
       "      <td>0</td>\n",
       "      <td>1</td>\n",
       "    </tr>\n",
       "    <tr>\n",
       "      <th>1</th>\n",
       "      <td>eventosmanizales</td>\n",
       "      <td>2011-04-13</td>\n",
       "      <td>0</td>\n",
       "      <td>1</td>\n",
       "    </tr>\n",
       "    <tr>\n",
       "      <th>2</th>\n",
       "      <td>eventosmanizales</td>\n",
       "      <td>2011-11-05</td>\n",
       "      <td>0</td>\n",
       "      <td>1</td>\n",
       "    </tr>\n",
       "  </tbody>\n",
       "</table>\n",
       "</div>"
      ],
      "text/plain": [
       "            holiday         ds  lower_window  upper_window\n",
       "0  eventosmanizales 2017-04-19             0             1\n",
       "1  eventosmanizales 2011-04-13             0             1\n",
       "2  eventosmanizales 2011-11-05             0             1"
      ]
     },
     "execution_count": 16,
     "metadata": {},
     "output_type": "execute_result"
    }
   ],
   "source": [
    "holidays = pd.DataFrame({\n",
    "                'holiday': 'eventosmanizales', \n",
    "                'ds': pd.to_datetime(['2017-04-19','2011-04-13','2011-11-05']),\n",
    "                'lower_window': 0,\n",
    "                'upper_window': 1,\n",
    "            })\n",
    "holidays"
   ]
  },
  {
   "cell_type": "code",
   "execution_count": 173,
   "id": "c97e7338",
   "metadata": {
    "ExecuteTime": {
     "end_time": "2022-09-05T15:04:08.207226Z",
     "start_time": "2022-09-05T15:03:25.430148Z"
    },
    "scrolled": false
   },
   "outputs": [
    {
     "name": "stdout",
     "output_type": "stream",
     "text": [
      "Estacion : alcazares\n",
      "Estacion : aranjuez\n",
      "Estacion : bosques_del_norte\n",
      "Estacion : chec_uribe\n",
      "Estacion : el_carmen\n",
      "Estacion : emas\n",
      "Estacion : hospital_caldas\n",
      "Estacion : la_nubia\n",
      "Estacion : la_palma\n",
      "Estacion : milan\n",
      "Estacion : obs_vulcanologico\n",
      "Estacion : posgrados\n",
      "Estacion : yarumos\n"
     ]
    },
    {
     "data": {
      "image/png": "[encoded data removed]",
      "text/plain": [
       "<Figure size 1224x720 with 1 Axes>"
      ]
     },
     "metadata": {},
     "output_type": "display_data"
    }
   ],
   "source": [
    "import datetime \n",
    "guardar = []\n",
    "for i in tipos:\n",
    "    print(\"Estacion :\", i)\n",
    "    df_1 = df[df.Estacion == i] \n",
    "    df_1 = group(df_1,\"Hora\", frec=\"1D\")\n",
    "    df_1[\"Estacion\"] = i\n",
    "    #Rellenamos los valores nulls con la media\n",
    "    df_1 = df_1.fillna(df_1.mean()) \n",
    "\n",
    "    df2 = df_1[[\"Precipitacion\",\"Temperatura\", 'Velocidad','Presion','Humedad','Radiacion']]  \n",
    "    df2.reset_index(drop = False, inplace = True)\n",
    "    df2 = df2.rename(columns={\"Precipitacion\":\"y\", \"Hora\": \"ds\"})\n",
    "    \n",
    "    \n",
    "    m = Prophet(interval_width=0.95, daily_seasonality=True, holidays = holidays) \n",
    "    m.add_regressor('Temperatura')\n",
    "    m.add_regressor('Presion') \n",
    "    m.add_regressor('Velocidad')\n",
    "    m.add_regressor('Humedad')\n",
    "    m.add_regressor('Radiacion')\n",
    "    m.fit(df2) \n",
    "    \n",
    "    futur = m.make_future_dataframe(periods=7, freq=\"1D\") \n",
    "    future_train = futur.iloc[:-14] \n",
    "    future  = futur.iloc[-31:]   \n",
    "    \n",
    "    future_train.reset_index(inplace = True, drop = True)\n",
    "    future.reset_index(inplace = True, drop = True)\n",
    "    \n",
    "    future_train = pd.merge(future_train ,df2[[\"Temperatura\", 'Velocidad','Presion','Humedad','Radiacion',\"ds\"]].iloc[:-7], how = \"left\", on = ['ds'])\n",
    "    future_train = future_train.fillna(df_1.mean()) \n",
    "    \n",
    "    \n",
    "    future = pd.merge(future,df2[[\"Temperatura\", 'Velocidad','Presion','Humedad','Radiacion',\"ds\"]].iloc[-24:], how = \"left\", on = ['ds'])\n",
    "    future = future.fillna(df_1.mean()) \n",
    "    \n",
    "    \n",
    "    forecast_train = m.predict(future_train) \n",
    "    forecast = m.predict(future)\n",
    "    \n",
    "    \n",
    "    forecast2 = forecast.copy()\n",
    "    forecast2.rename(columns={'yhat':'y'},inplace = True) \n",
    "\n",
    "    frames = [df2, forecast2[['ds','y','Temperatura','Velocidad','Presion','Humedad','Radiacion']].iloc[-7:]] \n",
    "    final = pd.concat(frames).reset_index(drop = True)\n",
    "\n",
    "    riesgo = final.y.tail(25).sum() \n",
    "    guardar.append([riesgo,i]) \n",
    "    \n",
    "   \n",
    "    \n",
    "table = pd.DataFrame(guardar, )   \n",
    "table.rename(columns={0:'Precipitacion acumulada', 1:'Estacion'}, inplace=True)   \n",
    "table['Riesgo'] = np.NaN \n",
    "table.sort_values(by = 'Precipitacion acumulada', inplace=True)\n",
    "table.reset_index(drop=True, inplace=True) \n",
    "\n",
    "for i in range(len(table)): \n",
    "    if table['Precipitacion acumulada'][i] < 200: \n",
    "        table['Riesgo'].iloc[i] = \"No Hay Peligro\" \n",
    "\n",
    "    if (table['Precipitacion acumulada'][i]  >= 200) & (table['Precipitacion acumulada'][i] < 300):  \n",
    "        table['Riesgo'].iloc[i] = \"Alerta Amarilla\" \n",
    "\n",
    "    elif (table['Precipitacion acumulada'][i] < 400) & (table['Precipitacion acumulada'][i] >= 300):\n",
    "        table['Riesgo'].iloc[i] = \"Alerta Naranja\"\n",
    "\n",
    "    elif table['Precipitacion acumulada'][i] >=400:   \n",
    "        table['Riesgo'].iloc[i] = \"Alerta Roja\" \n",
    "\n",
    "plt.figure(figsize=(17,10))  \n",
    "sns.set(font_scale = 2)\n",
    "\n",
    "palette = {'No Hay Peligro':'blue', 'Alerta Amarilla': 'yellow', 'Alerta Naranja': 'orange', 'Alerta Roja': 'red'}        \n",
    "\n",
    "sns.barplot(x = 'Precipitacion acumulada', y = table.Estacion, data = table, hue = 'Riesgo', palette = palette,dodge=False )      \n",
    "\n",
    "plt.title('Precipitación Acumulada (25 dias) - A25', fontsize=30)      \n",
    "plt.legend(['Alerta Roja'], prop={'size': 13})  \n",
    "plt.xlabel('Precipitación (mm)', fontsize = 30)    \n",
    "plt.ylabel(\"Estacion\",fontsize = 1)   \n",
    "plt.legend(loc = 1,prop={'size': 18}) \n",
    "ax.set_xlim(1,50)\n",
    "plt.show()  \n"
   ]
  },
  {
   "cell_type": "code",
   "execution_count": null,
   "id": "0dd27ff9",
   "metadata": {},
   "outputs": [],
   "source": []
  }
 ],
 "metadata": {
  "hide_input": false,
  "kernelspec": {
   "display_name": "Python 3 (ipykernel)",
   "language": "python",
   "name": "python3"
  },
  "language_info": {
   "codemirror_mode": {
    "name": "ipython",
    "version": 3
   },
   "file_extension": ".py",
   "mimetype": "text/x-python",
   "name": "python",
   "nbconvert_exporter": "python",
   "pygments_lexer": "ipython3",
   "version": "3.8.12"
  },
  "toc": {
   "base_numbering": 1,
   "nav_menu": {},
   "number_sections": true,
   "sideBar": true,
   "skip_h1_title": false,
   "title_cell": "Table of Contents",
   "title_sidebar": "Contents",
   "toc_cell": false,
   "toc_position": {},
   "toc_section_display": true,
   "toc_window_display": false
  },
  "varInspector": {
   "cols": {
    "lenName": 16,
    "lenType": 16,
    "lenVar": 40
   },
   "kernels_config": {
    "python": {
     "delete_cmd_postfix": "",
     "delete_cmd_prefix": "del ",
     "library": "var_list.py",
     "varRefreshCmd": "print(var_dic_list())"
    },
    "r": {
     "delete_cmd_postfix": ") ",
     "delete_cmd_prefix": "rm(",
     "library": "var_list.r",
     "varRefreshCmd": "cat(var_dic_list()) "
    }
   },
   "types_to_exclude": [
    "module",
    "function",
    "builtin_function_or_method",
    "instance",
    "_Feature"
   ],
   "window_display": false
  }
 },
 "nbformat": 4,
 "nbformat_minor": 5
}
